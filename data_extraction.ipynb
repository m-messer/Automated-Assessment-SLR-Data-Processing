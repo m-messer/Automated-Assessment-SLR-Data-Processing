{
 "cells": [
  {
   "cell_type": "code",
   "execution_count": 125,
   "outputs": [],
   "source": [
    "import pandas as pd\n",
    "import string"
   ],
   "metadata": {
    "collapsed": false,
    "pycharm": {
     "name": "#%%\n"
    }
   }
  },
  {
   "cell_type": "markdown",
   "source": [
    "## Load and clean data from Rayyan"
   ],
   "metadata": {
    "collapsed": false,
    "pycharm": {
     "name": "#%% md\n"
    }
   }
  },
  {
   "cell_type": "code",
   "execution_count": 126,
   "outputs": [
    {
     "data": {
      "text/plain": "                key                                              title  \\\n0  rayyan-354359269  An experience of automated assessment in a lar...   \n1  rayyan-354359270  Semiautomatic generation and assessment of Jav...   \n2  rayyan-354359271  A tool for evaluating computer programs from s...   \n3  rayyan-354359272  Virtual Teaching Assistant for Grading Program...   \n4  rayyan-354359273  Analysis of an automatic grading system within...   \n\n     year  month  day journal issn  volume  issue pages  ... url  language  \\\n0  2021.0      1    1     NaN  NaN    29.0    5.0   NaN  ... NaN       NaN   \n1  2021.0      1    1     NaN  NaN    29.0    5.0   NaN  ... NaN       NaN   \n2  2021.0      1    1     NaN  NaN     NaN    NaN   NaN  ... NaN       NaN   \n3  2021.0      1    1     NaN  NaN     NaN    NaN   NaN  ... NaN       NaN   \n4  2021.0      1    1     NaN  NaN     NaN    NaN   NaN  ... NaN       NaN   \n\n   publisher location                                           abstract  \\\n0        NaN      NaN  The 2020 pandemic imposed new demands on teach...   \n1        NaN      NaN  Continuous assessment is essential in educatio...   \n2        NaN      NaN  Computer science studies are more and more pop...   \n3        NaN      NaN  This study proposes an automated programming a...   \n4        NaN      NaN  Reliable and pedagogically sound automated fee...   \n\n                                               notes doi  keywords pubmed_id  \\\n0  RAYYAN-LABELS: 2021,CAE,vpl,mctest,moodle,pyth... NaN       NaN       NaN   \n1  RAYYAN-LABELS: 2021,CAE,java,javassess,test ca... NaN       NaN       NaN   \n2  RAYYAN-LABELS: 2021,EASEAI,pylint,python,metri... NaN  Software       NaN   \n3  RAYYAN-LABELS: 2021,ICKII,test cases,correctne... NaN       NaN       NaN   \n4  RAYYAN-LABELS: 2021,CEP,vpl,java,mule,test cas... NaN       NaN       NaN   \n\n   pmc_id  \n0     NaN  \n1     NaN  \n2     NaN  \n3     NaN  \n4     NaN  \n\n[5 rows x 21 columns]",
      "text/html": "<div>\n<style scoped>\n    .dataframe tbody tr th:only-of-type {\n        vertical-align: middle;\n    }\n\n    .dataframe tbody tr th {\n        vertical-align: top;\n    }\n\n    .dataframe thead th {\n        text-align: right;\n    }\n</style>\n<table border=\"1\" class=\"dataframe\">\n  <thead>\n    <tr style=\"text-align: right;\">\n      <th></th>\n      <th>key</th>\n      <th>title</th>\n      <th>year</th>\n      <th>month</th>\n      <th>day</th>\n      <th>journal</th>\n      <th>issn</th>\n      <th>volume</th>\n      <th>issue</th>\n      <th>pages</th>\n      <th>...</th>\n      <th>url</th>\n      <th>language</th>\n      <th>publisher</th>\n      <th>location</th>\n      <th>abstract</th>\n      <th>notes</th>\n      <th>doi</th>\n      <th>keywords</th>\n      <th>pubmed_id</th>\n      <th>pmc_id</th>\n    </tr>\n  </thead>\n  <tbody>\n    <tr>\n      <th>0</th>\n      <td>rayyan-354359269</td>\n      <td>An experience of automated assessment in a lar...</td>\n      <td>2021.0</td>\n      <td>1</td>\n      <td>1</td>\n      <td>NaN</td>\n      <td>NaN</td>\n      <td>29.0</td>\n      <td>5.0</td>\n      <td>NaN</td>\n      <td>...</td>\n      <td>NaN</td>\n      <td>NaN</td>\n      <td>NaN</td>\n      <td>NaN</td>\n      <td>The 2020 pandemic imposed new demands on teach...</td>\n      <td>RAYYAN-LABELS: 2021,CAE,vpl,mctest,moodle,pyth...</td>\n      <td>NaN</td>\n      <td>NaN</td>\n      <td>NaN</td>\n      <td>NaN</td>\n    </tr>\n    <tr>\n      <th>1</th>\n      <td>rayyan-354359270</td>\n      <td>Semiautomatic generation and assessment of Jav...</td>\n      <td>2021.0</td>\n      <td>1</td>\n      <td>1</td>\n      <td>NaN</td>\n      <td>NaN</td>\n      <td>29.0</td>\n      <td>5.0</td>\n      <td>NaN</td>\n      <td>...</td>\n      <td>NaN</td>\n      <td>NaN</td>\n      <td>NaN</td>\n      <td>NaN</td>\n      <td>Continuous assessment is essential in educatio...</td>\n      <td>RAYYAN-LABELS: 2021,CAE,java,javassess,test ca...</td>\n      <td>NaN</td>\n      <td>NaN</td>\n      <td>NaN</td>\n      <td>NaN</td>\n    </tr>\n    <tr>\n      <th>2</th>\n      <td>rayyan-354359271</td>\n      <td>A tool for evaluating computer programs from s...</td>\n      <td>2021.0</td>\n      <td>1</td>\n      <td>1</td>\n      <td>NaN</td>\n      <td>NaN</td>\n      <td>NaN</td>\n      <td>NaN</td>\n      <td>NaN</td>\n      <td>...</td>\n      <td>NaN</td>\n      <td>NaN</td>\n      <td>NaN</td>\n      <td>NaN</td>\n      <td>Computer science studies are more and more pop...</td>\n      <td>RAYYAN-LABELS: 2021,EASEAI,pylint,python,metri...</td>\n      <td>NaN</td>\n      <td>Software</td>\n      <td>NaN</td>\n      <td>NaN</td>\n    </tr>\n    <tr>\n      <th>3</th>\n      <td>rayyan-354359272</td>\n      <td>Virtual Teaching Assistant for Grading Program...</td>\n      <td>2021.0</td>\n      <td>1</td>\n      <td>1</td>\n      <td>NaN</td>\n      <td>NaN</td>\n      <td>NaN</td>\n      <td>NaN</td>\n      <td>NaN</td>\n      <td>...</td>\n      <td>NaN</td>\n      <td>NaN</td>\n      <td>NaN</td>\n      <td>NaN</td>\n      <td>This study proposes an automated programming a...</td>\n      <td>RAYYAN-LABELS: 2021,ICKII,test cases,correctne...</td>\n      <td>NaN</td>\n      <td>NaN</td>\n      <td>NaN</td>\n      <td>NaN</td>\n    </tr>\n    <tr>\n      <th>4</th>\n      <td>rayyan-354359273</td>\n      <td>Analysis of an automatic grading system within...</td>\n      <td>2021.0</td>\n      <td>1</td>\n      <td>1</td>\n      <td>NaN</td>\n      <td>NaN</td>\n      <td>NaN</td>\n      <td>NaN</td>\n      <td>NaN</td>\n      <td>...</td>\n      <td>NaN</td>\n      <td>NaN</td>\n      <td>NaN</td>\n      <td>NaN</td>\n      <td>Reliable and pedagogically sound automated fee...</td>\n      <td>RAYYAN-LABELS: 2021,CEP,vpl,java,mule,test cas...</td>\n      <td>NaN</td>\n      <td>NaN</td>\n      <td>NaN</td>\n      <td>NaN</td>\n    </tr>\n  </tbody>\n</table>\n<p>5 rows × 21 columns</p>\n</div>"
     },
     "execution_count": 126,
     "metadata": {},
     "output_type": "execute_result"
    }
   ],
   "source": [
    "df = pd.read_csv(\"data/articles.csv\")\n",
    "df.head()"
   ],
   "metadata": {
    "collapsed": false,
    "pycharm": {
     "name": "#%%\n"
    }
   }
  },
  {
   "cell_type": "markdown",
   "source": [
    "### Clean data"
   ],
   "metadata": {
    "collapsed": false,
    "pycharm": {
     "name": "#%% md\n"
    }
   }
  },
  {
   "cell_type": "code",
   "execution_count": 127,
   "outputs": [
    {
     "data": {
      "text/plain": "                key                                              title  \\\n0  rayyan-354359269  An experience of automated assessment in a lar...   \n1  rayyan-354359270  Semiautomatic generation and assessment of Jav...   \n2  rayyan-354359271  A tool for evaluating computer programs from s...   \n3  rayyan-354359272  Virtual Teaching Assistant for Grading Program...   \n4  rayyan-354359273  Analysis of an automatic grading system within...   \n\n                                             authors  \\\n0  Zampirolli F.A., Borovina Josko J.M., Venero M...   \n1            Insa D., Pérez S., Silva J., Tamarit S.   \n2      Vaneck Q., Colart T., Frénay B., Vanderose B.   \n3                             Chou C.-Y., Chen Y.-J.   \n4                      Hegarty-Kelly E., Mooney D.A.   \n\n                                            abstract  \\\n0  The 2020 pandemic imposed new demands on teach...   \n1  Continuous assessment is essential in educatio...   \n2  Computer science studies are more and more pop...   \n3  This study proposes an automated programming a...   \n4  Reliable and pedagogically sound automated fee...   \n\n                                               notes  \n0  RAYYAN-LABELS: 2021,CAE,vpl,mctest,moodle,pyth...  \n1  RAYYAN-LABELS: 2021,CAE,java,javassess,test ca...  \n2  RAYYAN-LABELS: 2021,EASEAI,pylint,python,metri...  \n3  RAYYAN-LABELS: 2021,ICKII,test cases,correctne...  \n4  RAYYAN-LABELS: 2021,CEP,vpl,java,mule,test cas...  ",
      "text/html": "<div>\n<style scoped>\n    .dataframe tbody tr th:only-of-type {\n        vertical-align: middle;\n    }\n\n    .dataframe tbody tr th {\n        vertical-align: top;\n    }\n\n    .dataframe thead th {\n        text-align: right;\n    }\n</style>\n<table border=\"1\" class=\"dataframe\">\n  <thead>\n    <tr style=\"text-align: right;\">\n      <th></th>\n      <th>key</th>\n      <th>title</th>\n      <th>authors</th>\n      <th>abstract</th>\n      <th>notes</th>\n    </tr>\n  </thead>\n  <tbody>\n    <tr>\n      <th>0</th>\n      <td>rayyan-354359269</td>\n      <td>An experience of automated assessment in a lar...</td>\n      <td>Zampirolli F.A., Borovina Josko J.M., Venero M...</td>\n      <td>The 2020 pandemic imposed new demands on teach...</td>\n      <td>RAYYAN-LABELS: 2021,CAE,vpl,mctest,moodle,pyth...</td>\n    </tr>\n    <tr>\n      <th>1</th>\n      <td>rayyan-354359270</td>\n      <td>Semiautomatic generation and assessment of Jav...</td>\n      <td>Insa D., Pérez S., Silva J., Tamarit S.</td>\n      <td>Continuous assessment is essential in educatio...</td>\n      <td>RAYYAN-LABELS: 2021,CAE,java,javassess,test ca...</td>\n    </tr>\n    <tr>\n      <th>2</th>\n      <td>rayyan-354359271</td>\n      <td>A tool for evaluating computer programs from s...</td>\n      <td>Vaneck Q., Colart T., Frénay B., Vanderose B.</td>\n      <td>Computer science studies are more and more pop...</td>\n      <td>RAYYAN-LABELS: 2021,EASEAI,pylint,python,metri...</td>\n    </tr>\n    <tr>\n      <th>3</th>\n      <td>rayyan-354359272</td>\n      <td>Virtual Teaching Assistant for Grading Program...</td>\n      <td>Chou C.-Y., Chen Y.-J.</td>\n      <td>This study proposes an automated programming a...</td>\n      <td>RAYYAN-LABELS: 2021,ICKII,test cases,correctne...</td>\n    </tr>\n    <tr>\n      <th>4</th>\n      <td>rayyan-354359273</td>\n      <td>Analysis of an automatic grading system within...</td>\n      <td>Hegarty-Kelly E., Mooney D.A.</td>\n      <td>Reliable and pedagogically sound automated fee...</td>\n      <td>RAYYAN-LABELS: 2021,CEP,vpl,java,mule,test cas...</td>\n    </tr>\n  </tbody>\n</table>\n</div>"
     },
     "execution_count": 127,
     "metadata": {},
     "output_type": "execute_result"
    }
   ],
   "source": [
    "df.dropna(axis=1, inplace=True)\n",
    "df.drop(columns={'month', 'day'}, inplace=True)\n",
    "df.head()"
   ],
   "metadata": {
    "collapsed": false,
    "pycharm": {
     "name": "#%%\n"
    }
   }
  },
  {
   "cell_type": "code",
   "execution_count": 128,
   "outputs": [
    {
     "data": {
      "text/plain": "                key                                              title  \\\n0  rayyan-354359269  An experience of automated assessment in a lar...   \n1  rayyan-354359270  Semiautomatic generation and assessment of Jav...   \n2  rayyan-354359271  A tool for evaluating computer programs from s...   \n3  rayyan-354359272  Virtual Teaching Assistant for Grading Program...   \n4  rayyan-354359273  Analysis of an automatic grading system within...   \n\n                                             authors  \\\n0  Zampirolli F.A., Borovina Josko J.M., Venero M...   \n1            Insa D., Pérez S., Silva J., Tamarit S.   \n2      Vaneck Q., Colart T., Frénay B., Vanderose B.   \n3                             Chou C.-Y., Chen Y.-J.   \n4                      Hegarty-Kelly E., Mooney D.A.   \n\n                                            abstract  \\\n0  The 2020 pandemic imposed new demands on teach...   \n1  Continuous assessment is essential in educatio...   \n2  Computer science studies are more and more pop...   \n3  This study proposes an automated programming a...   \n4  Reliable and pedagogically sound automated fee...   \n\n                                               notes  \\\n0  2021,CAE,vpl,mctest,moodle,python,tool:vpl,cor...   \n1  2021,CAE,java,javassess,test cases,correctness...   \n2  2021,EASEAI,pylint,python,metrics,gamified,cod...   \n3  2021,ICKII,test cases,correctness,semi-automat...   \n4  2021,CEP,vpl,java,mule,test cases,correctness,...   \n\n                                          screener_1  \\\n0  [2021, CAE, vpl, mctest, moodle, python, corre...   \n1  [2021, CAE, java, javassess, test cases, corre...   \n2  [2021, EASEAI, pylint, python, metrics, gamifi...   \n3  [2021, ICKII, test cases, correctness, semi-au...   \n4  [2021, CEP, vpl, java, mule, test cases, corre...   \n\n                                          screener_2  \n0                [tool:vpl, comparison:with-without]  \n1  [skill:correctness, technique:dsl-rules, feedb...  \n2  [skill:readability, skill:maintainability, tec...  \n3  [skill:correctness, evaluation:auto-grading, t...  \n4  [skill:correctness, technique:dsl-rules, techn...  ",
      "text/html": "<div>\n<style scoped>\n    .dataframe tbody tr th:only-of-type {\n        vertical-align: middle;\n    }\n\n    .dataframe tbody tr th {\n        vertical-align: top;\n    }\n\n    .dataframe thead th {\n        text-align: right;\n    }\n</style>\n<table border=\"1\" class=\"dataframe\">\n  <thead>\n    <tr style=\"text-align: right;\">\n      <th></th>\n      <th>key</th>\n      <th>title</th>\n      <th>authors</th>\n      <th>abstract</th>\n      <th>notes</th>\n      <th>screener_1</th>\n      <th>screener_2</th>\n    </tr>\n  </thead>\n  <tbody>\n    <tr>\n      <th>0</th>\n      <td>rayyan-354359269</td>\n      <td>An experience of automated assessment in a lar...</td>\n      <td>Zampirolli F.A., Borovina Josko J.M., Venero M...</td>\n      <td>The 2020 pandemic imposed new demands on teach...</td>\n      <td>2021,CAE,vpl,mctest,moodle,python,tool:vpl,cor...</td>\n      <td>[2021, CAE, vpl, mctest, moodle, python, corre...</td>\n      <td>[tool:vpl, comparison:with-without]</td>\n    </tr>\n    <tr>\n      <th>1</th>\n      <td>rayyan-354359270</td>\n      <td>Semiautomatic generation and assessment of Jav...</td>\n      <td>Insa D., Pérez S., Silva J., Tamarit S.</td>\n      <td>Continuous assessment is essential in educatio...</td>\n      <td>2021,CAE,java,javassess,test cases,correctness...</td>\n      <td>[2021, CAE, java, javassess, test cases, corre...</td>\n      <td>[skill:correctness, technique:dsl-rules, feedb...</td>\n    </tr>\n    <tr>\n      <th>2</th>\n      <td>rayyan-354359271</td>\n      <td>A tool for evaluating computer programs from s...</td>\n      <td>Vaneck Q., Colart T., Frénay B., Vanderose B.</td>\n      <td>Computer science studies are more and more pop...</td>\n      <td>2021,EASEAI,pylint,python,metrics,gamified,cod...</td>\n      <td>[2021, EASEAI, pylint, python, metrics, gamifi...</td>\n      <td>[skill:readability, skill:maintainability, tec...</td>\n    </tr>\n    <tr>\n      <th>3</th>\n      <td>rayyan-354359272</td>\n      <td>Virtual Teaching Assistant for Grading Program...</td>\n      <td>Chou C.-Y., Chen Y.-J.</td>\n      <td>This study proposes an automated programming a...</td>\n      <td>2021,ICKII,test cases,correctness,semi-automat...</td>\n      <td>[2021, ICKII, test cases, correctness, semi-au...</td>\n      <td>[skill:correctness, evaluation:auto-grading, t...</td>\n    </tr>\n    <tr>\n      <th>4</th>\n      <td>rayyan-354359273</td>\n      <td>Analysis of an automatic grading system within...</td>\n      <td>Hegarty-Kelly E., Mooney D.A.</td>\n      <td>Reliable and pedagogically sound automated fee...</td>\n      <td>2021,CEP,vpl,java,mule,test cases,correctness,...</td>\n      <td>[2021, CEP, vpl, java, mule, test cases, corre...</td>\n      <td>[skill:correctness, technique:dsl-rules, techn...</td>\n    </tr>\n  </tbody>\n</table>\n</div>"
     },
     "execution_count": 128,
     "metadata": {},
     "output_type": "execute_result"
    }
   ],
   "source": [
    "df.notes = df.notes.map(lambda input_str: input_str.lstrip('RAYYAN-LABELS: '))\n",
    "\n",
    "df['screener_1'] = df.notes.map(lambda labels: [label for label in labels.split(',') if ':' not in label])\n",
    "df['screener_2'] = df.notes.map(lambda labels: [label for label in labels.split(',') if ':' in label])\n",
    "\n",
    "df.head()"
   ],
   "metadata": {
    "collapsed": false,
    "pycharm": {
     "name": "#%%\n"
    }
   }
  },
  {
   "cell_type": "markdown",
   "source": [
    "#### Prepend screener 1's labels with topics"
   ],
   "metadata": {
    "collapsed": false,
    "pycharm": {
     "name": "#%% md\n"
    }
   }
  },
  {
   "cell_type": "code",
   "execution_count": 129,
   "outputs": [],
   "source": [
    "def convert_labels(labels):\n",
    "    output = []\n",
    "    for label in labels:\n",
    "        if label in ['vpl', 'mctest', 'moodle', 'javassess', 'pylint', 'coderunner', 'checkstyle', 'sarfgen', 'appgrader', 'better code hub', 'matlab grader',\n",
    "                     'stepik', 'earsketch', 'pmd', 'pyassessment', 'mule', 'uncode', 'jdbc', 'pass', 'cpplint', 'web-cat', 'cppcheck', 'bluej', 'submitty',\n",
    "                     'juypter', 'webta', 'docker', 'pyta', 'progedu', 'siette', '2tsw']:\n",
    "            label = 'tool:' + label\n",
    "        elif label in ['java', 'python', 'opengl', 'C', 'unknown language', 'sql', 'glsl', 'c++', 'android', 'javascript', 'c#', 'lex', 'yacc',\n",
    "                       'language  agnostic', 'vb', 'scala', 'matlab', 'ocaml', 'ruby', 'scheme', 'web languages', 'assesmbly', 'typescript', 'prolog']:\n",
    "            label = 'language:' + label\n",
    "        elif label in ['correctness', 'code quality', 'oop', 'maintainability', 'graphics', 'complexity', 'documentation', 'concurrency',\n",
    "                       'teaching context free grammar', 'best practices', 'refactoring', 'distrbuted', 'code design', 'test suite quality', 'productivity']:\n",
    "            label = 'skill:' + label\n",
    "        elif label in ['experience report', 'demo paper', 'evaluation paper']:\n",
    "            label = 'type:' + label\n",
    "        elif label in ['pre-defined questions', 'test cases', 'pattern matching', 'model solution req', 'dsl for exercise gen', 'mutants',\n",
    "                       'code repair for feedback', 'metrics', 'program repair', 'static analysis', 'control flow graph', 'model-based', 'unit test expansion',\n",
    "                       'dynamic analysis', 'ml', 'error prediction', 'fault localisation', 'ci', 'cluster', 'data-driven', 'matching rules', 'language stuctures', 'ci/cd', 'test case generation',\n",
    "                       'token pattern matching', 'knowledge base', 'reflection', 'hipos', 'graphical output', 'nlp', 'dsl', 'antipatterns', 'mutation testing', 'uml', 'program synthesis']:\n",
    "            label = 'technique:' + label\n",
    "        elif label in ['internal exams', 'internal assignments', 'microsoft-dev204.1x', 'internal tutorial', 'leetcode', 'code defenders dataset', 'edX',\n",
    "                       'github dataset', 'bespoke assignment', 'hackerrank', 'codechef', 'grok', 'dataset available']:\n",
    "            label = 'data:' + label\n",
    "        elif label in ['semi-automatic', 'oj']:\n",
    "            label = 'approach:' + label\n",
    "        elif label in ['personalised feedback', 'gamified', 'pre-defined feedback', 'plagiarism', 'hints', 'nudge theory', 'visual feedback', 'manual personalised feedback']:\n",
    "            label = 'feedback:' + label\n",
    "        elif label in ['compared to human', 'compared to other tools']:\n",
    "            label = 'comparison:' + label\n",
    "\n",
    "        output.append(label)\n",
    "\n",
    "    return output"
   ],
   "metadata": {
    "collapsed": false,
    "pycharm": {
     "name": "#%%\n"
    }
   }
  },
  {
   "cell_type": "markdown",
   "source": [
    "Check for outstanding labels to classify"
   ],
   "metadata": {
    "collapsed": false,
    "pycharm": {
     "name": "#%% md\n"
    }
   }
  },
  {
   "cell_type": "code",
   "execution_count": 130,
   "outputs": [
    {
     "data": {
      "text/plain": "20                          [lms, adaptive learning]\n39                                        [accuracy]\n48     [item response theory, classical test theory]\n56                                [lms, mood design]\n62                                       [networked]\n64                         [alogthmic understanding]\n67                                        [template]\n79                              [group contribution]\n85                                          [to tag]\n86                                          [to tag]\n90                                          [to tag]\n95                                         [atelier]\n99                              [heavily structured]\n100                        [operating system grader]\n101                                         [to tag]\n108                                 [error recovery]\n113                                         [to tag]\n118                                         [to tag]\nName: screener_1, dtype: object"
     },
     "execution_count": 130,
     "metadata": {},
     "output_type": "execute_result"
    }
   ],
   "source": [
    "df.screener_1 = df.screener_1.apply(lambda labels: convert_labels(labels))\n",
    "\n",
    "temp_df = df.screener_1.map(lambda labels: [label for label in labels if ':' not in label and not label.isdigit() and not label[0].isupper()])\n",
    "temp_df[temp_df.str.len() > 0]"
   ],
   "metadata": {
    "collapsed": false,
    "pycharm": {
     "name": "#%%\n"
    }
   }
  },
  {
   "cell_type": "code",
   "execution_count": 131,
   "outputs": [
    {
     "data": {
      "text/plain": "                key                                              title  \\\n0  rayyan-354359269  An experience of automated assessment in a lar...   \n1  rayyan-354359270  Semiautomatic generation and assessment of Jav...   \n2  rayyan-354359271  A tool for evaluating computer programs from s...   \n3  rayyan-354359272  Virtual Teaching Assistant for Grading Program...   \n4  rayyan-354359273  Analysis of an automatic grading system within...   \n\n                                             authors  \\\n0  Zampirolli F.A., Borovina Josko J.M., Venero M...   \n1            Insa D., Pérez S., Silva J., Tamarit S.   \n2      Vaneck Q., Colart T., Frénay B., Vanderose B.   \n3                             Chou C.-Y., Chen Y.-J.   \n4                      Hegarty-Kelly E., Mooney D.A.   \n\n                                            abstract  \\\n0  The 2020 pandemic imposed new demands on teach...   \n1  Continuous assessment is essential in educatio...   \n2  Computer science studies are more and more pop...   \n3  This study proposes an automated programming a...   \n4  Reliable and pedagogically sound automated fee...   \n\n                                               notes  \\\n0  2021,CAE,vpl,mctest,moodle,python,tool:vpl,cor...   \n1  2021,CAE,java,javassess,test cases,correctness...   \n2  2021,EASEAI,pylint,python,metrics,gamified,cod...   \n3  2021,ICKII,test cases,correctness,semi-automat...   \n4  2021,CEP,vpl,java,mule,test cases,correctness,...   \n\n                                          screener_1  \\\n0  [2021, CAE, tool:vpl, tool:mctest, tool:moodle...   \n1  [2021, CAE, language:java, tool:javassess, tec...   \n2  [2021, EASEAI, tool:pylint, language:python, t...   \n3  [2021, ICKII, technique:test cases, skill:corr...   \n4  [2021, CEP, tool:vpl, language:java, tool:mule...   \n\n                                          screener_2  \n0                [tool:vpl, comparison:with-without]  \n1  [skill:correctness, technique:dsl-rules, feedb...  \n2  [skill:readability, skill:maintainability, tec...  \n3  [skill:correctness, evaluation:auto-grading, t...  \n4  [skill:correctness, technique:dsl-rules, techn...  ",
      "text/html": "<div>\n<style scoped>\n    .dataframe tbody tr th:only-of-type {\n        vertical-align: middle;\n    }\n\n    .dataframe tbody tr th {\n        vertical-align: top;\n    }\n\n    .dataframe thead th {\n        text-align: right;\n    }\n</style>\n<table border=\"1\" class=\"dataframe\">\n  <thead>\n    <tr style=\"text-align: right;\">\n      <th></th>\n      <th>key</th>\n      <th>title</th>\n      <th>authors</th>\n      <th>abstract</th>\n      <th>notes</th>\n      <th>screener_1</th>\n      <th>screener_2</th>\n    </tr>\n  </thead>\n  <tbody>\n    <tr>\n      <th>0</th>\n      <td>rayyan-354359269</td>\n      <td>An experience of automated assessment in a lar...</td>\n      <td>Zampirolli F.A., Borovina Josko J.M., Venero M...</td>\n      <td>The 2020 pandemic imposed new demands on teach...</td>\n      <td>2021,CAE,vpl,mctest,moodle,python,tool:vpl,cor...</td>\n      <td>[2021, CAE, tool:vpl, tool:mctest, tool:moodle...</td>\n      <td>[tool:vpl, comparison:with-without]</td>\n    </tr>\n    <tr>\n      <th>1</th>\n      <td>rayyan-354359270</td>\n      <td>Semiautomatic generation and assessment of Jav...</td>\n      <td>Insa D., Pérez S., Silva J., Tamarit S.</td>\n      <td>Continuous assessment is essential in educatio...</td>\n      <td>2021,CAE,java,javassess,test cases,correctness...</td>\n      <td>[2021, CAE, language:java, tool:javassess, tec...</td>\n      <td>[skill:correctness, technique:dsl-rules, feedb...</td>\n    </tr>\n    <tr>\n      <th>2</th>\n      <td>rayyan-354359271</td>\n      <td>A tool for evaluating computer programs from s...</td>\n      <td>Vaneck Q., Colart T., Frénay B., Vanderose B.</td>\n      <td>Computer science studies are more and more pop...</td>\n      <td>2021,EASEAI,pylint,python,metrics,gamified,cod...</td>\n      <td>[2021, EASEAI, tool:pylint, language:python, t...</td>\n      <td>[skill:readability, skill:maintainability, tec...</td>\n    </tr>\n    <tr>\n      <th>3</th>\n      <td>rayyan-354359272</td>\n      <td>Virtual Teaching Assistant for Grading Program...</td>\n      <td>Chou C.-Y., Chen Y.-J.</td>\n      <td>This study proposes an automated programming a...</td>\n      <td>2021,ICKII,test cases,correctness,semi-automat...</td>\n      <td>[2021, ICKII, technique:test cases, skill:corr...</td>\n      <td>[skill:correctness, evaluation:auto-grading, t...</td>\n    </tr>\n    <tr>\n      <th>4</th>\n      <td>rayyan-354359273</td>\n      <td>Analysis of an automatic grading system within...</td>\n      <td>Hegarty-Kelly E., Mooney D.A.</td>\n      <td>Reliable and pedagogically sound automated fee...</td>\n      <td>2021,CEP,vpl,java,mule,test cases,correctness,...</td>\n      <td>[2021, CEP, tool:vpl, language:java, tool:mule...</td>\n      <td>[skill:correctness, technique:dsl-rules, techn...</td>\n    </tr>\n  </tbody>\n</table>\n</div>"
     },
     "execution_count": 131,
     "metadata": {},
     "output_type": "execute_result"
    }
   ],
   "source": [
    "df.head()"
   ],
   "metadata": {
    "collapsed": false,
    "pycharm": {
     "name": "#%%\n"
    }
   }
  },
  {
   "cell_type": "markdown",
   "source": [
    "### Separate out year published and publication location"
   ],
   "metadata": {
    "collapsed": false,
    "pycharm": {
     "name": "#%% md\n"
    }
   }
  },
  {
   "cell_type": "code",
   "execution_count": 132,
   "outputs": [
    {
     "data": {
      "text/plain": "                key                                              title  \\\n0  rayyan-354359269  An experience of automated assessment in a lar...   \n1  rayyan-354359270  Semiautomatic generation and assessment of Jav...   \n2  rayyan-354359271  A tool for evaluating computer programs from s...   \n3  rayyan-354359272  Virtual Teaching Assistant for Grading Program...   \n4  rayyan-354359273  Analysis of an automatic grading system within...   \n\n                                             authors  \\\n0  Zampirolli F.A., Borovina Josko J.M., Venero M...   \n1            Insa D., Pérez S., Silva J., Tamarit S.   \n2      Vaneck Q., Colart T., Frénay B., Vanderose B.   \n3                             Chou C.-Y., Chen Y.-J.   \n4                      Hegarty-Kelly E., Mooney D.A.   \n\n                                            abstract  \\\n0  The 2020 pandemic imposed new demands on teach...   \n1  Continuous assessment is essential in educatio...   \n2  Computer science studies are more and more pop...   \n3  This study proposes an automated programming a...   \n4  Reliable and pedagogically sound automated fee...   \n\n                                               notes  \\\n0  2021,CAE,vpl,mctest,moodle,python,tool:vpl,cor...   \n1  2021,CAE,java,javassess,test cases,correctness...   \n2  2021,EASEAI,pylint,python,metrics,gamified,cod...   \n3  2021,ICKII,test cases,correctness,semi-automat...   \n4  2021,CEP,vpl,java,mule,test cases,correctness,...   \n\n                                          screener_1  \\\n0  [tool:vpl, tool:mctest, tool:moodle, language:...   \n1  [language:java, tool:javassess, technique:test...   \n2  [tool:pylint, language:python, technique:metri...   \n3  [technique:test cases, skill:correctness, appr...   \n4  [tool:vpl, language:java, tool:mule, technique...   \n\n                                          screener_2 year_published  \n0                [tool:vpl, comparison:with-without]           2021  \n1  [skill:correctness, technique:dsl-rules, feedb...           2021  \n2  [skill:readability, skill:maintainability, tec...           2021  \n3  [skill:correctness, evaluation:auto-grading, t...           2021  \n4  [skill:correctness, technique:dsl-rules, techn...           2021  ",
      "text/html": "<div>\n<style scoped>\n    .dataframe tbody tr th:only-of-type {\n        vertical-align: middle;\n    }\n\n    .dataframe tbody tr th {\n        vertical-align: top;\n    }\n\n    .dataframe thead th {\n        text-align: right;\n    }\n</style>\n<table border=\"1\" class=\"dataframe\">\n  <thead>\n    <tr style=\"text-align: right;\">\n      <th></th>\n      <th>key</th>\n      <th>title</th>\n      <th>authors</th>\n      <th>abstract</th>\n      <th>notes</th>\n      <th>screener_1</th>\n      <th>screener_2</th>\n      <th>year_published</th>\n    </tr>\n  </thead>\n  <tbody>\n    <tr>\n      <th>0</th>\n      <td>rayyan-354359269</td>\n      <td>An experience of automated assessment in a lar...</td>\n      <td>Zampirolli F.A., Borovina Josko J.M., Venero M...</td>\n      <td>The 2020 pandemic imposed new demands on teach...</td>\n      <td>2021,CAE,vpl,mctest,moodle,python,tool:vpl,cor...</td>\n      <td>[tool:vpl, tool:mctest, tool:moodle, language:...</td>\n      <td>[tool:vpl, comparison:with-without]</td>\n      <td>2021</td>\n    </tr>\n    <tr>\n      <th>1</th>\n      <td>rayyan-354359270</td>\n      <td>Semiautomatic generation and assessment of Jav...</td>\n      <td>Insa D., Pérez S., Silva J., Tamarit S.</td>\n      <td>Continuous assessment is essential in educatio...</td>\n      <td>2021,CAE,java,javassess,test cases,correctness...</td>\n      <td>[language:java, tool:javassess, technique:test...</td>\n      <td>[skill:correctness, technique:dsl-rules, feedb...</td>\n      <td>2021</td>\n    </tr>\n    <tr>\n      <th>2</th>\n      <td>rayyan-354359271</td>\n      <td>A tool for evaluating computer programs from s...</td>\n      <td>Vaneck Q., Colart T., Frénay B., Vanderose B.</td>\n      <td>Computer science studies are more and more pop...</td>\n      <td>2021,EASEAI,pylint,python,metrics,gamified,cod...</td>\n      <td>[tool:pylint, language:python, technique:metri...</td>\n      <td>[skill:readability, skill:maintainability, tec...</td>\n      <td>2021</td>\n    </tr>\n    <tr>\n      <th>3</th>\n      <td>rayyan-354359272</td>\n      <td>Virtual Teaching Assistant for Grading Program...</td>\n      <td>Chou C.-Y., Chen Y.-J.</td>\n      <td>This study proposes an automated programming a...</td>\n      <td>2021,ICKII,test cases,correctness,semi-automat...</td>\n      <td>[technique:test cases, skill:correctness, appr...</td>\n      <td>[skill:correctness, evaluation:auto-grading, t...</td>\n      <td>2021</td>\n    </tr>\n    <tr>\n      <th>4</th>\n      <td>rayyan-354359273</td>\n      <td>Analysis of an automatic grading system within...</td>\n      <td>Hegarty-Kelly E., Mooney D.A.</td>\n      <td>Reliable and pedagogically sound automated fee...</td>\n      <td>2021,CEP,vpl,java,mule,test cases,correctness,...</td>\n      <td>[tool:vpl, language:java, tool:mule, technique...</td>\n      <td>[skill:correctness, technique:dsl-rules, techn...</td>\n      <td>2021</td>\n    </tr>\n  </tbody>\n</table>\n</div>"
     },
     "execution_count": 132,
     "metadata": {},
     "output_type": "execute_result"
    }
   ],
   "source": [
    "# Get year from list adapted from: https://stackoverflow.com/questions/363944/python-idiom-to-return-first-item-or-none\n",
    "\n",
    "df['year_published'] = df.screener_1.apply(lambda labels: next(iter([label for label in labels if label.isdigit()] or []), None))\n",
    "df.screener_1 = df.screener_1.apply(lambda  labels: [label for label in labels if not label.isdigit()])\n",
    "\n",
    "df.screener_1 = df.screener_1.map(lambda labels: [label for label in labels if \":\" in label])\n",
    "df.screener_2 = df.screener_2.map(lambda labels: [label for label in labels if \":\" in label])\n",
    "\n",
    "df.head()"
   ],
   "metadata": {
    "collapsed": false,
    "pycharm": {
     "name": "#%%\n"
    }
   }
  },
  {
   "cell_type": "markdown",
   "source": [
    "#### Clean tags"
   ],
   "metadata": {
    "collapsed": false,
    "pycharm": {
     "name": "#%% md\n"
    }
   }
  },
  {
   "cell_type": "code",
   "execution_count": 133,
   "outputs": [],
   "source": [
    "punct = string.punctuation.replace(':', '').replace('#', '') + \" \""
   ],
   "metadata": {
    "collapsed": false,
    "pycharm": {
     "name": "#%%\n"
    }
   }
  },
  {
   "cell_type": "code",
   "execution_count": 134,
   "outputs": [],
   "source": [
    "def clean_tags(labels):\n",
    "    return [label.translate(str.maketrans(dict.fromkeys(punct, \"_\"))) for label in labels]"
   ],
   "metadata": {
    "collapsed": false,
    "pycharm": {
     "name": "#%%\n"
    }
   }
  },
  {
   "cell_type": "code",
   "execution_count": 135,
   "outputs": [
    {
     "data": {
      "text/plain": "                key                                              title  \\\n0  rayyan-354359269  An experience of automated assessment in a lar...   \n1  rayyan-354359270  Semiautomatic generation and assessment of Jav...   \n2  rayyan-354359271  A tool for evaluating computer programs from s...   \n3  rayyan-354359272  Virtual Teaching Assistant for Grading Program...   \n4  rayyan-354359273  Analysis of an automatic grading system within...   \n\n                                             authors  \\\n0  Zampirolli F.A., Borovina Josko J.M., Venero M...   \n1            Insa D., Pérez S., Silva J., Tamarit S.   \n2      Vaneck Q., Colart T., Frénay B., Vanderose B.   \n3                             Chou C.-Y., Chen Y.-J.   \n4                      Hegarty-Kelly E., Mooney D.A.   \n\n                                            abstract  \\\n0  The 2020 pandemic imposed new demands on teach...   \n1  Continuous assessment is essential in educatio...   \n2  Computer science studies are more and more pop...   \n3  This study proposes an automated programming a...   \n4  Reliable and pedagogically sound automated fee...   \n\n                                               notes  \\\n0  2021,CAE,vpl,mctest,moodle,python,tool:vpl,cor...   \n1  2021,CAE,java,javassess,test cases,correctness...   \n2  2021,EASEAI,pylint,python,metrics,gamified,cod...   \n3  2021,ICKII,test cases,correctness,semi-automat...   \n4  2021,CEP,vpl,java,mule,test cases,correctness,...   \n\n                                          screener_1  \\\n0  [tool:vpl, tool:mctest, tool:moodle, language:...   \n1  [language:java, tool:javassess, technique:test...   \n2  [tool:pylint, language:python, technique:metri...   \n3  [technique:test_cases, skill:correctness, appr...   \n4  [tool:vpl, language:java, tool:mule, technique...   \n\n                                          screener_2 year_published  \n0                [tool:vpl, comparison:with_without]           2021  \n1  [skill:correctness, technique:dsl_rules, feedb...           2021  \n2  [skill:readability, skill:maintainability, tec...           2021  \n3  [skill:correctness, evaluation:auto_grading, t...           2021  \n4  [skill:correctness, technique:dsl_rules, techn...           2021  ",
      "text/html": "<div>\n<style scoped>\n    .dataframe tbody tr th:only-of-type {\n        vertical-align: middle;\n    }\n\n    .dataframe tbody tr th {\n        vertical-align: top;\n    }\n\n    .dataframe thead th {\n        text-align: right;\n    }\n</style>\n<table border=\"1\" class=\"dataframe\">\n  <thead>\n    <tr style=\"text-align: right;\">\n      <th></th>\n      <th>key</th>\n      <th>title</th>\n      <th>authors</th>\n      <th>abstract</th>\n      <th>notes</th>\n      <th>screener_1</th>\n      <th>screener_2</th>\n      <th>year_published</th>\n    </tr>\n  </thead>\n  <tbody>\n    <tr>\n      <th>0</th>\n      <td>rayyan-354359269</td>\n      <td>An experience of automated assessment in a lar...</td>\n      <td>Zampirolli F.A., Borovina Josko J.M., Venero M...</td>\n      <td>The 2020 pandemic imposed new demands on teach...</td>\n      <td>2021,CAE,vpl,mctest,moodle,python,tool:vpl,cor...</td>\n      <td>[tool:vpl, tool:mctest, tool:moodle, language:...</td>\n      <td>[tool:vpl, comparison:with_without]</td>\n      <td>2021</td>\n    </tr>\n    <tr>\n      <th>1</th>\n      <td>rayyan-354359270</td>\n      <td>Semiautomatic generation and assessment of Jav...</td>\n      <td>Insa D., Pérez S., Silva J., Tamarit S.</td>\n      <td>Continuous assessment is essential in educatio...</td>\n      <td>2021,CAE,java,javassess,test cases,correctness...</td>\n      <td>[language:java, tool:javassess, technique:test...</td>\n      <td>[skill:correctness, technique:dsl_rules, feedb...</td>\n      <td>2021</td>\n    </tr>\n    <tr>\n      <th>2</th>\n      <td>rayyan-354359271</td>\n      <td>A tool for evaluating computer programs from s...</td>\n      <td>Vaneck Q., Colart T., Frénay B., Vanderose B.</td>\n      <td>Computer science studies are more and more pop...</td>\n      <td>2021,EASEAI,pylint,python,metrics,gamified,cod...</td>\n      <td>[tool:pylint, language:python, technique:metri...</td>\n      <td>[skill:readability, skill:maintainability, tec...</td>\n      <td>2021</td>\n    </tr>\n    <tr>\n      <th>3</th>\n      <td>rayyan-354359272</td>\n      <td>Virtual Teaching Assistant for Grading Program...</td>\n      <td>Chou C.-Y., Chen Y.-J.</td>\n      <td>This study proposes an automated programming a...</td>\n      <td>2021,ICKII,test cases,correctness,semi-automat...</td>\n      <td>[technique:test_cases, skill:correctness, appr...</td>\n      <td>[skill:correctness, evaluation:auto_grading, t...</td>\n      <td>2021</td>\n    </tr>\n    <tr>\n      <th>4</th>\n      <td>rayyan-354359273</td>\n      <td>Analysis of an automatic grading system within...</td>\n      <td>Hegarty-Kelly E., Mooney D.A.</td>\n      <td>Reliable and pedagogically sound automated fee...</td>\n      <td>2021,CEP,vpl,java,mule,test cases,correctness,...</td>\n      <td>[tool:vpl, language:java, tool:mule, technique...</td>\n      <td>[skill:correctness, technique:dsl_rules, techn...</td>\n      <td>2021</td>\n    </tr>\n  </tbody>\n</table>\n</div>"
     },
     "execution_count": 135,
     "metadata": {},
     "output_type": "execute_result"
    }
   ],
   "source": [
    "df.screener_1 = df.screener_1.apply(lambda labels: clean_tags(labels))\n",
    "df.screener_2 = df.screener_2.apply(lambda labels: clean_tags(labels))\n",
    "\n",
    "df.head()"
   ],
   "metadata": {
    "collapsed": false,
    "pycharm": {
     "name": "#%%\n"
    }
   }
  },
  {
   "cell_type": "code",
   "execution_count": 136,
   "outputs": [
    {
     "data": {
      "text/plain": "                key                                              title  \\\n0  rayyan-354359269  An experience of automated assessment in a lar...   \n1  rayyan-354359270  Semiautomatic generation and assessment of Jav...   \n2  rayyan-354359271  A tool for evaluating computer programs from s...   \n3  rayyan-354359272  Virtual Teaching Assistant for Grading Program...   \n4  rayyan-354359273  Analysis of an automatic grading system within...   \n\n                                             authors  \\\n0  Zampirolli F.A., Borovina Josko J.M., Venero M...   \n1            Insa D., Pérez S., Silva J., Tamarit S.   \n2      Vaneck Q., Colart T., Frénay B., Vanderose B.   \n3                             Chou C.-Y., Chen Y.-J.   \n4                      Hegarty-Kelly E., Mooney D.A.   \n\n                                            abstract year_published  \\\n0  The 2020 pandemic imposed new demands on teach...           2021   \n1  Continuous assessment is essential in educatio...           2021   \n2  Computer science studies are more and more pop...           2021   \n3  This study proposes an automated programming a...           2021   \n4  Reliable and pedagogically sound automated fee...           2021   \n\n                                                tags  \n0  [comparison:with_without, language:python, ski...  \n1  [approach:semi_automatic, data:internal_exams,...  \n2  [feedback:gamified, feedback:personalised_feed...  \n3  [approach:semi_automatic, comparison:compared_...  \n4  [data:internal_assignments, evaluation:auto_gr...  ",
      "text/html": "<div>\n<style scoped>\n    .dataframe tbody tr th:only-of-type {\n        vertical-align: middle;\n    }\n\n    .dataframe tbody tr th {\n        vertical-align: top;\n    }\n\n    .dataframe thead th {\n        text-align: right;\n    }\n</style>\n<table border=\"1\" class=\"dataframe\">\n  <thead>\n    <tr style=\"text-align: right;\">\n      <th></th>\n      <th>key</th>\n      <th>title</th>\n      <th>authors</th>\n      <th>abstract</th>\n      <th>year_published</th>\n      <th>tags</th>\n    </tr>\n  </thead>\n  <tbody>\n    <tr>\n      <th>0</th>\n      <td>rayyan-354359269</td>\n      <td>An experience of automated assessment in a lar...</td>\n      <td>Zampirolli F.A., Borovina Josko J.M., Venero M...</td>\n      <td>The 2020 pandemic imposed new demands on teach...</td>\n      <td>2021</td>\n      <td>[comparison:with_without, language:python, ski...</td>\n    </tr>\n    <tr>\n      <th>1</th>\n      <td>rayyan-354359270</td>\n      <td>Semiautomatic generation and assessment of Jav...</td>\n      <td>Insa D., Pérez S., Silva J., Tamarit S.</td>\n      <td>Continuous assessment is essential in educatio...</td>\n      <td>2021</td>\n      <td>[approach:semi_automatic, data:internal_exams,...</td>\n    </tr>\n    <tr>\n      <th>2</th>\n      <td>rayyan-354359271</td>\n      <td>A tool for evaluating computer programs from s...</td>\n      <td>Vaneck Q., Colart T., Frénay B., Vanderose B.</td>\n      <td>Computer science studies are more and more pop...</td>\n      <td>2021</td>\n      <td>[feedback:gamified, feedback:personalised_feed...</td>\n    </tr>\n    <tr>\n      <th>3</th>\n      <td>rayyan-354359272</td>\n      <td>Virtual Teaching Assistant for Grading Program...</td>\n      <td>Chou C.-Y., Chen Y.-J.</td>\n      <td>This study proposes an automated programming a...</td>\n      <td>2021</td>\n      <td>[approach:semi_automatic, comparison:compared_...</td>\n    </tr>\n    <tr>\n      <th>4</th>\n      <td>rayyan-354359273</td>\n      <td>Analysis of an automatic grading system within...</td>\n      <td>Hegarty-Kelly E., Mooney D.A.</td>\n      <td>Reliable and pedagogically sound automated fee...</td>\n      <td>2021</td>\n      <td>[data:internal_assignments, evaluation:auto_gr...</td>\n    </tr>\n  </tbody>\n</table>\n</div>"
     },
     "execution_count": 136,
     "metadata": {},
     "output_type": "execute_result"
    }
   ],
   "source": [
    "df['tags'] = df.screener_1 + df.screener_2\n",
    "df.tags = df.tags.apply(lambda tags: list(sorted(set(tags))))\n",
    "\n",
    "df = df.drop(columns=['screener_1', 'screener_2', 'notes'])\n",
    "\n",
    "df.head()"
   ],
   "metadata": {
    "collapsed": false,
    "pycharm": {
     "name": "#%%\n"
    }
   }
  },
  {
   "cell_type": "markdown",
   "source": [
    "## Validate data"
   ],
   "metadata": {
    "collapsed": false,
    "pycharm": {
     "name": "#%% md\n"
    }
   }
  },
  {
   "cell_type": "code",
   "execution_count": 137,
   "outputs": [],
   "source": [
    "required_prefixes = {'approach', 'language', 'type', 'skill', 'technique', 'data', 'evaluation', 'comparison', 'feedback', 'tool'}"
   ],
   "metadata": {
    "collapsed": false,
    "pycharm": {
     "name": "#%%\n"
    }
   }
  },
  {
   "cell_type": "code",
   "execution_count": 140,
   "outputs": [
    {
     "data": {
      "text/plain": "                                                 title  \\\n0    An experience of automated assessment in a lar...   \n1    Semiautomatic generation and assessment of Jav...   \n2    A tool for evaluating computer programs from s...   \n3    Virtual Teaching Assistant for Grading Program...   \n4    Analysis of an automatic grading system within...   \n..                                                 ...   \n118  Learning and teaching numerical methods with a...   \n119  Ask-Elle: an Adaptable Programming Tutor for H...   \n120       An AI system for coaching novice programmers   \n121  Automatic extraction of AST patterns for debug...   \n122  Self- and automated assessment in programming ...   \n\n                                                  tags  \n0               [data, approach, evaluation, feedback]  \n1                                   [type, comparison]  \n2       [type, data, approach, comparison, evaluation]  \n3                               [type, tool, feedback]  \n4               [type, approach, comparison, feedback]  \n..                                                 ...  \n118  [type, data, approach, comparison, tool, langu...  \n119       [type, approach, comparison, tool, language]  \n120           [type, approach, comparison, evaluation]  \n121                 [type, approach, tool, evaluation]  \n122  [type, data, approach, comparison, language, f...  \n\n[123 rows x 2 columns]",
      "text/html": "<div>\n<style scoped>\n    .dataframe tbody tr th:only-of-type {\n        vertical-align: middle;\n    }\n\n    .dataframe tbody tr th {\n        vertical-align: top;\n    }\n\n    .dataframe thead th {\n        text-align: right;\n    }\n</style>\n<table border=\"1\" class=\"dataframe\">\n  <thead>\n    <tr style=\"text-align: right;\">\n      <th></th>\n      <th>title</th>\n      <th>tags</th>\n    </tr>\n  </thead>\n  <tbody>\n    <tr>\n      <th>0</th>\n      <td>An experience of automated assessment in a lar...</td>\n      <td>[data, approach, evaluation, feedback]</td>\n    </tr>\n    <tr>\n      <th>1</th>\n      <td>Semiautomatic generation and assessment of Jav...</td>\n      <td>[type, comparison]</td>\n    </tr>\n    <tr>\n      <th>2</th>\n      <td>A tool for evaluating computer programs from s...</td>\n      <td>[type, data, approach, comparison, evaluation]</td>\n    </tr>\n    <tr>\n      <th>3</th>\n      <td>Virtual Teaching Assistant for Grading Program...</td>\n      <td>[type, tool, feedback]</td>\n    </tr>\n    <tr>\n      <th>4</th>\n      <td>Analysis of an automatic grading system within...</td>\n      <td>[type, approach, comparison, feedback]</td>\n    </tr>\n    <tr>\n      <th>...</th>\n      <td>...</td>\n      <td>...</td>\n    </tr>\n    <tr>\n      <th>118</th>\n      <td>Learning and teaching numerical methods with a...</td>\n      <td>[type, data, approach, comparison, tool, langu...</td>\n    </tr>\n    <tr>\n      <th>119</th>\n      <td>Ask-Elle: an Adaptable Programming Tutor for H...</td>\n      <td>[type, approach, comparison, tool, language]</td>\n    </tr>\n    <tr>\n      <th>120</th>\n      <td>An AI system for coaching novice programmers</td>\n      <td>[type, approach, comparison, evaluation]</td>\n    </tr>\n    <tr>\n      <th>121</th>\n      <td>Automatic extraction of AST patterns for debug...</td>\n      <td>[type, approach, tool, evaluation]</td>\n    </tr>\n    <tr>\n      <th>122</th>\n      <td>Self- and automated assessment in programming ...</td>\n      <td>[type, data, approach, comparison, language, f...</td>\n    </tr>\n  </tbody>\n</table>\n<p>123 rows × 2 columns</p>\n</div>"
     },
     "execution_count": 140,
     "metadata": {},
     "output_type": "execute_result"
    }
   ],
   "source": [
    "def validate(labels):\n",
    "    paper_prefixes = []\n",
    "    for label in labels:\n",
    "        paper_prefixes.append(label.split(':')[0])\n",
    "\n",
    "    return [prefix for prefix in required_prefixes if prefix not in paper_prefixes]\n",
    "\n",
    "pd.concat([df.title, df.tags.apply(lambda labels: validate(labels))], axis=1)"
   ],
   "metadata": {
    "collapsed": false,
    "pycharm": {
     "name": "#%%\n"
    }
   }
  },
  {
   "cell_type": "markdown",
   "source": [
    "### Example analytics count of all tags"
   ],
   "metadata": {
    "collapsed": false,
    "pycharm": {
     "name": "#%% md\n"
    }
   }
  },
  {
   "cell_type": "code",
   "execution_count": 139,
   "outputs": [
    {
     "data": {
      "text/plain": "skill:correctness            103\ntechnique:test_cases          71\ndata:internal_assignments     65\ntechnique:unit_testing        49\nlanguage:java                 34\n                            ... \ntool:better_code_hub           1\ntool:appgrader                 1\nskill:documentation            1\nlanguage:vb                    1\nlanguage:prolog                1\nLength: 172, dtype: int64"
     },
     "execution_count": 139,
     "metadata": {},
     "output_type": "execute_result"
    }
   ],
   "source": [
    "pd.Series([tag for tags in df.tags for tag in tags]).value_counts()"
   ],
   "metadata": {
    "collapsed": false,
    "pycharm": {
     "name": "#%%\n"
    }
   }
  },
  {
   "cell_type": "markdown",
   "source": [
    "## Export"
   ],
   "metadata": {
    "collapsed": false,
    "pycharm": {
     "name": "#%% md\n"
    }
   }
  }
 ],
 "metadata": {
  "kernelspec": {
   "display_name": "Python 3",
   "language": "python",
   "name": "python3"
  },
  "language_info": {
   "codemirror_mode": {
    "name": "ipython",
    "version": 2
   },
   "file_extension": ".py",
   "mimetype": "text/x-python",
   "name": "python",
   "nbconvert_exporter": "python",
   "pygments_lexer": "ipython2",
   "version": "2.7.6"
  }
 },
 "nbformat": 4,
 "nbformat_minor": 0
}