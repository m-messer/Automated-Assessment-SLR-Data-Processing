{
 "cells": [
  {
   "cell_type": "code",
   "execution_count": 101,
   "outputs": [],
   "source": [
    "import pandas as pd\n",
    "import string"
   ],
   "metadata": {
    "collapsed": false,
    "pycharm": {
     "name": "#%%\n"
    }
   }
  },
  {
   "cell_type": "markdown",
   "source": [
    "## Load and clean data from Rayyan"
   ],
   "metadata": {
    "collapsed": false,
    "pycharm": {
     "name": "#%% md\n"
    }
   }
  },
  {
   "cell_type": "code",
   "execution_count": 102,
   "outputs": [
    {
     "data": {
      "text/plain": "                key                                              title  \\\n0  rayyan-354359269  An experience of automated assessment in a lar...   \n1  rayyan-354359270  Semiautomatic generation and assessment of Jav...   \n2  rayyan-354359271  A tool for evaluating computer programs from s...   \n3  rayyan-354359272  Virtual Teaching Assistant for Grading Program...   \n4  rayyan-354359273  Analysis of an automatic grading system within...   \n\n     year  month  day journal issn  volume  issue pages  ... url  language  \\\n0  2021.0      1    1     NaN  NaN    29.0    5.0   NaN  ... NaN       NaN   \n1  2021.0      1    1     NaN  NaN    29.0    5.0   NaN  ... NaN       NaN   \n2  2021.0      1    1     NaN  NaN     NaN    NaN   NaN  ... NaN       NaN   \n3  2021.0      1    1     NaN  NaN     NaN    NaN   NaN  ... NaN       NaN   \n4  2021.0      1    1     NaN  NaN     NaN    NaN   NaN  ... NaN       NaN   \n\n   publisher location                                           abstract  \\\n0        NaN      NaN  The 2020 pandemic imposed new demands on teach...   \n1        NaN      NaN  Continuous assessment is essential in educatio...   \n2        NaN      NaN  Computer science studies are more and more pop...   \n3        NaN      NaN  This study proposes an automated programming a...   \n4        NaN      NaN  Reliable and pedagogically sound automated fee...   \n\n                                               notes doi  keywords pubmed_id  \\\n0  RAYYAN-LABELS: 2021,CAE,vpl,mctest,moodle,pyth... NaN       NaN       NaN   \n1  RAYYAN-LABELS: 2021,CAE,java,javassess,test ca... NaN       NaN       NaN   \n2  RAYYAN-LABELS: 2021,EASEAI,pylint,python,metri... NaN  Software       NaN   \n3  RAYYAN-LABELS: 2021,ICKII,tool:vta,test cases,... NaN       NaN       NaN   \n4  RAYYAN-LABELS: 2021,CEP,vpl,java,mule,test cas... NaN       NaN       NaN   \n\n   pmc_id  \n0     NaN  \n1     NaN  \n2     NaN  \n3     NaN  \n4     NaN  \n\n[5 rows x 21 columns]",
      "text/html": "<div>\n<style scoped>\n    .dataframe tbody tr th:only-of-type {\n        vertical-align: middle;\n    }\n\n    .dataframe tbody tr th {\n        vertical-align: top;\n    }\n\n    .dataframe thead th {\n        text-align: right;\n    }\n</style>\n<table border=\"1\" class=\"dataframe\">\n  <thead>\n    <tr style=\"text-align: right;\">\n      <th></th>\n      <th>key</th>\n      <th>title</th>\n      <th>year</th>\n      <th>month</th>\n      <th>day</th>\n      <th>journal</th>\n      <th>issn</th>\n      <th>volume</th>\n      <th>issue</th>\n      <th>pages</th>\n      <th>...</th>\n      <th>url</th>\n      <th>language</th>\n      <th>publisher</th>\n      <th>location</th>\n      <th>abstract</th>\n      <th>notes</th>\n      <th>doi</th>\n      <th>keywords</th>\n      <th>pubmed_id</th>\n      <th>pmc_id</th>\n    </tr>\n  </thead>\n  <tbody>\n    <tr>\n      <th>0</th>\n      <td>rayyan-354359269</td>\n      <td>An experience of automated assessment in a lar...</td>\n      <td>2021.0</td>\n      <td>1</td>\n      <td>1</td>\n      <td>NaN</td>\n      <td>NaN</td>\n      <td>29.0</td>\n      <td>5.0</td>\n      <td>NaN</td>\n      <td>...</td>\n      <td>NaN</td>\n      <td>NaN</td>\n      <td>NaN</td>\n      <td>NaN</td>\n      <td>The 2020 pandemic imposed new demands on teach...</td>\n      <td>RAYYAN-LABELS: 2021,CAE,vpl,mctest,moodle,pyth...</td>\n      <td>NaN</td>\n      <td>NaN</td>\n      <td>NaN</td>\n      <td>NaN</td>\n    </tr>\n    <tr>\n      <th>1</th>\n      <td>rayyan-354359270</td>\n      <td>Semiautomatic generation and assessment of Jav...</td>\n      <td>2021.0</td>\n      <td>1</td>\n      <td>1</td>\n      <td>NaN</td>\n      <td>NaN</td>\n      <td>29.0</td>\n      <td>5.0</td>\n      <td>NaN</td>\n      <td>...</td>\n      <td>NaN</td>\n      <td>NaN</td>\n      <td>NaN</td>\n      <td>NaN</td>\n      <td>Continuous assessment is essential in educatio...</td>\n      <td>RAYYAN-LABELS: 2021,CAE,java,javassess,test ca...</td>\n      <td>NaN</td>\n      <td>NaN</td>\n      <td>NaN</td>\n      <td>NaN</td>\n    </tr>\n    <tr>\n      <th>2</th>\n      <td>rayyan-354359271</td>\n      <td>A tool for evaluating computer programs from s...</td>\n      <td>2021.0</td>\n      <td>1</td>\n      <td>1</td>\n      <td>NaN</td>\n      <td>NaN</td>\n      <td>NaN</td>\n      <td>NaN</td>\n      <td>NaN</td>\n      <td>...</td>\n      <td>NaN</td>\n      <td>NaN</td>\n      <td>NaN</td>\n      <td>NaN</td>\n      <td>Computer science studies are more and more pop...</td>\n      <td>RAYYAN-LABELS: 2021,EASEAI,pylint,python,metri...</td>\n      <td>NaN</td>\n      <td>Software</td>\n      <td>NaN</td>\n      <td>NaN</td>\n    </tr>\n    <tr>\n      <th>3</th>\n      <td>rayyan-354359272</td>\n      <td>Virtual Teaching Assistant for Grading Program...</td>\n      <td>2021.0</td>\n      <td>1</td>\n      <td>1</td>\n      <td>NaN</td>\n      <td>NaN</td>\n      <td>NaN</td>\n      <td>NaN</td>\n      <td>NaN</td>\n      <td>...</td>\n      <td>NaN</td>\n      <td>NaN</td>\n      <td>NaN</td>\n      <td>NaN</td>\n      <td>This study proposes an automated programming a...</td>\n      <td>RAYYAN-LABELS: 2021,ICKII,tool:vta,test cases,...</td>\n      <td>NaN</td>\n      <td>NaN</td>\n      <td>NaN</td>\n      <td>NaN</td>\n    </tr>\n    <tr>\n      <th>4</th>\n      <td>rayyan-354359273</td>\n      <td>Analysis of an automatic grading system within...</td>\n      <td>2021.0</td>\n      <td>1</td>\n      <td>1</td>\n      <td>NaN</td>\n      <td>NaN</td>\n      <td>NaN</td>\n      <td>NaN</td>\n      <td>NaN</td>\n      <td>...</td>\n      <td>NaN</td>\n      <td>NaN</td>\n      <td>NaN</td>\n      <td>NaN</td>\n      <td>Reliable and pedagogically sound automated fee...</td>\n      <td>RAYYAN-LABELS: 2021,CEP,vpl,java,mule,test cas...</td>\n      <td>NaN</td>\n      <td>NaN</td>\n      <td>NaN</td>\n      <td>NaN</td>\n    </tr>\n  </tbody>\n</table>\n<p>5 rows × 21 columns</p>\n</div>"
     },
     "execution_count": 102,
     "metadata": {},
     "output_type": "execute_result"
    }
   ],
   "source": [
    "df = pd.read_csv(\"data/articles.csv\")\n",
    "df.head()"
   ],
   "metadata": {
    "collapsed": false,
    "pycharm": {
     "name": "#%%\n"
    }
   }
  },
  {
   "cell_type": "markdown",
   "source": [
    "### Clean data"
   ],
   "metadata": {
    "collapsed": false,
    "pycharm": {
     "name": "#%% md\n"
    }
   }
  },
  {
   "cell_type": "code",
   "execution_count": 103,
   "outputs": [
    {
     "data": {
      "text/plain": "                key                                              title  \\\n0  rayyan-354359269  An experience of automated assessment in a lar...   \n1  rayyan-354359270  Semiautomatic generation and assessment of Jav...   \n2  rayyan-354359271  A tool for evaluating computer programs from s...   \n3  rayyan-354359272  Virtual Teaching Assistant for Grading Program...   \n4  rayyan-354359273  Analysis of an automatic grading system within...   \n\n                                             authors  \\\n0  Zampirolli F.A., Borovina Josko J.M., Venero M...   \n1            Insa D., Pérez S., Silva J., Tamarit S.   \n2      Vaneck Q., Colart T., Frénay B., Vanderose B.   \n3                             Chou C.-Y., Chen Y.-J.   \n4                      Hegarty-Kelly E., Mooney D.A.   \n\n                                            abstract  \\\n0  The 2020 pandemic imposed new demands on teach...   \n1  Continuous assessment is essential in educatio...   \n2  Computer science studies are more and more pop...   \n3  This study proposes an automated programming a...   \n4  Reliable and pedagogically sound automated fee...   \n\n                                               notes  \n0  RAYYAN-LABELS: 2021,CAE,vpl,mctest,moodle,pyth...  \n1  RAYYAN-LABELS: 2021,CAE,java,javassess,test ca...  \n2  RAYYAN-LABELS: 2021,EASEAI,pylint,python,metri...  \n3  RAYYAN-LABELS: 2021,ICKII,tool:vta,test cases,...  \n4  RAYYAN-LABELS: 2021,CEP,vpl,java,mule,test cas...  ",
      "text/html": "<div>\n<style scoped>\n    .dataframe tbody tr th:only-of-type {\n        vertical-align: middle;\n    }\n\n    .dataframe tbody tr th {\n        vertical-align: top;\n    }\n\n    .dataframe thead th {\n        text-align: right;\n    }\n</style>\n<table border=\"1\" class=\"dataframe\">\n  <thead>\n    <tr style=\"text-align: right;\">\n      <th></th>\n      <th>key</th>\n      <th>title</th>\n      <th>authors</th>\n      <th>abstract</th>\n      <th>notes</th>\n    </tr>\n  </thead>\n  <tbody>\n    <tr>\n      <th>0</th>\n      <td>rayyan-354359269</td>\n      <td>An experience of automated assessment in a lar...</td>\n      <td>Zampirolli F.A., Borovina Josko J.M., Venero M...</td>\n      <td>The 2020 pandemic imposed new demands on teach...</td>\n      <td>RAYYAN-LABELS: 2021,CAE,vpl,mctest,moodle,pyth...</td>\n    </tr>\n    <tr>\n      <th>1</th>\n      <td>rayyan-354359270</td>\n      <td>Semiautomatic generation and assessment of Jav...</td>\n      <td>Insa D., Pérez S., Silva J., Tamarit S.</td>\n      <td>Continuous assessment is essential in educatio...</td>\n      <td>RAYYAN-LABELS: 2021,CAE,java,javassess,test ca...</td>\n    </tr>\n    <tr>\n      <th>2</th>\n      <td>rayyan-354359271</td>\n      <td>A tool for evaluating computer programs from s...</td>\n      <td>Vaneck Q., Colart T., Frénay B., Vanderose B.</td>\n      <td>Computer science studies are more and more pop...</td>\n      <td>RAYYAN-LABELS: 2021,EASEAI,pylint,python,metri...</td>\n    </tr>\n    <tr>\n      <th>3</th>\n      <td>rayyan-354359272</td>\n      <td>Virtual Teaching Assistant for Grading Program...</td>\n      <td>Chou C.-Y., Chen Y.-J.</td>\n      <td>This study proposes an automated programming a...</td>\n      <td>RAYYAN-LABELS: 2021,ICKII,tool:vta,test cases,...</td>\n    </tr>\n    <tr>\n      <th>4</th>\n      <td>rayyan-354359273</td>\n      <td>Analysis of an automatic grading system within...</td>\n      <td>Hegarty-Kelly E., Mooney D.A.</td>\n      <td>Reliable and pedagogically sound automated fee...</td>\n      <td>RAYYAN-LABELS: 2021,CEP,vpl,java,mule,test cas...</td>\n    </tr>\n  </tbody>\n</table>\n</div>"
     },
     "execution_count": 103,
     "metadata": {},
     "output_type": "execute_result"
    }
   ],
   "source": [
    "df.dropna(axis=1, inplace=True)\n",
    "df.drop(columns={'month', 'day'}, inplace=True)\n",
    "df.head()"
   ],
   "metadata": {
    "collapsed": false,
    "pycharm": {
     "name": "#%%\n"
    }
   }
  },
  {
   "cell_type": "code",
   "execution_count": 104,
   "outputs": [
    {
     "data": {
      "text/plain": "                key                                              title  \\\n0  rayyan-354359269  An experience of automated assessment in a lar...   \n1  rayyan-354359270  Semiautomatic generation and assessment of Jav...   \n2  rayyan-354359271  A tool for evaluating computer programs from s...   \n3  rayyan-354359272  Virtual Teaching Assistant for Grading Program...   \n4  rayyan-354359273  Analysis of an automatic grading system within...   \n\n                                             authors  \\\n0  Zampirolli F.A., Borovina Josko J.M., Venero M...   \n1            Insa D., Pérez S., Silva J., Tamarit S.   \n2      Vaneck Q., Colart T., Frénay B., Vanderose B.   \n3                             Chou C.-Y., Chen Y.-J.   \n4                      Hegarty-Kelly E., Mooney D.A.   \n\n                                            abstract  \\\n0  The 2020 pandemic imposed new demands on teach...   \n1  Continuous assessment is essential in educatio...   \n2  Computer science studies are more and more pop...   \n3  This study proposes an automated programming a...   \n4  Reliable and pedagogically sound automated fee...   \n\n                                               notes  \\\n0  2021,CAE,vpl,mctest,moodle,python,tool:vpl,dat...   \n1  2021,CAE,java,javassess,test cases,correctness...   \n2  2021,EASEAI,pylint,python,metrics,gamified,dat...   \n3  2021,ICKII,tool:vta,test cases,correctness,sem...   \n4  2021,CEP,vpl,java,mule,test cases,correctness,...   \n\n                                     screener_labels  \n0  [2021, CAE, vpl, mctest, moodle, python, tool:...  \n1  [2021, CAE, java, javassess, test cases, corre...  \n2  [2021, EASEAI, pylint, python, metrics, gamifi...  \n3  [2021, ICKII, tool:vta, test cases, correctnes...  \n4  [2021, CEP, vpl, java, mule, test cases, corre...  ",
      "text/html": "<div>\n<style scoped>\n    .dataframe tbody tr th:only-of-type {\n        vertical-align: middle;\n    }\n\n    .dataframe tbody tr th {\n        vertical-align: top;\n    }\n\n    .dataframe thead th {\n        text-align: right;\n    }\n</style>\n<table border=\"1\" class=\"dataframe\">\n  <thead>\n    <tr style=\"text-align: right;\">\n      <th></th>\n      <th>key</th>\n      <th>title</th>\n      <th>authors</th>\n      <th>abstract</th>\n      <th>notes</th>\n      <th>screener_labels</th>\n    </tr>\n  </thead>\n  <tbody>\n    <tr>\n      <th>0</th>\n      <td>rayyan-354359269</td>\n      <td>An experience of automated assessment in a lar...</td>\n      <td>Zampirolli F.A., Borovina Josko J.M., Venero M...</td>\n      <td>The 2020 pandemic imposed new demands on teach...</td>\n      <td>2021,CAE,vpl,mctest,moodle,python,tool:vpl,dat...</td>\n      <td>[2021, CAE, vpl, mctest, moodle, python, tool:...</td>\n    </tr>\n    <tr>\n      <th>1</th>\n      <td>rayyan-354359270</td>\n      <td>Semiautomatic generation and assessment of Jav...</td>\n      <td>Insa D., Pérez S., Silva J., Tamarit S.</td>\n      <td>Continuous assessment is essential in educatio...</td>\n      <td>2021,CAE,java,javassess,test cases,correctness...</td>\n      <td>[2021, CAE, java, javassess, test cases, corre...</td>\n    </tr>\n    <tr>\n      <th>2</th>\n      <td>rayyan-354359271</td>\n      <td>A tool for evaluating computer programs from s...</td>\n      <td>Vaneck Q., Colart T., Frénay B., Vanderose B.</td>\n      <td>Computer science studies are more and more pop...</td>\n      <td>2021,EASEAI,pylint,python,metrics,gamified,dat...</td>\n      <td>[2021, EASEAI, pylint, python, metrics, gamifi...</td>\n    </tr>\n    <tr>\n      <th>3</th>\n      <td>rayyan-354359272</td>\n      <td>Virtual Teaching Assistant for Grading Program...</td>\n      <td>Chou C.-Y., Chen Y.-J.</td>\n      <td>This study proposes an automated programming a...</td>\n      <td>2021,ICKII,tool:vta,test cases,correctness,sem...</td>\n      <td>[2021, ICKII, tool:vta, test cases, correctnes...</td>\n    </tr>\n    <tr>\n      <th>4</th>\n      <td>rayyan-354359273</td>\n      <td>Analysis of an automatic grading system within...</td>\n      <td>Hegarty-Kelly E., Mooney D.A.</td>\n      <td>Reliable and pedagogically sound automated fee...</td>\n      <td>2021,CEP,vpl,java,mule,test cases,correctness,...</td>\n      <td>[2021, CEP, vpl, java, mule, test cases, corre...</td>\n    </tr>\n  </tbody>\n</table>\n</div>"
     },
     "execution_count": 104,
     "metadata": {},
     "output_type": "execute_result"
    }
   ],
   "source": [
    "df.notes = df.notes.map(lambda input_str: input_str.lstrip('RAYYAN-LABELS: '))\n",
    "\n",
    "df['screener_labels'] = df.notes.map(lambda labels: [label for label in labels.split(',')])\n",
    "\n",
    "df.head()"
   ],
   "metadata": {
    "collapsed": false,
    "pycharm": {
     "name": "#%%\n"
    }
   }
  },
  {
   "cell_type": "markdown",
   "source": [
    "#### Prepend screener 1's labels with topics"
   ],
   "metadata": {
    "collapsed": false,
    "pycharm": {
     "name": "#%% md\n"
    }
   }
  },
  {
   "cell_type": "code",
   "execution_count": 105,
   "outputs": [],
   "source": [
    "def convert_labels(labels):\n",
    "    output = []\n",
    "    not_grouped = []\n",
    "\n",
    "    for label in labels:\n",
    "        if label in ['vpl', 'mctest', 'moodle', 'javassess', 'pylint', 'coderunner', 'checkstyle', 'sarfgen', 'appgrader', 'better code hub', 'matlab grader',\n",
    "                     'stepik', 'earsketch', 'pmd', 'pyassessment', 'mule', 'uncode', 'jdbc', 'pass', 'cpplint', 'web-cat', 'cppcheck', 'bluej', 'submitty',\n",
    "                     'juypter', 'webta', 'docker', 'pyta', 'progedu', 'siette', '2tsw', 'hipos', 'Prutor', 'atelier']:\n",
    "            label = 'tool:' + label\n",
    "        elif label in ['java', 'python', 'opengl', 'C', 'unknown language', 'sql', 'glsl', 'c++', 'android', 'javascript', 'c#', 'lex', 'yacc', 'Haskell', 'octave',\n",
    "                       'vb', 'scala', 'matlab', 'ocaml', 'ruby', 'scheme', 'web languages', 'assesmbly', 'typescript', 'prolog', 'language  agnostic']:\n",
    "            label = 'language:' + label\n",
    "        elif label in ['correctness', 'code quality', 'oop', 'maintainability', 'graphics', 'complexity', 'documentation', 'concurrency',\n",
    "                       'teaching context free grammar', 'best practices', 'refactoring', 'distrbuted', 'code design', 'test suite quality', 'productivity']:\n",
    "            label = 'skill:' + label\n",
    "        elif label in ['experience report', 'demo paper', 'evaluation paper']:\n",
    "            label = 'type:' + label\n",
    "        elif label in ['pre-defined questions', 'test cases', 'pattern matching', 'model solution req', 'dsl for exercise gen', 'mutants',\n",
    "                       'code repair for feedback', 'metrics', 'program repair', 'static analysis', 'control flow graph', 'model-based', 'unit test expansion',\n",
    "                       'dynamic analysis', 'ml', 'error prediction', 'fault localisation', 'ci', 'cluster', 'data-driven', 'matching rules', 'language stuctures', 'ci/cd', 'test case generation',\n",
    "                       'token pattern matching', 'knowledge base', 'reflection', 'hipos', 'graphical output', 'nlp', 'dsl', 'antipatterns', 'mutation testing', 'uml', 'program synthesis']:\n",
    "            label = 'technique:' + label\n",
    "        elif label in ['internal exams', 'internal assignments', 'microsoft-dev204.1x', 'internal tutorial', 'leetcode', 'code defenders dataset', 'edX',\n",
    "                       'github dataset', 'bespoke assignment', 'hackerrank', 'codechef', 'grok', 'dataset available']:\n",
    "            label = 'data:' + label\n",
    "        elif label in ['dataset available']:\n",
    "            label = 'data_available:' + 'True'\n",
    "        elif label in ['semi-automatic']:\n",
    "            label = 'approach:' + label\n",
    "        elif label in ['personalised feedback', 'gamified', 'pre-defined feedback', 'plagiarism', 'hints', 'nudge theory', 'visual feedback', 'manual personalised feedback', 'code repair for feedback']:\n",
    "            label = 'feedback:' + label\n",
    "        elif label in ['compared to human', 'compared to other tools']:\n",
    "            label = 'evaluation:' + label\n",
    "        else:\n",
    "            not_grouped.append(label)\n",
    "\n",
    "        output.append(label)\n",
    "\n",
    "    print(sorted(list(set(not_grouped))))\n",
    "    return output"
   ],
   "metadata": {
    "collapsed": false,
    "pycharm": {
     "name": "#%%\n"
    }
   }
  },
  {
   "cell_type": "markdown",
   "source": [
    "#### Check for outstanding labels to classify"
   ],
   "metadata": {
    "collapsed": false,
    "pycharm": {
     "name": "#%% md\n"
    }
   }
  },
  {
   "cell_type": "code",
   "execution_count": 106,
   "outputs": [
    {
     "name": "stdout",
     "output_type": "stream",
     "text": [
      "['2021', 'CAE', 'approach:fully automated', 'comparison:with-without', 'data:none', 'data_available:False', 'feedback:test output', 'interaction:unknown', 'tool:vpl', 'type:description', 'type:evaluation']\n",
      "['2021', 'CAE', 'data_available:on request', 'evaluation:auto-grading', 'feedback:rule-failure', 'interaction:unknown', 'skill:correctness', 'skill:maintainability', 'technique:dsl-rules', 'type:description', 'type:evaluation']\n",
      "['2021', 'EASEAI', 'approach:fully automated', 'data:none', 'data_available:False', 'evaluation:none', 'interaction:unknown', 'skill:maintainability', 'skill:readability', 'technique:code-metrics', 'technique:program-repair', 'technique:static-analysis', 'type:description']\n",
      "['2021', 'ICKII', 'data_available:False', 'evaluation:auto-grading', 'feedback:test output', 'interaction:multiple', 'skill:correctness', 'technique:output-matching', 'tool:vta', 'type:description', 'type:evaluation']\n",
      "['2021', 'CEP', 'approach:fully automated', 'data_available:False', 'evaluation:auto-grading', 'evaluation:student-survey', 'evaluation:user-study', 'feedback:test output', 'interaction:unknown', 'skill:correctness', 'technique:dsl-rules', 'technique:unit-testing', 'type:description', 'type:evaluation']\n",
      "['2021', 'ICoDSE', 'approach:fully automated', 'data_available:False', 'feedback:none', 'interaction:unknown', 'skill:correctness', 'technique:model-solution-closeness', 'tool:none', 'type:description', 'type:evaluation']\n",
      "['2021', 'CAE', 'approach:fully automated', 'comparison:auto-graders', 'data_available:on request', 'evaluation:auto-grading', 'feedback:rule-failure', 'feedback:unit testing', 'interaction:multiple', 'skill:correctness', 'skill:maintainability', 'technique:dsl-rules', 'tool:oopgrader', 'type:description', 'type:evaluation']\n",
      "['2020', 'SLE', 'approach:fully automated', 'data_available:on request', 'evaluation:grade-correlation', 'evaluation:student-survey', 'feedback:unit testing', 'interaction:multiple', 'skill:correctness', 'technique:trace-examination', 'technique:unit-testing', 'tool:oopgrader', 'type:description', 'type:evaluation']\n",
      "['2020', 'JNI', 'approach:fully automated', 'comparison:grading-accuracy', 'data_available:True', 'feedback:none', 'interaction:unknown', 'skill:correctness', 'technique:model-solution-closeness', 'technique:unit-testing', 'tool:none', 'type:description', 'type:evaluation']\n",
      "['2020', 'IJEECS', 'approach:fully automated', 'comparison:grading-accuracy', 'data_available:False', 'feedback:augmented-compiler-errors', 'interaction:multiple', 'skill:correctness', 'technique:model-solution-closeness', 'technique:output-matching', 'technique:program-repair', 'tool:claas', 'type:description', 'type:evaluation']\n",
      "['2020', 'IEEECGA', 'data:none', 'data_available:False', 'evaluation:none', 'feedback:test output', 'interaction:unknown', 'skill:correctness', 'technique:dsl-rules', 'tool:antlr', 'type:description']\n",
      "['2020', 'CEP', 'approach:fully automated', 'comparison:with-without', 'data_available:False', 'feedback:test output', 'interaction:unknown', 'skill:correctness', 'skill:readability', 'technique:dsl-rules', 'technique:unit-testing', 'tool:coderunner']\n",
      "['2020', 'GJEE', 'approach:fully automated', 'data_available:False', 'evaluation:analytics', 'evaluation:student-survey', 'feedback:unit testing', 'interaction:multiple', 'skill:readability', 'technique:static-analysis', 'technique:unit-testing']\n",
      "['2020', 'DASFFA', 'approach:fully_automated', 'data_available:False', 'evaluation:none', 'feedback:machine-learning', 'interaction:unknown', 'oj', 'skill:correctness', 'technique:machine-learning', 'technique:unit-testing', 'tool:code2vec', 'type:description']\n",
      "['2020', 'CEUR-WS', 'data_available:False', 'evaluation:none', 'feedback:test output', 'interaction:single', 'skill:correctness', 'skill:readability', 'technique:style-check', 'technique:unit-testing']\n",
      "['2017', 'SSM', 'TCAS dataset', 'approach:unclear', 'data_available:False', 'feedback:unclear', 'interaction:unknown', 'skill:correctness', 'technique:program-repair', 'technique:program-verification', 'tool:none', 'type:description', 'type:evaluation']\n",
      "['2019', 'EG', 'data_available:False', 'evaluation:analytics', 'interaction:unknown', 'skill:correctness', 'technique:dsl-rules', 'technique:unit-testing', 'tool:none', 'type:description', 'type:evaluation']\n",
      "['2019', 'ICITL', 'approach:fully automated', 'data_available:False', 'evaluation:auto-grading', 'evaluation:student-survey', 'feedback:test output', 'interaction:unknown', 'skill:correctness', 'technique:unit-testing', 'tool:travis', 'type:description', 'type:evaluation']\n",
      "['2019', 'WISA', 'approach:fully automated', 'comparison:manual-grading', 'data_available:False', 'feedback:style-check', 'interaction:single', 'technique:static-analysis', 'technique:unit-testing', 'tool:deckard', 'type:description', 'type:evaluation']\n",
      "['2019', 'CSEDU', 'comparison:grading-accuracy', 'data_available:False', 'feedback:errors', 'interaction:single', 'skill:correctness', 'technique:machine-learning', 'type:description', 'type:evaluation']\n",
      "['2018', 'CAE', 'adaptive learning', 'approach:fully automated', 'data_available:False', 'evaluation:student-survey', 'evaluation:teacher-survey', 'feedback:unclear', 'interaction:unknown', 'lms', 'skill:correctness', 'technique:unit-testing', 'tool:none', 'type:description', 'type:evaluation']\n",
      "['2018', 'JCL', 'approach:fully automated', 'comparison:manual-grading', 'data_available:False', 'evaluation:auto-grading', 'evaluation:student-survey', 'feedback:test output', 'interaction:unknown', 'skill:correctness', 'technique:code-metrics', 'technique:dsl-rules', 'type:description']\n",
      "['2017', 'L@S', 'approach:fully automated', 'data:none', 'data_available:False', 'evaluation:none', 'feedback:unclear', 'interaction:unknown', 'skill:correctness', 'technique:code-metrics', 'technique:dsl-rules', 'technique:model-solution-closeness', 'type:description']\n",
      "['2018', 'PLDI', 'approach:fully automated', 'comparison:with-without', 'data_available:on request', 'evaluation:analytics', 'evaluation:feedback', 'feedback:program-repair', 'interaction:unknown', 'technique:model-solution-closeness', 'technique:program-repair', 'type:description', 'type:evaluation']\n",
      "['2018', 'JITEipp', 'approach:fully automated', 'comparison:manual-grading', 'data_available:False', 'feedback:test output', 'interaction:single', 'skill:correctness', 'technique:unit-testing', 'tool:fitchfork']\n",
      "['2018', 'IJASEIT', 'approach:fully_automated', 'data:none', 'data_available:False', 'evaluation:student-survey', 'feedback:unclear', 'interaction:multiple', 'oj', 'skill:correctness', 'technique:unit-testing', 'tool:none', 'type:description', 'type:evaluation']\n",
      "['2018', 'ICBL', 'approach:fully automated', 'data_available:False', 'feedback:none', 'interaction:unknown', 'skill:correctness', 'technique:unit-testing', 'type:description', 'type:evaluation']\n",
      "['2018', 'AIED', 'approach:fully automated', 'data_available:False', 'feedback:suggest-similar', 'interaction:unknown', 'skill:correctness', 'tool:tipsc', 'type:description', 'type:evaluation']\n",
      "['2017', 'CHI', 'approach:unclear', 'data_available:False', 'evaluation:teacher-survey', 'feedback:program-repair', 'interaction:unknown', 'tool:none', 'type:evaluation']\n",
      "['2017', 'AIED', 'approach:fully automated', 'data_available:False', 'evaluation:analytics', 'interaction:single', 'skill:correctness', 'technique:dsl-rules', 'technique:style-check', 'type:description', 'type:evaluation']\n",
      "['2017', 'SATToSE', 'approach:unclear', 'data_available:False', 'evaluation:analytics', 'evaluation:feedback', 'feedback:static-analysis', 'interaction:unknown', 'technique:static-analysis', 'type:evaluation']\n",
      "['2017', 'ABP', 'approach:fully automated', 'data_available:False', 'evaluation:analytics', 'feedback:test output', 'interaction:multiple', 'skill:correctness', 'technique:unit-testing', 'tool:audoscore', 'type:description', 'type:evaluation']\n",
      "['2017', 'JALT', 'approach:fully automated', 'data_available:False', 'evaluation:usage', 'feedback:test output', 'interaction:unknown', 'skill:correctness', 'technique:dsl-rules', 'technique:style-check', 'technique:unit-testing', 'tool:memooc', 'type:description']\n",
      "['2017', 'EC-TEL', 'approach:fully automated', 'comparison:auto-graders', 'data_available:False', 'feedback:test output', 'interaction:unknown', 'tool:epfl grader']\n",
      "['2017', 'EC-TEL', 'approach:fully automated', 'data_available:False', 'evaluation:user-study', 'feedback:probability incorrect', 'interaction:single', 'skill:correctness', 'technique:output-matching', 'type:description', 'type:evaluation']\n",
      "['2019', 'FIE', 'approach:fully automated', 'data_available:False', 'evaluation:analytics', 'evaluation:auto-grading', 'evaluation:student-survey', 'feedback:test output', 'interaction:multiple', 'skill:correctness', 'technique:unit-testing', 'tool:canvas', 'tool:code', 'type:description', 'type:evaluation']\n",
      "['2021', 'ICSE-SEET', 'data_available:False', 'evaluation:student-survey', 'feedback:test output', 'interaction:multiple', 'skill:correctness', 'technique:trace-examination', 'technique:unit-testing', 'type:description', 'type:evaluation']\n",
      "['2020', 'CSCI', 'data_available:False', 'evaluation:auto-grading', 'evaluation:student-survey', 'interaction:single', 'skill:correctness', 'technique:property-based-testing', 'tool:flubaroo', 'tool:google forms', 'tool:quickcheck', 'type:description', 'type:evaluation']\n",
      "['2018', 'FIE', 'approach:fully automated', 'data_available:False', 'evaluation:analytics', 'evaluation:auto-grading', 'feedback:test output', 'interaction:unknown', 'skill:correctness', 'technique:unit-testing']\n",
      "['2020', 'CSEE&T', 'accuracy', 'approach:unclear', 'comparison:grading-accuracy', 'data_available:False', 'feedback:none', 'interaction:none', 'skill:correctness', 'technique:unit-testing', 'tool:none']\n",
      "['2021', 'WEEF/GEDC', 'approach:fully automated', 'data_available:False', 'evaluation:anecdotal', 'feedback:test output', 'interaction:unknown', 'skill:correctness', 'technique:dsl-rules', 'technique:unit-testing']\n",
      "['2021', 'ICSE-SEET', 'data_available:False', 'evaluation:anecdotal', 'evaluation:usage', 'interaction:single', 'skill:correctness', 'skill:readability', 'technique:style-check', 'technique:unit-testing', 'type:description', 'type:evaluation']\n",
      "['2019', 'ITHET', 'approach:fully automated', 'data_available:False', 'evaluation:student-survey', 'feedback:test output', 'interaction:unknown', 'skill:correctness', 'technique:unit-testing', 'tool:2tsw', 'type:description', 'type:evaluation']\n",
      "['2021', 'ICoDSE', 'approach:fully automated', 'comparison:grading-accuracy', 'data_available:False', 'feedback:none', 'interaction:none', 'skill:correctness', 'technique:novel', 'tool:pyassessment', 'type:description', 'type:evaluation']\n",
      "['2021', 'EduHPC', 'data_available:False', 'feedback:test output', 'interaction:single', 'skill:correctness', 'technique:unit-testing', 'tool:dbms', 'type:description', 'type:evaluation']\n",
      "['2017', 'TALE', 'approach:fully automated', 'data:text book exercises', 'data_available:False', 'feedback:unclear', 'interaction:unknown', 'skill:correctness', 'technique:output-matching', 'type:description', 'type:evaluation']\n",
      "['2020', 'ICAC', 'approach:fully automated', 'comparison:manual-grading', 'data_available:False', 'feedback:suggested fixes', 'interaction:single', 'skill:correctness', 'technique:dsl-rules', 'tool:antlr', 'type:description', 'type:evaluation']\n",
      "['2017', 'ICDE', 'approach:fully automated', 'data_available:on request', 'evaluation:analytics', 'interaction:none', 'technique:dsl-rules', 'technique:graph-analysis', 'technique:model-solution-closeness', 'tool:antlr', 'tool:guava', 'tool:jgrapht', 'type:description', 'type:evaluation']\n",
      "['2018', 'TLT', 'approach:fully automated', 'classical test theory', 'data_available:False', 'feedback:test output', 'interaction:multiple', 'item response theory', 'skill:correctness', 'technique:output-matching', 'technique:unit-testing', 'type:description', 'type:evaluation']\n",
      "['2019', 'ICICE', 'approach:fully automated', 'comparison:grading-accuracy', 'data_available:False', 'feedback:none', 'interaction:unknown', 'skill:correctness', 'technique:output-matching', 'tool:neoespa', 'type:description', 'type:evaluation']\n",
      "['2019', 'GUCON', 'approach:unclear', 'comparison:auto-graders', 'comparison:ml_models', 'data_available:False', 'feedback:none', 'interaction:unknown', 'skill:maintainability', 'technique:machine-learning', 'technique:model-solution-closeness', 'type:description', 'type:evaluation']\n",
      "['2021', 'MIUCC', 'approach:fully automated', 'data_available:False', 'evaluation:none', 'interaction:unknown', 'skill:correctness', 'technique:program-repair', 'technique:unit-testing', 'type:description']\n",
      "['2021', 'BotSE', 'approach:fully automated', 'data_available:False', 'evaluation:analytics', 'feedback:static-analysis', 'interaction:multiple', 'skill:maintainability', 'type:description', 'type:evaluation']\n",
      "['2019', 'ICDEL', 'approach:fully automated', 'comparison:manual-grading', 'data_available:False', 'feedback:unclear', 'interaction:single', 'skill:correctness', 'technique:graph-analysis', 'technique:model-solution-closeness', 'tool:antlr', 'type:description', 'type:evaluation']\n",
      "['2020', 'ICSE-SEET', 'approach:fully automated', 'comparison:with-without', 'data_available:False', 'feedback:static-analysis', 'interaction:unknown', 'type:description', 'type:evaluation']\n",
      "['2017', 'ITiSCE', 'approach:fully automated', 'comparison:manual-grading', 'data_available:False', 'feedback:program-repair', 'interaction:unknown', 'skill:correctness', 'technique:program-repair', 'tool:gradeit', 'type:description', 'type:evaluation']\n",
      "['2017', 'ICFP', 'approach:fully automated', 'data_available:False', 'evaluation:engagement', 'feedback:unclear', 'interaction:multiple', 'lms', 'mood design', 'skill:correctness', 'technique:style-check', 'technique:unit-testing', 'tool:none', 'type:description', 'type:evaluation']\n",
      "['2018', 'ICETC', 'data:none', 'data_available:False', 'evaluation:teacher-survey', 'feedback:test output', 'interaction:unknown', 'skill:correctness', 'tool:coderunner', 'tool:vle', 'type:evaluation']\n",
      "['2019', 'SIGCSE', 'approach:fully_automated', 'data_available:True', 'evaluation:engagement', 'interaction:multiple', 'oj', 'skill:correctness', 'technique:unit-testing', 'tool:hackerrank', 'type:evaluation']\n",
      "['2020', 'ITiSCE', 'approach:fully automated', 'data_available:False', 'evaluation:analytics', 'feedback:test output', 'interaction:multiple', 'skill:correctness', 'technique:unit-testing', 'tool:check50', 'type:description', 'type:evaluation']\n",
      "['2020', 'SIGCSE', 'approach:fully automated', 'data_available:False', 'evaluation:student-survey', 'feedback:test output', 'interaction:multiple', 'skill:correctness', 'technique:gui-testing', 'technique:unit-testing', 'type:description', 'type:evaluation']\n",
      "['2021', 'AIMLSystems', 'approach:fully automated', 'data_available:True', 'feedback:unclear', 'interaction:unknown', 'skill:correctness', 'technique:model-solution-closeness', 'tool:none', 'type:description', 'type:evaluation']\n",
      "['2019', 'SIGCSE', 'data_available:False', 'evaluation:none', 'feedback:in-person', 'interaction:single', 'networked', 'skill:correctness', 'technique:unit-testing', 'type:description']\n",
      "['2019', 'ITiSCE', 'approach:fully automated', 'data_available:False', 'evaluation:analytics', 'interaction:multiple', 'oj', 'skill:correctness', 'skill:readability', 'technique:code-metrics', 'tool:woj', 'type:description', 'type:evaluation']\n",
      "['2020', 'SIGCSE', 'alogthmic understanding', 'approach:fully automated', 'data_available:on request', 'feedback:fuzz-testing', 'interaction:unknown', 'tool:none', 'type:evaluation']\n",
      "['2018', 'PLDI', 'approach:fully automated', 'data_available:False', 'evaluation:student-survey', 'feedback:program-repair', 'interaction:unknown', 'technique:clustering', 'technique:model-solution-closeness', 'technique:program-repair', 'tool:clara', 'type:description', 'type:evaluation']\n",
      "['2019', 'ICSE-SEET', 'approach:fully automated', 'comparison:auto-graders', 'data_available:on request', 'feedback:test output', 'interaction:unknown', 'skill:correctness', 'technique:model-solution-closeness', 'technique:trace-examination', 'tool:autograder', 'tool:pathgrind', 'tool:pin', 'type:description', 'type:evaluation']\n",
      "['2021', 'SIGCSE', 'data_available:False', 'evaluation:analytics', 'feedback:unit testing', 'interaction:multiple', 'technique:unit-testing', 'template', 'tool:jenkins', 'type:description', 'type:evaluation']\n",
      "['2018', 'ITiSCE', 'approach:fully automated', 'data_available:False', 'evaluation:student-survey', 'feedback:unclear', 'interaction:unknown', 'technique:trace-examination', 'tool:coderunner', 'type:description', 'type:evaluation']\n",
      "['2020', 'SIGCSE', 'approach:fully automated', 'data_available:False', 'evaluation:student-survey', 'evaluation:teacher-survey', 'feedback:test output', 'interaction:unknown', 'skill:correctness', 'technique:unit-testing', 'type:description', 'type:evaluation']\n",
      "['2019', 'SIGCSE', 'approach:fully automated', 'data:none', 'data_available:False', 'evaluation:none', 'feedback:dsl-rules', 'interaction:unknown', 'skill:maintainability', 'type:description']\n",
      "['2021', 'SIGCSE', 'approach:fully automated', 'data_available:False', 'evaluation:student-survey', 'evaluation:teacher-survey', 'feedback:dsl-rules', 'interaction:multiple', 'technique:rule_based', 'tool:refactortutor', 'type:description', 'type:evaluation']\n",
      "['2019', 'SIGCSE', 'approach:fully automated', 'data_available:False', 'evaluation:anecdotal', 'feedback:test output', 'interaction:multiple', 'skill:correctness', 'technique:unit-testing', 'tool:check']\n",
      "['2019', 'ICFP', 'approach:fully automated', 'data:none', 'data_available:False', 'evaluation:none', 'feedback:test output', 'interaction:multiple', 'skill:correctness', 'technique:dsl-rules', 'technique:style-check', 'technique:unit-testing', 'tool:learn-ocaml']\n",
      "['2018', 'ITiSCE', 'approach:fully automated', 'data_available:False', 'evaluation:student-survey', 'evaluation:usage', 'feedback:unit testing', 'interaction:single', 'skill:correctness', 'technique:property-based-testing', 'technique:unit-testing', 'tool:none', 'type:description', 'type:evaluation']\n",
      "['2020', 'ICSE-SEET', 'approach:fully automated', 'comparison:with-without', 'data_available:True', 'feedback:program-repair', 'interaction:multiple', 'skill:correctness', 'technique:program-repair', 'tool:tracer']\n",
      "['2020', 'LWMOOCS', 'approach:fully automated', 'data:none', 'data_available:False', 'evaluation:anecdotal', 'feedback:test output', 'interaction:multiple', 'skill:correctness', 'technique:unit-testing', 'tool:juypter', 'tool:mybinder', 'type:evaluation']\n",
      "['2021', 'FIE', 'approach:fully automated', 'comparison:with-without', 'data_available:False', 'evaluation:analytics', 'feedback:style-check', 'interaction:unknown', 'technique:static-analysis', 'tool:antlr', 'tool:ccs', 'type:description', 'type:evaluation']\n",
      "['2017', 'VL/HCC', 'approach:fully automated', 'data_available:False', 'evaluation:user-study', 'interaction:multiple', 'skill:correctness', 'technique:program-repair', 'technique:trace-examination', 'tool:pythontutor', 'tool:tracediff', 'type:description', 'type:evaluation']\n",
      "['2020', 'ICS', 'approach:fully automated', 'data_available:False', 'evaluation:analytics', 'feedback:style-check', 'group contribution', 'interaction:multiple', 'technique:contribution', 'technique:style-check', 'tool:progedu4group', 'tool:sonarfix', 'type:description', 'type:evaluation']\n",
      "['2019', 'VL/HCC', 'approach:fully automated', 'comparison:with-without', 'data_available:False', 'interaction:multiple', 'technique:style_check', 'tool:travis']\n",
      "['2019', 'FIE', 'approach:fully automated', 'comparison:with-without', 'data_available:False', 'evaluation:user-study', 'interaction:multiple', 'tool:clara', 'tool:pythontutor']\n",
      "['2021', 'ASE', 'approach:fully automated', 'comparison:with-without', 'data:none', 'data_available:False', 'evaluation:student-survey', 'feedback:static-analysis', 'feedback:style-check', 'interaction:multiple', 'tool:LC-3', 'tool:klc3', 'tool:klee', 'type:description', 'type:evaluation']\n",
      "['2019', 'ASE', 'approach:fully automated', 'comparison:with-without', 'data_available:True', 'feedback:program-repair', 'interaction:unknown', 'tool:tegcer', 'type:description', 'type:evaluation']\n",
      "['2019', 'FIE', 'approach:fully automated', 'data_available:False', 'evaluation:student-survey', 'feedback:style-check', 'feedback:test output', 'interaction:multiple', 'type:description', 'type:evaluation']\n",
      "['2019', 'CogMI', 'approach:fully automated', 'data_available:False', 'evaluation:student-survey', 'feedback:machine-learning', 'interaction:multiple', 'tool:annete', 'type:description', 'type:evaluation']\n",
      "['2018', 'CISTI', 'approach:fully automated', 'data_available:False', 'evaluation:student-survey', 'feedback:test output', 'interaction:single', 'tool:vpl']\n",
      "['2020', 'IEEEA', 'approach:fully automated', 'data_available:False', 'feedback:test output', 'interaction:single', 'skill:correctness', 'technique:output-matching', 'technique:unit-testing', 'tool:none', 'type:description', 'type:evaluation']\n",
      "['2021', 'EAEEIE', 'approach:fully automated', 'data_available:False', 'evaluation:student-survey', 'feedback:test output', 'interaction:unknown', 'skill:correctness', 'technique:unit-testing', 'tool:aoco', 'type:description', 'type:evaluation']\n",
      "['2021', 'FSE', 'approach:fully automated', 'data_available:True', 'evaluation:student-survey', 'feedback:program-repair', 'interaction:unknown', 'tool:cafe', 'type:description', 'type:evaluation']\n",
      "['2020', 'ES', 'approach:fully automated', 'data_available:False', 'evaluation:student-survey', 'evaluation:teacher-survey', 'feedback:style-check', 'feedback:test output', 'interaction:single', 'skill:correctness', 'tool:vpl']\n",
      "['2021', 'JSS', 'approach:fully automated', 'data_available:False', 'evaluation:analytics', 'feedback:test output', 'interaction:unknown', 'skill:correctness', 'technique:mutation-testing', 'type:description', 'type:evaluation']\n",
      "['2021', 'SIGCSE', 'approach:fully automated', 'data_available:True', 'evaluation:student-survey', 'feedback:static-analysis', 'interaction:multiple', 'technique:unclear', 'tool:testingtutor']\n",
      "['2021', 'ACE', 'approach:fully automated', 'data_available:False', 'evaluation:grade-correlation', 'feedback:unit testing', 'interaction:multiple', 'tool:none', 'type:evaluation']\n",
      "['2021', 'CEAI', 'approach:fully automated', 'comparison:correlation-grades', 'data_available:False', 'evaluation:student-survey', 'interaction:multiple', 'skill:correctness', 'technique:unit-testing', 'type:description', 'type:evaluation']\n",
      "['2021', 'ITS', 'data_available:on request', 'interaction:unknown', 'skill:correctness', 'skill:maintainability', 'skill:readability', 'technique:code-metrics', 'technique:static-analysis', 'tool:apollo', 'tool:atelier', 'type:description', 'type:evaluation']\n",
      "['2021', 'CSE', 'approach:fully automated', 'comparison:auto-graders', 'data_available:False', 'evaluation:student-survey', 'feedback:unit testing', 'interaction:multiple', 'tool:travis']\n",
      "['2020', 'SPLASH-E', 'approach:fully automated', 'data_available:False', 'evaluation:student-survey', 'feedback:test output', 'feedback:unit testing', 'interaction:multiple', 'tool:autotest', 'type:description', 'type:evaluation']\n",
      "['2020', 'Koli', 'approach:fully automated', 'data_available:False', 'evaluation:analytics', 'evaluation:student-survey', 'feedback:dsl-rules', 'feedback:unit testing', 'interaction:multiple', 'tool:refactortutor', 'type:description', 'type:evaluation']\n",
      "['2019', 'CAE', 'approach:fully automated', 'data_available:False', 'evaluation:student-survey', 'feedback:test output', 'heavily structured', 'interaction:single', 'skill:correctness', 'technique:dsl-rules', 'tool:cac++', 'type:description', 'type:evaluation']\n",
      "['2020', 'CAE', 'approach:fully automated', 'comparison:auto-graders', 'data_available:False', 'feedback:unit testing', 'interaction:unknown', 'language:kernal', 'operating system grader', 'skill:correctness', 'tool:clik', 'type:description', 'type:evaluation']\n",
      "['2020', 'ICEIT', 'approach:fully automated', 'data_available:False', 'evaluation:student-survey', 'feedback:style-check', 'feedback:test output', 'interaction:multiple', 'skill:correctness', 'skill:maintainability', 'skill:readability', 'technique:unit-testing', 'tool:progedu4group']\n",
      "['2020', 'ACE', 'approach:fully automated', 'data_available:False', 'evaluation:student-survey', 'feedback:dsl-rules', 'interaction:multiple', 'skill:correctness', 'technique:dsl-rules', 'technique:unit-testing', 'tool:cafe', 'type:description', 'type:evaluation']\n",
      "['2021', 'EASEAI', 'approach:fully automated', 'data:none', 'data_available:False', 'evaluation:none', 'feedback:program-repair', 'feedback:static-analysis', 'interaction:unknown', 'type:description']\n",
      "['2019', 'CSEDU', 'approach:fully automated', 'data:none', 'data_available:False', 'evaluation:none', 'feedback:diagram-generation', 'feedback:static-analysis', 'feedback:unit testing', 'interaction:unknown', 'tool:refactutor', 'type:description']\n",
      "['2020', 'CEUR-WS', 'approach:fully automated', 'data_available:False', 'evaluation:student-survey', 'evaluation:user-study', 'feedback:test output', 'interaction:multiple', 'skill:correctness', 'technique:unit-testing']\n",
      "['2020', 'ICCS', 'approach:fully automated', 'data_available:True', 'evaluation:analytics', 'evaluation:student-survey', 'feedback:style-check', 'feedback:unit testing', 'interaction:multiple', 'skill:correctness', 'skill:readability', 'tool:afps', 'type:description', 'type:evaluation']\n",
      "['2019', 'SPLASH-E', 'approach:fully automated', 'comparison:manual-grading', 'data_available:False', 'evaluation:student-survey', 'feedback:program-repair', 'interaction:multiple', 'technique:unit-testing', 'tool:aiort', 'type:description', 'type:evaluation']\n",
      "['2019', 'SIGCSE', 'approach:fully automated', 'comparison:correlation-grades', 'data_available:False', 'error recovery', 'evaluation:analytics', 'feedback:static-analysis', 'interaction:multiple', 'tool:pcrs']\n",
      "['2018', 'OOPSLA', 'approach:fully automated', 'data_available:True', 'evaluation:user-study', 'feedback:program-repair', 'interaction:unknown', 'tool:fixml', 'type:description', 'type:evaluation']\n",
      "['2018', 'ICFP', 'approach:fully automated', 'data_available:False', 'evaluation:anecdotal', 'interaction:multiple', 'skill:correctness', 'skill:maintainability', 'skill:readability', 'technique:code-metrics', 'technique:static-analysis', 'technique:style-check', 'technique:unit-testing', 'tool:haap']\n",
      "['2017', 'JISE', 'approach:fully automated', 'data_available:False', 'evaluation:usage', 'feedback:style-check', 'interaction:multiple', 'skill:readability', 'tool:progedu', 'type:description', 'type:evaluation']\n",
      "['2018', 'CAE', 'comparison:manual-grading', 'data_available:False', 'feedback:static-analysis', 'interaction:single', 'skill:correctness', 'skill:maintainability', 'technique:dsl-rules', 'tool:soploon', 'type:description', 'type:evaluation']\n",
      "['2018', 'JCAL', 'comparison:with-without', 'data_available:False', 'evaluation:student-survey', 'feedback:test output', 'interaction:multiple', 'skill:correctness', 'technique:unit-testing', 'type:description', 'type:evaluation']\n",
      "['2018', 'SIGCSE', 'data_available:False', 'feedback:dsl-rules', 'feedback:unit testing', 'interaction:unknown', 'tool:CSF', 'type:description', 'type:evaluation']\n",
      "['2018', 'SIGCSE', 'approach:fully automated', 'data_available:False', 'evaluation:engagement', 'feedback:static-analysis', 'feedback:test output', 'interaction:multiple', 'skill:correctness', 'technique:unit-testing', 'tool:artemis', 'type:description', 'type:evaluation']\n",
      "['2018', 'AAAI', 'approach:fully automated', 'comparison:auto-graders', 'data_available:False', 'feedback:machine-learning', 'interaction:multiple', 'tool:cloudcoder', 'tool:logic', 'type:description', 'type:evaluation']\n",
      "['2017', 'UMAP', 'approach:fully automated', 'data_available:on request', 'evaluation:analytics', 'feedback:static-analysis', 'feedback:suggest-similar', 'interaction:multiple', 'skill:correctness', 'technique:unit-testing', 'tool:grok', 'type:description', 'type:evaluation']\n",
      "['2017', 'TME', 'approach:fully automated', 'data:none', 'data_available:False', 'evaluation:none', 'feedback:test output', 'interaction:multiple', 'skill:correctness', 'technique:dsl-rules', 'technique:unit-testing', 'tool:project_tomo', 'type:description']\n",
      "['2017', 'JAIED', 'approach:fully automated', 'data_available:False', 'evaluation:student-survey', 'feedback:dsl-rules', 'interaction:multiple', 'technique:property-based-testing', 'tool:ask_elle', 'type:description', 'type:evaluation']\n",
      "['2017', 'LCT', 'approach:fully automated', 'data_available:False', 'evaluation:student-survey', 'feedback:code-metrics', 'feedback:unit testing', 'interaction:unknown', 'type:description', 'type:evaluation']\n",
      "['2017', 'AIED', 'approach:fully automated', 'comparison:manual-grading', 'data_available:False', 'feedback:machine-learning', 'feedback:suggest-similar', 'interaction:multiple', 'tool:codq', 'type:description', 'type:evaluation']\n"
     ]
    },
    {
     "data": {
      "text/plain": "5                                           [ICoDSE]\n13                                              [oj]\n15                                    [TCAS dataset]\n20                          [lms, adaptive learning]\n24                                         [JITEipp]\n25                                              [oj]\n30                                         [SATToSE]\n39                                        [accuracy]\n43                                          [ICoDSE]\n44                                          [EduHPC]\n48     [item response theory, classical test theory]\n52                                           [BotSE]\n55                                          [ITiSCE]\n56                                [lms, mood design]\n58                                              [oj]\n59                                          [ITiSCE]\n61                                     [AIMLSystems]\n62                                       [networked]\n63                                      [oj, ITiSCE]\n64                         [alogthmic understanding]\n67                                        [template]\n68                                          [ITiSCE]\n74                                          [ITiSCE]\n79                              [group contribution]\n85                                           [CogMI]\n98                                            [Koli]\n99                              [heavily structured]\n100                        [operating system grader]\n108                                 [error recovery]\nName: screener_labels, dtype: object"
     },
     "execution_count": 106,
     "metadata": {},
     "output_type": "execute_result"
    }
   ],
   "source": [
    "df.screener_labels = df.screener_labels.apply(lambda labels: convert_labels(labels))\n",
    "\n",
    "temp_df = df.screener_labels.map(lambda labels: [label for label in labels if ':' not in label and not label.isdigit() and not label.isupper()])\n",
    "temp_df[temp_df.str.len() > 0]"
   ],
   "metadata": {
    "collapsed": false,
    "pycharm": {
     "name": "#%%\n"
    }
   }
  },
  {
   "cell_type": "code",
   "execution_count": 107,
   "outputs": [
    {
     "data": {
      "text/plain": "                key                                              title  \\\n0  rayyan-354359269  An experience of automated assessment in a lar...   \n1  rayyan-354359270  Semiautomatic generation and assessment of Jav...   \n2  rayyan-354359271  A tool for evaluating computer programs from s...   \n3  rayyan-354359272  Virtual Teaching Assistant for Grading Program...   \n4  rayyan-354359273  Analysis of an automatic grading system within...   \n\n                                             authors  \\\n0  Zampirolli F.A., Borovina Josko J.M., Venero M...   \n1            Insa D., Pérez S., Silva J., Tamarit S.   \n2      Vaneck Q., Colart T., Frénay B., Vanderose B.   \n3                             Chou C.-Y., Chen Y.-J.   \n4                      Hegarty-Kelly E., Mooney D.A.   \n\n                                            abstract  \\\n0  The 2020 pandemic imposed new demands on teach...   \n1  Continuous assessment is essential in educatio...   \n2  Computer science studies are more and more pop...   \n3  This study proposes an automated programming a...   \n4  Reliable and pedagogically sound automated fee...   \n\n                                               notes  \\\n0  2021,CAE,vpl,mctest,moodle,python,tool:vpl,dat...   \n1  2021,CAE,java,javassess,test cases,correctness...   \n2  2021,EASEAI,pylint,python,metrics,gamified,dat...   \n3  2021,ICKII,tool:vta,test cases,correctness,sem...   \n4  2021,CEP,vpl,java,mule,test cases,correctness,...   \n\n                                     screener_labels  \n0  [2021, CAE, tool:vpl, tool:mctest, tool:moodle...  \n1  [2021, CAE, language:java, tool:javassess, tec...  \n2  [2021, EASEAI, tool:pylint, language:python, t...  \n3  [2021, ICKII, tool:vta, technique:test cases, ...  \n4  [2021, CEP, tool:vpl, language:java, tool:mule...  ",
      "text/html": "<div>\n<style scoped>\n    .dataframe tbody tr th:only-of-type {\n        vertical-align: middle;\n    }\n\n    .dataframe tbody tr th {\n        vertical-align: top;\n    }\n\n    .dataframe thead th {\n        text-align: right;\n    }\n</style>\n<table border=\"1\" class=\"dataframe\">\n  <thead>\n    <tr style=\"text-align: right;\">\n      <th></th>\n      <th>key</th>\n      <th>title</th>\n      <th>authors</th>\n      <th>abstract</th>\n      <th>notes</th>\n      <th>screener_labels</th>\n    </tr>\n  </thead>\n  <tbody>\n    <tr>\n      <th>0</th>\n      <td>rayyan-354359269</td>\n      <td>An experience of automated assessment in a lar...</td>\n      <td>Zampirolli F.A., Borovina Josko J.M., Venero M...</td>\n      <td>The 2020 pandemic imposed new demands on teach...</td>\n      <td>2021,CAE,vpl,mctest,moodle,python,tool:vpl,dat...</td>\n      <td>[2021, CAE, tool:vpl, tool:mctest, tool:moodle...</td>\n    </tr>\n    <tr>\n      <th>1</th>\n      <td>rayyan-354359270</td>\n      <td>Semiautomatic generation and assessment of Jav...</td>\n      <td>Insa D., Pérez S., Silva J., Tamarit S.</td>\n      <td>Continuous assessment is essential in educatio...</td>\n      <td>2021,CAE,java,javassess,test cases,correctness...</td>\n      <td>[2021, CAE, language:java, tool:javassess, tec...</td>\n    </tr>\n    <tr>\n      <th>2</th>\n      <td>rayyan-354359271</td>\n      <td>A tool for evaluating computer programs from s...</td>\n      <td>Vaneck Q., Colart T., Frénay B., Vanderose B.</td>\n      <td>Computer science studies are more and more pop...</td>\n      <td>2021,EASEAI,pylint,python,metrics,gamified,dat...</td>\n      <td>[2021, EASEAI, tool:pylint, language:python, t...</td>\n    </tr>\n    <tr>\n      <th>3</th>\n      <td>rayyan-354359272</td>\n      <td>Virtual Teaching Assistant for Grading Program...</td>\n      <td>Chou C.-Y., Chen Y.-J.</td>\n      <td>This study proposes an automated programming a...</td>\n      <td>2021,ICKII,tool:vta,test cases,correctness,sem...</td>\n      <td>[2021, ICKII, tool:vta, technique:test cases, ...</td>\n    </tr>\n    <tr>\n      <th>4</th>\n      <td>rayyan-354359273</td>\n      <td>Analysis of an automatic grading system within...</td>\n      <td>Hegarty-Kelly E., Mooney D.A.</td>\n      <td>Reliable and pedagogically sound automated fee...</td>\n      <td>2021,CEP,vpl,java,mule,test cases,correctness,...</td>\n      <td>[2021, CEP, tool:vpl, language:java, tool:mule...</td>\n    </tr>\n  </tbody>\n</table>\n</div>"
     },
     "execution_count": 107,
     "metadata": {},
     "output_type": "execute_result"
    }
   ],
   "source": [
    "df.head()"
   ],
   "metadata": {
    "collapsed": false,
    "pycharm": {
     "name": "#%%\n"
    }
   }
  },
  {
   "cell_type": "markdown",
   "source": [
    "### Separate out year published"
   ],
   "metadata": {
    "collapsed": false,
    "pycharm": {
     "name": "#%% md\n"
    }
   }
  },
  {
   "cell_type": "code",
   "execution_count": 108,
   "outputs": [
    {
     "data": {
      "text/plain": "                key                                              title  \\\n0  rayyan-354359269  An experience of automated assessment in a lar...   \n1  rayyan-354359270  Semiautomatic generation and assessment of Jav...   \n2  rayyan-354359271  A tool for evaluating computer programs from s...   \n3  rayyan-354359272  Virtual Teaching Assistant for Grading Program...   \n4  rayyan-354359273  Analysis of an automatic grading system within...   \n\n                                             authors  \\\n0  Zampirolli F.A., Borovina Josko J.M., Venero M...   \n1            Insa D., Pérez S., Silva J., Tamarit S.   \n2      Vaneck Q., Colart T., Frénay B., Vanderose B.   \n3                             Chou C.-Y., Chen Y.-J.   \n4                      Hegarty-Kelly E., Mooney D.A.   \n\n                                            abstract  \\\n0  The 2020 pandemic imposed new demands on teach...   \n1  Continuous assessment is essential in educatio...   \n2  Computer science studies are more and more pop...   \n3  This study proposes an automated programming a...   \n4  Reliable and pedagogically sound automated fee...   \n\n                                               notes  \\\n0  2021,CAE,vpl,mctest,moodle,python,tool:vpl,dat...   \n1  2021,CAE,java,javassess,test cases,correctness...   \n2  2021,EASEAI,pylint,python,metrics,gamified,dat...   \n3  2021,ICKII,tool:vta,test cases,correctness,sem...   \n4  2021,CEP,vpl,java,mule,test cases,correctness,...   \n\n                                     screener_labels  year_published  \n0  [tool:vpl, tool:mctest, tool:moodle, language:...            2021  \n1  [language:java, tool:javassess, technique:test...            2021  \n2  [tool:pylint, language:python, technique:metri...            2021  \n3  [tool:vta, technique:test cases, skill:correct...            2021  \n4  [tool:vpl, language:java, tool:mule, technique...            2021  ",
      "text/html": "<div>\n<style scoped>\n    .dataframe tbody tr th:only-of-type {\n        vertical-align: middle;\n    }\n\n    .dataframe tbody tr th {\n        vertical-align: top;\n    }\n\n    .dataframe thead th {\n        text-align: right;\n    }\n</style>\n<table border=\"1\" class=\"dataframe\">\n  <thead>\n    <tr style=\"text-align: right;\">\n      <th></th>\n      <th>key</th>\n      <th>title</th>\n      <th>authors</th>\n      <th>abstract</th>\n      <th>notes</th>\n      <th>screener_labels</th>\n      <th>year_published</th>\n    </tr>\n  </thead>\n  <tbody>\n    <tr>\n      <th>0</th>\n      <td>rayyan-354359269</td>\n      <td>An experience of automated assessment in a lar...</td>\n      <td>Zampirolli F.A., Borovina Josko J.M., Venero M...</td>\n      <td>The 2020 pandemic imposed new demands on teach...</td>\n      <td>2021,CAE,vpl,mctest,moodle,python,tool:vpl,dat...</td>\n      <td>[tool:vpl, tool:mctest, tool:moodle, language:...</td>\n      <td>2021</td>\n    </tr>\n    <tr>\n      <th>1</th>\n      <td>rayyan-354359270</td>\n      <td>Semiautomatic generation and assessment of Jav...</td>\n      <td>Insa D., Pérez S., Silva J., Tamarit S.</td>\n      <td>Continuous assessment is essential in educatio...</td>\n      <td>2021,CAE,java,javassess,test cases,correctness...</td>\n      <td>[language:java, tool:javassess, technique:test...</td>\n      <td>2021</td>\n    </tr>\n    <tr>\n      <th>2</th>\n      <td>rayyan-354359271</td>\n      <td>A tool for evaluating computer programs from s...</td>\n      <td>Vaneck Q., Colart T., Frénay B., Vanderose B.</td>\n      <td>Computer science studies are more and more pop...</td>\n      <td>2021,EASEAI,pylint,python,metrics,gamified,dat...</td>\n      <td>[tool:pylint, language:python, technique:metri...</td>\n      <td>2021</td>\n    </tr>\n    <tr>\n      <th>3</th>\n      <td>rayyan-354359272</td>\n      <td>Virtual Teaching Assistant for Grading Program...</td>\n      <td>Chou C.-Y., Chen Y.-J.</td>\n      <td>This study proposes an automated programming a...</td>\n      <td>2021,ICKII,tool:vta,test cases,correctness,sem...</td>\n      <td>[tool:vta, technique:test cases, skill:correct...</td>\n      <td>2021</td>\n    </tr>\n    <tr>\n      <th>4</th>\n      <td>rayyan-354359273</td>\n      <td>Analysis of an automatic grading system within...</td>\n      <td>Hegarty-Kelly E., Mooney D.A.</td>\n      <td>Reliable and pedagogically sound automated fee...</td>\n      <td>2021,CEP,vpl,java,mule,test cases,correctness,...</td>\n      <td>[tool:vpl, language:java, tool:mule, technique...</td>\n      <td>2021</td>\n    </tr>\n  </tbody>\n</table>\n</div>"
     },
     "execution_count": 108,
     "metadata": {},
     "output_type": "execute_result"
    }
   ],
   "source": [
    "# Get year from list adapted from: https://stackoverflow.com/questions/363944/python-idiom-to-return-first-item-or-none\n",
    "\n",
    "df['year_published'] = df.screener_labels.apply(lambda labels: next(iter([label for label in labels if label.isdigit()] or []), None))\n",
    "df.year_published = df.year_published.fillna(0)\n",
    "df.year_published = df.year_published.astype('int')\n",
    "df.screener_labels = df.screener_labels.apply(lambda  labels: [label for label in labels if not label.isdigit()])\n",
    "\n",
    "df.screener_labels = df.screener_labels.map(lambda labels: [label for label in labels if \":\" in label])\n",
    "df.screener_labels = df.screener_labels.apply(lambda labels: [label.replace('comparison', 'evaluation') for label in labels])\n",
    "\n",
    "df.head()"
   ],
   "metadata": {
    "collapsed": false,
    "pycharm": {
     "name": "#%%\n"
    }
   }
  },
  {
   "cell_type": "code",
   "execution_count": 109,
   "outputs": [
    {
     "data": {
      "text/plain": "Empty DataFrame\nColumns: [key, title, authors, abstract, notes, screener_labels, year_published]\nIndex: []",
      "text/html": "<div>\n<style scoped>\n    .dataframe tbody tr th:only-of-type {\n        vertical-align: middle;\n    }\n\n    .dataframe tbody tr th {\n        vertical-align: top;\n    }\n\n    .dataframe thead th {\n        text-align: right;\n    }\n</style>\n<table border=\"1\" class=\"dataframe\">\n  <thead>\n    <tr style=\"text-align: right;\">\n      <th></th>\n      <th>key</th>\n      <th>title</th>\n      <th>authors</th>\n      <th>abstract</th>\n      <th>notes</th>\n      <th>screener_labels</th>\n      <th>year_published</th>\n    </tr>\n  </thead>\n  <tbody>\n  </tbody>\n</table>\n</div>"
     },
     "execution_count": 109,
     "metadata": {},
     "output_type": "execute_result"
    }
   ],
   "source": [
    "df[df.year_published == 2016]"
   ],
   "metadata": {
    "collapsed": false,
    "pycharm": {
     "name": "#%%\n"
    }
   }
  },
  {
   "cell_type": "markdown",
   "source": [
    "#### Clean tags"
   ],
   "metadata": {
    "collapsed": false,
    "pycharm": {
     "name": "#%% md\n"
    }
   }
  },
  {
   "cell_type": "code",
   "execution_count": 110,
   "outputs": [],
   "source": [
    "punct = string.punctuation.replace(':', '').replace('#', '').replace('+', '') + \" \""
   ],
   "metadata": {
    "collapsed": false,
    "pycharm": {
     "name": "#%%\n"
    }
   }
  },
  {
   "cell_type": "code",
   "execution_count": 111,
   "outputs": [],
   "source": [
    "def clean_tags(labels):\n",
    "    return [label.translate(str.maketrans(dict.fromkeys(punct, \"_\"))) for label in labels]"
   ],
   "metadata": {
    "collapsed": false,
    "pycharm": {
     "name": "#%%\n"
    }
   }
  },
  {
   "cell_type": "code",
   "execution_count": 112,
   "outputs": [
    {
     "data": {
      "text/plain": "                key                                              title  \\\n0  rayyan-354359269  An experience of automated assessment in a lar...   \n1  rayyan-354359270  Semiautomatic generation and assessment of Jav...   \n2  rayyan-354359271  A tool for evaluating computer programs from s...   \n3  rayyan-354359272  Virtual Teaching Assistant for Grading Program...   \n4  rayyan-354359273  Analysis of an automatic grading system within...   \n\n                                             authors  \\\n0  Zampirolli F.A., Borovina Josko J.M., Venero M...   \n1            Insa D., Pérez S., Silva J., Tamarit S.   \n2      Vaneck Q., Colart T., Frénay B., Vanderose B.   \n3                             Chou C.-Y., Chen Y.-J.   \n4                      Hegarty-Kelly E., Mooney D.A.   \n\n                                            abstract  \\\n0  The 2020 pandemic imposed new demands on teach...   \n1  Continuous assessment is essential in educatio...   \n2  Computer science studies are more and more pop...   \n3  This study proposes an automated programming a...   \n4  Reliable and pedagogically sound automated fee...   \n\n                                               notes  \\\n0  2021,CAE,vpl,mctest,moodle,python,tool:vpl,dat...   \n1  2021,CAE,java,javassess,test cases,correctness...   \n2  2021,EASEAI,pylint,python,metrics,gamified,dat...   \n3  2021,ICKII,tool:vta,test cases,correctness,sem...   \n4  2021,CEP,vpl,java,mule,test cases,correctness,...   \n\n                                     screener_labels  year_published  \n0  [tool:vpl, tool:mctest, tool:moodle, language:...            2021  \n1  [language:java, tool:javassess, technique:test...            2021  \n2  [tool:pylint, language:python, technique:metri...            2021  \n3  [tool:vta, technique:test_cases, skill:correct...            2021  \n4  [tool:vpl, language:java, tool:mule, technique...            2021  ",
      "text/html": "<div>\n<style scoped>\n    .dataframe tbody tr th:only-of-type {\n        vertical-align: middle;\n    }\n\n    .dataframe tbody tr th {\n        vertical-align: top;\n    }\n\n    .dataframe thead th {\n        text-align: right;\n    }\n</style>\n<table border=\"1\" class=\"dataframe\">\n  <thead>\n    <tr style=\"text-align: right;\">\n      <th></th>\n      <th>key</th>\n      <th>title</th>\n      <th>authors</th>\n      <th>abstract</th>\n      <th>notes</th>\n      <th>screener_labels</th>\n      <th>year_published</th>\n    </tr>\n  </thead>\n  <tbody>\n    <tr>\n      <th>0</th>\n      <td>rayyan-354359269</td>\n      <td>An experience of automated assessment in a lar...</td>\n      <td>Zampirolli F.A., Borovina Josko J.M., Venero M...</td>\n      <td>The 2020 pandemic imposed new demands on teach...</td>\n      <td>2021,CAE,vpl,mctest,moodle,python,tool:vpl,dat...</td>\n      <td>[tool:vpl, tool:mctest, tool:moodle, language:...</td>\n      <td>2021</td>\n    </tr>\n    <tr>\n      <th>1</th>\n      <td>rayyan-354359270</td>\n      <td>Semiautomatic generation and assessment of Jav...</td>\n      <td>Insa D., Pérez S., Silva J., Tamarit S.</td>\n      <td>Continuous assessment is essential in educatio...</td>\n      <td>2021,CAE,java,javassess,test cases,correctness...</td>\n      <td>[language:java, tool:javassess, technique:test...</td>\n      <td>2021</td>\n    </tr>\n    <tr>\n      <th>2</th>\n      <td>rayyan-354359271</td>\n      <td>A tool for evaluating computer programs from s...</td>\n      <td>Vaneck Q., Colart T., Frénay B., Vanderose B.</td>\n      <td>Computer science studies are more and more pop...</td>\n      <td>2021,EASEAI,pylint,python,metrics,gamified,dat...</td>\n      <td>[tool:pylint, language:python, technique:metri...</td>\n      <td>2021</td>\n    </tr>\n    <tr>\n      <th>3</th>\n      <td>rayyan-354359272</td>\n      <td>Virtual Teaching Assistant for Grading Program...</td>\n      <td>Chou C.-Y., Chen Y.-J.</td>\n      <td>This study proposes an automated programming a...</td>\n      <td>2021,ICKII,tool:vta,test cases,correctness,sem...</td>\n      <td>[tool:vta, technique:test_cases, skill:correct...</td>\n      <td>2021</td>\n    </tr>\n    <tr>\n      <th>4</th>\n      <td>rayyan-354359273</td>\n      <td>Analysis of an automatic grading system within...</td>\n      <td>Hegarty-Kelly E., Mooney D.A.</td>\n      <td>Reliable and pedagogically sound automated fee...</td>\n      <td>2021,CEP,vpl,java,mule,test cases,correctness,...</td>\n      <td>[tool:vpl, language:java, tool:mule, technique...</td>\n      <td>2021</td>\n    </tr>\n  </tbody>\n</table>\n</div>"
     },
     "execution_count": 112,
     "metadata": {},
     "output_type": "execute_result"
    }
   ],
   "source": [
    "df.screener_labels = df.screener_labels.apply(lambda labels: clean_tags(labels))\n",
    "\n",
    "df.head()"
   ],
   "metadata": {
    "collapsed": false,
    "pycharm": {
     "name": "#%%\n"
    }
   }
  },
  {
   "cell_type": "code",
   "execution_count": 113,
   "outputs": [
    {
     "data": {
      "text/plain": "                key                                              title  \\\n0  rayyan-354359269  An experience of automated assessment in a lar...   \n1  rayyan-354359270  Semiautomatic generation and assessment of Jav...   \n2  rayyan-354359271  A tool for evaluating computer programs from s...   \n3  rayyan-354359272  Virtual Teaching Assistant for Grading Program...   \n4  rayyan-354359273  Analysis of an automatic grading system within...   \n\n                                             authors  \\\n0  Zampirolli F.A., Borovina Josko J.M., Venero M...   \n1            Insa D., Pérez S., Silva J., Tamarit S.   \n2      Vaneck Q., Colart T., Frénay B., Vanderose B.   \n3                             Chou C.-Y., Chen Y.-J.   \n4                      Hegarty-Kelly E., Mooney D.A.   \n\n                                            abstract  year_published  \\\n0  The 2020 pandemic imposed new demands on teach...            2021   \n1  Continuous assessment is essential in educatio...            2021   \n2  Computer science studies are more and more pop...            2021   \n3  This study proposes an automated programming a...            2021   \n4  Reliable and pedagogically sound automated fee...            2021   \n\n                                                tags  \n0  [approach:fully_automated, data:none, data_ava...  \n1  [approach:semi_automatic, data:internal_exams,...  \n2  [approach:fully_automated, data:none, data_ava...  \n3  [approach:semi_automatic, data:internal_assign...  \n4  [approach:fully_automated, data:internal_assig...  ",
      "text/html": "<div>\n<style scoped>\n    .dataframe tbody tr th:only-of-type {\n        vertical-align: middle;\n    }\n\n    .dataframe tbody tr th {\n        vertical-align: top;\n    }\n\n    .dataframe thead th {\n        text-align: right;\n    }\n</style>\n<table border=\"1\" class=\"dataframe\">\n  <thead>\n    <tr style=\"text-align: right;\">\n      <th></th>\n      <th>key</th>\n      <th>title</th>\n      <th>authors</th>\n      <th>abstract</th>\n      <th>year_published</th>\n      <th>tags</th>\n    </tr>\n  </thead>\n  <tbody>\n    <tr>\n      <th>0</th>\n      <td>rayyan-354359269</td>\n      <td>An experience of automated assessment in a lar...</td>\n      <td>Zampirolli F.A., Borovina Josko J.M., Venero M...</td>\n      <td>The 2020 pandemic imposed new demands on teach...</td>\n      <td>2021</td>\n      <td>[approach:fully_automated, data:none, data_ava...</td>\n    </tr>\n    <tr>\n      <th>1</th>\n      <td>rayyan-354359270</td>\n      <td>Semiautomatic generation and assessment of Jav...</td>\n      <td>Insa D., Pérez S., Silva J., Tamarit S.</td>\n      <td>Continuous assessment is essential in educatio...</td>\n      <td>2021</td>\n      <td>[approach:semi_automatic, data:internal_exams,...</td>\n    </tr>\n    <tr>\n      <th>2</th>\n      <td>rayyan-354359271</td>\n      <td>A tool for evaluating computer programs from s...</td>\n      <td>Vaneck Q., Colart T., Frénay B., Vanderose B.</td>\n      <td>Computer science studies are more and more pop...</td>\n      <td>2021</td>\n      <td>[approach:fully_automated, data:none, data_ava...</td>\n    </tr>\n    <tr>\n      <th>3</th>\n      <td>rayyan-354359272</td>\n      <td>Virtual Teaching Assistant for Grading Program...</td>\n      <td>Chou C.-Y., Chen Y.-J.</td>\n      <td>This study proposes an automated programming a...</td>\n      <td>2021</td>\n      <td>[approach:semi_automatic, data:internal_assign...</td>\n    </tr>\n    <tr>\n      <th>4</th>\n      <td>rayyan-354359273</td>\n      <td>Analysis of an automatic grading system within...</td>\n      <td>Hegarty-Kelly E., Mooney D.A.</td>\n      <td>Reliable and pedagogically sound automated fee...</td>\n      <td>2021</td>\n      <td>[approach:fully_automated, data:internal_assig...</td>\n    </tr>\n  </tbody>\n</table>\n</div>"
     },
     "execution_count": 113,
     "metadata": {},
     "output_type": "execute_result"
    }
   ],
   "source": [
    "df['tags'] = df.screener_labels\n",
    "df.tags = df.tags.apply(lambda tags: list(sorted(set(tags))))\n",
    "\n",
    "df = df.drop(columns=['screener_labels', 'notes'])\n",
    "\n",
    "df.head()"
   ],
   "metadata": {
    "collapsed": false,
    "pycharm": {
     "name": "#%%\n"
    }
   }
  },
  {
   "cell_type": "markdown",
   "source": [
    "## Validate data"
   ],
   "metadata": {
    "collapsed": false,
    "pycharm": {
     "name": "#%% md\n"
    }
   }
  },
  {
   "cell_type": "markdown",
   "source": [
    "#### Get all unique tags"
   ],
   "metadata": {
    "collapsed": false,
    "pycharm": {
     "name": "#%% md\n"
    }
   }
  },
  {
   "cell_type": "code",
   "execution_count": 114,
   "outputs": [
    {
     "data": {
      "text/plain": "['approach:fully_automated',\n 'approach:semi_automatic',\n 'approach:unclear',\n 'data:bespoke_assignment',\n 'data:code_defenders_dataset',\n 'data:codechef',\n 'data:dataset_available',\n 'data:edX',\n 'data:github_dataset',\n 'data:grok',\n 'data:hackerrank',\n 'data:internal_assignments',\n 'data:internal_exams',\n 'data:internal_tutorial',\n 'data:leetcode',\n 'data:microsoft_dev204_1x',\n 'data:none',\n 'data:text_book_exercises',\n 'data_available:False',\n 'data_available:True',\n 'data_available:on_request',\n 'evaluation:analytics',\n 'evaluation:anecdotal',\n 'evaluation:auto_graders',\n 'evaluation:auto_grading',\n 'evaluation:compared_to_human',\n 'evaluation:compared_to_other_tools',\n 'evaluation:correlation_grades',\n 'evaluation:engagement',\n 'evaluation:feedback',\n 'evaluation:grade_correlation',\n 'evaluation:grading_accuracy',\n 'evaluation:manual_grading',\n 'evaluation:ml_models',\n 'evaluation:none',\n 'evaluation:student_survey',\n 'evaluation:teacher_survey',\n 'evaluation:usage',\n 'evaluation:user_study',\n 'evaluation:with_without',\n 'feedback:augmented_compiler_errors',\n 'feedback:code_metrics',\n 'feedback:diagram_generation',\n 'feedback:dsl_rules',\n 'feedback:errors',\n 'feedback:fuzz_testing',\n 'feedback:gamified',\n 'feedback:hints',\n 'feedback:in_person',\n 'feedback:machine_learning',\n 'feedback:manual_personalised_feedback',\n 'feedback:none',\n 'feedback:nudge_theory',\n 'feedback:personalised_feedback',\n 'feedback:plagiarism',\n 'feedback:pre_defined_feedback',\n 'feedback:probability_incorrect',\n 'feedback:program_repair',\n 'feedback:rule_failure',\n 'feedback:static_analysis',\n 'feedback:style_check',\n 'feedback:suggest_similar',\n 'feedback:suggested_fixes',\n 'feedback:test_output',\n 'feedback:unclear',\n 'feedback:unit_testing',\n 'feedback:visual_feedback',\n 'interaction:multiple',\n 'interaction:none',\n 'interaction:single',\n 'interaction:unknown',\n 'language:C',\n 'language:Haskell',\n 'language:android',\n 'language:assesmbly',\n 'language:c#',\n 'language:c++',\n 'language:glsl',\n 'language:java',\n 'language:javascript',\n 'language:kernal',\n 'language:language__agnostic',\n 'language:lex',\n 'language:matlab',\n 'language:ocaml',\n 'language:octave',\n 'language:opengl',\n 'language:prolog',\n 'language:python',\n 'language:ruby',\n 'language:scala',\n 'language:scheme',\n 'language:sql',\n 'language:typescript',\n 'language:unknown_language',\n 'language:vb',\n 'language:web_languages',\n 'language:yacc',\n 'skill:best_practices',\n 'skill:code_design',\n 'skill:code_quality',\n 'skill:complexity',\n 'skill:concurrency',\n 'skill:correctness',\n 'skill:distrbuted',\n 'skill:documentation',\n 'skill:graphics',\n 'skill:maintainability',\n 'skill:oop',\n 'skill:productivity',\n 'skill:readability',\n 'skill:refactoring',\n 'skill:teaching_context_free_grammar',\n 'skill:test_suite_quality',\n 'technique:antipatterns',\n 'technique:ci',\n 'technique:ci_cd',\n 'technique:cluster',\n 'technique:clustering',\n 'technique:code_metrics',\n 'technique:code_repair_for_feedback',\n 'technique:contribution',\n 'technique:control_flow_graph',\n 'technique:data_driven',\n 'technique:dsl',\n 'technique:dsl_for_exercise_gen',\n 'technique:dsl_rules',\n 'technique:dynamic_analysis',\n 'technique:error_prediction',\n 'technique:fault_localisation',\n 'technique:graph_analysis',\n 'technique:graphical_output',\n 'technique:gui_testing',\n 'technique:knowledge_base',\n 'technique:language_stuctures',\n 'technique:machine_learning',\n 'technique:matching_rules',\n 'technique:metrics',\n 'technique:ml',\n 'technique:model_based',\n 'technique:model_solution_closeness',\n 'technique:model_solution_req',\n 'technique:mutants',\n 'technique:mutation_testing',\n 'technique:nlp',\n 'technique:novel',\n 'technique:output_matching',\n 'technique:pattern_matching',\n 'technique:pre_defined_questions',\n 'technique:program_repair',\n 'technique:program_synthesis',\n 'technique:program_verification',\n 'technique:property_based_testing',\n 'technique:reflection',\n 'technique:rule_based',\n 'technique:static_analysis',\n 'technique:style_check',\n 'technique:test_case_generation',\n 'technique:test_cases',\n 'technique:token_pattern_matching',\n 'technique:trace_examination',\n 'technique:uml',\n 'technique:unclear',\n 'technique:unit_test_expansion',\n 'technique:unit_testing',\n 'tool:2tsw',\n 'tool:CSF',\n 'tool:LC_3',\n 'tool:Prutor',\n 'tool:afps',\n 'tool:aiort',\n 'tool:annete',\n 'tool:antlr',\n 'tool:aoco',\n 'tool:apollo',\n 'tool:appgrader',\n 'tool:artemis',\n 'tool:ask_elle',\n 'tool:atelier',\n 'tool:audoscore',\n 'tool:autograder',\n 'tool:autotest',\n 'tool:better_code_hub',\n 'tool:bluej',\n 'tool:cac++',\n 'tool:cafe',\n 'tool:canvas',\n 'tool:ccs',\n 'tool:check',\n 'tool:check50',\n 'tool:checkstyle',\n 'tool:claas',\n 'tool:clara',\n 'tool:clik',\n 'tool:cloudcoder',\n 'tool:code',\n 'tool:code2vec',\n 'tool:coderunner',\n 'tool:codq',\n 'tool:cppcheck',\n 'tool:cpplint',\n 'tool:dbms',\n 'tool:deckard',\n 'tool:docker',\n 'tool:earsketch',\n 'tool:epfl_grader',\n 'tool:fitchfork',\n 'tool:fixml',\n 'tool:flubaroo',\n 'tool:google_forms',\n 'tool:gradeit',\n 'tool:grok',\n 'tool:guava',\n 'tool:haap',\n 'tool:hackerrank',\n 'tool:hipos',\n 'tool:javassess',\n 'tool:jdbc',\n 'tool:jenkins',\n 'tool:jgrapht',\n 'tool:juypter',\n 'tool:klc3',\n 'tool:klee',\n 'tool:learn_ocaml',\n 'tool:logic',\n 'tool:matlab_grader',\n 'tool:mctest',\n 'tool:memooc',\n 'tool:moodle',\n 'tool:mule',\n 'tool:mybinder',\n 'tool:neoespa',\n 'tool:none',\n 'tool:oopgrader',\n 'tool:pass',\n 'tool:pathgrind',\n 'tool:pcrs',\n 'tool:pin',\n 'tool:pmd',\n 'tool:progedu',\n 'tool:progedu4group',\n 'tool:project_tomo',\n 'tool:pyassessment',\n 'tool:pylint',\n 'tool:pyta',\n 'tool:pythontutor',\n 'tool:quickcheck',\n 'tool:refactortutor',\n 'tool:refactutor',\n 'tool:sarfgen',\n 'tool:siette',\n 'tool:sonarfix',\n 'tool:soploon',\n 'tool:stepik',\n 'tool:submitty',\n 'tool:tegcer',\n 'tool:testingtutor',\n 'tool:tipsc',\n 'tool:tracediff',\n 'tool:tracer',\n 'tool:travis',\n 'tool:uncode',\n 'tool:vle',\n 'tool:vpl',\n 'tool:vta',\n 'tool:web_cat',\n 'tool:webta',\n 'tool:woj',\n 'type:description',\n 'type:evaluation',\n 'type:evaluation_paper',\n 'type:experience_report']"
     },
     "execution_count": 114,
     "metadata": {},
     "output_type": "execute_result"
    }
   ],
   "source": [
    "sorted(set([tag for list_of_tags in df.tags for tag in list_of_tags]))"
   ],
   "metadata": {
    "collapsed": false,
    "pycharm": {
     "name": "#%%\n"
    }
   }
  },
  {
   "cell_type": "markdown",
   "source": [
    "#### Rename duplicate tags"
   ],
   "metadata": {
    "collapsed": false,
    "pycharm": {
     "name": "#%% md\n"
    }
   }
  },
  {
   "cell_type": "code",
   "execution_count": 115,
   "outputs": [],
   "source": [
    "def rename_duplicate_tags(labels):\n",
    "    new_labels = []\n",
    "    for label in labels:\n",
    "        if label == 'type:evaluation_paper':\n",
    "            label = 'type:evaluation'\n",
    "        elif label == 'technique:test_cases':\n",
    "            label = 'technique:unit_testing'\n",
    "        elif label == 'technique:metrics':\n",
    "            label = 'technique:code_metrics'\n",
    "        elif label == 'technique:ml':\n",
    "            label = 'technique:machine_learning'\n",
    "        elif label == 'evaluation:auto_graders':\n",
    "            label = 'evaluation:auto_grading'\n",
    "        elif label in ['evaluation:with_without', 'evaluation:compared_to_human']:\n",
    "            label = 'evaluation:manual_grading'\n",
    "        elif label == 'technique:ci':\n",
    "            label = 'technique:ci_cd'\n",
    "        elif label == 'technique:cluster':\n",
    "            label = 'technique:clustering'\n",
    "        elif label == 'technique:mutants':\n",
    "            label = 'technique:mutation_testing'\n",
    "        elif label in ['technique:dsl', 'technique:dsl_rules', 'technique:rule_based']:\n",
    "            label = 'technique:matching_rules'\n",
    "        elif label == 'language:assesmbly':\n",
    "            label = 'language:assembly'\n",
    "        elif label == 'language:kernal':\n",
    "            label = 'language:kernel'\n",
    "        elif label == 'skill:distrbuted':\n",
    "            label = 'skill:distributed'\n",
    "\n",
    "        new_labels.append(label)\n",
    "\n",
    "    return list(set(new_labels))\n"
   ],
   "metadata": {
    "collapsed": false,
    "pycharm": {
     "name": "#%%\n"
    }
   }
  },
  {
   "cell_type": "code",
   "execution_count": 116,
   "outputs": [
    {
     "data": {
      "text/plain": "['approach:fully_automated',\n 'approach:semi_automatic',\n 'approach:unclear',\n 'data:bespoke_assignment',\n 'data:code_defenders_dataset',\n 'data:codechef',\n 'data:dataset_available',\n 'data:edX',\n 'data:github_dataset',\n 'data:grok',\n 'data:hackerrank',\n 'data:internal_assignments',\n 'data:internal_exams',\n 'data:internal_tutorial',\n 'data:leetcode',\n 'data:microsoft_dev204_1x',\n 'data:none',\n 'data:text_book_exercises',\n 'data_available:False',\n 'data_available:True',\n 'data_available:on_request',\n 'evaluation:analytics',\n 'evaluation:anecdotal',\n 'evaluation:auto_grading',\n 'evaluation:compared_to_other_tools',\n 'evaluation:correlation_grades',\n 'evaluation:engagement',\n 'evaluation:feedback',\n 'evaluation:grade_correlation',\n 'evaluation:grading_accuracy',\n 'evaluation:manual_grading',\n 'evaluation:ml_models',\n 'evaluation:none',\n 'evaluation:student_survey',\n 'evaluation:teacher_survey',\n 'evaluation:usage',\n 'evaluation:user_study',\n 'feedback:augmented_compiler_errors',\n 'feedback:code_metrics',\n 'feedback:diagram_generation',\n 'feedback:dsl_rules',\n 'feedback:errors',\n 'feedback:fuzz_testing',\n 'feedback:gamified',\n 'feedback:hints',\n 'feedback:in_person',\n 'feedback:machine_learning',\n 'feedback:manual_personalised_feedback',\n 'feedback:none',\n 'feedback:nudge_theory',\n 'feedback:personalised_feedback',\n 'feedback:plagiarism',\n 'feedback:pre_defined_feedback',\n 'feedback:probability_incorrect',\n 'feedback:program_repair',\n 'feedback:rule_failure',\n 'feedback:static_analysis',\n 'feedback:style_check',\n 'feedback:suggest_similar',\n 'feedback:suggested_fixes',\n 'feedback:test_output',\n 'feedback:unclear',\n 'feedback:unit_testing',\n 'feedback:visual_feedback',\n 'interaction:multiple',\n 'interaction:none',\n 'interaction:single',\n 'interaction:unknown',\n 'language:C',\n 'language:Haskell',\n 'language:android',\n 'language:assembly',\n 'language:c#',\n 'language:c++',\n 'language:glsl',\n 'language:java',\n 'language:javascript',\n 'language:kernel',\n 'language:language__agnostic',\n 'language:lex',\n 'language:matlab',\n 'language:ocaml',\n 'language:octave',\n 'language:opengl',\n 'language:prolog',\n 'language:python',\n 'language:ruby',\n 'language:scala',\n 'language:scheme',\n 'language:sql',\n 'language:typescript',\n 'language:unknown_language',\n 'language:vb',\n 'language:web_languages',\n 'language:yacc',\n 'skill:best_practices',\n 'skill:code_design',\n 'skill:code_quality',\n 'skill:complexity',\n 'skill:concurrency',\n 'skill:correctness',\n 'skill:distributed',\n 'skill:documentation',\n 'skill:graphics',\n 'skill:maintainability',\n 'skill:oop',\n 'skill:productivity',\n 'skill:readability',\n 'skill:refactoring',\n 'skill:teaching_context_free_grammar',\n 'skill:test_suite_quality',\n 'technique:antipatterns',\n 'technique:ci_cd',\n 'technique:clustering',\n 'technique:code_metrics',\n 'technique:code_repair_for_feedback',\n 'technique:contribution',\n 'technique:control_flow_graph',\n 'technique:data_driven',\n 'technique:dsl_for_exercise_gen',\n 'technique:dynamic_analysis',\n 'technique:error_prediction',\n 'technique:fault_localisation',\n 'technique:graph_analysis',\n 'technique:graphical_output',\n 'technique:gui_testing',\n 'technique:knowledge_base',\n 'technique:language_stuctures',\n 'technique:machine_learning',\n 'technique:matching_rules',\n 'technique:model_based',\n 'technique:model_solution_closeness',\n 'technique:model_solution_req',\n 'technique:mutation_testing',\n 'technique:nlp',\n 'technique:novel',\n 'technique:output_matching',\n 'technique:pattern_matching',\n 'technique:pre_defined_questions',\n 'technique:program_repair',\n 'technique:program_synthesis',\n 'technique:program_verification',\n 'technique:property_based_testing',\n 'technique:reflection',\n 'technique:static_analysis',\n 'technique:style_check',\n 'technique:test_case_generation',\n 'technique:token_pattern_matching',\n 'technique:trace_examination',\n 'technique:uml',\n 'technique:unclear',\n 'technique:unit_test_expansion',\n 'technique:unit_testing',\n 'tool:2tsw',\n 'tool:CSF',\n 'tool:LC_3',\n 'tool:Prutor',\n 'tool:afps',\n 'tool:aiort',\n 'tool:annete',\n 'tool:antlr',\n 'tool:aoco',\n 'tool:apollo',\n 'tool:appgrader',\n 'tool:artemis',\n 'tool:ask_elle',\n 'tool:atelier',\n 'tool:audoscore',\n 'tool:autograder',\n 'tool:autotest',\n 'tool:better_code_hub',\n 'tool:bluej',\n 'tool:cac++',\n 'tool:cafe',\n 'tool:canvas',\n 'tool:ccs',\n 'tool:check',\n 'tool:check50',\n 'tool:checkstyle',\n 'tool:claas',\n 'tool:clara',\n 'tool:clik',\n 'tool:cloudcoder',\n 'tool:code',\n 'tool:code2vec',\n 'tool:coderunner',\n 'tool:codq',\n 'tool:cppcheck',\n 'tool:cpplint',\n 'tool:dbms',\n 'tool:deckard',\n 'tool:docker',\n 'tool:earsketch',\n 'tool:epfl_grader',\n 'tool:fitchfork',\n 'tool:fixml',\n 'tool:flubaroo',\n 'tool:google_forms',\n 'tool:gradeit',\n 'tool:grok',\n 'tool:guava',\n 'tool:haap',\n 'tool:hackerrank',\n 'tool:hipos',\n 'tool:javassess',\n 'tool:jdbc',\n 'tool:jenkins',\n 'tool:jgrapht',\n 'tool:juypter',\n 'tool:klc3',\n 'tool:klee',\n 'tool:learn_ocaml',\n 'tool:logic',\n 'tool:matlab_grader',\n 'tool:mctest',\n 'tool:memooc',\n 'tool:moodle',\n 'tool:mule',\n 'tool:mybinder',\n 'tool:neoespa',\n 'tool:none',\n 'tool:oopgrader',\n 'tool:pass',\n 'tool:pathgrind',\n 'tool:pcrs',\n 'tool:pin',\n 'tool:pmd',\n 'tool:progedu',\n 'tool:progedu4group',\n 'tool:project_tomo',\n 'tool:pyassessment',\n 'tool:pylint',\n 'tool:pyta',\n 'tool:pythontutor',\n 'tool:quickcheck',\n 'tool:refactortutor',\n 'tool:refactutor',\n 'tool:sarfgen',\n 'tool:siette',\n 'tool:sonarfix',\n 'tool:soploon',\n 'tool:stepik',\n 'tool:submitty',\n 'tool:tegcer',\n 'tool:testingtutor',\n 'tool:tipsc',\n 'tool:tracediff',\n 'tool:tracer',\n 'tool:travis',\n 'tool:uncode',\n 'tool:vle',\n 'tool:vpl',\n 'tool:vta',\n 'tool:web_cat',\n 'tool:webta',\n 'tool:woj',\n 'type:description',\n 'type:evaluation',\n 'type:experience_report']"
     },
     "execution_count": 116,
     "metadata": {},
     "output_type": "execute_result"
    }
   ],
   "source": [
    "df.tags = df.tags.apply(lambda labels: rename_duplicate_tags(labels))\n",
    "sorted(set([tag for list_of_tags in df.tags for tag in list_of_tags]))"
   ],
   "metadata": {
    "collapsed": false,
    "pycharm": {
     "name": "#%%\n"
    }
   }
  },
  {
   "cell_type": "code",
   "execution_count": 117,
   "outputs": [],
   "source": [
    "required_prefixes = {'approach', 'language', 'type', 'skill', 'technique', 'data', 'evaluation', 'feedback', 'tool', 'data_available', 'interaction'}"
   ],
   "metadata": {
    "collapsed": false,
    "pycharm": {
     "name": "#%%\n"
    }
   }
  },
  {
   "cell_type": "code",
   "execution_count": 118,
   "outputs": [],
   "source": [
    "def validate(labels):\n",
    "    paper_prefixes = []\n",
    "    for label in labels:\n",
    "        paper_prefixes.append(label.split(':')[0])\n",
    "\n",
    "    return sorted([prefix for prefix in required_prefixes if prefix not in paper_prefixes])\n",
    "\n",
    "validate_df = pd.concat([df.title, df.tags.apply(lambda labels: validate(labels))], axis=1)\n",
    "validate_df.to_csv('data/validate.csv')"
   ],
   "metadata": {
    "collapsed": false,
    "pycharm": {
     "name": "#%%\n"
    }
   }
  },
  {
   "cell_type": "markdown",
   "source": [
    "### Add categories column"
   ],
   "metadata": {
    "collapsed": false,
    "pycharm": {
     "name": "#%% md\n"
    }
   }
  },
  {
   "cell_type": "code",
   "execution_count": 119,
   "outputs": [],
   "source": [
    "# Reread paper:\n",
    "# A Comparison of Inquiry-Based Conceptual Feedback vs. Traditional Detailed Feedback Mechanisms in Software Testing Education: An Empirical Investigation\n",
    "\n",
    "def categorise(labels):\n",
    "    categories = []\n",
    "    if {'technique:unit_testing', 'technique:property_based_testing'}.intersection(labels):\n",
    "        categories.append('dynamic')\n",
    "    if {'technique:pattern_matching', 'technique:static_analysis', 'technique:code_metrics', 'technique:clustering',\n",
    "        'technique:style_check', 'technique:program_repair', 'technique:matching_rules'}.intersection(labels):\n",
    "        categories.append('static')\n",
    "    if 'technique:machine_learning' in labels:\n",
    "        categories.append('machine learning')\n",
    "\n",
    "    if len(categories) == 0:\n",
    "        return None\n",
    "\n",
    "    return categories"
   ],
   "metadata": {
    "collapsed": false,
    "pycharm": {
     "name": "#%%\n"
    }
   }
  },
  {
   "cell_type": "code",
   "execution_count": 120,
   "outputs": [
    {
     "data": {
      "text/plain": "                                                 title  \\\n0    An experience of automated assessment in a lar...   \n1    Semiautomatic generation and assessment of Jav...   \n2    A tool for evaluating computer programs from s...   \n3    Virtual Teaching Assistant for Grading Program...   \n4    Analysis of an automatic grading system within...   \n..                                                 ...   \n117  Automated data-driven hints for computer progr...   \n118  Learning and teaching numerical methods with a...   \n119  Ask-Elle: an Adaptable Programming Tutor for H...   \n120       An AI system for coaching novice programmers   \n121  Automatic extraction of AST patterns for debug...   \n\n                                                  tags  \\\n0    {technique:pre_defined_questions, technique:un...   \n1    {technique:code_repair_for_feedback, technique...   \n2    {technique:code_metrics, technique:static_anal...   \n3    {technique:output_matching, technique:unit_tes...   \n4    {technique:matching_rules, technique:unit_test...   \n..                                                 ...   \n117                           {technique:unit_testing}   \n118  {technique:unit_testing, technique:matching_ru...   \n119  {technique:property_based_testing, technique:m...   \n120  {technique:pre_defined_questions, technique:co...   \n121                       {technique:pattern_matching}   \n\n                       category  \n0                     [dynamic]  \n1             [dynamic, static]  \n2                      [static]  \n3             [dynamic, static]  \n4             [dynamic, static]  \n..                          ...  \n117                   [dynamic]  \n118           [dynamic, static]  \n119                   [dynamic]  \n120  [static, machine learning]  \n121                    [static]  \n\n[122 rows x 3 columns]",
      "text/html": "<div>\n<style scoped>\n    .dataframe tbody tr th:only-of-type {\n        vertical-align: middle;\n    }\n\n    .dataframe tbody tr th {\n        vertical-align: top;\n    }\n\n    .dataframe thead th {\n        text-align: right;\n    }\n</style>\n<table border=\"1\" class=\"dataframe\">\n  <thead>\n    <tr style=\"text-align: right;\">\n      <th></th>\n      <th>title</th>\n      <th>tags</th>\n      <th>category</th>\n    </tr>\n  </thead>\n  <tbody>\n    <tr>\n      <th>0</th>\n      <td>An experience of automated assessment in a lar...</td>\n      <td>{technique:pre_defined_questions, technique:un...</td>\n      <td>[dynamic]</td>\n    </tr>\n    <tr>\n      <th>1</th>\n      <td>Semiautomatic generation and assessment of Jav...</td>\n      <td>{technique:code_repair_for_feedback, technique...</td>\n      <td>[dynamic, static]</td>\n    </tr>\n    <tr>\n      <th>2</th>\n      <td>A tool for evaluating computer programs from s...</td>\n      <td>{technique:code_metrics, technique:static_anal...</td>\n      <td>[static]</td>\n    </tr>\n    <tr>\n      <th>3</th>\n      <td>Virtual Teaching Assistant for Grading Program...</td>\n      <td>{technique:output_matching, technique:unit_tes...</td>\n      <td>[dynamic, static]</td>\n    </tr>\n    <tr>\n      <th>4</th>\n      <td>Analysis of an automatic grading system within...</td>\n      <td>{technique:matching_rules, technique:unit_test...</td>\n      <td>[dynamic, static]</td>\n    </tr>\n    <tr>\n      <th>...</th>\n      <td>...</td>\n      <td>...</td>\n      <td>...</td>\n    </tr>\n    <tr>\n      <th>117</th>\n      <td>Automated data-driven hints for computer progr...</td>\n      <td>{technique:unit_testing}</td>\n      <td>[dynamic]</td>\n    </tr>\n    <tr>\n      <th>118</th>\n      <td>Learning and teaching numerical methods with a...</td>\n      <td>{technique:unit_testing, technique:matching_ru...</td>\n      <td>[dynamic, static]</td>\n    </tr>\n    <tr>\n      <th>119</th>\n      <td>Ask-Elle: an Adaptable Programming Tutor for H...</td>\n      <td>{technique:property_based_testing, technique:m...</td>\n      <td>[dynamic]</td>\n    </tr>\n    <tr>\n      <th>120</th>\n      <td>An AI system for coaching novice programmers</td>\n      <td>{technique:pre_defined_questions, technique:co...</td>\n      <td>[static, machine learning]</td>\n    </tr>\n    <tr>\n      <th>121</th>\n      <td>Automatic extraction of AST patterns for debug...</td>\n      <td>{technique:pattern_matching}</td>\n      <td>[static]</td>\n    </tr>\n  </tbody>\n</table>\n<p>122 rows × 3 columns</p>\n</div>"
     },
     "execution_count": 120,
     "metadata": {},
     "output_type": "execute_result"
    }
   ],
   "source": [
    "df['category'] = df.tags.apply(lambda labels: categorise(labels))\n",
    "pd.concat([df.title, df.tags.apply(lambda labels: set([label for label in labels if 'technique' in label])), df.category], axis=1)"
   ],
   "metadata": {
    "collapsed": false,
    "pycharm": {
     "name": "#%%\n"
    }
   }
  },
  {
   "cell_type": "markdown",
   "source": [
    "### Add Skills Column"
   ],
   "metadata": {
    "collapsed": false,
    "pycharm": {
     "name": "#%% md\n"
    }
   }
  },
  {
   "cell_type": "code",
   "execution_count": 121,
   "outputs": [],
   "source": [
    "def add_skills(labels):\n",
    "    skills = []\n",
    "\n",
    "    if 'skill:correctness' in labels:\n",
    "        skills.append('correctness')\n",
    "    if {'skill:code_quality', 'skill:readability', 'skill:refactoring'}.intersection(labels):\n",
    "        skills.append('readability')\n",
    "    if {'skill:maintainability', 'skill:refactoring', 'skill:test_suite_quality', 'skill:code_design',\n",
    "            'skill:complexity', 'skill:oop'}.intersection(labels):\n",
    "        skills.append('maintainability')\n",
    "    if 'skill:documentation' in labels:\n",
    "        skills.append('documentation')\n",
    "\n",
    "\n",
    "    if len(skills) == 0:\n",
    "        return None\n",
    "\n",
    "    return skills"
   ],
   "metadata": {
    "collapsed": false,
    "pycharm": {
     "name": "#%%\n"
    }
   }
  },
  {
   "cell_type": "code",
   "execution_count": 122,
   "outputs": [
    {
     "data": {
      "text/plain": "                                                 title  \\\n0    An experience of automated assessment in a lar...   \n1    Semiautomatic generation and assessment of Jav...   \n2    A tool for evaluating computer programs from s...   \n3    Virtual Teaching Assistant for Grading Program...   \n4    Analysis of an automatic grading system within...   \n..                                                 ...   \n117  Automated data-driven hints for computer progr...   \n118  Learning and teaching numerical methods with a...   \n119  Ask-Elle: an Adaptable Programming Tutor for H...   \n120       An AI system for coaching novice programmers   \n121  Automatic extraction of AST patterns for debug...   \n\n                                                  tags  \\\n0                                  {skill:correctness}   \n1           {skill:correctness, skill:maintainability}   \n2    {skill:code_quality, skill:maintainability, sk...   \n3                                  {skill:correctness}   \n4              {skill:code_quality, skill:correctness}   \n..                                                 ...   \n117                                {skill:correctness}   \n118                                {skill:correctness}   \n119             {skill:code_design, skill:correctness}   \n120        {skill:code_quality, skill:maintainability}   \n121                                {skill:correctness}   \n\n                             skills  \n0                     [correctness]  \n1    [correctness, maintainability]  \n2    [readability, maintainability]  \n3                     [correctness]  \n4        [correctness, readability]  \n..                              ...  \n117                   [correctness]  \n118                   [correctness]  \n119  [correctness, maintainability]  \n120  [readability, maintainability]  \n121                   [correctness]  \n\n[122 rows x 3 columns]",
      "text/html": "<div>\n<style scoped>\n    .dataframe tbody tr th:only-of-type {\n        vertical-align: middle;\n    }\n\n    .dataframe tbody tr th {\n        vertical-align: top;\n    }\n\n    .dataframe thead th {\n        text-align: right;\n    }\n</style>\n<table border=\"1\" class=\"dataframe\">\n  <thead>\n    <tr style=\"text-align: right;\">\n      <th></th>\n      <th>title</th>\n      <th>tags</th>\n      <th>skills</th>\n    </tr>\n  </thead>\n  <tbody>\n    <tr>\n      <th>0</th>\n      <td>An experience of automated assessment in a lar...</td>\n      <td>{skill:correctness}</td>\n      <td>[correctness]</td>\n    </tr>\n    <tr>\n      <th>1</th>\n      <td>Semiautomatic generation and assessment of Jav...</td>\n      <td>{skill:correctness, skill:maintainability}</td>\n      <td>[correctness, maintainability]</td>\n    </tr>\n    <tr>\n      <th>2</th>\n      <td>A tool for evaluating computer programs from s...</td>\n      <td>{skill:code_quality, skill:maintainability, sk...</td>\n      <td>[readability, maintainability]</td>\n    </tr>\n    <tr>\n      <th>3</th>\n      <td>Virtual Teaching Assistant for Grading Program...</td>\n      <td>{skill:correctness}</td>\n      <td>[correctness]</td>\n    </tr>\n    <tr>\n      <th>4</th>\n      <td>Analysis of an automatic grading system within...</td>\n      <td>{skill:code_quality, skill:correctness}</td>\n      <td>[correctness, readability]</td>\n    </tr>\n    <tr>\n      <th>...</th>\n      <td>...</td>\n      <td>...</td>\n      <td>...</td>\n    </tr>\n    <tr>\n      <th>117</th>\n      <td>Automated data-driven hints for computer progr...</td>\n      <td>{skill:correctness}</td>\n      <td>[correctness]</td>\n    </tr>\n    <tr>\n      <th>118</th>\n      <td>Learning and teaching numerical methods with a...</td>\n      <td>{skill:correctness}</td>\n      <td>[correctness]</td>\n    </tr>\n    <tr>\n      <th>119</th>\n      <td>Ask-Elle: an Adaptable Programming Tutor for H...</td>\n      <td>{skill:code_design, skill:correctness}</td>\n      <td>[correctness, maintainability]</td>\n    </tr>\n    <tr>\n      <th>120</th>\n      <td>An AI system for coaching novice programmers</td>\n      <td>{skill:code_quality, skill:maintainability}</td>\n      <td>[readability, maintainability]</td>\n    </tr>\n    <tr>\n      <th>121</th>\n      <td>Automatic extraction of AST patterns for debug...</td>\n      <td>{skill:correctness}</td>\n      <td>[correctness]</td>\n    </tr>\n  </tbody>\n</table>\n<p>122 rows × 3 columns</p>\n</div>"
     },
     "execution_count": 122,
     "metadata": {},
     "output_type": "execute_result"
    }
   ],
   "source": [
    "df['skills'] = df.tags.apply(lambda labels: add_skills(labels))\n",
    "pd.concat([df.title, df.tags.apply(lambda labels: set([label for label in labels if 'skill' in label])), df.skills], axis=1)"
   ],
   "metadata": {
    "collapsed": false,
    "pycharm": {
     "name": "#%%\n"
    }
   }
  },
  {
   "cell_type": "markdown",
   "source": [
    "### Add Types Column"
   ],
   "metadata": {
    "collapsed": false,
    "pycharm": {
     "name": "#%% md\n"
    }
   }
  },
  {
   "cell_type": "code",
   "execution_count": 123,
   "outputs": [],
   "source": [
    "def add_types(labels):\n",
    "    types = []\n",
    "\n",
    "    if 'type:description' in labels:\n",
    "        types.append('description')\n",
    "    if 'type:evaluation' in labels:\n",
    "        types.append('evaluation')\n",
    "    if 'type:experience_report' in labels:\n",
    "        types.append('experience')\n",
    "    if 'type:demo_paper' in labels:\n",
    "        types.append('demo')\n",
    "\n",
    "    return types"
   ],
   "metadata": {
    "collapsed": false,
    "pycharm": {
     "name": "#%%\n"
    }
   }
  },
  {
   "cell_type": "code",
   "execution_count": 124,
   "outputs": [
    {
     "data": {
      "text/plain": "                                                 title  \\\n0    An experience of automated assessment in a lar...   \n1    Semiautomatic generation and assessment of Jav...   \n2    A tool for evaluating computer programs from s...   \n3    Virtual Teaching Assistant for Grading Program...   \n4    Analysis of an automatic grading system within...   \n..                                                 ...   \n117  Automated data-driven hints for computer progr...   \n118  Learning and teaching numerical methods with a...   \n119  Ask-Elle: an Adaptable Programming Tutor for H...   \n120       An AI system for coaching novice programmers   \n121  Automatic extraction of AST patterns for debug...   \n\n                                    tags                      types  \n0    {type:description, type:evaluation}  [description, evaluation]  \n1    {type:description, type:evaluation}  [description, evaluation]  \n2                     {type:description}              [description]  \n3    {type:description, type:evaluation}  [description, evaluation]  \n4    {type:description, type:evaluation}  [description, evaluation]  \n..                                   ...                        ...  \n117  {type:description, type:evaluation}  [description, evaluation]  \n118                   {type:description}              [description]  \n119  {type:description, type:evaluation}  [description, evaluation]  \n120  {type:description, type:evaluation}  [description, evaluation]  \n121  {type:description, type:evaluation}  [description, evaluation]  \n\n[122 rows x 3 columns]",
      "text/html": "<div>\n<style scoped>\n    .dataframe tbody tr th:only-of-type {\n        vertical-align: middle;\n    }\n\n    .dataframe tbody tr th {\n        vertical-align: top;\n    }\n\n    .dataframe thead th {\n        text-align: right;\n    }\n</style>\n<table border=\"1\" class=\"dataframe\">\n  <thead>\n    <tr style=\"text-align: right;\">\n      <th></th>\n      <th>title</th>\n      <th>tags</th>\n      <th>types</th>\n    </tr>\n  </thead>\n  <tbody>\n    <tr>\n      <th>0</th>\n      <td>An experience of automated assessment in a lar...</td>\n      <td>{type:description, type:evaluation}</td>\n      <td>[description, evaluation]</td>\n    </tr>\n    <tr>\n      <th>1</th>\n      <td>Semiautomatic generation and assessment of Jav...</td>\n      <td>{type:description, type:evaluation}</td>\n      <td>[description, evaluation]</td>\n    </tr>\n    <tr>\n      <th>2</th>\n      <td>A tool for evaluating computer programs from s...</td>\n      <td>{type:description}</td>\n      <td>[description]</td>\n    </tr>\n    <tr>\n      <th>3</th>\n      <td>Virtual Teaching Assistant for Grading Program...</td>\n      <td>{type:description, type:evaluation}</td>\n      <td>[description, evaluation]</td>\n    </tr>\n    <tr>\n      <th>4</th>\n      <td>Analysis of an automatic grading system within...</td>\n      <td>{type:description, type:evaluation}</td>\n      <td>[description, evaluation]</td>\n    </tr>\n    <tr>\n      <th>...</th>\n      <td>...</td>\n      <td>...</td>\n      <td>...</td>\n    </tr>\n    <tr>\n      <th>117</th>\n      <td>Automated data-driven hints for computer progr...</td>\n      <td>{type:description, type:evaluation}</td>\n      <td>[description, evaluation]</td>\n    </tr>\n    <tr>\n      <th>118</th>\n      <td>Learning and teaching numerical methods with a...</td>\n      <td>{type:description}</td>\n      <td>[description]</td>\n    </tr>\n    <tr>\n      <th>119</th>\n      <td>Ask-Elle: an Adaptable Programming Tutor for H...</td>\n      <td>{type:description, type:evaluation}</td>\n      <td>[description, evaluation]</td>\n    </tr>\n    <tr>\n      <th>120</th>\n      <td>An AI system for coaching novice programmers</td>\n      <td>{type:description, type:evaluation}</td>\n      <td>[description, evaluation]</td>\n    </tr>\n    <tr>\n      <th>121</th>\n      <td>Automatic extraction of AST patterns for debug...</td>\n      <td>{type:description, type:evaluation}</td>\n      <td>[description, evaluation]</td>\n    </tr>\n  </tbody>\n</table>\n<p>122 rows × 3 columns</p>\n</div>"
     },
     "execution_count": 124,
     "metadata": {},
     "output_type": "execute_result"
    }
   ],
   "source": [
    "df['types'] = df.tags.apply(lambda labels: add_types(labels))\n",
    "pd.concat([df.title, df.tags.apply(lambda labels: set([label for label in labels if 'type' in label])), df.types], axis=1)"
   ],
   "metadata": {
    "collapsed": false,
    "pycharm": {
     "name": "#%%\n"
    }
   }
  },
  {
   "cell_type": "markdown",
   "source": [
    "### Add language family column"
   ],
   "metadata": {
    "collapsed": false,
    "pycharm": {
     "name": "#%% md\n"
    }
   }
  },
  {
   "cell_type": "code",
   "execution_count": 125,
   "outputs": [
    {
     "data": {
      "text/plain": "{\"{'language:C', 'language:Haskell'}\",\n \"{'language:C', 'language:c++'}\",\n \"{'language:C', 'language:python', 'language:language__agnostic'}\",\n \"{'language:C', 'language:python'}\",\n \"{'language:C'}\",\n \"{'language:Haskell'}\",\n \"{'language:android'}\",\n \"{'language:assembly'}\",\n \"{'language:c#'}\",\n \"{'language:c++', 'language:glsl'}\",\n \"{'language:c++'}\",\n \"{'language:glsl'}\",\n \"{'language:java', 'language:C', 'language:python', 'language:c++'}\",\n \"{'language:java', 'language:python'}\",\n \"{'language:java', 'language:scala'}\",\n \"{'language:java'}\",\n \"{'language:kernel'}\",\n \"{'language:language__agnostic'}\",\n \"{'language:lex', 'language:C', 'language:yacc', 'language:language__agnostic'}\",\n \"{'language:matlab', 'language:C'}\",\n \"{'language:matlab'}\",\n \"{'language:ocaml'}\",\n \"{'language:opengl', 'language:c++'}\",\n \"{'language:opengl'}\",\n \"{'language:prolog'}\",\n \"{'language:python', 'language:c++'}\",\n \"{'language:python', 'language:javascript'}\",\n \"{'language:python', 'language:octave'}\",\n \"{'language:python'}\",\n \"{'language:ruby'}\",\n \"{'language:scala'}\",\n \"{'language:scheme'}\",\n \"{'language:sql'}\",\n \"{'language:typescript'}\",\n \"{'language:unknown_language'}\",\n \"{'language:vb'}\",\n \"{'language:web_languages'}\"}"
     },
     "execution_count": 125,
     "metadata": {},
     "output_type": "execute_result"
    }
   ],
   "source": [
    "temp = df.tags.apply(lambda labels: str(set([label for label in labels if 'language:' in label])))\n",
    "set(temp.tolist())"
   ],
   "metadata": {
    "collapsed": false,
    "pycharm": {
     "name": "#%%\n"
    }
   }
  },
  {
   "cell_type": "code",
   "execution_count": 126,
   "outputs": [],
   "source": [
    "# Are these correct?\n",
    "# Check papers: 48, 59\n",
    "def add_lang_family(labels):\n",
    "    family = []\n",
    "\n",
    "    if {'language:java', 'language:python', 'language:C', 'language:matlab', 'language:octave',\n",
    "        'language:c++', 'language:android', 'language:vb', 'language:c#', 'language:ruby'}.intersection(labels):\n",
    "        family.append('OOP')\n",
    "    if {'language:Haskell', 'language:scala', 'language:ocaml', 'language:scheme'}.intersection(labels):\n",
    "        family.append('Functional')\n",
    "    if 'language:prolog' in labels:\n",
    "        family.append('Logic')\n",
    "    if {'language:javascript', 'language:typescript', 'language:web_languages'}.intersection(labels):\n",
    "        family.append('Web')\n",
    "    if {'language:kernel', 'language:assembly'}.intersection(labels):\n",
    "        family.append('Low-Level')\n",
    "    if {'language:opengl', 'language:glsl'}.intersection(labels):\n",
    "        family.append('Graphics')\n",
    "    if 'language:sql' in labels:\n",
    "        family.append('Query')\n",
    "    if 'language:unknown_language' in labels:\n",
    "        family.append('Unknown')\n",
    "    if 'language:language__agnostic' in labels:\n",
    "        family.append('Agnostic')\n",
    "\n",
    "    if len(family) == 0:\n",
    "        return None\n",
    "\n",
    "    return family"
   ],
   "metadata": {
    "collapsed": false,
    "pycharm": {
     "name": "#%%\n"
    }
   }
  },
  {
   "cell_type": "code",
   "execution_count": 127,
   "outputs": [
    {
     "data": {
      "text/plain": "                                                 title  \\\n0    An experience of automated assessment in a lar...   \n1    Semiautomatic generation and assessment of Jav...   \n2    A tool for evaluating computer programs from s...   \n3    Virtual Teaching Assistant for Grading Program...   \n4    Analysis of an automatic grading system within...   \n..                                                 ...   \n117  Automated data-driven hints for computer progr...   \n118  Learning and teaching numerical methods with a...   \n119  Ask-Elle: an Adaptable Programming Tutor for H...   \n120       An AI system for coaching novice programmers   \n121  Automatic extraction of AST patterns for debug...   \n\n                                   tags   lang_family  \n0                     {language:python}         [OOP]  \n1                       {language:java}         [OOP]  \n2                     {language:python}         [OOP]  \n3           {language:unknown_language}     [Unknown]  \n4                       {language:java}         [OOP]  \n..                                  ...           ...  \n117                   {language:python}         [OOP]  \n118  {language:python, language:octave}         [OOP]  \n119                  {language:Haskell}  [Functional]  \n120                     {language:java}         [OOP]  \n121                   {language:prolog}       [Logic]  \n\n[122 rows x 3 columns]",
      "text/html": "<div>\n<style scoped>\n    .dataframe tbody tr th:only-of-type {\n        vertical-align: middle;\n    }\n\n    .dataframe tbody tr th {\n        vertical-align: top;\n    }\n\n    .dataframe thead th {\n        text-align: right;\n    }\n</style>\n<table border=\"1\" class=\"dataframe\">\n  <thead>\n    <tr style=\"text-align: right;\">\n      <th></th>\n      <th>title</th>\n      <th>tags</th>\n      <th>lang_family</th>\n    </tr>\n  </thead>\n  <tbody>\n    <tr>\n      <th>0</th>\n      <td>An experience of automated assessment in a lar...</td>\n      <td>{language:python}</td>\n      <td>[OOP]</td>\n    </tr>\n    <tr>\n      <th>1</th>\n      <td>Semiautomatic generation and assessment of Jav...</td>\n      <td>{language:java}</td>\n      <td>[OOP]</td>\n    </tr>\n    <tr>\n      <th>2</th>\n      <td>A tool for evaluating computer programs from s...</td>\n      <td>{language:python}</td>\n      <td>[OOP]</td>\n    </tr>\n    <tr>\n      <th>3</th>\n      <td>Virtual Teaching Assistant for Grading Program...</td>\n      <td>{language:unknown_language}</td>\n      <td>[Unknown]</td>\n    </tr>\n    <tr>\n      <th>4</th>\n      <td>Analysis of an automatic grading system within...</td>\n      <td>{language:java}</td>\n      <td>[OOP]</td>\n    </tr>\n    <tr>\n      <th>...</th>\n      <td>...</td>\n      <td>...</td>\n      <td>...</td>\n    </tr>\n    <tr>\n      <th>117</th>\n      <td>Automated data-driven hints for computer progr...</td>\n      <td>{language:python}</td>\n      <td>[OOP]</td>\n    </tr>\n    <tr>\n      <th>118</th>\n      <td>Learning and teaching numerical methods with a...</td>\n      <td>{language:python, language:octave}</td>\n      <td>[OOP]</td>\n    </tr>\n    <tr>\n      <th>119</th>\n      <td>Ask-Elle: an Adaptable Programming Tutor for H...</td>\n      <td>{language:Haskell}</td>\n      <td>[Functional]</td>\n    </tr>\n    <tr>\n      <th>120</th>\n      <td>An AI system for coaching novice programmers</td>\n      <td>{language:java}</td>\n      <td>[OOP]</td>\n    </tr>\n    <tr>\n      <th>121</th>\n      <td>Automatic extraction of AST patterns for debug...</td>\n      <td>{language:prolog}</td>\n      <td>[Logic]</td>\n    </tr>\n  </tbody>\n</table>\n<p>122 rows × 3 columns</p>\n</div>"
     },
     "execution_count": 127,
     "metadata": {},
     "output_type": "execute_result"
    }
   ],
   "source": [
    "df['lang_family'] = df.tags.apply(lambda labels: add_lang_family(labels))\n",
    "pd.concat([df.title, df.tags.apply(lambda labels: set([label for label in labels if 'language:' in label])), df.lang_family], axis=1)"
   ],
   "metadata": {
    "collapsed": false,
    "pycharm": {
     "name": "#%%\n"
    }
   }
  },
  {
   "cell_type": "markdown",
   "source": [
    "#### Check no NA"
   ],
   "metadata": {
    "collapsed": false,
    "pycharm": {
     "name": "#%% md\n"
    }
   }
  },
  {
   "cell_type": "code",
   "execution_count": 128,
   "outputs": [
    {
     "data": {
      "text/plain": "key               0\ntitle             0\nauthors           0\nabstract          0\nyear_published    0\ntags              0\ncategory          1\nskills            0\ntypes             0\nlang_family       0\ndtype: int64"
     },
     "execution_count": 128,
     "metadata": {},
     "output_type": "execute_result"
    }
   ],
   "source": [
    "df.isna().sum()"
   ],
   "metadata": {
    "collapsed": false,
    "pycharm": {
     "name": "#%%\n"
    }
   }
  },
  {
   "cell_type": "markdown",
   "source": [
    "## Export"
   ],
   "metadata": {
    "collapsed": false,
    "pycharm": {
     "name": "#%% md\n"
    }
   }
  },
  {
   "cell_type": "code",
   "execution_count": 129,
   "outputs": [],
   "source": [
    "df.to_csv('data/processed.csv')"
   ],
   "metadata": {
    "collapsed": false,
    "pycharm": {
     "name": "#%%\n"
    }
   }
  },
  {
   "cell_type": "markdown",
   "source": [
    "# Example analytics count of all tags"
   ],
   "metadata": {
    "collapsed": false,
    "pycharm": {
     "name": "#%% md\n"
    }
   }
  },
  {
   "cell_type": "code",
   "execution_count": 130,
   "outputs": [
    {
     "data": {
      "text/plain": "skill:correctness                   111\ndata_available:False                104\napproach:fully_automated            100\ntype:evaluation                      99\ntype:description                     94\n                                   ... \ntechnique:novel                       1\nskill:concurrency                     1\ntool:dbms                             1\ntechnique:token_pattern_matching      1\ntool:codq                             1\nLength: 259, dtype: int64"
     },
     "execution_count": 130,
     "metadata": {},
     "output_type": "execute_result"
    }
   ],
   "source": [
    "pd.Series([tag for tags in df.tags for tag in tags]).value_counts()"
   ],
   "metadata": {
    "collapsed": false,
    "pycharm": {
     "name": "#%%\n"
    }
   }
  },
  {
   "cell_type": "code",
   "execution_count": 131,
   "outputs": [
    {
     "data": {
      "text/plain": "key               object\ntitle             object\nauthors           object\nabstract          object\nyear_published     int64\ntags              object\ncategory          object\nskills            object\ntypes             object\nlang_family       object\ndtype: object"
     },
     "execution_count": 131,
     "metadata": {},
     "output_type": "execute_result"
    }
   ],
   "source": [
    "df.dtypes"
   ],
   "metadata": {
    "collapsed": false,
    "pycharm": {
     "name": "#%%\n"
    }
   }
  }
 ],
 "metadata": {
  "kernelspec": {
   "display_name": "Python 3",
   "language": "python",
   "name": "python3"
  },
  "language_info": {
   "codemirror_mode": {
    "name": "ipython",
    "version": 2
   },
   "file_extension": ".py",
   "mimetype": "text/x-python",
   "name": "python",
   "nbconvert_exporter": "python",
   "pygments_lexer": "ipython2",
   "version": "2.7.6"
  }
 },
 "nbformat": 4,
 "nbformat_minor": 0
}