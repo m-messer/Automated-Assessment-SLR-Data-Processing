{
 "cells": [
  {
   "cell_type": "code",
   "execution_count": 56,
   "metadata": {
    "collapsed": true,
    "pycharm": {
     "name": "#%%\n"
    }
   },
   "outputs": [],
   "source": [
    "import pandas as pd\n",
    "import seaborn as sns\n",
    "import matplotlib.pyplot as plt\n",
    "\n",
    "sns.set_palette('husl')"
   ]
  },
  {
   "cell_type": "code",
   "execution_count": 57,
   "outputs": [
    {
     "data": {
      "text/plain": "                key                                              title  \\\n0  rayyan-354359269  An experience of automated assessment in a lar...   \n1  rayyan-354359270  Semiautomatic generation and assessment of Jav...   \n2  rayyan-354359271  A tool for evaluating computer programs from s...   \n3  rayyan-354359272  Virtual Teaching Assistant for Grading Program...   \n4  rayyan-354359273  Analysis of an automatic grading system within...   \n\n                                             authors  \\\n0  Zampirolli F.A., Borovina Josko J.M., Venero M...   \n1            Insa D., Pérez S., Silva J., Tamarit S.   \n2      Vaneck Q., Colart T., Frénay B., Vanderose B.   \n3                             Chou C.-Y., Chen Y.-J.   \n4                      Hegarty-Kelly E., Mooney D.A.   \n\n                                            abstract  year_published  \\\n0  The 2020 pandemic imposed new demands on teach...            2021   \n1  Continuous assessment is essential in educatio...            2021   \n2  Computer science studies are more and more pop...            2021   \n3  This study proposes an automated programming a...            2021   \n4  Reliable and pedagogically sound automated fee...            2021   \n\n                                                tags           category  \\\n0  [approach:fully_automated, data_available:Fals...          [dynamic]   \n1  [approach:semi_automatic, interaction:unknown,...  [dynamic, static]   \n2  [skill:readability, approach:fully_automated, ...           [static]   \n3  [approach:semi_automatic, data_available:False...  [dynamic, static]   \n4  [approach:fully_automated, data_available:Fals...  [dynamic, static]   \n\n                           skills  \\\n0                   [correctness]   \n1                   [correctness]   \n2  [readability, maintainability]   \n3                   [correctness]   \n4                   [correctness]   \n\n                                      skill_cat                      types  \\\n0                         [correctness_dynamic]  [description, evaluation]   \n1     [correctness_dynamic, correctness_static]  [description, evaluation]   \n2  [maintainability_static, readability_static]              [description]   \n3     [correctness_dynamic, correctness_static]  [description, evaluation]   \n4     [correctness_dynamic, correctness_static]  [description, evaluation]   \n\n  lang_family  \n0       [OOP]  \n1       [OOP]  \n2       [OOP]  \n3   [Unknown]  \n4       [OOP]  ",
      "text/html": "<div>\n<style scoped>\n    .dataframe tbody tr th:only-of-type {\n        vertical-align: middle;\n    }\n\n    .dataframe tbody tr th {\n        vertical-align: top;\n    }\n\n    .dataframe thead th {\n        text-align: right;\n    }\n</style>\n<table border=\"1\" class=\"dataframe\">\n  <thead>\n    <tr style=\"text-align: right;\">\n      <th></th>\n      <th>key</th>\n      <th>title</th>\n      <th>authors</th>\n      <th>abstract</th>\n      <th>year_published</th>\n      <th>tags</th>\n      <th>category</th>\n      <th>skills</th>\n      <th>skill_cat</th>\n      <th>types</th>\n      <th>lang_family</th>\n    </tr>\n  </thead>\n  <tbody>\n    <tr>\n      <th>0</th>\n      <td>rayyan-354359269</td>\n      <td>An experience of automated assessment in a lar...</td>\n      <td>Zampirolli F.A., Borovina Josko J.M., Venero M...</td>\n      <td>The 2020 pandemic imposed new demands on teach...</td>\n      <td>2021</td>\n      <td>[approach:fully_automated, data_available:Fals...</td>\n      <td>[dynamic]</td>\n      <td>[correctness]</td>\n      <td>[correctness_dynamic]</td>\n      <td>[description, evaluation]</td>\n      <td>[OOP]</td>\n    </tr>\n    <tr>\n      <th>1</th>\n      <td>rayyan-354359270</td>\n      <td>Semiautomatic generation and assessment of Jav...</td>\n      <td>Insa D., Pérez S., Silva J., Tamarit S.</td>\n      <td>Continuous assessment is essential in educatio...</td>\n      <td>2021</td>\n      <td>[approach:semi_automatic, interaction:unknown,...</td>\n      <td>[dynamic, static]</td>\n      <td>[correctness]</td>\n      <td>[correctness_dynamic, correctness_static]</td>\n      <td>[description, evaluation]</td>\n      <td>[OOP]</td>\n    </tr>\n    <tr>\n      <th>2</th>\n      <td>rayyan-354359271</td>\n      <td>A tool for evaluating computer programs from s...</td>\n      <td>Vaneck Q., Colart T., Frénay B., Vanderose B.</td>\n      <td>Computer science studies are more and more pop...</td>\n      <td>2021</td>\n      <td>[skill:readability, approach:fully_automated, ...</td>\n      <td>[static]</td>\n      <td>[readability, maintainability]</td>\n      <td>[maintainability_static, readability_static]</td>\n      <td>[description]</td>\n      <td>[OOP]</td>\n    </tr>\n    <tr>\n      <th>3</th>\n      <td>rayyan-354359272</td>\n      <td>Virtual Teaching Assistant for Grading Program...</td>\n      <td>Chou C.-Y., Chen Y.-J.</td>\n      <td>This study proposes an automated programming a...</td>\n      <td>2021</td>\n      <td>[approach:semi_automatic, data_available:False...</td>\n      <td>[dynamic, static]</td>\n      <td>[correctness]</td>\n      <td>[correctness_dynamic, correctness_static]</td>\n      <td>[description, evaluation]</td>\n      <td>[Unknown]</td>\n    </tr>\n    <tr>\n      <th>4</th>\n      <td>rayyan-354359273</td>\n      <td>Analysis of an automatic grading system within...</td>\n      <td>Hegarty-Kelly E., Mooney D.A.</td>\n      <td>Reliable and pedagogically sound automated fee...</td>\n      <td>2021</td>\n      <td>[approach:fully_automated, data_available:Fals...</td>\n      <td>[dynamic, static]</td>\n      <td>[correctness]</td>\n      <td>[correctness_dynamic, correctness_static]</td>\n      <td>[description, evaluation]</td>\n      <td>[OOP]</td>\n    </tr>\n  </tbody>\n</table>\n</div>"
     },
     "execution_count": 57,
     "metadata": {},
     "output_type": "execute_result"
    }
   ],
   "source": [
    "df = pd.read_pickle('data/processed.pickle')\n",
    "df.head()"
   ],
   "metadata": {
    "collapsed": false,
    "pycharm": {
     "name": "#%%\n"
    }
   }
  },
  {
   "cell_type": "markdown",
   "source": [
    "# Discussion Stats\n",
    "## Grading\n",
    "### Correctness"
   ],
   "metadata": {
    "collapsed": false,
    "pycharm": {
     "name": "#%% md\n"
    }
   }
  },
  {
   "cell_type": "code",
   "execution_count": 58,
   "outputs": [
    {
     "data": {
      "text/plain": "                  key                                              title  \\\n0    rayyan-354359269  An experience of automated assessment in a lar...   \n1    rayyan-354359270  Semiautomatic generation and assessment of Jav...   \n3    rayyan-354359272  Virtual Teaching Assistant for Grading Program...   \n4    rayyan-354359273  Analysis of an automatic grading system within...   \n5    rayyan-354359274  Evaluating Control-Flow Graph Similarity for G...   \n..                ...                                                ...   \n114  rayyan-354359408  ArTEMiS - An automatic assessment management s...   \n115  rayyan-354359409  Linkage objects for generalized instruction in...   \n116  rayyan-354359410  Automated data-driven hints for computer progr...   \n117  rayyan-354359411  Learning and teaching numerical methods with a...   \n120  rayyan-354359414  Automatic extraction of AST patterns for debug...   \n\n                                     skill_cat  \\\n0                        [correctness_dynamic]   \n1    [correctness_dynamic, correctness_static]   \n3    [correctness_dynamic, correctness_static]   \n4    [correctness_dynamic, correctness_static]   \n5                         [correctness_static]   \n..                                         ...   \n114  [correctness_dynamic, correctness_static]   \n115       [correctness_ml, correctness_static]   \n116  [correctness_dynamic, correctness_static]   \n117  [correctness_dynamic, correctness_static]   \n120                       [correctness_static]   \n\n                                                  tech  \n0    [technique:unit_testing, technique:pre_defined...  \n1    [technique:model_solution_req, technique:patte...  \n3    [technique:output_matching, technique:pattern_...  \n4    [technique:pattern_matching, technique:unit_te...  \n5    [technique:model_solution_req, technique:patte...  \n..                                                 ...  \n114  [technique:ci_cd, technique:unit_testing, tech...  \n115  [technique:machine_learning, technique:pattern...  \n116  [technique:unit_testing, technique:static_anal...  \n117  [technique:matching_rules, technique:unit_test...  \n120                       [technique:pattern_matching]  \n\n[80 rows x 4 columns]",
      "text/html": "<div>\n<style scoped>\n    .dataframe tbody tr th:only-of-type {\n        vertical-align: middle;\n    }\n\n    .dataframe tbody tr th {\n        vertical-align: top;\n    }\n\n    .dataframe thead th {\n        text-align: right;\n    }\n</style>\n<table border=\"1\" class=\"dataframe\">\n  <thead>\n    <tr style=\"text-align: right;\">\n      <th></th>\n      <th>key</th>\n      <th>title</th>\n      <th>skill_cat</th>\n      <th>tech</th>\n    </tr>\n  </thead>\n  <tbody>\n    <tr>\n      <th>0</th>\n      <td>rayyan-354359269</td>\n      <td>An experience of automated assessment in a lar...</td>\n      <td>[correctness_dynamic]</td>\n      <td>[technique:unit_testing, technique:pre_defined...</td>\n    </tr>\n    <tr>\n      <th>1</th>\n      <td>rayyan-354359270</td>\n      <td>Semiautomatic generation and assessment of Jav...</td>\n      <td>[correctness_dynamic, correctness_static]</td>\n      <td>[technique:model_solution_req, technique:patte...</td>\n    </tr>\n    <tr>\n      <th>3</th>\n      <td>rayyan-354359272</td>\n      <td>Virtual Teaching Assistant for Grading Program...</td>\n      <td>[correctness_dynamic, correctness_static]</td>\n      <td>[technique:output_matching, technique:pattern_...</td>\n    </tr>\n    <tr>\n      <th>4</th>\n      <td>rayyan-354359273</td>\n      <td>Analysis of an automatic grading system within...</td>\n      <td>[correctness_dynamic, correctness_static]</td>\n      <td>[technique:pattern_matching, technique:unit_te...</td>\n    </tr>\n    <tr>\n      <th>5</th>\n      <td>rayyan-354359274</td>\n      <td>Evaluating Control-Flow Graph Similarity for G...</td>\n      <td>[correctness_static]</td>\n      <td>[technique:model_solution_req, technique:patte...</td>\n    </tr>\n    <tr>\n      <th>...</th>\n      <td>...</td>\n      <td>...</td>\n      <td>...</td>\n      <td>...</td>\n    </tr>\n    <tr>\n      <th>114</th>\n      <td>rayyan-354359408</td>\n      <td>ArTEMiS - An automatic assessment management s...</td>\n      <td>[correctness_dynamic, correctness_static]</td>\n      <td>[technique:ci_cd, technique:unit_testing, tech...</td>\n    </tr>\n    <tr>\n      <th>115</th>\n      <td>rayyan-354359409</td>\n      <td>Linkage objects for generalized instruction in...</td>\n      <td>[correctness_ml, correctness_static]</td>\n      <td>[technique:machine_learning, technique:pattern...</td>\n    </tr>\n    <tr>\n      <th>116</th>\n      <td>rayyan-354359410</td>\n      <td>Automated data-driven hints for computer progr...</td>\n      <td>[correctness_dynamic, correctness_static]</td>\n      <td>[technique:unit_testing, technique:static_anal...</td>\n    </tr>\n    <tr>\n      <th>117</th>\n      <td>rayyan-354359411</td>\n      <td>Learning and teaching numerical methods with a...</td>\n      <td>[correctness_dynamic, correctness_static]</td>\n      <td>[technique:matching_rules, technique:unit_test...</td>\n    </tr>\n    <tr>\n      <th>120</th>\n      <td>rayyan-354359414</td>\n      <td>Automatic extraction of AST patterns for debug...</td>\n      <td>[correctness_static]</td>\n      <td>[technique:pattern_matching]</td>\n    </tr>\n  </tbody>\n</table>\n<p>80 rows × 4 columns</p>\n</div>"
     },
     "execution_count": 58,
     "metadata": {},
     "output_type": "execute_result"
    }
   ],
   "source": [
    "correct_df = df.copy(deep=True)\n",
    "correct_df.skills = correct_df.skills.astype(str)\n",
    "correct_df = correct_df[correct_df.skills.str.contains(\"^\\['correctness'\\]$\")]\n",
    "correct_df['tech'] = correct_df.tags.apply(lambda labels: [label for label in labels if label.startswith('technique')])\n",
    "correct_df[['key', 'title', 'skill_cat', 'tech']]"
   ],
   "metadata": {
    "collapsed": false,
    "pycharm": {
     "name": "#%%\n"
    }
   }
  },
  {
   "cell_type": "code",
   "execution_count": 59,
   "outputs": [
    {
     "data": {
      "text/plain": "66.11570247933885"
     },
     "execution_count": 59,
     "metadata": {},
     "output_type": "execute_result"
    }
   ],
   "source": [
    "(correct_df.shape[0] / df.shape[0]) * 100"
   ],
   "metadata": {
    "collapsed": false,
    "pycharm": {
     "name": "#%%\n"
    }
   }
  },
  {
   "cell_type": "code",
   "execution_count": 60,
   "outputs": [
    {
     "data": {
      "text/plain": "[correctness_dynamic]                        36\n[correctness_dynamic, correctness_static]    21\n[correctness_static]                         17\n[correctness_ml, correctness_static]          3\n[correctness_ml]                              2\n[correctness_dynamic, correctness_ml]         1\nName: skill_cat, dtype: int64"
     },
     "execution_count": 60,
     "metadata": {},
     "output_type": "execute_result"
    }
   ],
   "source": [
    "correct_df.skill_cat.value_counts()"
   ],
   "metadata": {
    "collapsed": false,
    "pycharm": {
     "name": "#%%\n"
    }
   }
  },
  {
   "cell_type": "code",
   "execution_count": 61,
   "outputs": [
    {
     "data": {
      "text/plain": "[dynamic]            45.00\n[dynamic, static]    26.25\n[static]             21.25\n[static, ml]          3.75\n[ml]                  2.50\n[dynamic, ml]         1.25\nName: category, dtype: float64"
     },
     "execution_count": 61,
     "metadata": {},
     "output_type": "execute_result"
    }
   ],
   "source": [
    "(correct_df.category.value_counts() / correct_df.shape[0]) * 100"
   ],
   "metadata": {
    "collapsed": false,
    "pycharm": {
     "name": "#%%\n"
    }
   }
  },
  {
   "cell_type": "code",
   "execution_count": 62,
   "outputs": [
    {
     "data": {
      "text/plain": "technique:unit_testing                100.000000\ntechnique:ci_cd                        11.111111\ntechnique:model_solution_req           11.111111\ntechnique:trace_examination             5.555556\ntechnique:property_based_testing        5.555556\ntechnique:output_matching               5.555556\ntechnique:pre_defined_questions         2.777778\ntechnique:unit_test_expansion           2.777778\ntechnique:mutation_testing              2.777778\ntechnique:novel                         2.777778\ntechnique:test_case_generation          2.777778\ntechnique:gui_testing                   2.777778\ntechnique:program_synthesis             2.777778\ntechnique:code_repair_for_feedback      2.777778\nName: tech, dtype: float64"
     },
     "execution_count": 62,
     "metadata": {},
     "output_type": "execute_result"
    }
   ],
   "source": [
    "correct_df['only_dynamic'] = df.category.apply(lambda x: 'dynamic' in str(x) and 'static' not in str(x) and 'ml' not in str(x))\n",
    "(correct_df[correct_df.only_dynamic].explode('tech').tech.value_counts() / correct_df[correct_df.only_dynamic].shape[0]) * 100"
   ],
   "metadata": {
    "collapsed": false,
    "pycharm": {
     "name": "#%%\n"
    }
   }
  },
  {
   "cell_type": "code",
   "execution_count": 63,
   "outputs": [
    {
     "data": {
      "text/plain": "technique:pattern_matching            70.588235\ntechnique:model_solution_req          41.176471\ntechnique:model_solution_closeness    35.294118\ntechnique:program_repair              35.294118\ntechnique:code_repair_for_feedback    29.411765\ntechnique:clustering                  17.647059\ntechnique:matching_rules              17.647059\ntechnique:trace_examination           17.647059\ntechnique:output_matching             11.764706\ntechnique:graph_analysis              11.764706\ntechnique:control_flow_graph           5.882353\ntechnique:data_driven                  5.882353\ntechnique:token_pattern_matching       5.882353\ntechnique:knowledge_base               5.882353\ntechnique:dynamic_analysis             5.882353\nName: tech, dtype: float64"
     },
     "execution_count": 63,
     "metadata": {},
     "output_type": "execute_result"
    }
   ],
   "source": [
    "correct_df['only_static'] = df.category.apply(lambda x: 'dynamic' not in str(x) and 'static' in str(x) and 'ml' not in str(x))\n",
    "(correct_df[correct_df.only_static].explode('tech').tech.value_counts() / correct_df[correct_df.only_static].shape[0]) * 100"
   ],
   "metadata": {
    "collapsed": false,
    "pycharm": {
     "name": "#%%\n"
    }
   }
  },
  {
   "cell_type": "code",
   "execution_count": 64,
   "outputs": [
    {
     "data": {
      "text/plain": "technique:unit_testing                100.000000\ntechnique:matching_rules               33.333333\ntechnique:pattern_matching             28.571429\ntechnique:static_analysis              23.809524\ntechnique:model_solution_req           19.047619\ntechnique:style_check                  19.047619\ntechnique:program_repair               14.285714\ntechnique:model_solution_closeness      9.523810\ntechnique:dynamic_analysis              9.523810\ntechnique:output_matching               9.523810\ntechnique:ci_cd                         9.523810\ntechnique:fault_localisation            4.761905\ntechnique:program_verification          4.761905\ntechnique:code_repair_for_feedback      4.761905\ntechnique:language_stuctures            4.761905\ntechnique:test_case_generation          4.761905\ntechnique:knowledge_base                4.761905\nName: tech, dtype: float64"
     },
     "execution_count": 64,
     "metadata": {},
     "output_type": "execute_result"
    }
   ],
   "source": [
    "correct_df['dynamic_static'] = df.category.apply(lambda x: 'dynamic' in str(x) and 'static' in str(x) and 'ml' not in str(x))\n",
    "(correct_df[correct_df.dynamic_static].explode('tech').tech.value_counts() / correct_df[correct_df.dynamic_static].shape[0]) * 100"
   ],
   "metadata": {
    "collapsed": false,
    "pycharm": {
     "name": "#%%\n"
    }
   }
  },
  {
   "cell_type": "code",
   "execution_count": 65,
   "outputs": [
    {
     "data": {
      "text/plain": "                  key                                              title  \\\n13   rayyan-354359285  An Intelligent Online Judge System for Program...   \n19   rayyan-354359295  Convolutional neural network applied to code a...   \n34   rayyan-354359310  Automatic assessment of programming assignment...   \n61   rayyan-354359341  Source-Code Similarity Measurement: Syntax Tre...   \n83   rayyan-354359367  Targeted Example Generation for Compilation Er...   \n115  rayyan-354359409  Linkage objects for generalized instruction in...   \n\n          category  \n13   [dynamic, ml]  \n19            [ml]  \n34            [ml]  \n61    [static, ml]  \n83    [static, ml]  \n115   [static, ml]  ",
      "text/html": "<div>\n<style scoped>\n    .dataframe tbody tr th:only-of-type {\n        vertical-align: middle;\n    }\n\n    .dataframe tbody tr th {\n        vertical-align: top;\n    }\n\n    .dataframe thead th {\n        text-align: right;\n    }\n</style>\n<table border=\"1\" class=\"dataframe\">\n  <thead>\n    <tr style=\"text-align: right;\">\n      <th></th>\n      <th>key</th>\n      <th>title</th>\n      <th>category</th>\n    </tr>\n  </thead>\n  <tbody>\n    <tr>\n      <th>13</th>\n      <td>rayyan-354359285</td>\n      <td>An Intelligent Online Judge System for Program...</td>\n      <td>[dynamic, ml]</td>\n    </tr>\n    <tr>\n      <th>19</th>\n      <td>rayyan-354359295</td>\n      <td>Convolutional neural network applied to code a...</td>\n      <td>[ml]</td>\n    </tr>\n    <tr>\n      <th>34</th>\n      <td>rayyan-354359310</td>\n      <td>Automatic assessment of programming assignment...</td>\n      <td>[ml]</td>\n    </tr>\n    <tr>\n      <th>61</th>\n      <td>rayyan-354359341</td>\n      <td>Source-Code Similarity Measurement: Syntax Tre...</td>\n      <td>[static, ml]</td>\n    </tr>\n    <tr>\n      <th>83</th>\n      <td>rayyan-354359367</td>\n      <td>Targeted Example Generation for Compilation Er...</td>\n      <td>[static, ml]</td>\n    </tr>\n    <tr>\n      <th>115</th>\n      <td>rayyan-354359409</td>\n      <td>Linkage objects for generalized instruction in...</td>\n      <td>[static, ml]</td>\n    </tr>\n  </tbody>\n</table>\n</div>"
     },
     "execution_count": 65,
     "metadata": {},
     "output_type": "execute_result"
    }
   ],
   "source": [
    "correct_df['ml'] = df.category.apply(lambda x: 'ml' in str(x))\n",
    "ml_df = correct_df.loc[correct_df.ml]\n",
    "ml_df[['key', 'title', 'category']]"
   ],
   "metadata": {
    "collapsed": false,
    "pycharm": {
     "name": "#%%\n"
    }
   }
  },
  {
   "cell_type": "markdown",
   "source": [
    "### Maintainability"
   ],
   "metadata": {
    "collapsed": false,
    "pycharm": {
     "name": "#%% md\n"
    }
   }
  },
  {
   "cell_type": "code",
   "execution_count": 66,
   "outputs": [
    {
     "data": {
      "text/plain": "                 key                                              title  \\\n92  rayyan-354359378  A Comparison of Inquiry-Based Conceptual Feedb...   \n\n                                         authors  \\\n92  Cordova L., Carver J., Gershmel N., Walia G.   \n\n                                             abstract  year_published  \\\n92  The feedback provided by current testing educa...            2021   \n\n                                                 tags  category  \\\n92  [skill:test_suite_quality, approach:fully_auto...  [static]   \n\n                 skills                 skill_cat         types lang_family  \n92  ['maintainability']  [maintainability_static]  [evaluation]       [OOP]  ",
      "text/html": "<div>\n<style scoped>\n    .dataframe tbody tr th:only-of-type {\n        vertical-align: middle;\n    }\n\n    .dataframe tbody tr th {\n        vertical-align: top;\n    }\n\n    .dataframe thead th {\n        text-align: right;\n    }\n</style>\n<table border=\"1\" class=\"dataframe\">\n  <thead>\n    <tr style=\"text-align: right;\">\n      <th></th>\n      <th>key</th>\n      <th>title</th>\n      <th>authors</th>\n      <th>abstract</th>\n      <th>year_published</th>\n      <th>tags</th>\n      <th>category</th>\n      <th>skills</th>\n      <th>skill_cat</th>\n      <th>types</th>\n      <th>lang_family</th>\n    </tr>\n  </thead>\n  <tbody>\n    <tr>\n      <th>92</th>\n      <td>rayyan-354359378</td>\n      <td>A Comparison of Inquiry-Based Conceptual Feedb...</td>\n      <td>Cordova L., Carver J., Gershmel N., Walia G.</td>\n      <td>The feedback provided by current testing educa...</td>\n      <td>2021</td>\n      <td>[skill:test_suite_quality, approach:fully_auto...</td>\n      <td>[static]</td>\n      <td>['maintainability']</td>\n      <td>[maintainability_static]</td>\n      <td>[evaluation]</td>\n      <td>[OOP]</td>\n    </tr>\n  </tbody>\n</table>\n</div>"
     },
     "execution_count": 66,
     "metadata": {},
     "output_type": "execute_result"
    }
   ],
   "source": [
    "maint_df = df.copy(deep=True)\n",
    "maint_df.skills = maint_df.skills.astype(str)\n",
    "maint_df = maint_df[maint_df.skills.str.contains(\"^\\['maintainability'\\]$\")].copy()\n",
    "maint_df"
   ],
   "metadata": {
    "collapsed": false,
    "pycharm": {
     "name": "#%%\n"
    }
   }
  },
  {
   "cell_type": "code",
   "execution_count": 67,
   "outputs": [
    {
     "data": {
      "text/plain": "technique:model_solution_req    100.0\ntechnique:static_analysis       100.0\nName: tech, dtype: float64"
     },
     "execution_count": 67,
     "metadata": {},
     "output_type": "execute_result"
    }
   ],
   "source": [
    "maint_df['tech'] = maint_df.tags.apply(lambda labels: [label for label in labels if label.startswith('technique')])\n",
    "(maint_df.explode('tech').tech.value_counts() / maint_df.shape[0]) * 100"
   ],
   "metadata": {
    "collapsed": false,
    "pycharm": {
     "name": "#%%\n"
    }
   }
  },
  {
   "cell_type": "markdown",
   "source": [
    "### Readability"
   ],
   "metadata": {
    "collapsed": false,
    "pycharm": {
     "name": "#%% md\n"
    }
   }
  },
  {
   "cell_type": "code",
   "execution_count": 68,
   "outputs": [
    {
     "data": {
      "text/plain": "                  key                                              title  \\\n30   rayyan-354359306  The impact of automated code quality feedback ...   \n77   rayyan-354359360  Promoting Code Quality via Automated Feedback ...   \n79   rayyan-354359362  Measure Students’ Contribution in Web Programm...   \n107  rayyan-354359398      Static analyses in python programming courses   \n\n     category  \n30   [static]  \n77   [static]  \n79   [static]  \n107  [static]  ",
      "text/html": "<div>\n<style scoped>\n    .dataframe tbody tr th:only-of-type {\n        vertical-align: middle;\n    }\n\n    .dataframe tbody tr th {\n        vertical-align: top;\n    }\n\n    .dataframe thead th {\n        text-align: right;\n    }\n</style>\n<table border=\"1\" class=\"dataframe\">\n  <thead>\n    <tr style=\"text-align: right;\">\n      <th></th>\n      <th>key</th>\n      <th>title</th>\n      <th>category</th>\n    </tr>\n  </thead>\n  <tbody>\n    <tr>\n      <th>30</th>\n      <td>rayyan-354359306</td>\n      <td>The impact of automated code quality feedback ...</td>\n      <td>[static]</td>\n    </tr>\n    <tr>\n      <th>77</th>\n      <td>rayyan-354359360</td>\n      <td>Promoting Code Quality via Automated Feedback ...</td>\n      <td>[static]</td>\n    </tr>\n    <tr>\n      <th>79</th>\n      <td>rayyan-354359362</td>\n      <td>Measure Students’ Contribution in Web Programm...</td>\n      <td>[static]</td>\n    </tr>\n    <tr>\n      <th>107</th>\n      <td>rayyan-354359398</td>\n      <td>Static analyses in python programming courses</td>\n      <td>[static]</td>\n    </tr>\n  </tbody>\n</table>\n</div>"
     },
     "execution_count": 68,
     "metadata": {},
     "output_type": "execute_result"
    }
   ],
   "source": [
    "# Analysing hint based problem solving strategy among novice programmers through gamification technique - Might be removed\n",
    "read_df = df.copy(deep=True)\n",
    "read_df.skills = read_df.skills.astype(str)\n",
    "read_df = read_df[read_df.skills.str.contains(\"^\\['readability'\\]$\")]\n",
    "read_df[['key', 'title', 'category']]"
   ],
   "metadata": {
    "collapsed": false,
    "pycharm": {
     "name": "#%%\n"
    }
   }
  },
  {
   "cell_type": "code",
   "execution_count": 69,
   "outputs": [
    {
     "data": {
      "text/plain": "3.3057851239669422"
     },
     "execution_count": 69,
     "metadata": {},
     "output_type": "execute_result"
    }
   ],
   "source": [
    "(read_df.shape[0] / df.shape[0]) * 100"
   ],
   "metadata": {
    "collapsed": false,
    "pycharm": {
     "name": "#%%\n"
    }
   }
  },
  {
   "cell_type": "code",
   "execution_count": 70,
   "outputs": [
    {
     "data": {
      "text/plain": "[static]    4\nName: category, dtype: int64"
     },
     "execution_count": 70,
     "metadata": {},
     "output_type": "execute_result"
    }
   ],
   "source": [
    "read_df.category.value_counts()"
   ],
   "metadata": {
    "collapsed": false,
    "pycharm": {
     "name": "#%%\n"
    }
   }
  },
  {
   "cell_type": "markdown",
   "source": [
    "### Correctness, Documentation"
   ],
   "metadata": {
    "collapsed": false,
    "pycharm": {
     "name": "#%% md\n"
    }
   }
  },
  {
   "cell_type": "code",
   "execution_count": 71,
   "outputs": [
    {
     "data": {
      "text/plain": "                 key                                              title  \\\n29  rayyan-354359305  Developing applications to automatically grade...   \n\n      authors                                           abstract  \\\n29  Gerdes J.  There are many unique challenges associated wi...   \n\n    year_published                                               tags  \\\n29            2017  [approach:fully_automated, data_available:Fals...   \n\n    category                            skills  \\\n29  [static]  ['correctness', 'documentation']   \n\n                                     skill_cat                      types  \\\n29  [correctness_static, documentation_static]  [description, evaluation]   \n\n   lang_family  \n29       [OOP]  ",
      "text/html": "<div>\n<style scoped>\n    .dataframe tbody tr th:only-of-type {\n        vertical-align: middle;\n    }\n\n    .dataframe tbody tr th {\n        vertical-align: top;\n    }\n\n    .dataframe thead th {\n        text-align: right;\n    }\n</style>\n<table border=\"1\" class=\"dataframe\">\n  <thead>\n    <tr style=\"text-align: right;\">\n      <th></th>\n      <th>key</th>\n      <th>title</th>\n      <th>authors</th>\n      <th>abstract</th>\n      <th>year_published</th>\n      <th>tags</th>\n      <th>category</th>\n      <th>skills</th>\n      <th>skill_cat</th>\n      <th>types</th>\n      <th>lang_family</th>\n    </tr>\n  </thead>\n  <tbody>\n    <tr>\n      <th>29</th>\n      <td>rayyan-354359305</td>\n      <td>Developing applications to automatically grade...</td>\n      <td>Gerdes J.</td>\n      <td>There are many unique challenges associated wi...</td>\n      <td>2017</td>\n      <td>[approach:fully_automated, data_available:Fals...</td>\n      <td>[static]</td>\n      <td>['correctness', 'documentation']</td>\n      <td>[correctness_static, documentation_static]</td>\n      <td>[description, evaluation]</td>\n      <td>[OOP]</td>\n    </tr>\n  </tbody>\n</table>\n</div>"
     },
     "execution_count": 71,
     "metadata": {},
     "output_type": "execute_result"
    }
   ],
   "source": [
    "doc_df = df.copy(deep=True)\n",
    "doc_df.skills = doc_df.skills.astype(str)\n",
    "doc_df[doc_df.skills.str.contains(\"^\\['correctness', 'documentation'\\]$\")]"
   ],
   "metadata": {
    "collapsed": false,
    "pycharm": {
     "name": "#%%\n"
    }
   }
  },
  {
   "cell_type": "markdown",
   "source": [
    "### Combination Graders"
   ],
   "metadata": {
    "collapsed": false,
    "pycharm": {
     "name": "#%% md\n"
    }
   }
  },
  {
   "cell_type": "code",
   "execution_count": null,
   "outputs": [],
   "source": [
    "(df.skills.value_counts() / df.shape[0]) * 100"
   ],
   "metadata": {
    "collapsed": false,
    "pycharm": {
     "name": "#%%\n"
    }
   }
  },
  {
   "cell_type": "code",
   "execution_count": null,
   "outputs": [],
   "source": [
    "(df.skill_cat.value_counts() / df.shape[0]) * 100"
   ],
   "metadata": {
    "collapsed": false,
    "pycharm": {
     "name": "#%%\n"
    }
   }
  },
  {
   "cell_type": "code",
   "execution_count": null,
   "outputs": [],
   "source": [
    "combo_df = df.copy(deep=True)\n",
    "combo_df.skills = combo_df.skills.astype(str)\n",
    "combo_df[combo_df.skills.str.contains(\"^\\['correctness', 'readability', 'maintainability']$\")]"
   ],
   "metadata": {
    "collapsed": false,
    "pycharm": {
     "name": "#%%\n"
    }
   }
  },
  {
   "cell_type": "markdown",
   "source": [
    "### Code Repair papers"
   ],
   "metadata": {
    "collapsed": false,
    "pycharm": {
     "name": "#%% md\n"
    }
   }
  },
  {
   "cell_type": "code",
   "execution_count": null,
   "outputs": [],
   "source": [
    "cr_df = df.copy()\n",
    "cr_df['tech'] = cr_df.tags.apply(lambda labels: [label for label in labels if 'code_repair' in label or 'program_repair' in label])\n",
    "cr_df.tech = cr_df.tech.map(lambda labels: None if len(labels) == 0 else labels)\n",
    "cr_df[~cr_df.tech.isna()]"
   ],
   "metadata": {
    "collapsed": false,
    "pycharm": {
     "name": "#%%\n"
    }
   }
  },
  {
   "cell_type": "markdown",
   "source": [
    "## Degree of Automation"
   ],
   "metadata": {
    "collapsed": false,
    "pycharm": {
     "name": "#%% md\n"
    }
   }
  },
  {
   "cell_type": "code",
   "execution_count": null,
   "outputs": [],
   "source": [
    "doa_df = df.copy()\n",
    "doa_df['approach'] = doa_df.tags.apply(lambda labels: [str(label) for label in labels if label.startswith('approach')])\n",
    "doa_df = doa_df.explode('approach')\n",
    "doa_df.approach.value_counts()"
   ],
   "metadata": {
    "collapsed": false,
    "pycharm": {
     "name": "#%%\n"
    }
   }
  },
  {
   "cell_type": "code",
   "execution_count": null,
   "outputs": [],
   "source": [
    "(doa_df.approach.value_counts() /  doa_df.shape[0]) * 100"
   ],
   "metadata": {
    "collapsed": false,
    "pycharm": {
     "name": "#%%\n"
    }
   }
  },
  {
   "cell_type": "code",
   "execution_count": null,
   "outputs": [],
   "source": [
    "(doa_df[doa_df.approach.str.contains('fully')].skills.value_counts() / doa_df.shape[0]) * 100"
   ],
   "metadata": {
    "collapsed": false,
    "pycharm": {
     "name": "#%%\n"
    }
   }
  },
  {
   "cell_type": "markdown",
   "source": [
    "#### CI/CD"
   ],
   "metadata": {
    "collapsed": false,
    "pycharm": {
     "name": "#%% md\n"
    }
   }
  },
  {
   "cell_type": "code",
   "execution_count": null,
   "outputs": [],
   "source": [
    "df.explode('tags')[df.explode('tags').tags.str.contains('ci_cd')]"
   ],
   "metadata": {
    "collapsed": false,
    "pycharm": {
     "name": "#%%\n"
    }
   }
  },
  {
   "cell_type": "markdown",
   "source": [
    "#### Semi"
   ],
   "metadata": {
    "collapsed": false,
    "pycharm": {
     "name": "#%% md\n"
    }
   }
  },
  {
   "cell_type": "code",
   "execution_count": null,
   "outputs": [],
   "source": [
    "doa_df[doa_df.approach.str.contains('semi')].explode('tags').tags.value_counts()"
   ],
   "metadata": {
    "collapsed": false,
    "pycharm": {
     "name": "#%%\n"
    }
   }
  },
  {
   "cell_type": "markdown",
   "source": [
    "## Language Paradigms"
   ],
   "metadata": {
    "collapsed": false,
    "pycharm": {
     "name": "#%% md\n"
    }
   }
  },
  {
   "cell_type": "code",
   "execution_count": null,
   "outputs": [],
   "source": [
    "lp_df = df.copy()\n",
    "lp_df.lang_family.value_counts()"
   ],
   "metadata": {
    "collapsed": false,
    "pycharm": {
     "name": "#%%\n"
    }
   }
  },
  {
   "cell_type": "code",
   "execution_count": null,
   "outputs": [],
   "source": [
    "(lp_df.lang_family.value_counts() / lp_df.shape[0]) * 100"
   ],
   "metadata": {
    "collapsed": false,
    "pycharm": {
     "name": "#%%\n"
    }
   }
  },
  {
   "cell_type": "code",
   "execution_count": null,
   "outputs": [],
   "source": [
    "lp_df.lang_family = lp_df.lang_family.astype(str)\n",
    "lp_df[lp_df.lang_family.str.contains('Query')]"
   ],
   "metadata": {
    "collapsed": false,
    "pycharm": {
     "name": "#%%\n"
    }
   }
  },
  {
   "cell_type": "markdown",
   "source": [
    "## Evaluation"
   ],
   "metadata": {
    "collapsed": false,
    "pycharm": {
     "name": "#%% md\n"
    }
   }
  },
  {
   "cell_type": "code",
   "execution_count": null,
   "outputs": [],
   "source": [
    "eval_df = df.copy()\n",
    "eval_df.tags = eval_df.tags.apply(lambda labels: [str(label) for label in labels if label.startswith('evaluation')])\n",
    "eval_df = eval_df.explode('tags')\n",
    "(eval_df.tags.value_counts() / eval_df.shape[0]) * 100"
   ],
   "metadata": {
    "collapsed": false,
    "pycharm": {
     "name": "#%%\n"
    }
   }
  },
  {
   "cell_type": "code",
   "execution_count": null,
   "outputs": [],
   "source": [
    "eval_df[eval_df.tags.str.contains('manual_grading')]"
   ],
   "metadata": {
    "collapsed": false,
    "pycharm": {
     "name": "#%%\n"
    }
   }
  },
  {
   "cell_type": "code",
   "execution_count": 100,
   "outputs": [
    {
     "data": {
      "text/plain": "                  key                                              title  \\\n17   rayyan-354359293  Improving Programming Education Quality with A...   \n36   rayyan-354359313  Enhancing the Learning of Database Access Prog...   \n67   rayyan-354359348  Effectiveness of Real-Time Feedback and Instru...   \n79   rayyan-354359362  Measure Students’ Contribution in Web Programm...   \n80   rayyan-354359363  Investigating the Essential of Meaningful Auto...   \n96   rayyan-354359385  Towards understanding the effective design of ...   \n114  rayyan-354359408  ArTEMiS - An automatic assessment management s...   \n\n                                               authors  \\\n17                               Cai Y.-Z., Tsai M.-H.   \n36                                            B. Pérez   \n67                                              Lee HH   \n79         B. -A. Nguyen and K. -Y. Ho and H. -M. Chen   \n80   Q. Hao and J. P. Wilson and C. Ottaway and N. ...   \n96   Hao Q., Smith IV D.H., Ding L., Ko A., Ottaway...   \n114                               Krusche S., Seitz A.   \n\n                                              abstract  year_published  \\\n17   As the rapid growth of information technology,...            2019   \n36   Database access programming is a noteworthy co...            2021   \n67   In this paper, we present our findings on enha...            2021   \n79   Large scale software systems are usually devel...            2020   \n80   This study investigated the essential of meani...            2019   \n96   Background and Context: automated feedback for...            2021   \n114  The increasing number of students in computer ...            2018   \n\n                tags           category         skills  \\\n17   technique:ci_cd          [dynamic]  [correctness]   \n36   technique:ci_cd          [dynamic]  [correctness]   \n67   technique:ci_cd          [dynamic]  [correctness]   \n79   technique:ci_cd           [static]  [readability]   \n80   technique:ci_cd  [dynamic, static]  [correctness]   \n96   technique:ci_cd          [dynamic]  [correctness]   \n114  technique:ci_cd  [dynamic, static]  [correctness]   \n\n                                     skill_cat                      types  \\\n17                       [correctness_dynamic]  [description, evaluation]   \n36                       [correctness_dynamic]  [description, evaluation]   \n67                       [correctness_dynamic]  [description, evaluation]   \n79                        [readability_static]  [description, evaluation]   \n80   [correctness_dynamic, correctness_static]               [evaluation]   \n96                       [correctness_dynamic]               [evaluation]   \n114  [correctness_dynamic, correctness_static]  [description, evaluation]   \n\n    lang_family  \n17        [OOP]  \n36        [OOP]  \n67        [OOP]  \n79        [Web]  \n80        [OOP]  \n96        [OOP]  \n114       [OOP]  ",
      "text/html": "<div>\n<style scoped>\n    .dataframe tbody tr th:only-of-type {\n        vertical-align: middle;\n    }\n\n    .dataframe tbody tr th {\n        vertical-align: top;\n    }\n\n    .dataframe thead th {\n        text-align: right;\n    }\n</style>\n<table border=\"1\" class=\"dataframe\">\n  <thead>\n    <tr style=\"text-align: right;\">\n      <th></th>\n      <th>key</th>\n      <th>title</th>\n      <th>authors</th>\n      <th>abstract</th>\n      <th>year_published</th>\n      <th>tags</th>\n      <th>category</th>\n      <th>skills</th>\n      <th>skill_cat</th>\n      <th>types</th>\n      <th>lang_family</th>\n    </tr>\n  </thead>\n  <tbody>\n    <tr>\n      <th>17</th>\n      <td>rayyan-354359293</td>\n      <td>Improving Programming Education Quality with A...</td>\n      <td>Cai Y.-Z., Tsai M.-H.</td>\n      <td>As the rapid growth of information technology,...</td>\n      <td>2019</td>\n      <td>technique:ci_cd</td>\n      <td>[dynamic]</td>\n      <td>[correctness]</td>\n      <td>[correctness_dynamic]</td>\n      <td>[description, evaluation]</td>\n      <td>[OOP]</td>\n    </tr>\n    <tr>\n      <th>36</th>\n      <td>rayyan-354359313</td>\n      <td>Enhancing the Learning of Database Access Prog...</td>\n      <td>B. Pérez</td>\n      <td>Database access programming is a noteworthy co...</td>\n      <td>2021</td>\n      <td>technique:ci_cd</td>\n      <td>[dynamic]</td>\n      <td>[correctness]</td>\n      <td>[correctness_dynamic]</td>\n      <td>[description, evaluation]</td>\n      <td>[OOP]</td>\n    </tr>\n    <tr>\n      <th>67</th>\n      <td>rayyan-354359348</td>\n      <td>Effectiveness of Real-Time Feedback and Instru...</td>\n      <td>Lee HH</td>\n      <td>In this paper, we present our findings on enha...</td>\n      <td>2021</td>\n      <td>technique:ci_cd</td>\n      <td>[dynamic]</td>\n      <td>[correctness]</td>\n      <td>[correctness_dynamic]</td>\n      <td>[description, evaluation]</td>\n      <td>[OOP]</td>\n    </tr>\n    <tr>\n      <th>79</th>\n      <td>rayyan-354359362</td>\n      <td>Measure Students’ Contribution in Web Programm...</td>\n      <td>B. -A. Nguyen and K. -Y. Ho and H. -M. Chen</td>\n      <td>Large scale software systems are usually devel...</td>\n      <td>2020</td>\n      <td>technique:ci_cd</td>\n      <td>[static]</td>\n      <td>[readability]</td>\n      <td>[readability_static]</td>\n      <td>[description, evaluation]</td>\n      <td>[Web]</td>\n    </tr>\n    <tr>\n      <th>80</th>\n      <td>rayyan-354359363</td>\n      <td>Investigating the Essential of Meaningful Auto...</td>\n      <td>Q. Hao and J. P. Wilson and C. Ottaway and N. ...</td>\n      <td>This study investigated the essential of meani...</td>\n      <td>2019</td>\n      <td>technique:ci_cd</td>\n      <td>[dynamic, static]</td>\n      <td>[correctness]</td>\n      <td>[correctness_dynamic, correctness_static]</td>\n      <td>[evaluation]</td>\n      <td>[OOP]</td>\n    </tr>\n    <tr>\n      <th>96</th>\n      <td>rayyan-354359385</td>\n      <td>Towards understanding the effective design of ...</td>\n      <td>Hao Q., Smith IV D.H., Ding L., Ko A., Ottaway...</td>\n      <td>Background and Context: automated feedback for...</td>\n      <td>2021</td>\n      <td>technique:ci_cd</td>\n      <td>[dynamic]</td>\n      <td>[correctness]</td>\n      <td>[correctness_dynamic]</td>\n      <td>[evaluation]</td>\n      <td>[OOP]</td>\n    </tr>\n    <tr>\n      <th>114</th>\n      <td>rayyan-354359408</td>\n      <td>ArTEMiS - An automatic assessment management s...</td>\n      <td>Krusche S., Seitz A.</td>\n      <td>The increasing number of students in computer ...</td>\n      <td>2018</td>\n      <td>technique:ci_cd</td>\n      <td>[dynamic, static]</td>\n      <td>[correctness]</td>\n      <td>[correctness_dynamic, correctness_static]</td>\n      <td>[description, evaluation]</td>\n      <td>[OOP]</td>\n    </tr>\n  </tbody>\n</table>\n</div>"
     },
     "execution_count": 100,
     "metadata": {},
     "output_type": "execute_result"
    }
   ],
   "source": [
    "df.explode('tags')[df.explode('tags').tags.str.contains('ci_cd')]"
   ],
   "metadata": {
    "collapsed": false,
    "pycharm": {
     "name": "#%%\n"
    }
   }
  },
  {
   "cell_type": "markdown",
   "source": [
    "#### Semi"
   ],
   "metadata": {
    "collapsed": false,
    "pycharm": {
     "name": "#%% md\n"
    }
   }
  },
  {
   "cell_type": "code",
   "execution_count": null,
   "outputs": [],
   "source": [
    "doa_df[doa_df.approach.str.contains('semi')].explode('tags').tags.value_counts()"
   ],
   "metadata": {
    "collapsed": false,
    "pycharm": {
     "name": "#%%\n"
    }
   }
  },
  {
   "cell_type": "markdown",
   "source": [
    "## Language Paradigms"
   ],
   "metadata": {
    "collapsed": false,
    "pycharm": {
     "name": "#%% md\n"
    }
   }
  },
  {
   "cell_type": "code",
   "execution_count": null,
   "outputs": [],
   "source": [
    "lp_df = df.copy()\n",
    "lp_df.lang_family.value_counts()"
   ],
   "metadata": {
    "collapsed": false,
    "pycharm": {
     "name": "#%%\n"
    }
   }
  },
  {
   "cell_type": "code",
   "execution_count": null,
   "outputs": [],
   "source": [
    "(lp_df.lang_family.value_counts() / lp_df.shape[0]) * 100"
   ],
   "metadata": {
    "collapsed": false,
    "pycharm": {
     "name": "#%%\n"
    }
   }
  },
  {
   "cell_type": "code",
   "execution_count": null,
   "outputs": [],
   "source": [
    "lp_df.lang_family = lp_df.lang_family.astype(str)\n",
    "lp_df[lp_df.lang_family.str.contains('Query')]"
   ],
   "metadata": {
    "collapsed": false,
    "pycharm": {
     "name": "#%%\n"
    }
   }
  },
  {
   "cell_type": "markdown",
   "source": [
    "## Evaluation"
   ],
   "metadata": {
    "collapsed": false,
    "pycharm": {
     "name": "#%% md\n"
    }
   }
  },
  {
   "cell_type": "code",
   "execution_count": null,
   "outputs": [],
   "source": [
    "eval_df = df.copy()\n",
    "eval_df.tags = eval_df.tags.apply(lambda labels: [str(label) for label in labels if label.startswith('evaluation')])\n",
    "eval_df = eval_df.explode('tags')\n",
    "(eval_df.tags.value_counts() / eval_df.shape[0]) * 100"
   ],
   "metadata": {
    "collapsed": false,
    "pycharm": {
     "name": "#%%\n"
    }
   }
  },
  {
   "cell_type": "code",
   "execution_count": null,
   "outputs": [],
   "source": [
    "eval_df[eval_df.tags.str.contains('manual_grading')]"
   ],
   "metadata": {
    "collapsed": false,
    "pycharm": {
     "name": "#%%\n"
    }
   }
  }
 ],
 "metadata": {
  "kernelspec": {
   "display_name": "Python 3",
   "language": "python",
   "name": "python3"
  },
  "language_info": {
   "codemirror_mode": {
    "name": "ipython",
    "version": 2
   },
   "file_extension": ".py",
   "mimetype": "text/x-python",
   "name": "python",
   "nbconvert_exporter": "python",
   "pygments_lexer": "ipython2",
   "version": "2.7.6"
  }
 },
 "nbformat": 4,
 "nbformat_minor": 0
}