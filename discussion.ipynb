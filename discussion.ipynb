{
 "cells": [
  {
   "cell_type": "code",
   "execution_count": 271,
   "metadata": {
    "collapsed": true,
    "pycharm": {
     "name": "#%%\n"
    }
   },
   "outputs": [],
   "source": [
    "import pandas as pd\n",
    "import seaborn as sns\n",
    "import matplotlib.pyplot as plt\n",
    "\n",
    "sns.set_palette('husl')"
   ]
  },
  {
   "cell_type": "code",
   "execution_count": 272,
   "outputs": [
    {
     "name": "stderr",
     "output_type": "stream",
     "text": [
      "/var/folders/1y/6byzw1px62g2f5w7p_rhb6kh0000gn/T/ipykernel_5176/1523540997.py:2: FutureWarning: The default value of regex will change from True to False in a future version.\n",
      "  df.tags = df.tags.str.strip(\"[]\").str.replace(r\"\\s*|'\", '').str.split(',')\n"
     ]
    },
    {
     "data": {
      "text/plain": "                key                                              title  \\\n0  rayyan-354359269  An experience of automated assessment in a lar...   \n1  rayyan-354359270  Semiautomatic generation and assessment of Jav...   \n2  rayyan-354359271  A tool for evaluating computer programs from s...   \n3  rayyan-354359272  Virtual Teaching Assistant for Grading Program...   \n4  rayyan-354359273  Analysis of an automatic grading system within...   \n\n                                             authors  \\\n0  Zampirolli F.A., Borovina Josko J.M., Venero M...   \n1            Insa D., Pérez S., Silva J., Tamarit S.   \n2      Vaneck Q., Colart T., Frénay B., Vanderose B.   \n3                             Chou C.-Y., Chen Y.-J.   \n4                      Hegarty-Kelly E., Mooney D.A.   \n\n                                            abstract  year_published  \\\n0  The 2020 pandemic imposed new demands on teach...            2021   \n1  Continuous assessment is essential in educatio...            2021   \n2  Computer science studies are more and more pop...            2021   \n3  This study proposes an automated programming a...            2021   \n4  Reliable and pedagogically sound automated fee...            2021   \n\n                                                tags               category  \\\n0  [data_available:False, technique:pre_defined_q...            ['dynamic']   \n1  [evaluation:auto_grading, approach:semi_automa...  ['dynamic', 'static']   \n2  [data_available:False, tool:pylint, language:p...             ['static']   \n3  [data_available:False, skill:correctness, inte...  ['dynamic', 'static']   \n4  [data_available:False, skill:correctness, inte...  ['dynamic', 'static']   \n\n                               skills                          types  \\\n0                     ['correctness']  ['description', 'evaluation']   \n1  ['correctness', 'maintainability']  ['description', 'evaluation']   \n2  ['readability', 'maintainability']                ['description']   \n3                     ['correctness']  ['description', 'evaluation']   \n4      ['correctness', 'readability']  ['description', 'evaluation']   \n\n   lang_family  \n0      ['OOP']  \n1      ['OOP']  \n2      ['OOP']  \n3  ['Unknown']  \n4      ['OOP']  ",
      "text/html": "<div>\n<style scoped>\n    .dataframe tbody tr th:only-of-type {\n        vertical-align: middle;\n    }\n\n    .dataframe tbody tr th {\n        vertical-align: top;\n    }\n\n    .dataframe thead th {\n        text-align: right;\n    }\n</style>\n<table border=\"1\" class=\"dataframe\">\n  <thead>\n    <tr style=\"text-align: right;\">\n      <th></th>\n      <th>key</th>\n      <th>title</th>\n      <th>authors</th>\n      <th>abstract</th>\n      <th>year_published</th>\n      <th>tags</th>\n      <th>category</th>\n      <th>skills</th>\n      <th>types</th>\n      <th>lang_family</th>\n    </tr>\n  </thead>\n  <tbody>\n    <tr>\n      <th>0</th>\n      <td>rayyan-354359269</td>\n      <td>An experience of automated assessment in a lar...</td>\n      <td>Zampirolli F.A., Borovina Josko J.M., Venero M...</td>\n      <td>The 2020 pandemic imposed new demands on teach...</td>\n      <td>2021</td>\n      <td>[data_available:False, technique:pre_defined_q...</td>\n      <td>['dynamic']</td>\n      <td>['correctness']</td>\n      <td>['description', 'evaluation']</td>\n      <td>['OOP']</td>\n    </tr>\n    <tr>\n      <th>1</th>\n      <td>rayyan-354359270</td>\n      <td>Semiautomatic generation and assessment of Jav...</td>\n      <td>Insa D., Pérez S., Silva J., Tamarit S.</td>\n      <td>Continuous assessment is essential in educatio...</td>\n      <td>2021</td>\n      <td>[evaluation:auto_grading, approach:semi_automa...</td>\n      <td>['dynamic', 'static']</td>\n      <td>['correctness', 'maintainability']</td>\n      <td>['description', 'evaluation']</td>\n      <td>['OOP']</td>\n    </tr>\n    <tr>\n      <th>2</th>\n      <td>rayyan-354359271</td>\n      <td>A tool for evaluating computer programs from s...</td>\n      <td>Vaneck Q., Colart T., Frénay B., Vanderose B.</td>\n      <td>Computer science studies are more and more pop...</td>\n      <td>2021</td>\n      <td>[data_available:False, tool:pylint, language:p...</td>\n      <td>['static']</td>\n      <td>['readability', 'maintainability']</td>\n      <td>['description']</td>\n      <td>['OOP']</td>\n    </tr>\n    <tr>\n      <th>3</th>\n      <td>rayyan-354359272</td>\n      <td>Virtual Teaching Assistant for Grading Program...</td>\n      <td>Chou C.-Y., Chen Y.-J.</td>\n      <td>This study proposes an automated programming a...</td>\n      <td>2021</td>\n      <td>[data_available:False, skill:correctness, inte...</td>\n      <td>['dynamic', 'static']</td>\n      <td>['correctness']</td>\n      <td>['description', 'evaluation']</td>\n      <td>['Unknown']</td>\n    </tr>\n    <tr>\n      <th>4</th>\n      <td>rayyan-354359273</td>\n      <td>Analysis of an automatic grading system within...</td>\n      <td>Hegarty-Kelly E., Mooney D.A.</td>\n      <td>Reliable and pedagogically sound automated fee...</td>\n      <td>2021</td>\n      <td>[data_available:False, skill:correctness, inte...</td>\n      <td>['dynamic', 'static']</td>\n      <td>['correctness', 'readability']</td>\n      <td>['description', 'evaluation']</td>\n      <td>['OOP']</td>\n    </tr>\n  </tbody>\n</table>\n</div>"
     },
     "execution_count": 272,
     "metadata": {},
     "output_type": "execute_result"
    }
   ],
   "source": [
    "df = pd.read_csv('data/processed.csv', index_col=0, dtype={'key': str, 'title': str, 'authors': str, 'abstract': str, 'year_published': int, 'tags': object})\n",
    "df.tags = df.tags.str.strip(\"[]\").str.replace(r\"\\s*|'\", '').str.split(',')\n",
    "df.head()"
   ],
   "metadata": {
    "collapsed": false,
    "pycharm": {
     "name": "#%%\n"
    }
   }
  },
  {
   "cell_type": "markdown",
   "source": [
    "# Discussion Stats\n",
    "## Grading\n",
    "### Correctness"
   ],
   "metadata": {
    "collapsed": false,
    "pycharm": {
     "name": "#%% md\n"
    }
   }
  },
  {
   "cell_type": "code",
   "execution_count": 273,
   "outputs": [
    {
     "data": {
      "text/plain": "                  key                                              title  \\\n0    rayyan-354359269  An experience of automated assessment in a lar...   \n3    rayyan-354359272  Virtual Teaching Assistant for Grading Program...   \n5    rayyan-354359274  Evaluating Control-Flow Graph Similarity for G...   \n7    rayyan-354359277  An interactive feedback system for grammar dev...   \n8    rayyan-354359278  Combining dynamic and static analysis for auto...   \n..                ...                                                ...   \n115  rayyan-354359408  ArTEMiS - An automatic assessment management s...   \n116  rayyan-354359409  Linkage objects for generalized instruction in...   \n117  rayyan-354359410  Automated data-driven hints for computer progr...   \n118  rayyan-354359411  Learning and teaching numerical methods with a...   \n121  rayyan-354359414  Automatic extraction of AST patterns for debug...   \n\n                           category  \\\n0                       ['dynamic']   \n3             ['dynamic', 'static']   \n5                        ['static']   \n7                       ['dynamic']   \n8             ['dynamic', 'static']   \n..                              ...   \n115                     ['dynamic']   \n116  ['static', 'machine learning']   \n117                     ['dynamic']   \n118           ['dynamic', 'static']   \n121                      ['static']   \n\n                                                  tech  \n0    [technique:pre_defined_questions, technique:un...  \n3    [technique:output_matching, technique:unit_tes...  \n5    [technique:model_solution_req, technique:patte...  \n7    [technique:unit_testing, technique:trace_exami...  \n8    [technique:unit_testing, technique:model_solut...  \n..                                                 ...  \n115          [technique:unit_testing, technique:ci_cd]  \n116  [technique:machine_learning, technique:pattern...  \n117                           [technique:unit_testing]  \n118  [technique:unit_testing, technique:matching_ru...  \n121                       [technique:pattern_matching]  \n\n[74 rows x 4 columns]",
      "text/html": "<div>\n<style scoped>\n    .dataframe tbody tr th:only-of-type {\n        vertical-align: middle;\n    }\n\n    .dataframe tbody tr th {\n        vertical-align: top;\n    }\n\n    .dataframe thead th {\n        text-align: right;\n    }\n</style>\n<table border=\"1\" class=\"dataframe\">\n  <thead>\n    <tr style=\"text-align: right;\">\n      <th></th>\n      <th>key</th>\n      <th>title</th>\n      <th>category</th>\n      <th>tech</th>\n    </tr>\n  </thead>\n  <tbody>\n    <tr>\n      <th>0</th>\n      <td>rayyan-354359269</td>\n      <td>An experience of automated assessment in a lar...</td>\n      <td>['dynamic']</td>\n      <td>[technique:pre_defined_questions, technique:un...</td>\n    </tr>\n    <tr>\n      <th>3</th>\n      <td>rayyan-354359272</td>\n      <td>Virtual Teaching Assistant for Grading Program...</td>\n      <td>['dynamic', 'static']</td>\n      <td>[technique:output_matching, technique:unit_tes...</td>\n    </tr>\n    <tr>\n      <th>5</th>\n      <td>rayyan-354359274</td>\n      <td>Evaluating Control-Flow Graph Similarity for G...</td>\n      <td>['static']</td>\n      <td>[technique:model_solution_req, technique:patte...</td>\n    </tr>\n    <tr>\n      <th>7</th>\n      <td>rayyan-354359277</td>\n      <td>An interactive feedback system for grammar dev...</td>\n      <td>['dynamic']</td>\n      <td>[technique:unit_testing, technique:trace_exami...</td>\n    </tr>\n    <tr>\n      <th>8</th>\n      <td>rayyan-354359278</td>\n      <td>Combining dynamic and static analysis for auto...</td>\n      <td>['dynamic', 'static']</td>\n      <td>[technique:unit_testing, technique:model_solut...</td>\n    </tr>\n    <tr>\n      <th>...</th>\n      <td>...</td>\n      <td>...</td>\n      <td>...</td>\n      <td>...</td>\n    </tr>\n    <tr>\n      <th>115</th>\n      <td>rayyan-354359408</td>\n      <td>ArTEMiS - An automatic assessment management s...</td>\n      <td>['dynamic']</td>\n      <td>[technique:unit_testing, technique:ci_cd]</td>\n    </tr>\n    <tr>\n      <th>116</th>\n      <td>rayyan-354359409</td>\n      <td>Linkage objects for generalized instruction in...</td>\n      <td>['static', 'machine learning']</td>\n      <td>[technique:machine_learning, technique:pattern...</td>\n    </tr>\n    <tr>\n      <th>117</th>\n      <td>rayyan-354359410</td>\n      <td>Automated data-driven hints for computer progr...</td>\n      <td>['dynamic']</td>\n      <td>[technique:unit_testing]</td>\n    </tr>\n    <tr>\n      <th>118</th>\n      <td>rayyan-354359411</td>\n      <td>Learning and teaching numerical methods with a...</td>\n      <td>['dynamic', 'static']</td>\n      <td>[technique:unit_testing, technique:matching_ru...</td>\n    </tr>\n    <tr>\n      <th>121</th>\n      <td>rayyan-354359414</td>\n      <td>Automatic extraction of AST patterns for debug...</td>\n      <td>['static']</td>\n      <td>[technique:pattern_matching]</td>\n    </tr>\n  </tbody>\n</table>\n<p>74 rows × 4 columns</p>\n</div>"
     },
     "execution_count": 273,
     "metadata": {},
     "output_type": "execute_result"
    }
   ],
   "source": [
    "temp_df = df[df.skills.str.contains(\"^\\['correctness'\\]$\")].copy()\n",
    "temp_df['tech'] = df.tags.apply(lambda labels: [label for label in labels if label.startswith('technique')])\n",
    "temp_df[['key', 'title', 'category', 'tech']]"
   ],
   "metadata": {
    "collapsed": false,
    "pycharm": {
     "name": "#%%\n"
    }
   }
  },
  {
   "cell_type": "code",
   "execution_count": 274,
   "outputs": [
    {
     "data": {
      "text/plain": "60.65573770491803"
     },
     "execution_count": 274,
     "metadata": {},
     "output_type": "execute_result"
    }
   ],
   "source": [
    "(temp_df.shape[0] / df.shape[0]) * 100"
   ],
   "metadata": {
    "collapsed": false,
    "pycharm": {
     "name": "#%%\n"
    }
   }
  },
  {
   "cell_type": "code",
   "execution_count": 275,
   "outputs": [
    {
     "data": {
      "text/plain": "['dynamic']                        39\n['static']                         16\n['dynamic', 'static']              13\n['static', 'machine learning']      3\n['machine learning']                2\n['dynamic', 'machine learning']     1\nName: category, dtype: int64"
     },
     "execution_count": 275,
     "metadata": {},
     "output_type": "execute_result"
    }
   ],
   "source": [
    "temp_df.category.value_counts()"
   ],
   "metadata": {
    "collapsed": false,
    "pycharm": {
     "name": "#%%\n"
    }
   }
  },
  {
   "cell_type": "code",
   "execution_count": 276,
   "outputs": [
    {
     "data": {
      "text/plain": "['dynamic']                        52.702703\n['static']                         21.621622\n['dynamic', 'static']              17.567568\n['static', 'machine learning']      4.054054\n['machine learning']                2.702703\n['dynamic', 'machine learning']     1.351351\nName: category, dtype: float64"
     },
     "execution_count": 276,
     "metadata": {},
     "output_type": "execute_result"
    }
   ],
   "source": [
    "(temp_df.category.value_counts() / temp_df.shape[0]) * 100"
   ],
   "metadata": {
    "collapsed": false,
    "pycharm": {
     "name": "#%%\n"
    }
   }
  },
  {
   "cell_type": "code",
   "execution_count": 277,
   "outputs": [
    {
     "data": {
      "text/plain": "technique:unit_testing                100.000000\ntechnique:ci_cd                        12.820513\ntechnique:model_solution_req           10.256410\ntechnique:trace_examination             5.128205\ntechnique:property_based_testing        5.128205\ntechnique:pre_defined_questions         2.564103\ntechnique:unit_test_expansion           2.564103\ntechnique:mutation_testing              2.564103\ntechnique:test_case_generation          2.564103\ntechnique:novel                         2.564103\ntechnique:gui_testing                   2.564103\ntechnique:output_matching               2.564103\ntechnique:program_synthesis             2.564103\ntechnique:code_repair_for_feedback      2.564103\ntechnique:knowledge_base                2.564103\nName: tech, dtype: float64"
     },
     "execution_count": 277,
     "metadata": {},
     "output_type": "execute_result"
    }
   ],
   "source": [
    "temp_df['only_dynamic'] = df.category.apply(lambda x: 'dynamic' in str(x) and 'static' not in str(x) and 'machine learning' not in str(x))\n",
    "(temp_df[temp_df.only_dynamic].explode('tech').tech.value_counts() / temp_df[temp_df.only_dynamic].shape[0]) * 100"
   ],
   "metadata": {
    "collapsed": false,
    "pycharm": {
     "name": "#%%\n"
    }
   }
  },
  {
   "cell_type": "code",
   "execution_count": 278,
   "outputs": [
    {
     "data": {
      "text/plain": "technique:pattern_matching            75.00\ntechnique:model_solution_req          43.75\ntechnique:model_solution_closeness    37.50\ntechnique:program_repair              37.50\ntechnique:code_repair_for_feedback    31.25\ntechnique:clustering                  18.75\ntechnique:trace_examination           18.75\ntechnique:output_matching             12.50\ntechnique:matching_rules              12.50\ntechnique:graph_analysis              12.50\ntechnique:control_flow_graph           6.25\ntechnique:data_driven                  6.25\ntechnique:token_pattern_matching       6.25\ntechnique:knowledge_base               6.25\ntechnique:dynamic_analysis             6.25\nName: tech, dtype: float64"
     },
     "execution_count": 278,
     "metadata": {},
     "output_type": "execute_result"
    }
   ],
   "source": [
    "temp_df['only_static'] = df.category.apply(lambda x: 'dynamic' not in str(x) and 'static' in str(x) and 'machine learning' not in str(x))\n",
    "(temp_df[temp_df.only_static].explode('tech').tech.value_counts() / temp_df[temp_df.only_static].shape[0]) * 100"
   ],
   "metadata": {
    "collapsed": false,
    "pycharm": {
     "name": "#%%\n"
    }
   }
  },
  {
   "cell_type": "code",
   "execution_count": 279,
   "outputs": [
    {
     "data": {
      "text/plain": "technique:unit_testing                100.000000\ntechnique:pattern_matching             30.769231\ntechnique:matching_rules               30.769231\ntechnique:static_analysis              23.076923\ntechnique:program_repair               23.076923\ntechnique:output_matching              15.384615\ntechnique:model_solution_req           15.384615\ntechnique:dynamic_analysis             15.384615\ntechnique:model_solution_closeness     15.384615\ntechnique:style_check                  15.384615\ntechnique:fault_localisation            7.692308\ntechnique:program_verification          7.692308\ntechnique:language_stuctures            7.692308\ntechnique:ci_cd                         7.692308\ntechnique:test_case_generation          7.692308\nName: tech, dtype: float64"
     },
     "execution_count": 279,
     "metadata": {},
     "output_type": "execute_result"
    }
   ],
   "source": [
    "temp_df['dynamic_static'] = df.category.apply(lambda x: 'dynamic' in str(x) and 'static' in str(x) and 'machine learning' not in str(x))\n",
    "(temp_df[temp_df.dynamic_static].explode('tech').tech.value_counts() / temp_df[temp_df.dynamic_static].shape[0]) * 100"
   ],
   "metadata": {
    "collapsed": false,
    "pycharm": {
     "name": "#%%\n"
    }
   }
  },
  {
   "cell_type": "code",
   "execution_count": 280,
   "outputs": [
    {
     "data": {
      "text/plain": "                  key                                              title  \\\n13   rayyan-354359285  An Intelligent Online Judge System for Program...   \n19   rayyan-354359295  Convolutional neural network applied to code a...   \n34   rayyan-354359310  Automatic assessment of programming assignment...   \n61   rayyan-354359341  Source-Code Similarity Measurement: Syntax Tre...   \n83   rayyan-354359367  Targeted Example Generation for Compilation Er...   \n116  rayyan-354359409  Linkage objects for generalized instruction in...   \n\n                            category  \n13   ['dynamic', 'machine learning']  \n19              ['machine learning']  \n34              ['machine learning']  \n61    ['static', 'machine learning']  \n83    ['static', 'machine learning']  \n116   ['static', 'machine learning']  ",
      "text/html": "<div>\n<style scoped>\n    .dataframe tbody tr th:only-of-type {\n        vertical-align: middle;\n    }\n\n    .dataframe tbody tr th {\n        vertical-align: top;\n    }\n\n    .dataframe thead th {\n        text-align: right;\n    }\n</style>\n<table border=\"1\" class=\"dataframe\">\n  <thead>\n    <tr style=\"text-align: right;\">\n      <th></th>\n      <th>key</th>\n      <th>title</th>\n      <th>category</th>\n    </tr>\n  </thead>\n  <tbody>\n    <tr>\n      <th>13</th>\n      <td>rayyan-354359285</td>\n      <td>An Intelligent Online Judge System for Program...</td>\n      <td>['dynamic', 'machine learning']</td>\n    </tr>\n    <tr>\n      <th>19</th>\n      <td>rayyan-354359295</td>\n      <td>Convolutional neural network applied to code a...</td>\n      <td>['machine learning']</td>\n    </tr>\n    <tr>\n      <th>34</th>\n      <td>rayyan-354359310</td>\n      <td>Automatic assessment of programming assignment...</td>\n      <td>['machine learning']</td>\n    </tr>\n    <tr>\n      <th>61</th>\n      <td>rayyan-354359341</td>\n      <td>Source-Code Similarity Measurement: Syntax Tre...</td>\n      <td>['static', 'machine learning']</td>\n    </tr>\n    <tr>\n      <th>83</th>\n      <td>rayyan-354359367</td>\n      <td>Targeted Example Generation for Compilation Er...</td>\n      <td>['static', 'machine learning']</td>\n    </tr>\n    <tr>\n      <th>116</th>\n      <td>rayyan-354359409</td>\n      <td>Linkage objects for generalized instruction in...</td>\n      <td>['static', 'machine learning']</td>\n    </tr>\n  </tbody>\n</table>\n</div>"
     },
     "execution_count": 280,
     "metadata": {},
     "output_type": "execute_result"
    }
   ],
   "source": [
    "temp_df['ml'] = df.category.apply(lambda x: 'machine learning' in str(x))\n",
    "ml_df = temp_df.loc[temp_df.ml]\n",
    "ml_df[['key', 'title', 'category']]"
   ],
   "metadata": {
    "collapsed": false,
    "pycharm": {
     "name": "#%%\n"
    }
   }
  },
  {
   "cell_type": "markdown",
   "source": [
    "### Maintainability"
   ],
   "metadata": {
    "collapsed": false,
    "pycharm": {
     "name": "#%% md\n"
    }
   }
  },
  {
   "cell_type": "code",
   "execution_count": 372,
   "outputs": [
    {
     "data": {
      "text/plain": "                 key                                              title  \\\n92  rayyan-354359378  A Comparison of Inquiry-Based Conceptual Feedb...   \n\n                                         authors  \\\n92  Cordova L., Carver J., Gershmel N., Walia G.   \n\n                                             abstract  year_published  \\\n92  The feedback provided by current testing educa...            2021   \n\n                                                 tags category  \\\n92  [interaction:multiple, evaluation:student_surv...      NaN   \n\n                 skills           types lang_family  \n92  ['maintainability']  ['evaluation']     ['OOP']  ",
      "text/html": "<div>\n<style scoped>\n    .dataframe tbody tr th:only-of-type {\n        vertical-align: middle;\n    }\n\n    .dataframe tbody tr th {\n        vertical-align: top;\n    }\n\n    .dataframe thead th {\n        text-align: right;\n    }\n</style>\n<table border=\"1\" class=\"dataframe\">\n  <thead>\n    <tr style=\"text-align: right;\">\n      <th></th>\n      <th>key</th>\n      <th>title</th>\n      <th>authors</th>\n      <th>abstract</th>\n      <th>year_published</th>\n      <th>tags</th>\n      <th>category</th>\n      <th>skills</th>\n      <th>types</th>\n      <th>lang_family</th>\n    </tr>\n  </thead>\n  <tbody>\n    <tr>\n      <th>92</th>\n      <td>rayyan-354359378</td>\n      <td>A Comparison of Inquiry-Based Conceptual Feedb...</td>\n      <td>Cordova L., Carver J., Gershmel N., Walia G.</td>\n      <td>The feedback provided by current testing educa...</td>\n      <td>2021</td>\n      <td>[interaction:multiple, evaluation:student_surv...</td>\n      <td>NaN</td>\n      <td>['maintainability']</td>\n      <td>['evaluation']</td>\n      <td>['OOP']</td>\n    </tr>\n  </tbody>\n</table>\n</div>"
     },
     "execution_count": 372,
     "metadata": {},
     "output_type": "execute_result"
    }
   ],
   "source": [
    "maint_df = df[df.skills.str.contains(\"^\\['maintainability'\\]$\")].copy()\n",
    "maint_df"
   ],
   "metadata": {
    "collapsed": false,
    "pycharm": {
     "name": "#%%\n"
    }
   }
  },
  {
   "cell_type": "code",
   "execution_count": 370,
   "outputs": [
    {
     "data": {
      "text/plain": "technique:unclear    100.0\nName: tech, dtype: float64"
     },
     "execution_count": 370,
     "metadata": {},
     "output_type": "execute_result"
    }
   ],
   "source": [
    "maint_df['tech'] = maint_df.tags.apply(lambda labels: [label for label in labels if label.startswith('technique')])\n",
    "(maint_df.explode('tech').tech.value_counts() / maint_df.shape[0]) * 100"
   ],
   "metadata": {
    "collapsed": false,
    "pycharm": {
     "name": "#%%\n"
    }
   }
  },
  {
   "cell_type": "markdown",
   "source": [
    "#### Maintainability Combinations"
   ],
   "metadata": {
    "collapsed": false,
    "pycharm": {
     "name": "#%% md\n"
    }
   }
  },
  {
   "cell_type": "code",
   "execution_count": 352,
   "outputs": [],
   "source": [
    "maint_comb = df[df.skills.str.contains(\"'maintainability',|, 'maintainability'\")]"
   ],
   "metadata": {
    "collapsed": false,
    "pycharm": {
     "name": "#%%\n"
    }
   }
  },
  {
   "cell_type": "code",
   "execution_count": 359,
   "outputs": [
    {
     "data": {
      "text/plain": "['correctness', 'maintainability']                   42.105263\n['correctness', 'readability', 'maintainability']    36.842105\n['readability', 'maintainability']                   21.052632\nName: skills, dtype: float64"
     },
     "execution_count": 359,
     "metadata": {},
     "output_type": "execute_result"
    }
   ],
   "source": [
    "(maint_comb.skills.value_counts() / maint_comb.shape[0]) * 100"
   ],
   "metadata": {
    "collapsed": false,
    "pycharm": {
     "name": "#%%\n"
    }
   }
  },
  {
   "cell_type": "code",
   "execution_count": 360,
   "outputs": [
    {
     "data": {
      "text/plain": "['static']                        31.578947\n['dynamic']                       31.578947\n['dynamic', 'static']             26.315789\n['static', 'machine learning']    10.526316\nName: category, dtype: float64"
     },
     "execution_count": 360,
     "metadata": {},
     "output_type": "execute_result"
    }
   ],
   "source": [
    "(maint_comb.category.value_counts() / maint_comb.shape[0]) * 100"
   ],
   "metadata": {
    "collapsed": false,
    "pycharm": {
     "name": "#%%\n"
    }
   }
  },
  {
   "cell_type": "code",
   "execution_count": 376,
   "outputs": [
    {
     "data": {
      "text/plain": "                  key                                              title  \\\n50   rayyan-354359328  Question Independent Automated Code Analysis a...   \n120  rayyan-354359413       An AI system for coaching novice programmers   \n\n                                               authors  \\\n50   K. K. Rai and B. Gupta and P. Shokeen and P. C...   \n120  Cruz G., Jones J., Morrow M., Gonzalez A., Goo...   \n\n                                              abstract  year_published  \\\n50   Our first-hand experience with the recruiting ...            2019   \n120  We inhabit a century where every job will be t...            2017   \n\n                                                  tags  \\\n50   [evaluation:auto_grading, feedback:none, type:...   \n120  [approach:fully_automated, type:description, t...   \n\n                           category  \\\n50   ['static', 'machine learning']   \n120  ['static', 'machine learning']   \n\n                                                skills  \\\n50   ['correctness', 'readability', 'maintainability']   \n120                 ['readability', 'maintainability']   \n\n                             types lang_family  \n50   ['description', 'evaluation']     ['OOP']  \n120  ['description', 'evaluation']     ['OOP']  ",
      "text/html": "<div>\n<style scoped>\n    .dataframe tbody tr th:only-of-type {\n        vertical-align: middle;\n    }\n\n    .dataframe tbody tr th {\n        vertical-align: top;\n    }\n\n    .dataframe thead th {\n        text-align: right;\n    }\n</style>\n<table border=\"1\" class=\"dataframe\">\n  <thead>\n    <tr style=\"text-align: right;\">\n      <th></th>\n      <th>key</th>\n      <th>title</th>\n      <th>authors</th>\n      <th>abstract</th>\n      <th>year_published</th>\n      <th>tags</th>\n      <th>category</th>\n      <th>skills</th>\n      <th>types</th>\n      <th>lang_family</th>\n    </tr>\n  </thead>\n  <tbody>\n    <tr>\n      <th>50</th>\n      <td>rayyan-354359328</td>\n      <td>Question Independent Automated Code Analysis a...</td>\n      <td>K. K. Rai and B. Gupta and P. Shokeen and P. C...</td>\n      <td>Our first-hand experience with the recruiting ...</td>\n      <td>2019</td>\n      <td>[evaluation:auto_grading, feedback:none, type:...</td>\n      <td>['static', 'machine learning']</td>\n      <td>['correctness', 'readability', 'maintainability']</td>\n      <td>['description', 'evaluation']</td>\n      <td>['OOP']</td>\n    </tr>\n    <tr>\n      <th>120</th>\n      <td>rayyan-354359413</td>\n      <td>An AI system for coaching novice programmers</td>\n      <td>Cruz G., Jones J., Morrow M., Gonzalez A., Goo...</td>\n      <td>We inhabit a century where every job will be t...</td>\n      <td>2017</td>\n      <td>[approach:fully_automated, type:description, t...</td>\n      <td>['static', 'machine learning']</td>\n      <td>['readability', 'maintainability']</td>\n      <td>['description', 'evaluation']</td>\n      <td>['OOP']</td>\n    </tr>\n  </tbody>\n</table>\n</div>"
     },
     "execution_count": 376,
     "metadata": {},
     "output_type": "execute_result"
    }
   ],
   "source": [
    "maint_comb = maint_comb.fillna('empty')\n",
    "maint_comb[maint_comb.category.str.contains('machine learning')]"
   ],
   "metadata": {
    "collapsed": false,
    "pycharm": {
     "name": "#%%\n"
    }
   }
  },
  {
   "cell_type": "markdown",
   "source": [
    "### Readability"
   ],
   "metadata": {
    "collapsed": false,
    "pycharm": {
     "name": "#%% md\n"
    }
   }
  },
  {
   "cell_type": "code",
   "execution_count": 342,
   "outputs": [
    {
     "data": {
      "text/plain": "                  key                                              title  \\\n12   rayyan-354359284  Using an interactive software tool for the for...   \n30   rayyan-354359306  The impact of automated code quality feedback ...   \n77   rayyan-354359360  Promoting Code Quality via Automated Feedback ...   \n79   rayyan-354359362  Measure Students’ Contribution in Web Programm...   \n103  rayyan-354359393  Analysing hint based problem solving strategy ...   \n108  rayyan-354359398      Static analyses in python programming courses   \n\n                  category  \n12   ['dynamic', 'static']  \n30              ['static']  \n77              ['static']  \n79              ['static']  \n103             ['static']  \n108             ['static']  ",
      "text/html": "<div>\n<style scoped>\n    .dataframe tbody tr th:only-of-type {\n        vertical-align: middle;\n    }\n\n    .dataframe tbody tr th {\n        vertical-align: top;\n    }\n\n    .dataframe thead th {\n        text-align: right;\n    }\n</style>\n<table border=\"1\" class=\"dataframe\">\n  <thead>\n    <tr style=\"text-align: right;\">\n      <th></th>\n      <th>key</th>\n      <th>title</th>\n      <th>category</th>\n    </tr>\n  </thead>\n  <tbody>\n    <tr>\n      <th>12</th>\n      <td>rayyan-354359284</td>\n      <td>Using an interactive software tool for the for...</td>\n      <td>['dynamic', 'static']</td>\n    </tr>\n    <tr>\n      <th>30</th>\n      <td>rayyan-354359306</td>\n      <td>The impact of automated code quality feedback ...</td>\n      <td>['static']</td>\n    </tr>\n    <tr>\n      <th>77</th>\n      <td>rayyan-354359360</td>\n      <td>Promoting Code Quality via Automated Feedback ...</td>\n      <td>['static']</td>\n    </tr>\n    <tr>\n      <th>79</th>\n      <td>rayyan-354359362</td>\n      <td>Measure Students’ Contribution in Web Programm...</td>\n      <td>['static']</td>\n    </tr>\n    <tr>\n      <th>103</th>\n      <td>rayyan-354359393</td>\n      <td>Analysing hint based problem solving strategy ...</td>\n      <td>['static']</td>\n    </tr>\n    <tr>\n      <th>108</th>\n      <td>rayyan-354359398</td>\n      <td>Static analyses in python programming courses</td>\n      <td>['static']</td>\n    </tr>\n  </tbody>\n</table>\n</div>"
     },
     "execution_count": 342,
     "metadata": {},
     "output_type": "execute_result"
    }
   ],
   "source": [
    "# Analysing hint based problem solving strategy among novice programmers through gamification technique - Might be removed\n",
    "read_df = df[df.skills.str.contains(\"^\\['readability'\\]$\")]\n",
    "read_df[['key', 'title', 'category']]"
   ],
   "metadata": {
    "collapsed": false,
    "pycharm": {
     "name": "#%%\n"
    }
   }
  },
  {
   "cell_type": "code",
   "execution_count": 339,
   "outputs": [
    {
     "data": {
      "text/plain": "4.918032786885246"
     },
     "execution_count": 339,
     "metadata": {},
     "output_type": "execute_result"
    }
   ],
   "source": [
    "(read_df.shape[0] / df.shape[0]) * 100"
   ],
   "metadata": {
    "collapsed": false,
    "pycharm": {
     "name": "#%%\n"
    }
   }
  },
  {
   "cell_type": "code",
   "execution_count": 366,
   "outputs": [
    {
     "data": {
      "text/plain": "['static']               5\n['dynamic', 'static']    1\nName: category, dtype: int64"
     },
     "execution_count": 366,
     "metadata": {},
     "output_type": "execute_result"
    }
   ],
   "source": [
    "read_df.category.value_counts()"
   ],
   "metadata": {
    "collapsed": false,
    "pycharm": {
     "name": "#%%\n"
    }
   }
  },
  {
   "cell_type": "code",
   "execution_count": 356,
   "outputs": [],
   "source": [
    "read_comb = df[df.skills.str.contains(\"'readability',|, 'readability'\")]"
   ],
   "metadata": {
    "collapsed": false,
    "pycharm": {
     "name": "#%%\n"
    }
   }
  },
  {
   "cell_type": "code",
   "execution_count": 363,
   "outputs": [
    {
     "data": {
      "text/plain": "['correctness', 'readability']                       65.625\n['correctness', 'readability', 'maintainability']    21.875\n['readability', 'maintainability']                   12.500\nName: skills, dtype: float64"
     },
     "execution_count": 363,
     "metadata": {},
     "output_type": "execute_result"
    }
   ],
   "source": [
    "(read_comb.skills.value_counts() / read_comb.shape[0]) * 100"
   ],
   "metadata": {
    "collapsed": false,
    "pycharm": {
     "name": "#%%\n"
    }
   }
  },
  {
   "cell_type": "code",
   "execution_count": 367,
   "outputs": [
    {
     "data": {
      "text/plain": "['dynamic', 'static']                        40.625\n['dynamic']                                  28.125\n['static']                                   18.750\n['static', 'machine learning']                6.250\n['dynamic', 'static', 'machine learning']     3.125\n['machine learning']                          3.125\nName: category, dtype: float64"
     },
     "execution_count": 367,
     "metadata": {},
     "output_type": "execute_result"
    }
   ],
   "source": [
    "(read_comb.category.value_counts() / read_comb.shape[0]) * 100"
   ],
   "metadata": {
    "collapsed": false,
    "pycharm": {
     "name": "#%%\n"
    }
   }
  },
  {
   "cell_type": "code",
   "execution_count": 379,
   "outputs": [
    {
     "data": {
      "text/plain": "                  key                                              title  \\\n50   rayyan-354359328  Question Independent Automated Code Analysis a...   \n51   rayyan-354359330  EvalSeer: An Intelligent Gamified System for P...   \n85   rayyan-354359369  Annete: An Intelligent Tutoring Companion Embe...   \n120  rayyan-354359413       An AI system for coaching novice programmers   \n\n                                               authors  \\\n50   K. K. Rai and B. Gupta and P. Shokeen and P. C...   \n51   R. Nabil and N. E. Mohamed and A. Mahdy and K....   \n85   M. Day and M. R. Penumala and J. Gonzalez-Sanchez   \n120  Cruz G., Jones J., Morrow M., Gonzalez A., Goo...   \n\n                                              abstract  year_published  \\\n50   Our first-hand experience with the recruiting ...            2019   \n51   Continuous evaluation of computer programs and...            2021   \n85   With Computer Science (CS) class sizes that ar...            2019   \n120  We inhabit a century where every job will be t...            2017   \n\n                                                  tags  \\\n50   [evaluation:auto_grading, feedback:none, type:...   \n51   [data_available:False, skill:correctness, inte...   \n85   [data_available:False, skill:correctness, inte...   \n120  [approach:fully_automated, type:description, t...   \n\n                                      category  \\\n50              ['static', 'machine learning']   \n51   ['dynamic', 'static', 'machine learning']   \n85                        ['machine learning']   \n120             ['static', 'machine learning']   \n\n                                                skills  \\\n50   ['correctness', 'readability', 'maintainability']   \n51                      ['correctness', 'readability']   \n85                      ['correctness', 'readability']   \n120                 ['readability', 'maintainability']   \n\n                             types lang_family  \n50   ['description', 'evaluation']     ['OOP']  \n51                 ['description']     ['OOP']  \n85   ['description', 'evaluation']     ['OOP']  \n120  ['description', 'evaluation']     ['OOP']  ",
      "text/html": "<div>\n<style scoped>\n    .dataframe tbody tr th:only-of-type {\n        vertical-align: middle;\n    }\n\n    .dataframe tbody tr th {\n        vertical-align: top;\n    }\n\n    .dataframe thead th {\n        text-align: right;\n    }\n</style>\n<table border=\"1\" class=\"dataframe\">\n  <thead>\n    <tr style=\"text-align: right;\">\n      <th></th>\n      <th>key</th>\n      <th>title</th>\n      <th>authors</th>\n      <th>abstract</th>\n      <th>year_published</th>\n      <th>tags</th>\n      <th>category</th>\n      <th>skills</th>\n      <th>types</th>\n      <th>lang_family</th>\n    </tr>\n  </thead>\n  <tbody>\n    <tr>\n      <th>50</th>\n      <td>rayyan-354359328</td>\n      <td>Question Independent Automated Code Analysis a...</td>\n      <td>K. K. Rai and B. Gupta and P. Shokeen and P. C...</td>\n      <td>Our first-hand experience with the recruiting ...</td>\n      <td>2019</td>\n      <td>[evaluation:auto_grading, feedback:none, type:...</td>\n      <td>['static', 'machine learning']</td>\n      <td>['correctness', 'readability', 'maintainability']</td>\n      <td>['description', 'evaluation']</td>\n      <td>['OOP']</td>\n    </tr>\n    <tr>\n      <th>51</th>\n      <td>rayyan-354359330</td>\n      <td>EvalSeer: An Intelligent Gamified System for P...</td>\n      <td>R. Nabil and N. E. Mohamed and A. Mahdy and K....</td>\n      <td>Continuous evaluation of computer programs and...</td>\n      <td>2021</td>\n      <td>[data_available:False, skill:correctness, inte...</td>\n      <td>['dynamic', 'static', 'machine learning']</td>\n      <td>['correctness', 'readability']</td>\n      <td>['description']</td>\n      <td>['OOP']</td>\n    </tr>\n    <tr>\n      <th>85</th>\n      <td>rayyan-354359369</td>\n      <td>Annete: An Intelligent Tutoring Companion Embe...</td>\n      <td>M. Day and M. R. Penumala and J. Gonzalez-Sanchez</td>\n      <td>With Computer Science (CS) class sizes that ar...</td>\n      <td>2019</td>\n      <td>[data_available:False, skill:correctness, inte...</td>\n      <td>['machine learning']</td>\n      <td>['correctness', 'readability']</td>\n      <td>['description', 'evaluation']</td>\n      <td>['OOP']</td>\n    </tr>\n    <tr>\n      <th>120</th>\n      <td>rayyan-354359413</td>\n      <td>An AI system for coaching novice programmers</td>\n      <td>Cruz G., Jones J., Morrow M., Gonzalez A., Goo...</td>\n      <td>We inhabit a century where every job will be t...</td>\n      <td>2017</td>\n      <td>[approach:fully_automated, type:description, t...</td>\n      <td>['static', 'machine learning']</td>\n      <td>['readability', 'maintainability']</td>\n      <td>['description', 'evaluation']</td>\n      <td>['OOP']</td>\n    </tr>\n  </tbody>\n</table>\n</div>"
     },
     "execution_count": 379,
     "metadata": {},
     "output_type": "execute_result"
    }
   ],
   "source": [
    "read_comb[read_comb.category.str.contains('machine learning')]"
   ],
   "metadata": {
    "collapsed": false,
    "pycharm": {
     "name": "#%%\n"
    }
   }
  },
  {
   "cell_type": "markdown",
   "source": [
    "### Correctness, Documentation"
   ],
   "metadata": {
    "collapsed": false,
    "pycharm": {
     "name": "#%% md\n"
    }
   }
  },
  {
   "cell_type": "code",
   "execution_count": 387,
   "outputs": [
    {
     "data": {
      "text/plain": "                 key                                              title  \\\n29  rayyan-354359305  Developing applications to automatically grade...   \n\n      authors                                           abstract  \\\n29  Gerdes J.  There are many unique challenges associated wi...   \n\n    year_published                                               tags  \\\n29            2017  [data_available:False, skill:correctness, tech...   \n\n      category                            skills  \\\n29  ['static']  ['correctness', 'documentation']   \n\n                            types lang_family  \n29  ['description', 'evaluation']     ['OOP']  ",
      "text/html": "<div>\n<style scoped>\n    .dataframe tbody tr th:only-of-type {\n        vertical-align: middle;\n    }\n\n    .dataframe tbody tr th {\n        vertical-align: top;\n    }\n\n    .dataframe thead th {\n        text-align: right;\n    }\n</style>\n<table border=\"1\" class=\"dataframe\">\n  <thead>\n    <tr style=\"text-align: right;\">\n      <th></th>\n      <th>key</th>\n      <th>title</th>\n      <th>authors</th>\n      <th>abstract</th>\n      <th>year_published</th>\n      <th>tags</th>\n      <th>category</th>\n      <th>skills</th>\n      <th>types</th>\n      <th>lang_family</th>\n    </tr>\n  </thead>\n  <tbody>\n    <tr>\n      <th>29</th>\n      <td>rayyan-354359305</td>\n      <td>Developing applications to automatically grade...</td>\n      <td>Gerdes J.</td>\n      <td>There are many unique challenges associated wi...</td>\n      <td>2017</td>\n      <td>[data_available:False, skill:correctness, tech...</td>\n      <td>['static']</td>\n      <td>['correctness', 'documentation']</td>\n      <td>['description', 'evaluation']</td>\n      <td>['OOP']</td>\n    </tr>\n  </tbody>\n</table>\n</div>"
     },
     "execution_count": 387,
     "metadata": {},
     "output_type": "execute_result"
    }
   ],
   "source": [
    "df[df.skills.str.contains(\"^\\['correctness', 'documentation'\\]$\")]"
   ],
   "metadata": {
    "collapsed": false,
    "pycharm": {
     "name": "#%%\n"
    }
   }
  },
  {
   "cell_type": "markdown",
   "source": [
    "## Degree of Automation"
   ],
   "metadata": {
    "collapsed": false,
    "pycharm": {
     "name": "#%% md\n"
    }
   }
  },
  {
   "cell_type": "code",
   "execution_count": 403,
   "outputs": [
    {
     "data": {
      "text/plain": "approach:fully_automated    100\napproach:semi_automatic      17\napproach:unclear              5\nName: tags, dtype: int64"
     },
     "execution_count": 403,
     "metadata": {},
     "output_type": "execute_result"
    }
   ],
   "source": [
    "doa_df = df.copy()\n",
    "doa_df.tags = doa_df.tags.apply(lambda labels: [str(label) for label in labels if label.startswith('approach')])\n",
    "doa_df = doa_df.explode('tags')\n",
    "doa_df.tags.value_counts()"
   ],
   "metadata": {
    "collapsed": false,
    "pycharm": {
     "name": "#%%\n"
    }
   }
  },
  {
   "cell_type": "code",
   "execution_count": 404,
   "outputs": [
    {
     "data": {
      "text/plain": "approach:fully_automated    81.967213\napproach:semi_automatic     13.934426\napproach:unclear             4.098361\nName: tags, dtype: float64"
     },
     "execution_count": 404,
     "metadata": {},
     "output_type": "execute_result"
    }
   ],
   "source": [
    "(doa_df.tags.value_counts() /  doa_df.shape[0]) * 100"
   ],
   "metadata": {
    "collapsed": false,
    "pycharm": {
     "name": "#%%\n"
    }
   }
  },
  {
   "cell_type": "code",
   "execution_count": 406,
   "outputs": [
    {
     "data": {
      "text/plain": "                  key                                              title  \\\n1    rayyan-354359270  Semiautomatic generation and assessment of Jav...   \n3    rayyan-354359272  Virtual Teaching Assistant for Grading Program...   \n10   rayyan-354359280  Syntactic and Semantic Analysis for Extended F...   \n14   rayyan-354359287                      Teaching programming at scale   \n16   rayyan-354359291  A parser-based tool to assist instructors in g...   \n19   rayyan-354359295  Convolutional neural network applied to code a...   \n36   rayyan-354359313  Enhancing the Learning of Database Access Prog...   \n37   rayyan-354359314  MAESTRO: a semi-autoMAted Evaluation SysTem fo...   \n41   rayyan-354359318      Gradeer: An Open-Source Modular Hybrid Grader   \n44   rayyan-354359321  Automating Testing of Visual Observed Concurrency   \n57   rayyan-354359337  Evaluation of a Tool for Java Structural Speci...   \n62   rayyan-354359342  Autograding Distributed Algorithms in Networke...   \n67   rayyan-354359348  Effectiveness of Real-Time Feedback and Instru...   \n95   rayyan-354359383  Automated Assessment of Learning Objectives in...   \n112  rayyan-354359405  Soploon: A virtual assistant to help teachers ...   \n113  rayyan-354359406  ViDA: A virtual debugging advisor for supporti...   \n114  rayyan-354359407  Providing meaningful feedback for autograding ...   \n\n                                               authors  \\\n1              Insa D., Pérez S., Silva J., Tamarit S.   \n3                               Chou C.-Y., Chen Y.-J.   \n10   Andujar C., Vijulie C.R., Vinacua A., Santos B...   \n14   Kaplan A., Keim J., Schneider Y.R., Walter M.,...   \n16                Andujar C., Vijulie C.R., Vinacua A.   \n19   De Souza F.R., De Assis Zampirolli F., Kobayas...   \n36                                            B. Pérez   \n37                       A. Bertagnon and M. Gavanelli   \n41   B. Clegg and M. -C. Villa-Uriol and P. McMinn ...   \n44   P. Dewan and A. Wortas and Z. Liu and S. Georg...   \n57                                      Dil A,Osunde J   \n62             Maicus E,Peveler M,Patterson S,Cutler B   \n67                                              Lee HH   \n95                       Rump A., Fehnker A., Mader A.   \n112  Vallejos S., Berdun L.S., Armentano M.G., Sori...   \n113  Lee V.C.S., Yu Y.T., Tang C.M., Wong T.L., Poo...   \n114  Haldeman G., Tjang A., Babeş-Vroman M., Bartos...   \n\n                                              abstract  year_published  \\\n1    Continuous assessment is essential in educatio...            2021   \n3    This study proposes an automated programming a...            2021   \n10   Modern computer graphics courses require stude...            2020   \n14   Teaching programming is a difficult task and t...            2020   \n16   Although online e-learning environments are in...            2019   \n19   Thousands of students have their assignments e...            2019   \n36   Database access programming is a noteworthy co...            2021   \n37   Many works in the literature highlight the imp...            2020   \n41   Automated assessment has been shown to greatly...            2021   \n44   Existing techniques for automating the testing...            2021   \n57   Although a number of tools for evaluating Java...            2018   \n62   We present a container-based system to automat...            2019   \n67   In this paper, we present our findings on enha...            2021   \n95   Individual feedback is a core ingredient of a ...            2021   \n112  When checking students’ source codes, teachers...            2018   \n113  Many students need assistance in debugging to ...            2018   \n114  Autograding systems are increasingly being dep...            2018   \n\n                        tags               category  \\\n1    approach:semi_automatic  ['dynamic', 'static']   \n3    approach:semi_automatic  ['dynamic', 'static']   \n10   approach:semi_automatic  ['dynamic', 'static']   \n14   approach:semi_automatic  ['dynamic', 'static']   \n16   approach:semi_automatic  ['dynamic', 'static']   \n19   approach:semi_automatic   ['machine learning']   \n36   approach:semi_automatic            ['dynamic']   \n37   approach:semi_automatic            ['dynamic']   \n41   approach:semi_automatic  ['dynamic', 'static']   \n44   approach:semi_automatic            ['dynamic']   \n57   approach:semi_automatic            ['dynamic']   \n62   approach:semi_automatic            ['dynamic']   \n67   approach:semi_automatic            ['dynamic']   \n95   approach:semi_automatic             ['static']   \n112  approach:semi_automatic             ['static']   \n113  approach:semi_automatic            ['dynamic']   \n114  approach:semi_automatic            ['dynamic']   \n\n                                                skills  \\\n1                   ['correctness', 'maintainability']   \n3                                      ['correctness']   \n10                      ['correctness', 'readability']   \n14                      ['correctness', 'readability']   \n16                      ['correctness', 'readability']   \n19                                     ['correctness']   \n36                                     ['correctness']   \n37                                     ['correctness']   \n41                      ['correctness', 'readability']   \n44                                     ['correctness']   \n57                      ['correctness', 'readability']   \n62                                     ['correctness']   \n67                                     ['correctness']   \n95   ['correctness', 'readability', 'maintainability']   \n112                 ['correctness', 'maintainability']   \n113                                    ['correctness']   \n114                                    ['correctness']   \n\n                             types            lang_family  \n1    ['description', 'evaluation']                ['OOP']  \n3    ['description', 'evaluation']            ['Unknown']  \n10                 ['description']           ['Graphics']  \n14                  ['experience']                ['OOP']  \n16   ['description', 'evaluation']    ['OOP', 'Graphics']  \n19   ['description', 'evaluation']                ['OOP']  \n36   ['description', 'evaluation']                ['OOP']  \n37   ['description', 'evaluation']  ['OOP', 'Functional']  \n41   ['description', 'evaluation']                ['OOP']  \n44   ['description', 'evaluation']                ['OOP']  \n57                  ['evaluation']                ['OOP']  \n62                 ['description']            ['Unknown']  \n67   ['description', 'evaluation']                ['OOP']  \n95   ['description', 'evaluation']                ['OOP']  \n112  ['description', 'evaluation']                ['OOP']  \n113  ['description', 'evaluation']           ['Agnostic']  \n114  ['description', 'evaluation']            ['Unknown']  ",
      "text/html": "<div>\n<style scoped>\n    .dataframe tbody tr th:only-of-type {\n        vertical-align: middle;\n    }\n\n    .dataframe tbody tr th {\n        vertical-align: top;\n    }\n\n    .dataframe thead th {\n        text-align: right;\n    }\n</style>\n<table border=\"1\" class=\"dataframe\">\n  <thead>\n    <tr style=\"text-align: right;\">\n      <th></th>\n      <th>key</th>\n      <th>title</th>\n      <th>authors</th>\n      <th>abstract</th>\n      <th>year_published</th>\n      <th>tags</th>\n      <th>category</th>\n      <th>skills</th>\n      <th>types</th>\n      <th>lang_family</th>\n    </tr>\n  </thead>\n  <tbody>\n    <tr>\n      <th>1</th>\n      <td>rayyan-354359270</td>\n      <td>Semiautomatic generation and assessment of Jav...</td>\n      <td>Insa D., Pérez S., Silva J., Tamarit S.</td>\n      <td>Continuous assessment is essential in educatio...</td>\n      <td>2021</td>\n      <td>approach:semi_automatic</td>\n      <td>['dynamic', 'static']</td>\n      <td>['correctness', 'maintainability']</td>\n      <td>['description', 'evaluation']</td>\n      <td>['OOP']</td>\n    </tr>\n    <tr>\n      <th>3</th>\n      <td>rayyan-354359272</td>\n      <td>Virtual Teaching Assistant for Grading Program...</td>\n      <td>Chou C.-Y., Chen Y.-J.</td>\n      <td>This study proposes an automated programming a...</td>\n      <td>2021</td>\n      <td>approach:semi_automatic</td>\n      <td>['dynamic', 'static']</td>\n      <td>['correctness']</td>\n      <td>['description', 'evaluation']</td>\n      <td>['Unknown']</td>\n    </tr>\n    <tr>\n      <th>10</th>\n      <td>rayyan-354359280</td>\n      <td>Syntactic and Semantic Analysis for Extended F...</td>\n      <td>Andujar C., Vijulie C.R., Vinacua A., Santos B...</td>\n      <td>Modern computer graphics courses require stude...</td>\n      <td>2020</td>\n      <td>approach:semi_automatic</td>\n      <td>['dynamic', 'static']</td>\n      <td>['correctness', 'readability']</td>\n      <td>['description']</td>\n      <td>['Graphics']</td>\n    </tr>\n    <tr>\n      <th>14</th>\n      <td>rayyan-354359287</td>\n      <td>Teaching programming at scale</td>\n      <td>Kaplan A., Keim J., Schneider Y.R., Walter M.,...</td>\n      <td>Teaching programming is a difficult task and t...</td>\n      <td>2020</td>\n      <td>approach:semi_automatic</td>\n      <td>['dynamic', 'static']</td>\n      <td>['correctness', 'readability']</td>\n      <td>['experience']</td>\n      <td>['OOP']</td>\n    </tr>\n    <tr>\n      <th>16</th>\n      <td>rayyan-354359291</td>\n      <td>A parser-based tool to assist instructors in g...</td>\n      <td>Andujar C., Vijulie C.R., Vinacua A.</td>\n      <td>Although online e-learning environments are in...</td>\n      <td>2019</td>\n      <td>approach:semi_automatic</td>\n      <td>['dynamic', 'static']</td>\n      <td>['correctness', 'readability']</td>\n      <td>['description', 'evaluation']</td>\n      <td>['OOP', 'Graphics']</td>\n    </tr>\n    <tr>\n      <th>19</th>\n      <td>rayyan-354359295</td>\n      <td>Convolutional neural network applied to code a...</td>\n      <td>De Souza F.R., De Assis Zampirolli F., Kobayas...</td>\n      <td>Thousands of students have their assignments e...</td>\n      <td>2019</td>\n      <td>approach:semi_automatic</td>\n      <td>['machine learning']</td>\n      <td>['correctness']</td>\n      <td>['description', 'evaluation']</td>\n      <td>['OOP']</td>\n    </tr>\n    <tr>\n      <th>36</th>\n      <td>rayyan-354359313</td>\n      <td>Enhancing the Learning of Database Access Prog...</td>\n      <td>B. Pérez</td>\n      <td>Database access programming is a noteworthy co...</td>\n      <td>2021</td>\n      <td>approach:semi_automatic</td>\n      <td>['dynamic']</td>\n      <td>['correctness']</td>\n      <td>['description', 'evaluation']</td>\n      <td>['OOP']</td>\n    </tr>\n    <tr>\n      <th>37</th>\n      <td>rayyan-354359314</td>\n      <td>MAESTRO: a semi-autoMAted Evaluation SysTem fo...</td>\n      <td>A. Bertagnon and M. Gavanelli</td>\n      <td>Many works in the literature highlight the imp...</td>\n      <td>2020</td>\n      <td>approach:semi_automatic</td>\n      <td>['dynamic']</td>\n      <td>['correctness']</td>\n      <td>['description', 'evaluation']</td>\n      <td>['OOP', 'Functional']</td>\n    </tr>\n    <tr>\n      <th>41</th>\n      <td>rayyan-354359318</td>\n      <td>Gradeer: An Open-Source Modular Hybrid Grader</td>\n      <td>B. Clegg and M. -C. Villa-Uriol and P. McMinn ...</td>\n      <td>Automated assessment has been shown to greatly...</td>\n      <td>2021</td>\n      <td>approach:semi_automatic</td>\n      <td>['dynamic', 'static']</td>\n      <td>['correctness', 'readability']</td>\n      <td>['description', 'evaluation']</td>\n      <td>['OOP']</td>\n    </tr>\n    <tr>\n      <th>44</th>\n      <td>rayyan-354359321</td>\n      <td>Automating Testing of Visual Observed Concurrency</td>\n      <td>P. Dewan and A. Wortas and Z. Liu and S. Georg...</td>\n      <td>Existing techniques for automating the testing...</td>\n      <td>2021</td>\n      <td>approach:semi_automatic</td>\n      <td>['dynamic']</td>\n      <td>['correctness']</td>\n      <td>['description', 'evaluation']</td>\n      <td>['OOP']</td>\n    </tr>\n    <tr>\n      <th>57</th>\n      <td>rayyan-354359337</td>\n      <td>Evaluation of a Tool for Java Structural Speci...</td>\n      <td>Dil A,Osunde J</td>\n      <td>Although a number of tools for evaluating Java...</td>\n      <td>2018</td>\n      <td>approach:semi_automatic</td>\n      <td>['dynamic']</td>\n      <td>['correctness', 'readability']</td>\n      <td>['evaluation']</td>\n      <td>['OOP']</td>\n    </tr>\n    <tr>\n      <th>62</th>\n      <td>rayyan-354359342</td>\n      <td>Autograding Distributed Algorithms in Networke...</td>\n      <td>Maicus E,Peveler M,Patterson S,Cutler B</td>\n      <td>We present a container-based system to automat...</td>\n      <td>2019</td>\n      <td>approach:semi_automatic</td>\n      <td>['dynamic']</td>\n      <td>['correctness']</td>\n      <td>['description']</td>\n      <td>['Unknown']</td>\n    </tr>\n    <tr>\n      <th>67</th>\n      <td>rayyan-354359348</td>\n      <td>Effectiveness of Real-Time Feedback and Instru...</td>\n      <td>Lee HH</td>\n      <td>In this paper, we present our findings on enha...</td>\n      <td>2021</td>\n      <td>approach:semi_automatic</td>\n      <td>['dynamic']</td>\n      <td>['correctness']</td>\n      <td>['description', 'evaluation']</td>\n      <td>['OOP']</td>\n    </tr>\n    <tr>\n      <th>95</th>\n      <td>rayyan-354359383</td>\n      <td>Automated Assessment of Learning Objectives in...</td>\n      <td>Rump A., Fehnker A., Mader A.</td>\n      <td>Individual feedback is a core ingredient of a ...</td>\n      <td>2021</td>\n      <td>approach:semi_automatic</td>\n      <td>['static']</td>\n      <td>['correctness', 'readability', 'maintainability']</td>\n      <td>['description', 'evaluation']</td>\n      <td>['OOP']</td>\n    </tr>\n    <tr>\n      <th>112</th>\n      <td>rayyan-354359405</td>\n      <td>Soploon: A virtual assistant to help teachers ...</td>\n      <td>Vallejos S., Berdun L.S., Armentano M.G., Sori...</td>\n      <td>When checking students’ source codes, teachers...</td>\n      <td>2018</td>\n      <td>approach:semi_automatic</td>\n      <td>['static']</td>\n      <td>['correctness', 'maintainability']</td>\n      <td>['description', 'evaluation']</td>\n      <td>['OOP']</td>\n    </tr>\n    <tr>\n      <th>113</th>\n      <td>rayyan-354359406</td>\n      <td>ViDA: A virtual debugging advisor for supporti...</td>\n      <td>Lee V.C.S., Yu Y.T., Tang C.M., Wong T.L., Poo...</td>\n      <td>Many students need assistance in debugging to ...</td>\n      <td>2018</td>\n      <td>approach:semi_automatic</td>\n      <td>['dynamic']</td>\n      <td>['correctness']</td>\n      <td>['description', 'evaluation']</td>\n      <td>['Agnostic']</td>\n    </tr>\n    <tr>\n      <th>114</th>\n      <td>rayyan-354359407</td>\n      <td>Providing meaningful feedback for autograding ...</td>\n      <td>Haldeman G., Tjang A., Babeş-Vroman M., Bartos...</td>\n      <td>Autograding systems are increasingly being dep...</td>\n      <td>2018</td>\n      <td>approach:semi_automatic</td>\n      <td>['dynamic']</td>\n      <td>['correctness']</td>\n      <td>['description', 'evaluation']</td>\n      <td>['Unknown']</td>\n    </tr>\n  </tbody>\n</table>\n</div>"
     },
     "execution_count": 406,
     "metadata": {},
     "output_type": "execute_result"
    }
   ],
   "source": [
    "doa_df[doa_df.tags.str.contains('semi')]"
   ],
   "metadata": {
    "collapsed": false,
    "pycharm": {
     "name": "#%%\n"
    }
   }
  },
  {
   "cell_type": "markdown",
   "source": [
    "## Language Paradigms"
   ],
   "metadata": {
    "collapsed": false,
    "pycharm": {
     "name": "#%% md\n"
    }
   }
  },
  {
   "cell_type": "code",
   "execution_count": 408,
   "outputs": [
    {
     "data": {
      "text/plain": "['OOP']                  84\n['Unknown']               9\n['Functional']            8\n['Agnostic']              5\n['Low-Level']             3\n['Graphics']              2\n['OOP', 'Graphics']       2\n['OOP', 'Functional']     2\n['OOP', 'Agnostic']       2\n['Web']                   2\n['Query']                 1\n['OOP', 'Web']            1\n['Logic']                 1\nName: lang_family, dtype: int64"
     },
     "execution_count": 408,
     "metadata": {},
     "output_type": "execute_result"
    }
   ],
   "source": [
    "lp_df = df.copy()\n",
    "lp_df.lang_family.value_counts()"
   ],
   "metadata": {
    "collapsed": false,
    "pycharm": {
     "name": "#%%\n"
    }
   }
  },
  {
   "cell_type": "code",
   "execution_count": 409,
   "outputs": [
    {
     "data": {
      "text/plain": "['OOP']                  68.852459\n['Unknown']               7.377049\n['Functional']            6.557377\n['Agnostic']              4.098361\n['Low-Level']             2.459016\n['Graphics']              1.639344\n['OOP', 'Graphics']       1.639344\n['OOP', 'Functional']     1.639344\n['OOP', 'Agnostic']       1.639344\n['Web']                   1.639344\n['Query']                 0.819672\n['OOP', 'Web']            0.819672\n['Logic']                 0.819672\nName: lang_family, dtype: float64"
     },
     "execution_count": 409,
     "metadata": {},
     "output_type": "execute_result"
    }
   ],
   "source": [
    "(lp_df.lang_family.value_counts() / lp_df.shape[0]) * 100"
   ],
   "metadata": {
    "collapsed": false,
    "pycharm": {
     "name": "#%%\n"
    }
   }
  },
  {
   "cell_type": "markdown",
   "source": [
    "## Evaluation"
   ],
   "metadata": {
    "collapsed": false,
    "pycharm": {
     "name": "#%% md\n"
    }
   }
  },
  {
   "cell_type": "code",
   "execution_count": 416,
   "outputs": [
    {
     "data": {
      "text/plain": "evaluation:student_survey             38\nevaluation:manual_grading             36\nevaluation:analytics                  20\nevaluation:auto_grading               15\nevaluation:none                       12\nevaluation:user_study                  6\nevaluation:grading_accuracy            6\nevaluation:teacher_survey              6\nevaluation:compared_to_other_tools     5\nevaluation:anecdotal                   5\nevaluation:usage                       4\nevaluation:engagement                  3\nevaluation:grade_correlation           2\nevaluation:feedback                    2\nevaluation:correlation_grades          2\nevaluation:ml_models                   1\nName: tags, dtype: int64"
     },
     "execution_count": 416,
     "metadata": {},
     "output_type": "execute_result"
    }
   ],
   "source": [
    "eval_df = df.copy()\n",
    "eval_df.tags = eval_df.tags.apply(lambda labels: [str(label) for label in labels if label.startswith('evaluation')])\n",
    "eval_df = eval_df.explode('tags')\n",
    "eval_df.tags.value_counts()"
   ],
   "metadata": {
    "collapsed": false,
    "pycharm": {
     "name": "#%%\n"
    }
   }
  },
  {
   "cell_type": "markdown",
   "source": [
    "## Novelty of Research"
   ],
   "metadata": {
    "collapsed": false,
    "pycharm": {
     "name": "#%% md\n"
    }
   }
  },
  {
   "cell_type": "code",
   "execution_count": 282,
   "outputs": [
    {
     "data": {
      "text/plain": "   year_published               category                              skills\n0            2021            ['dynamic']                     ['correctness']\n1            2021  ['dynamic', 'static']  ['correctness', 'maintainability']\n2            2021             ['static']  ['readability', 'maintainability']\n3            2021  ['dynamic', 'static']                     ['correctness']\n4            2021  ['dynamic', 'static']      ['correctness', 'readability']",
      "text/html": "<div>\n<style scoped>\n    .dataframe tbody tr th:only-of-type {\n        vertical-align: middle;\n    }\n\n    .dataframe tbody tr th {\n        vertical-align: top;\n    }\n\n    .dataframe thead th {\n        text-align: right;\n    }\n</style>\n<table border=\"1\" class=\"dataframe\">\n  <thead>\n    <tr style=\"text-align: right;\">\n      <th></th>\n      <th>year_published</th>\n      <th>category</th>\n      <th>skills</th>\n    </tr>\n  </thead>\n  <tbody>\n    <tr>\n      <th>0</th>\n      <td>2021</td>\n      <td>['dynamic']</td>\n      <td>['correctness']</td>\n    </tr>\n    <tr>\n      <th>1</th>\n      <td>2021</td>\n      <td>['dynamic', 'static']</td>\n      <td>['correctness', 'maintainability']</td>\n    </tr>\n    <tr>\n      <th>2</th>\n      <td>2021</td>\n      <td>['static']</td>\n      <td>['readability', 'maintainability']</td>\n    </tr>\n    <tr>\n      <th>3</th>\n      <td>2021</td>\n      <td>['dynamic', 'static']</td>\n      <td>['correctness']</td>\n    </tr>\n    <tr>\n      <th>4</th>\n      <td>2021</td>\n      <td>['dynamic', 'static']</td>\n      <td>['correctness', 'readability']</td>\n    </tr>\n  </tbody>\n</table>\n</div>"
     },
     "execution_count": 282,
     "metadata": {},
     "output_type": "execute_result"
    }
   ],
   "source": [
    "novel_df = df[['year_published','category', 'skills']].copy()\n",
    "novel_df.head()"
   ],
   "metadata": {
    "collapsed": false,
    "pycharm": {
     "name": "#%%\n"
    }
   }
  },
  {
   "cell_type": "code",
   "execution_count": 283,
   "outputs": [],
   "source": [
    "# Probably have to rethink how I have done this...\n",
    "def assign_skill_cat_combo(categories, skills):\n",
    "    combos = []\n",
    "    if 'correctness' in skills and 'dynamic' in categories:\n",
    "        combos.append('correctness_dynamic')\n",
    "    if 'correctness' in skills and 'static' in categories:\n",
    "        combos.append('correctness_static')\n",
    "    if 'correctness' in skills and 'machine learning' in categories:\n",
    "        combos.append('correctness_ml')\n",
    "    if 'maintainability' in skills and 'dynamic' in categories:\n",
    "        combos.append('maintainability_dynamic')\n",
    "    if 'maintainability' in skills and 'static' in categories:\n",
    "        combos.append('maintainability_static')\n",
    "    if 'maintainability' in skills and 'machine learning' in categories:\n",
    "        combos.append('maintainability_ml')\n",
    "    if 'readability' in skills and 'dynamic' in categories:\n",
    "        combos.append('readability_dynamic')\n",
    "    if 'readability' in skills and 'static' in categories:\n",
    "        combos.append('readability_static')\n",
    "    if 'readability' in skills and 'machine learning' in categories:\n",
    "        combos.append('readability_ml')\n",
    "    if 'documentation' in skills and 'dynamic' in categories:\n",
    "        combos.append('documentation_dynamic')\n",
    "    if 'documentation' in skills and 'static' in categories:\n",
    "        combos.append('documentation_static')\n",
    "    if 'documentation' in skills and 'machine learning' in categories:\n",
    "        combos.append('documentation_ml')\n",
    "    return combos"
   ],
   "metadata": {
    "collapsed": false,
    "pycharm": {
     "name": "#%%\n"
    }
   }
  },
  {
   "cell_type": "code",
   "execution_count": 284,
   "outputs": [
    {
     "data": {
      "text/plain": "     year_published                        category  \\\n0              2021                     ['dynamic']   \n1              2021           ['dynamic', 'static']   \n2              2021                      ['static']   \n3              2021           ['dynamic', 'static']   \n4              2021           ['dynamic', 'static']   \n..              ...                             ...   \n117            2017                     ['dynamic']   \n118            2017           ['dynamic', 'static']   \n119            2017                     ['dynamic']   \n120            2017  ['static', 'machine learning']   \n121            2017                      ['static']   \n\n                                 skills                    combo  \n0                       ['correctness']      correctness_dynamic  \n1    ['correctness', 'maintainability']      correctness_dynamic  \n2    ['readability', 'maintainability']       correctness_static  \n3                       ['correctness']  maintainability_dynamic  \n4        ['correctness', 'readability']   maintainability_static  \n..                                  ...                      ...  \n117                     ['correctness']      readability_dynamic  \n118                     ['correctness']      correctness_dynamic  \n119  ['correctness', 'maintainability']      correctness_dynamic  \n120  ['readability', 'maintainability']       correctness_static  \n121                     ['correctness']      readability_dynamic  \n\n[122 rows x 4 columns]",
      "text/html": "<div>\n<style scoped>\n    .dataframe tbody tr th:only-of-type {\n        vertical-align: middle;\n    }\n\n    .dataframe tbody tr th {\n        vertical-align: top;\n    }\n\n    .dataframe thead th {\n        text-align: right;\n    }\n</style>\n<table border=\"1\" class=\"dataframe\">\n  <thead>\n    <tr style=\"text-align: right;\">\n      <th></th>\n      <th>year_published</th>\n      <th>category</th>\n      <th>skills</th>\n      <th>combo</th>\n    </tr>\n  </thead>\n  <tbody>\n    <tr>\n      <th>0</th>\n      <td>2021</td>\n      <td>['dynamic']</td>\n      <td>['correctness']</td>\n      <td>correctness_dynamic</td>\n    </tr>\n    <tr>\n      <th>1</th>\n      <td>2021</td>\n      <td>['dynamic', 'static']</td>\n      <td>['correctness', 'maintainability']</td>\n      <td>correctness_dynamic</td>\n    </tr>\n    <tr>\n      <th>2</th>\n      <td>2021</td>\n      <td>['static']</td>\n      <td>['readability', 'maintainability']</td>\n      <td>correctness_static</td>\n    </tr>\n    <tr>\n      <th>3</th>\n      <td>2021</td>\n      <td>['dynamic', 'static']</td>\n      <td>['correctness']</td>\n      <td>maintainability_dynamic</td>\n    </tr>\n    <tr>\n      <th>4</th>\n      <td>2021</td>\n      <td>['dynamic', 'static']</td>\n      <td>['correctness', 'readability']</td>\n      <td>maintainability_static</td>\n    </tr>\n    <tr>\n      <th>...</th>\n      <td>...</td>\n      <td>...</td>\n      <td>...</td>\n      <td>...</td>\n    </tr>\n    <tr>\n      <th>117</th>\n      <td>2017</td>\n      <td>['dynamic']</td>\n      <td>['correctness']</td>\n      <td>readability_dynamic</td>\n    </tr>\n    <tr>\n      <th>118</th>\n      <td>2017</td>\n      <td>['dynamic', 'static']</td>\n      <td>['correctness']</td>\n      <td>correctness_dynamic</td>\n    </tr>\n    <tr>\n      <th>119</th>\n      <td>2017</td>\n      <td>['dynamic']</td>\n      <td>['correctness', 'maintainability']</td>\n      <td>correctness_dynamic</td>\n    </tr>\n    <tr>\n      <th>120</th>\n      <td>2017</td>\n      <td>['static', 'machine learning']</td>\n      <td>['readability', 'maintainability']</td>\n      <td>correctness_static</td>\n    </tr>\n    <tr>\n      <th>121</th>\n      <td>2017</td>\n      <td>['static']</td>\n      <td>['correctness']</td>\n      <td>readability_dynamic</td>\n    </tr>\n  </tbody>\n</table>\n<p>122 rows × 4 columns</p>\n</div>"
     },
     "execution_count": 284,
     "metadata": {},
     "output_type": "execute_result"
    }
   ],
   "source": [
    "novel_df = novel_df.fillna('empty')\n",
    "novel_df['combo'] = novel_df.apply(lambda x: assign_skill_cat_combo(x.category, x.skills), axis=1).explode('combo')\n",
    "\n",
    "novel_df"
   ],
   "metadata": {
    "collapsed": false,
    "pycharm": {
     "name": "#%%\n"
    }
   }
  },
  {
   "cell_type": "code",
   "execution_count": 285,
   "outputs": [
    {
     "data": {
      "text/plain": "(122, 10)"
     },
     "execution_count": 285,
     "metadata": {},
     "output_type": "execute_result"
    }
   ],
   "source": [
    "df.shape"
   ],
   "metadata": {
    "collapsed": false,
    "pycharm": {
     "name": "#%%\n"
    }
   }
  },
  {
   "cell_type": "code",
   "execution_count": 286,
   "outputs": [
    {
     "data": {
      "text/plain": "    year_published                    combo  number  proportion\n0             2017       correctness_static       6    4.918033\n1             2017      readability_dynamic       5    4.098361\n2             2017      correctness_dynamic       5    4.098361\n3             2017       readability_static       2    1.639344\n4             2017           correctness_ml       1    0.819672\n5             2017   maintainability_static       1    0.819672\n6             2018      correctness_dynamic      10    8.196721\n7             2018       correctness_static       6    4.918033\n8             2018       readability_static       3    2.459016\n9             2018      readability_dynamic       2    1.639344\n10            2019      correctness_dynamic       7    5.737705\n11            2019       readability_static       5    4.098361\n12            2019       correctness_static       5    4.098361\n13            2019      readability_dynamic       2    1.639344\n14            2019  maintainability_dynamic       2    1.639344\n15            2019           correctness_ml       2    1.639344\n16            2019   maintainability_static       1    0.819672\n17            2019           readability_ml       1    0.819672\n18            2020      correctness_dynamic      12    9.836066\n19            2020       correctness_static       7    5.737705\n20            2020      readability_dynamic       3    2.459016\n21            2020       readability_static       2    1.639344\n22            2020           correctness_ml       1    0.819672\n23            2020     documentation_static       1    0.819672\n24            2020       maintainability_ml       1    0.819672\n25            2020           readability_ml       1    0.819672\n26            2021       correctness_static      10    8.196721\n27            2021      correctness_dynamic       8    6.557377\n28            2021      readability_dynamic       3    2.459016\n29            2021   maintainability_static       3    2.459016\n30            2021       readability_static       2    1.639344\n31            2021           correctness_ml       1    0.819672\n32            2021  maintainability_dynamic       1    0.819672",
      "text/html": "<div>\n<style scoped>\n    .dataframe tbody tr th:only-of-type {\n        vertical-align: middle;\n    }\n\n    .dataframe tbody tr th {\n        vertical-align: top;\n    }\n\n    .dataframe thead th {\n        text-align: right;\n    }\n</style>\n<table border=\"1\" class=\"dataframe\">\n  <thead>\n    <tr style=\"text-align: right;\">\n      <th></th>\n      <th>year_published</th>\n      <th>combo</th>\n      <th>number</th>\n      <th>proportion</th>\n    </tr>\n  </thead>\n  <tbody>\n    <tr>\n      <th>0</th>\n      <td>2017</td>\n      <td>correctness_static</td>\n      <td>6</td>\n      <td>4.918033</td>\n    </tr>\n    <tr>\n      <th>1</th>\n      <td>2017</td>\n      <td>readability_dynamic</td>\n      <td>5</td>\n      <td>4.098361</td>\n    </tr>\n    <tr>\n      <th>2</th>\n      <td>2017</td>\n      <td>correctness_dynamic</td>\n      <td>5</td>\n      <td>4.098361</td>\n    </tr>\n    <tr>\n      <th>3</th>\n      <td>2017</td>\n      <td>readability_static</td>\n      <td>2</td>\n      <td>1.639344</td>\n    </tr>\n    <tr>\n      <th>4</th>\n      <td>2017</td>\n      <td>correctness_ml</td>\n      <td>1</td>\n      <td>0.819672</td>\n    </tr>\n    <tr>\n      <th>5</th>\n      <td>2017</td>\n      <td>maintainability_static</td>\n      <td>1</td>\n      <td>0.819672</td>\n    </tr>\n    <tr>\n      <th>6</th>\n      <td>2018</td>\n      <td>correctness_dynamic</td>\n      <td>10</td>\n      <td>8.196721</td>\n    </tr>\n    <tr>\n      <th>7</th>\n      <td>2018</td>\n      <td>correctness_static</td>\n      <td>6</td>\n      <td>4.918033</td>\n    </tr>\n    <tr>\n      <th>8</th>\n      <td>2018</td>\n      <td>readability_static</td>\n      <td>3</td>\n      <td>2.459016</td>\n    </tr>\n    <tr>\n      <th>9</th>\n      <td>2018</td>\n      <td>readability_dynamic</td>\n      <td>2</td>\n      <td>1.639344</td>\n    </tr>\n    <tr>\n      <th>10</th>\n      <td>2019</td>\n      <td>correctness_dynamic</td>\n      <td>7</td>\n      <td>5.737705</td>\n    </tr>\n    <tr>\n      <th>11</th>\n      <td>2019</td>\n      <td>readability_static</td>\n      <td>5</td>\n      <td>4.098361</td>\n    </tr>\n    <tr>\n      <th>12</th>\n      <td>2019</td>\n      <td>correctness_static</td>\n      <td>5</td>\n      <td>4.098361</td>\n    </tr>\n    <tr>\n      <th>13</th>\n      <td>2019</td>\n      <td>readability_dynamic</td>\n      <td>2</td>\n      <td>1.639344</td>\n    </tr>\n    <tr>\n      <th>14</th>\n      <td>2019</td>\n      <td>maintainability_dynamic</td>\n      <td>2</td>\n      <td>1.639344</td>\n    </tr>\n    <tr>\n      <th>15</th>\n      <td>2019</td>\n      <td>correctness_ml</td>\n      <td>2</td>\n      <td>1.639344</td>\n    </tr>\n    <tr>\n      <th>16</th>\n      <td>2019</td>\n      <td>maintainability_static</td>\n      <td>1</td>\n      <td>0.819672</td>\n    </tr>\n    <tr>\n      <th>17</th>\n      <td>2019</td>\n      <td>readability_ml</td>\n      <td>1</td>\n      <td>0.819672</td>\n    </tr>\n    <tr>\n      <th>18</th>\n      <td>2020</td>\n      <td>correctness_dynamic</td>\n      <td>12</td>\n      <td>9.836066</td>\n    </tr>\n    <tr>\n      <th>19</th>\n      <td>2020</td>\n      <td>correctness_static</td>\n      <td>7</td>\n      <td>5.737705</td>\n    </tr>\n    <tr>\n      <th>20</th>\n      <td>2020</td>\n      <td>readability_dynamic</td>\n      <td>3</td>\n      <td>2.459016</td>\n    </tr>\n    <tr>\n      <th>21</th>\n      <td>2020</td>\n      <td>readability_static</td>\n      <td>2</td>\n      <td>1.639344</td>\n    </tr>\n    <tr>\n      <th>22</th>\n      <td>2020</td>\n      <td>correctness_ml</td>\n      <td>1</td>\n      <td>0.819672</td>\n    </tr>\n    <tr>\n      <th>23</th>\n      <td>2020</td>\n      <td>documentation_static</td>\n      <td>1</td>\n      <td>0.819672</td>\n    </tr>\n    <tr>\n      <th>24</th>\n      <td>2020</td>\n      <td>maintainability_ml</td>\n      <td>1</td>\n      <td>0.819672</td>\n    </tr>\n    <tr>\n      <th>25</th>\n      <td>2020</td>\n      <td>readability_ml</td>\n      <td>1</td>\n      <td>0.819672</td>\n    </tr>\n    <tr>\n      <th>26</th>\n      <td>2021</td>\n      <td>correctness_static</td>\n      <td>10</td>\n      <td>8.196721</td>\n    </tr>\n    <tr>\n      <th>27</th>\n      <td>2021</td>\n      <td>correctness_dynamic</td>\n      <td>8</td>\n      <td>6.557377</td>\n    </tr>\n    <tr>\n      <th>28</th>\n      <td>2021</td>\n      <td>readability_dynamic</td>\n      <td>3</td>\n      <td>2.459016</td>\n    </tr>\n    <tr>\n      <th>29</th>\n      <td>2021</td>\n      <td>maintainability_static</td>\n      <td>3</td>\n      <td>2.459016</td>\n    </tr>\n    <tr>\n      <th>30</th>\n      <td>2021</td>\n      <td>readability_static</td>\n      <td>2</td>\n      <td>1.639344</td>\n    </tr>\n    <tr>\n      <th>31</th>\n      <td>2021</td>\n      <td>correctness_ml</td>\n      <td>1</td>\n      <td>0.819672</td>\n    </tr>\n    <tr>\n      <th>32</th>\n      <td>2021</td>\n      <td>maintainability_dynamic</td>\n      <td>1</td>\n      <td>0.819672</td>\n    </tr>\n  </tbody>\n</table>\n</div>"
     },
     "execution_count": 286,
     "metadata": {},
     "output_type": "execute_result"
    }
   ],
   "source": [
    "novel_df_grp = novel_df.drop(columns=['category', 'skills'])\n",
    "novel_df_grp = novel_df_grp.groupby('year_published').value_counts().reset_index()\n",
    "novel_df_grp.columns = ['year_published', 'combo', 'number']\n",
    "novel_df_grp['proportion'] = (novel_df_grp.number / novel_df.shape[0]) * 100\n",
    "novel_df_grp"
   ],
   "metadata": {
    "collapsed": false,
    "pycharm": {
     "name": "#%%\n"
    }
   }
  },
  {
   "cell_type": "code",
   "execution_count": 287,
   "outputs": [
    {
     "data": {
      "text/plain": "<AxesSubplot: xlabel='year_published', ylabel='number'>"
     },
     "execution_count": 287,
     "metadata": {},
     "output_type": "execute_result"
    },
    {
     "data": {
      "text/plain": "<Figure size 640x480 with 1 Axes>",
      "image/png": "[encoded data removed]"
     },
     "metadata": {},
     "output_type": "display_data"
    }
   ],
   "source": [
    "novel_df_grp.year_published = novel_df_grp.year_published.astype('str')\n",
    "sns.lineplot(novel_df_grp, x='year_published', y='number', hue='combo')"
   ],
   "metadata": {
    "collapsed": false,
    "pycharm": {
     "name": "#%%\n"
    }
   }
  },
  {
   "cell_type": "code",
   "execution_count": 443,
   "outputs": [
    {
     "data": {
      "text/plain": "<seaborn.axisgrid.FacetGrid at 0x13c231190>"
     },
     "execution_count": 443,
     "metadata": {},
     "output_type": "execute_result"
    },
    {
     "data": {
      "text/plain": "<Figure size 500x500 with 1 Axes>",
      "image/png": "[encoded data removed]"
     },
     "metadata": {},
     "output_type": "display_data"
    }
   ],
   "source": [
    "sns.catplot(novel_df_grp, y='combo', x='year_published')"
   ],
   "metadata": {
    "collapsed": false,
    "pycharm": {
     "name": "#%%\n"
    }
   }
  }
 ],
 "metadata": {
  "kernelspec": {
   "display_name": "Python 3",
   "language": "python",
   "name": "python3"
  },
  "language_info": {
   "codemirror_mode": {
    "name": "ipython",
    "version": 2
   },
   "file_extension": ".py",
   "mimetype": "text/x-python",
   "name": "python",
   "nbconvert_exporter": "python",
   "pygments_lexer": "ipython2",
   "version": "2.7.6"
  }
 },
 "nbformat": 4,
 "nbformat_minor": 0
}