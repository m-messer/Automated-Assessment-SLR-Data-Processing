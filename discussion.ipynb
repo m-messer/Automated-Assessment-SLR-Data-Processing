{
 "cells": [
  {
   "cell_type": "code",
   "execution_count": 56,
   "metadata": {
    "collapsed": true,
    "pycharm": {
     "name": "#%%\n"
    }
   },
   "outputs": [],
   "source": [
    "import pandas as pd\n",
    "import seaborn as sns\n",
    "import matplotlib.pyplot as plt\n",
    "\n",
    "sns.set_palette('husl')"
   ]
  },
  {
   "cell_type": "code",
   "execution_count": 57,
   "outputs": [
    {
     "data": {
      "text/plain": "                key                                              title  \\\n0  rayyan-354359269  An experience of automated assessment in a lar...   \n1  rayyan-354359270  Semiautomatic generation and assessment of Jav...   \n2  rayyan-354359271  A tool for evaluating computer programs from s...   \n3  rayyan-354359272  Virtual Teaching Assistant for Grading Program...   \n4  rayyan-354359273  Analysis of an automatic grading system within...   \n\n                                             authors  \\\n0  Zampirolli F.A., Borovina Josko J.M., Venero M...   \n1            Insa D., Pérez S., Silva J., Tamarit S.   \n2      Vaneck Q., Colart T., Frénay B., Vanderose B.   \n3                             Chou C.-Y., Chen Y.-J.   \n4                      Hegarty-Kelly E., Mooney D.A.   \n\n                                            abstract  year_published  \\\n0  The 2020 pandemic imposed new demands on teach...            2021   \n1  Continuous assessment is essential in educatio...            2021   \n2  Computer science studies are more and more pop...            2021   \n3  This study proposes an automated programming a...            2021   \n4  Reliable and pedagogically sound automated fee...            2021   \n\n                                                tags           category  \\\n0  [approach:fully_automated, data_available:Fals...          [dynamic]   \n1  [approach:semi_automatic, interaction:unknown,...  [dynamic, static]   \n2  [skill:readability, approach:fully_automated, ...           [static]   \n3  [approach:semi_automatic, data_available:False...  [dynamic, static]   \n4  [approach:fully_automated, data_available:Fals...  [dynamic, static]   \n\n                           skills  \\\n0                   [correctness]   \n1                   [correctness]   \n2  [readability, maintainability]   \n3                   [correctness]   \n4                   [correctness]   \n\n                                      skill_cat                      types  \\\n0                         [correctness_dynamic]  [description, evaluation]   \n1     [correctness_dynamic, correctness_static]  [description, evaluation]   \n2  [maintainability_static, readability_static]              [description]   \n3     [correctness_dynamic, correctness_static]  [description, evaluation]   \n4     [correctness_dynamic, correctness_static]  [description, evaluation]   \n\n  lang_family  \n0       [OOP]  \n1       [OOP]  \n2       [OOP]  \n3   [Unknown]  \n4       [OOP]  ",
      "text/html": "<div>\n<style scoped>\n    .dataframe tbody tr th:only-of-type {\n        vertical-align: middle;\n    }\n\n    .dataframe tbody tr th {\n        vertical-align: top;\n    }\n\n    .dataframe thead th {\n        text-align: right;\n    }\n</style>\n<table border=\"1\" class=\"dataframe\">\n  <thead>\n    <tr style=\"text-align: right;\">\n      <th></th>\n      <th>key</th>\n      <th>title</th>\n      <th>authors</th>\n      <th>abstract</th>\n      <th>year_published</th>\n      <th>tags</th>\n      <th>category</th>\n      <th>skills</th>\n      <th>skill_cat</th>\n      <th>types</th>\n      <th>lang_family</th>\n    </tr>\n  </thead>\n  <tbody>\n    <tr>\n      <th>0</th>\n      <td>rayyan-354359269</td>\n      <td>An experience of automated assessment in a lar...</td>\n      <td>Zampirolli F.A., Borovina Josko J.M., Venero M...</td>\n      <td>The 2020 pandemic imposed new demands on teach...</td>\n      <td>2021</td>\n      <td>[approach:fully_automated, data_available:Fals...</td>\n      <td>[dynamic]</td>\n      <td>[correctness]</td>\n      <td>[correctness_dynamic]</td>\n      <td>[description, evaluation]</td>\n      <td>[OOP]</td>\n    </tr>\n    <tr>\n      <th>1</th>\n      <td>rayyan-354359270</td>\n      <td>Semiautomatic generation and assessment of Jav...</td>\n      <td>Insa D., Pérez S., Silva J., Tamarit S.</td>\n      <td>Continuous assessment is essential in educatio...</td>\n      <td>2021</td>\n      <td>[approach:semi_automatic, interaction:unknown,...</td>\n      <td>[dynamic, static]</td>\n      <td>[correctness]</td>\n      <td>[correctness_dynamic, correctness_static]</td>\n      <td>[description, evaluation]</td>\n      <td>[OOP]</td>\n    </tr>\n    <tr>\n      <th>2</th>\n      <td>rayyan-354359271</td>\n      <td>A tool for evaluating computer programs from s...</td>\n      <td>Vaneck Q., Colart T., Frénay B., Vanderose B.</td>\n      <td>Computer science studies are more and more pop...</td>\n      <td>2021</td>\n      <td>[skill:readability, approach:fully_automated, ...</td>\n      <td>[static]</td>\n      <td>[readability, maintainability]</td>\n      <td>[maintainability_static, readability_static]</td>\n      <td>[description]</td>\n      <td>[OOP]</td>\n    </tr>\n    <tr>\n      <th>3</th>\n      <td>rayyan-354359272</td>\n      <td>Virtual Teaching Assistant for Grading Program...</td>\n      <td>Chou C.-Y., Chen Y.-J.</td>\n      <td>This study proposes an automated programming a...</td>\n      <td>2021</td>\n      <td>[approach:semi_automatic, data_available:False...</td>\n      <td>[dynamic, static]</td>\n      <td>[correctness]</td>\n      <td>[correctness_dynamic, correctness_static]</td>\n      <td>[description, evaluation]</td>\n      <td>[Unknown]</td>\n    </tr>\n    <tr>\n      <th>4</th>\n      <td>rayyan-354359273</td>\n      <td>Analysis of an automatic grading system within...</td>\n      <td>Hegarty-Kelly E., Mooney D.A.</td>\n      <td>Reliable and pedagogically sound automated fee...</td>\n      <td>2021</td>\n      <td>[approach:fully_automated, data_available:Fals...</td>\n      <td>[dynamic, static]</td>\n      <td>[correctness]</td>\n      <td>[correctness_dynamic, correctness_static]</td>\n      <td>[description, evaluation]</td>\n      <td>[OOP]</td>\n    </tr>\n  </tbody>\n</table>\n</div>"
     },
     "execution_count": 57,
     "metadata": {},
     "output_type": "execute_result"
    }
   ],
   "source": [
    "df = pd.read_pickle('data/processed.pickle')\n",
    "df.head()"
   ],
   "metadata": {
    "collapsed": false,
    "pycharm": {
     "name": "#%%\n"
    }
   }
  },
  {
   "cell_type": "markdown",
   "source": [
    "# Discussion Stats\n",
    "## Grading\n",
    "### Correctness"
   ],
   "metadata": {
    "collapsed": false,
    "pycharm": {
     "name": "#%% md\n"
    }
   }
  },
  {
   "cell_type": "code",
   "execution_count": 58,
   "outputs": [
    {
     "data": {
      "text/plain": "                  key                                              title  \\\n0    rayyan-354359269  An experience of automated assessment in a lar...   \n1    rayyan-354359270  Semiautomatic generation and assessment of Jav...   \n3    rayyan-354359272  Virtual Teaching Assistant for Grading Program...   \n4    rayyan-354359273  Analysis of an automatic grading system within...   \n5    rayyan-354359274  Evaluating Control-Flow Graph Similarity for G...   \n..                ...                                                ...   \n114  rayyan-354359408  ArTEMiS - An automatic assessment management s...   \n115  rayyan-354359409  Linkage objects for generalized instruction in...   \n116  rayyan-354359410  Automated data-driven hints for computer progr...   \n117  rayyan-354359411  Learning and teaching numerical methods with a...   \n120  rayyan-354359414  Automatic extraction of AST patterns for debug...   \n\n                                     skill_cat  \\\n0                        [correctness_dynamic]   \n1    [correctness_dynamic, correctness_static]   \n3    [correctness_dynamic, correctness_static]   \n4    [correctness_dynamic, correctness_static]   \n5                         [correctness_static]   \n..                                         ...   \n114  [correctness_dynamic, correctness_static]   \n115       [correctness_ml, correctness_static]   \n116  [correctness_dynamic, correctness_static]   \n117  [correctness_dynamic, correctness_static]   \n120                       [correctness_static]   \n\n                                                  tech  \n0    [technique:unit_testing, technique:pre_defined...  \n1    [technique:model_solution_req, technique:patte...  \n3    [technique:output_matching, technique:pattern_...  \n4    [technique:pattern_matching, technique:unit_te...  \n5    [technique:model_solution_req, technique:patte...  \n..                                                 ...  \n114  [technique:ci_cd, technique:unit_testing, tech...  \n115  [technique:machine_learning, technique:pattern...  \n116  [technique:unit_testing, technique:static_anal...  \n117  [technique:matching_rules, technique:unit_test...  \n120                       [technique:pattern_matching]  \n\n[80 rows x 4 columns]",
      "text/html": "<div>\n<style scoped>\n    .dataframe tbody tr th:only-of-type {\n        vertical-align: middle;\n    }\n\n    .dataframe tbody tr th {\n        vertical-align: top;\n    }\n\n    .dataframe thead th {\n        text-align: right;\n    }\n</style>\n<table border=\"1\" class=\"dataframe\">\n  <thead>\n    <tr style=\"text-align: right;\">\n      <th></th>\n      <th>key</th>\n      <th>title</th>\n      <th>skill_cat</th>\n      <th>tech</th>\n    </tr>\n  </thead>\n  <tbody>\n    <tr>\n      <th>0</th>\n      <td>rayyan-354359269</td>\n      <td>An experience of automated assessment in a lar...</td>\n      <td>[correctness_dynamic]</td>\n      <td>[technique:unit_testing, technique:pre_defined...</td>\n    </tr>\n    <tr>\n      <th>1</th>\n      <td>rayyan-354359270</td>\n      <td>Semiautomatic generation and assessment of Jav...</td>\n      <td>[correctness_dynamic, correctness_static]</td>\n      <td>[technique:model_solution_req, technique:patte...</td>\n    </tr>\n    <tr>\n      <th>3</th>\n      <td>rayyan-354359272</td>\n      <td>Virtual Teaching Assistant for Grading Program...</td>\n      <td>[correctness_dynamic, correctness_static]</td>\n      <td>[technique:output_matching, technique:pattern_...</td>\n    </tr>\n    <tr>\n      <th>4</th>\n      <td>rayyan-354359273</td>\n      <td>Analysis of an automatic grading system within...</td>\n      <td>[correctness_dynamic, correctness_static]</td>\n      <td>[technique:pattern_matching, technique:unit_te...</td>\n    </tr>\n    <tr>\n      <th>5</th>\n      <td>rayyan-354359274</td>\n      <td>Evaluating Control-Flow Graph Similarity for G...</td>\n      <td>[correctness_static]</td>\n      <td>[technique:model_solution_req, technique:patte...</td>\n    </tr>\n    <tr>\n      <th>...</th>\n      <td>...</td>\n      <td>...</td>\n      <td>...</td>\n      <td>...</td>\n    </tr>\n    <tr>\n      <th>114</th>\n      <td>rayyan-354359408</td>\n      <td>ArTEMiS - An automatic assessment management s...</td>\n      <td>[correctness_dynamic, correctness_static]</td>\n      <td>[technique:ci_cd, technique:unit_testing, tech...</td>\n    </tr>\n    <tr>\n      <th>115</th>\n      <td>rayyan-354359409</td>\n      <td>Linkage objects for generalized instruction in...</td>\n      <td>[correctness_ml, correctness_static]</td>\n      <td>[technique:machine_learning, technique:pattern...</td>\n    </tr>\n    <tr>\n      <th>116</th>\n      <td>rayyan-354359410</td>\n      <td>Automated data-driven hints for computer progr...</td>\n      <td>[correctness_dynamic, correctness_static]</td>\n      <td>[technique:unit_testing, technique:static_anal...</td>\n    </tr>\n    <tr>\n      <th>117</th>\n      <td>rayyan-354359411</td>\n      <td>Learning and teaching numerical methods with a...</td>\n      <td>[correctness_dynamic, correctness_static]</td>\n      <td>[technique:matching_rules, technique:unit_test...</td>\n    </tr>\n    <tr>\n      <th>120</th>\n      <td>rayyan-354359414</td>\n      <td>Automatic extraction of AST patterns for debug...</td>\n      <td>[correctness_static]</td>\n      <td>[technique:pattern_matching]</td>\n    </tr>\n  </tbody>\n</table>\n<p>80 rows × 4 columns</p>\n</div>"
     },
     "execution_count": 58,
     "metadata": {},
     "output_type": "execute_result"
    }
   ],
   "source": [
    "correct_df = df.copy(deep=True)\n",
    "correct_df.skills = correct_df.skills.astype(str)\n",
    "correct_df = correct_df[correct_df.skills.str.contains(\"^\\['correctness'\\]$\")]\n",
    "correct_df['tech'] = correct_df.tags.apply(lambda labels: [label for label in labels if label.startswith('technique')])\n",
    "correct_df[['key', 'title', 'skill_cat', 'tech']]"
   ],
   "metadata": {
    "collapsed": false,
    "pycharm": {
     "name": "#%%\n"
    }
   }
  },
  {
   "cell_type": "code",
   "execution_count": 59,
   "outputs": [
    {
     "data": {
      "text/plain": "66.11570247933885"
     },
     "execution_count": 59,
     "metadata": {},
     "output_type": "execute_result"
    }
   ],
   "source": [
    "(correct_df.shape[0] / df.shape[0]) * 100"
   ],
   "metadata": {
    "collapsed": false,
    "pycharm": {
     "name": "#%%\n"
    }
   }
  },
  {
   "cell_type": "code",
   "execution_count": 60,
   "outputs": [
    {
     "data": {
      "text/plain": "[correctness_dynamic]                        36\n[correctness_dynamic, correctness_static]    21\n[correctness_static]                         17\n[correctness_ml, correctness_static]          3\n[correctness_ml]                              2\n[correctness_dynamic, correctness_ml]         1\nName: skill_cat, dtype: int64"
     },
     "execution_count": 60,
     "metadata": {},
     "output_type": "execute_result"
    }
   ],
   "source": [
    "correct_df.skill_cat.value_counts()"
   ],
   "metadata": {
    "collapsed": false,
    "pycharm": {
     "name": "#%%\n"
    }
   }
  },
  {
   "cell_type": "code",
   "execution_count": 61,
   "outputs": [
    {
     "data": {
      "text/plain": "[dynamic]            45.00\n[dynamic, static]    26.25\n[static]             21.25\n[static, ml]          3.75\n[ml]                  2.50\n[dynamic, ml]         1.25\nName: category, dtype: float64"
     },
     "execution_count": 61,
     "metadata": {},
     "output_type": "execute_result"
    }
   ],
   "source": [
    "(correct_df.category.value_counts() / correct_df.shape[0]) * 100"
   ],
   "metadata": {
    "collapsed": false,
    "pycharm": {
     "name": "#%%\n"
    }
   }
  },
  {
   "cell_type": "code",
   "execution_count": 62,
   "outputs": [
    {
     "data": {
      "text/plain": "technique:unit_testing                100.000000\ntechnique:ci_cd                        11.111111\ntechnique:model_solution_req           11.111111\ntechnique:trace_examination             5.555556\ntechnique:property_based_testing        5.555556\ntechnique:output_matching               5.555556\ntechnique:pre_defined_questions         2.777778\ntechnique:unit_test_expansion           2.777778\ntechnique:mutation_testing              2.777778\ntechnique:novel                         2.777778\ntechnique:test_case_generation          2.777778\ntechnique:gui_testing                   2.777778\ntechnique:program_synthesis             2.777778\ntechnique:code_repair_for_feedback      2.777778\nName: tech, dtype: float64"
     },
     "execution_count": 62,
     "metadata": {},
     "output_type": "execute_result"
    }
   ],
   "source": [
    "correct_df['only_dynamic'] = df.category.apply(lambda x: 'dynamic' in str(x) and 'static' not in str(x) and 'ml' not in str(x))\n",
    "(correct_df[correct_df.only_dynamic].explode('tech').tech.value_counts() / correct_df[correct_df.only_dynamic].shape[0]) * 100"
   ],
   "metadata": {
    "collapsed": false,
    "pycharm": {
     "name": "#%%\n"
    }
   }
  },
  {
   "cell_type": "code",
   "execution_count": 63,
   "outputs": [
    {
     "data": {
      "text/plain": "technique:pattern_matching            70.588235\ntechnique:model_solution_req          41.176471\ntechnique:model_solution_closeness    35.294118\ntechnique:program_repair              35.294118\ntechnique:code_repair_for_feedback    29.411765\ntechnique:clustering                  17.647059\ntechnique:matching_rules              17.647059\ntechnique:trace_examination           17.647059\ntechnique:output_matching             11.764706\ntechnique:graph_analysis              11.764706\ntechnique:control_flow_graph           5.882353\ntechnique:data_driven                  5.882353\ntechnique:token_pattern_matching       5.882353\ntechnique:knowledge_base               5.882353\ntechnique:dynamic_analysis             5.882353\nName: tech, dtype: float64"
     },
     "execution_count": 63,
     "metadata": {},
     "output_type": "execute_result"
    }
   ],
   "source": [
    "correct_df['only_static'] = df.category.apply(lambda x: 'dynamic' not in str(x) and 'static' in str(x) and 'ml' not in str(x))\n",
    "(correct_df[correct_df.only_static].explode('tech').tech.value_counts() / correct_df[correct_df.only_static].shape[0]) * 100"
   ],
   "metadata": {
    "collapsed": false,
    "pycharm": {
     "name": "#%%\n"
    }
   }
  },
  {
   "cell_type": "code",
   "execution_count": 64,
   "outputs": [
    {
     "data": {
      "text/plain": "technique:unit_testing                100.000000\ntechnique:matching_rules               33.333333\ntechnique:pattern_matching             28.571429\ntechnique:static_analysis              23.809524\ntechnique:model_solution_req           19.047619\ntechnique:style_check                  19.047619\ntechnique:program_repair               14.285714\ntechnique:model_solution_closeness      9.523810\ntechnique:dynamic_analysis              9.523810\ntechnique:output_matching               9.523810\ntechnique:ci_cd                         9.523810\ntechnique:fault_localisation            4.761905\ntechnique:program_verification          4.761905\ntechnique:code_repair_for_feedback      4.761905\ntechnique:language_stuctures            4.761905\ntechnique:test_case_generation          4.761905\ntechnique:knowledge_base                4.761905\nName: tech, dtype: float64"
     },
     "execution_count": 64,
     "metadata": {},
     "output_type": "execute_result"
    }
   ],
   "source": [
    "correct_df['dynamic_static'] = df.category.apply(lambda x: 'dynamic' in str(x) and 'static' in str(x) and 'ml' not in str(x))\n",
    "(correct_df[correct_df.dynamic_static].explode('tech').tech.value_counts() / correct_df[correct_df.dynamic_static].shape[0]) * 100"
   ],
   "metadata": {
    "collapsed": false,
    "pycharm": {
     "name": "#%%\n"
    }
   }
  },
  {
   "cell_type": "code",
   "execution_count": 65,
   "outputs": [
    {
     "data": {
      "text/plain": "                  key                                              title  \\\n13   rayyan-354359285  An Intelligent Online Judge System for Program...   \n19   rayyan-354359295  Convolutional neural network applied to code a...   \n34   rayyan-354359310  Automatic assessment of programming assignment...   \n61   rayyan-354359341  Source-Code Similarity Measurement: Syntax Tre...   \n83   rayyan-354359367  Targeted Example Generation for Compilation Er...   \n115  rayyan-354359409  Linkage objects for generalized instruction in...   \n\n          category  \n13   [dynamic, ml]  \n19            [ml]  \n34            [ml]  \n61    [static, ml]  \n83    [static, ml]  \n115   [static, ml]  ",
      "text/html": "<div>\n<style scoped>\n    .dataframe tbody tr th:only-of-type {\n        vertical-align: middle;\n    }\n\n    .dataframe tbody tr th {\n        vertical-align: top;\n    }\n\n    .dataframe thead th {\n        text-align: right;\n    }\n</style>\n<table border=\"1\" class=\"dataframe\">\n  <thead>\n    <tr style=\"text-align: right;\">\n      <th></th>\n      <th>key</th>\n      <th>title</th>\n      <th>category</th>\n    </tr>\n  </thead>\n  <tbody>\n    <tr>\n      <th>13</th>\n      <td>rayyan-354359285</td>\n      <td>An Intelligent Online Judge System for Program...</td>\n      <td>[dynamic, ml]</td>\n    </tr>\n    <tr>\n      <th>19</th>\n      <td>rayyan-354359295</td>\n      <td>Convolutional neural network applied to code a...</td>\n      <td>[ml]</td>\n    </tr>\n    <tr>\n      <th>34</th>\n      <td>rayyan-354359310</td>\n      <td>Automatic assessment of programming assignment...</td>\n      <td>[ml]</td>\n    </tr>\n    <tr>\n      <th>61</th>\n      <td>rayyan-354359341</td>\n      <td>Source-Code Similarity Measurement: Syntax Tre...</td>\n      <td>[static, ml]</td>\n    </tr>\n    <tr>\n      <th>83</th>\n      <td>rayyan-354359367</td>\n      <td>Targeted Example Generation for Compilation Er...</td>\n      <td>[static, ml]</td>\n    </tr>\n    <tr>\n      <th>115</th>\n      <td>rayyan-354359409</td>\n      <td>Linkage objects for generalized instruction in...</td>\n      <td>[static, ml]</td>\n    </tr>\n  </tbody>\n</table>\n</div>"
     },
     "execution_count": 65,
     "metadata": {},
     "output_type": "execute_result"
    }
   ],
   "source": [
    "correct_df['ml'] = df.category.apply(lambda x: 'ml' in str(x))\n",
    "ml_df = correct_df.loc[correct_df.ml]\n",
    "ml_df[['key', 'title', 'category']]"
   ],
   "metadata": {
    "collapsed": false,
    "pycharm": {
     "name": "#%%\n"
    }
   }
  },
  {
   "cell_type": "markdown",
   "source": [
    "### Maintainability"
   ],
   "metadata": {
    "collapsed": false,
    "pycharm": {
     "name": "#%% md\n"
    }
   }
  },
  {
   "cell_type": "code",
   "execution_count": 66,
   "outputs": [
    {
     "data": {
      "text/plain": "                 key                                              title  \\\n92  rayyan-354359378  A Comparison of Inquiry-Based Conceptual Feedb...   \n\n                                         authors  \\\n92  Cordova L., Carver J., Gershmel N., Walia G.   \n\n                                             abstract  year_published  \\\n92  The feedback provided by current testing educa...            2021   \n\n                                                 tags  category  \\\n92  [skill:test_suite_quality, approach:fully_auto...  [static]   \n\n                 skills                 skill_cat         types lang_family  \n92  ['maintainability']  [maintainability_static]  [evaluation]       [OOP]  ",
      "text/html": "<div>\n<style scoped>\n    .dataframe tbody tr th:only-of-type {\n        vertical-align: middle;\n    }\n\n    .dataframe tbody tr th {\n        vertical-align: top;\n    }\n\n    .dataframe thead th {\n        text-align: right;\n    }\n</style>\n<table border=\"1\" class=\"dataframe\">\n  <thead>\n    <tr style=\"text-align: right;\">\n      <th></th>\n      <th>key</th>\n      <th>title</th>\n      <th>authors</th>\n      <th>abstract</th>\n      <th>year_published</th>\n      <th>tags</th>\n      <th>category</th>\n      <th>skills</th>\n      <th>skill_cat</th>\n      <th>types</th>\n      <th>lang_family</th>\n    </tr>\n  </thead>\n  <tbody>\n    <tr>\n      <th>92</th>\n      <td>rayyan-354359378</td>\n      <td>A Comparison of Inquiry-Based Conceptual Feedb...</td>\n      <td>Cordova L., Carver J., Gershmel N., Walia G.</td>\n      <td>The feedback provided by current testing educa...</td>\n      <td>2021</td>\n      <td>[skill:test_suite_quality, approach:fully_auto...</td>\n      <td>[static]</td>\n      <td>['maintainability']</td>\n      <td>[maintainability_static]</td>\n      <td>[evaluation]</td>\n      <td>[OOP]</td>\n    </tr>\n  </tbody>\n</table>\n</div>"
     },
     "execution_count": 66,
     "metadata": {},
     "output_type": "execute_result"
    }
   ],
   "source": [
    "maint_df = df.copy(deep=True)\n",
    "maint_df.skills = maint_df.skills.astype(str)\n",
    "maint_df = maint_df[maint_df.skills.str.contains(\"^\\['maintainability'\\]$\")].copy()\n",
    "maint_df"
   ],
   "metadata": {
    "collapsed": false,
    "pycharm": {
     "name": "#%%\n"
    }
   }
  },
  {
   "cell_type": "code",
   "execution_count": 67,
   "outputs": [
    {
     "data": {
      "text/plain": "technique:model_solution_req    100.0\ntechnique:static_analysis       100.0\nName: tech, dtype: float64"
     },
     "execution_count": 67,
     "metadata": {},
     "output_type": "execute_result"
    }
   ],
   "source": [
    "maint_df['tech'] = maint_df.tags.apply(lambda labels: [label for label in labels if label.startswith('technique')])\n",
    "(maint_df.explode('tech').tech.value_counts() / maint_df.shape[0]) * 100"
   ],
   "metadata": {
    "collapsed": false,
    "pycharm": {
     "name": "#%%\n"
    }
   }
  },
  {
   "cell_type": "markdown",
   "source": [
    "### Readability"
   ],
   "metadata": {
    "collapsed": false,
    "pycharm": {
     "name": "#%% md\n"
    }
   }
  },
  {
   "cell_type": "code",
   "execution_count": 68,
   "outputs": [
    {
     "data": {
      "text/plain": "                  key                                              title  \\\n30   rayyan-354359306  The impact of automated code quality feedback ...   \n77   rayyan-354359360  Promoting Code Quality via Automated Feedback ...   \n79   rayyan-354359362  Measure Students’ Contribution in Web Programm...   \n107  rayyan-354359398      Static analyses in python programming courses   \n\n     category  \n30   [static]  \n77   [static]  \n79   [static]  \n107  [static]  ",
      "text/html": "<div>\n<style scoped>\n    .dataframe tbody tr th:only-of-type {\n        vertical-align: middle;\n    }\n\n    .dataframe tbody tr th {\n        vertical-align: top;\n    }\n\n    .dataframe thead th {\n        text-align: right;\n    }\n</style>\n<table border=\"1\" class=\"dataframe\">\n  <thead>\n    <tr style=\"text-align: right;\">\n      <th></th>\n      <th>key</th>\n      <th>title</th>\n      <th>category</th>\n    </tr>\n  </thead>\n  <tbody>\n    <tr>\n      <th>30</th>\n      <td>rayyan-354359306</td>\n      <td>The impact of automated code quality feedback ...</td>\n      <td>[static]</td>\n    </tr>\n    <tr>\n      <th>77</th>\n      <td>rayyan-354359360</td>\n      <td>Promoting Code Quality via Automated Feedback ...</td>\n      <td>[static]</td>\n    </tr>\n    <tr>\n      <th>79</th>\n      <td>rayyan-354359362</td>\n      <td>Measure Students’ Contribution in Web Programm...</td>\n      <td>[static]</td>\n    </tr>\n    <tr>\n      <th>107</th>\n      <td>rayyan-354359398</td>\n      <td>Static analyses in python programming courses</td>\n      <td>[static]</td>\n    </tr>\n  </tbody>\n</table>\n</div>"
     },
     "execution_count": 68,
     "metadata": {},
     "output_type": "execute_result"
    }
   ],
   "source": [
    "# Analysing hint based problem solving strategy among novice programmers through gamification technique - Might be removed\n",
    "read_df = df.copy(deep=True)\n",
    "read_df.skills = read_df.skills.astype(str)\n",
    "read_df = read_df[read_df.skills.str.contains(\"^\\['readability'\\]$\")]\n",
    "read_df[['key', 'title', 'category']]"
   ],
   "metadata": {
    "collapsed": false,
    "pycharm": {
     "name": "#%%\n"
    }
   }
  },
  {
   "cell_type": "code",
   "execution_count": 69,
   "outputs": [
    {
     "data": {
      "text/plain": "3.3057851239669422"
     },
     "execution_count": 69,
     "metadata": {},
     "output_type": "execute_result"
    }
   ],
   "source": [
    "(read_df.shape[0] / df.shape[0]) * 100"
   ],
   "metadata": {
    "collapsed": false,
    "pycharm": {
     "name": "#%%\n"
    }
   }
  },
  {
   "cell_type": "code",
   "execution_count": 70,
   "outputs": [
    {
     "data": {
      "text/plain": "[static]    4\nName: category, dtype: int64"
     },
     "execution_count": 70,
     "metadata": {},
     "output_type": "execute_result"
    }
   ],
   "source": [
    "read_df.category.value_counts()"
   ],
   "metadata": {
    "collapsed": false,
    "pycharm": {
     "name": "#%%\n"
    }
   }
  },
  {
   "cell_type": "markdown",
   "source": [
    "### Correctness, Documentation"
   ],
   "metadata": {
    "collapsed": false,
    "pycharm": {
     "name": "#%% md\n"
    }
   }
  },
  {
   "cell_type": "code",
   "execution_count": 71,
   "outputs": [
    {
     "data": {
      "text/plain": "                 key                                              title  \\\n29  rayyan-354359305  Developing applications to automatically grade...   \n\n      authors                                           abstract  \\\n29  Gerdes J.  There are many unique challenges associated wi...   \n\n    year_published                                               tags  \\\n29            2017  [approach:fully_automated, data_available:Fals...   \n\n    category                            skills  \\\n29  [static]  ['correctness', 'documentation']   \n\n                                     skill_cat                      types  \\\n29  [correctness_static, documentation_static]  [description, evaluation]   \n\n   lang_family  \n29       [OOP]  ",
      "text/html": "<div>\n<style scoped>\n    .dataframe tbody tr th:only-of-type {\n        vertical-align: middle;\n    }\n\n    .dataframe tbody tr th {\n        vertical-align: top;\n    }\n\n    .dataframe thead th {\n        text-align: right;\n    }\n</style>\n<table border=\"1\" class=\"dataframe\">\n  <thead>\n    <tr style=\"text-align: right;\">\n      <th></th>\n      <th>key</th>\n      <th>title</th>\n      <th>authors</th>\n      <th>abstract</th>\n      <th>year_published</th>\n      <th>tags</th>\n      <th>category</th>\n      <th>skills</th>\n      <th>skill_cat</th>\n      <th>types</th>\n      <th>lang_family</th>\n    </tr>\n  </thead>\n  <tbody>\n    <tr>\n      <th>29</th>\n      <td>rayyan-354359305</td>\n      <td>Developing applications to automatically grade...</td>\n      <td>Gerdes J.</td>\n      <td>There are many unique challenges associated wi...</td>\n      <td>2017</td>\n      <td>[approach:fully_automated, data_available:Fals...</td>\n      <td>[static]</td>\n      <td>['correctness', 'documentation']</td>\n      <td>[correctness_static, documentation_static]</td>\n      <td>[description, evaluation]</td>\n      <td>[OOP]</td>\n    </tr>\n  </tbody>\n</table>\n</div>"
     },
     "execution_count": 71,
     "metadata": {},
     "output_type": "execute_result"
    }
   ],
   "source": [
    "doc_df = df.copy(deep=True)\n",
    "doc_df.skills = doc_df.skills.astype(str)\n",
    "doc_df[doc_df.skills.str.contains(\"^\\['correctness', 'documentation'\\]$\")]"
   ],
   "metadata": {
    "collapsed": false,
    "pycharm": {
     "name": "#%%\n"
    }
   }
  },
  {
   "cell_type": "markdown",
   "source": [
    "### Combination Graders"
   ],
   "metadata": {
    "collapsed": false,
    "pycharm": {
     "name": "#%% md\n"
    }
   }
  },
  {
   "cell_type": "code",
   "execution_count": 72,
   "outputs": [
    {
     "data": {
      "text/plain": "[correctness]                                  66.115702\n[correctness, readability]                     15.702479\n[correctness, readability, maintainability]     5.785124\n[correctness, maintainability]                  4.132231\n[readability, maintainability]                  3.305785\n[readability]                                   3.305785\n[correctness, documentation]                    0.826446\n[maintainability]                               0.826446\nName: skills, dtype: float64"
     },
     "execution_count": 72,
     "metadata": {},
     "output_type": "execute_result"
    }
   ],
   "source": [
    "(df.skills.value_counts() / df.shape[0]) * 100"
   ],
   "metadata": {
    "collapsed": false,
    "pycharm": {
     "name": "#%%\n"
    }
   }
  },
  {
   "cell_type": "code",
   "execution_count": 73,
   "outputs": [
    {
     "data": {
      "text/plain": "[correctness_dynamic]                                                 33.057851\n[correctness_dynamic, correctness_static]                             17.355372\n[correctness_static]                                                  14.049587\n[correctness_dynamic, readability_static]                             12.396694\n[maintainability_static, readability_static]                           3.305785\n[readability_static]                                                   3.305785\n[correctness_dynamic, maintainability_static]                          2.479339\n[correctness_ml, correctness_static]                                   2.479339\n[correctness_static, maintainability_static]                           1.652893\n[correctness_static, readability_static]                               1.652893\n[correctness_ml]                                                       1.652893\n[correctness_static, documentation_static]                             0.826446\n[correctness_ml, readability_static]                                   0.826446\n[correctness_dynamic, correctness_ml]                                  0.826446\n[correctness_dynamic, maintainability_dynamic, readability_static]     0.826446\n[correctness_ml, readability_ml]                                       0.826446\n[correctness_dynamic, maintainability_dynamic]                         0.826446\n[maintainability_static]                                               0.826446\n[correctness_static, maintainability_static, readability_static]       0.826446\nName: skill_cat, dtype: float64"
     },
     "execution_count": 73,
     "metadata": {},
     "output_type": "execute_result"
    }
   ],
   "source": [
    "(df.skill_cat.value_counts() / df.shape[0]) * 100"
   ],
   "metadata": {
    "collapsed": false,
    "pycharm": {
     "name": "#%%\n"
    }
   }
  },
  {
   "cell_type": "code",
   "execution_count": 74,
   "outputs": [
    {
     "data": {
      "text/plain": "                  key                                              title  \\\n50   rayyan-354359328  Question Independent Automated Code Analysis a...   \n73   rayyan-354359354  Teaching the Art of Functional Programming Usi...   \n95   rayyan-354359383  Automated Assessment of Learning Objectives in...   \n98   rayyan-354359387  Student Refactoring Behaviour in a Programming...   \n101  rayyan-354359391  The Impact of Iterative Assessment System on P...   \n103  rayyan-354359394  RefacTutor: An Interactive Tutoring System for...   \n109  rayyan-354359403  Teaching how to program using automated assess...   \n\n                                               authors  \\\n50   K. K. Rai and B. Gupta and P. Shokeen and P. C...   \n73                                  Hameer A,Pientka B   \n95                       Rump A., Fehnker A., Mader A.   \n98                   Keuning H., Heeren B., Jeuring J.   \n101      Yan Y.-X., Wu J.-P., Nguyen B.-A., Chen H.-M.   \n103                Haendler T., Neumann G., Smirnov F.   \n109                Almeida J.B., MacEdo N., Proenca J.   \n\n                                              abstract  year_published  \\\n50   Our first-hand experience with the recruiting ...            2019   \n73   Online programming platforms have immense pote...            2019   \n95   Individual feedback is a core ingredient of a ...            2021   \n98   Producing high-quality code is essential for p...            2020   \n101  Automated programming assessment systems (APAS...            2020   \n103  While software refactoring is considered impor...            2019   \n109  Our department has long been an advocate of th...            2018   \n\n                                                  tags           category  \\\n50   [skill:maintainability, type:evaluation, evalu...       [static, ml]   \n73   [technique:unit_testing, data_available:False,...  [dynamic, static]   \n95   [approach:semi_automatic, skill:readability, i...           [static]   \n98   [type:evaluation, technique:unit_testing, lang...  [dynamic, static]   \n101  [skill:readability, approach:fully_automated, ...  [dynamic, static]   \n103  [skill:refactoring, approach:fully_automated, ...  [dynamic, static]   \n109  [skill:maintainability, technique:unit_testing...  [dynamic, static]   \n\n                                                skills  \\\n50   ['correctness', 'readability', 'maintainability']   \n73   ['correctness', 'readability', 'maintainability']   \n95   ['correctness', 'readability', 'maintainability']   \n98   ['correctness', 'readability', 'maintainability']   \n101  ['correctness', 'readability', 'maintainability']   \n103  ['correctness', 'readability', 'maintainability']   \n109  ['correctness', 'readability', 'maintainability']   \n\n                                             skill_cat  \\\n50                [correctness_ml, readability_static]   \n73   [correctness_dynamic, maintainability_dynamic,...   \n95   [correctness_static, maintainability_static, r...   \n98           [correctness_dynamic, readability_static]   \n101          [correctness_dynamic, readability_static]   \n103          [correctness_dynamic, readability_static]   \n109      [correctness_dynamic, maintainability_static]   \n\n                         types   lang_family  \n50   [description, evaluation]         [OOP]  \n73                [experience]  [Functional]  \n95   [description, evaluation]         [OOP]  \n98   [description, evaluation]         [OOP]  \n101               [evaluation]         [OOP]  \n103              [description]         [OOP]  \n109               [experience]  [Functional]  ",
      "text/html": "<div>\n<style scoped>\n    .dataframe tbody tr th:only-of-type {\n        vertical-align: middle;\n    }\n\n    .dataframe tbody tr th {\n        vertical-align: top;\n    }\n\n    .dataframe thead th {\n        text-align: right;\n    }\n</style>\n<table border=\"1\" class=\"dataframe\">\n  <thead>\n    <tr style=\"text-align: right;\">\n      <th></th>\n      <th>key</th>\n      <th>title</th>\n      <th>authors</th>\n      <th>abstract</th>\n      <th>year_published</th>\n      <th>tags</th>\n      <th>category</th>\n      <th>skills</th>\n      <th>skill_cat</th>\n      <th>types</th>\n      <th>lang_family</th>\n    </tr>\n  </thead>\n  <tbody>\n    <tr>\n      <th>50</th>\n      <td>rayyan-354359328</td>\n      <td>Question Independent Automated Code Analysis a...</td>\n      <td>K. K. Rai and B. Gupta and P. Shokeen and P. C...</td>\n      <td>Our first-hand experience with the recruiting ...</td>\n      <td>2019</td>\n      <td>[skill:maintainability, type:evaluation, evalu...</td>\n      <td>[static, ml]</td>\n      <td>['correctness', 'readability', 'maintainability']</td>\n      <td>[correctness_ml, readability_static]</td>\n      <td>[description, evaluation]</td>\n      <td>[OOP]</td>\n    </tr>\n    <tr>\n      <th>73</th>\n      <td>rayyan-354359354</td>\n      <td>Teaching the Art of Functional Programming Usi...</td>\n      <td>Hameer A,Pientka B</td>\n      <td>Online programming platforms have immense pote...</td>\n      <td>2019</td>\n      <td>[technique:unit_testing, data_available:False,...</td>\n      <td>[dynamic, static]</td>\n      <td>['correctness', 'readability', 'maintainability']</td>\n      <td>[correctness_dynamic, maintainability_dynamic,...</td>\n      <td>[experience]</td>\n      <td>[Functional]</td>\n    </tr>\n    <tr>\n      <th>95</th>\n      <td>rayyan-354359383</td>\n      <td>Automated Assessment of Learning Objectives in...</td>\n      <td>Rump A., Fehnker A., Mader A.</td>\n      <td>Individual feedback is a core ingredient of a ...</td>\n      <td>2021</td>\n      <td>[approach:semi_automatic, skill:readability, i...</td>\n      <td>[static]</td>\n      <td>['correctness', 'readability', 'maintainability']</td>\n      <td>[correctness_static, maintainability_static, r...</td>\n      <td>[description, evaluation]</td>\n      <td>[OOP]</td>\n    </tr>\n    <tr>\n      <th>98</th>\n      <td>rayyan-354359387</td>\n      <td>Student Refactoring Behaviour in a Programming...</td>\n      <td>Keuning H., Heeren B., Jeuring J.</td>\n      <td>Producing high-quality code is essential for p...</td>\n      <td>2020</td>\n      <td>[type:evaluation, technique:unit_testing, lang...</td>\n      <td>[dynamic, static]</td>\n      <td>['correctness', 'readability', 'maintainability']</td>\n      <td>[correctness_dynamic, readability_static]</td>\n      <td>[description, evaluation]</td>\n      <td>[OOP]</td>\n    </tr>\n    <tr>\n      <th>101</th>\n      <td>rayyan-354359391</td>\n      <td>The Impact of Iterative Assessment System on P...</td>\n      <td>Yan Y.-X., Wu J.-P., Nguyen B.-A., Chen H.-M.</td>\n      <td>Automated programming assessment systems (APAS...</td>\n      <td>2020</td>\n      <td>[skill:readability, approach:fully_automated, ...</td>\n      <td>[dynamic, static]</td>\n      <td>['correctness', 'readability', 'maintainability']</td>\n      <td>[correctness_dynamic, readability_static]</td>\n      <td>[evaluation]</td>\n      <td>[OOP]</td>\n    </tr>\n    <tr>\n      <th>103</th>\n      <td>rayyan-354359394</td>\n      <td>RefacTutor: An Interactive Tutoring System for...</td>\n      <td>Haendler T., Neumann G., Smirnov F.</td>\n      <td>While software refactoring is considered impor...</td>\n      <td>2019</td>\n      <td>[skill:refactoring, approach:fully_automated, ...</td>\n      <td>[dynamic, static]</td>\n      <td>['correctness', 'readability', 'maintainability']</td>\n      <td>[correctness_dynamic, readability_static]</td>\n      <td>[description]</td>\n      <td>[OOP]</td>\n    </tr>\n    <tr>\n      <th>109</th>\n      <td>rayyan-354359403</td>\n      <td>Teaching how to program using automated assess...</td>\n      <td>Almeida J.B., MacEdo N., Proenca J.</td>\n      <td>Our department has long been an advocate of th...</td>\n      <td>2018</td>\n      <td>[skill:maintainability, technique:unit_testing...</td>\n      <td>[dynamic, static]</td>\n      <td>['correctness', 'readability', 'maintainability']</td>\n      <td>[correctness_dynamic, maintainability_static]</td>\n      <td>[experience]</td>\n      <td>[Functional]</td>\n    </tr>\n  </tbody>\n</table>\n</div>"
     },
     "execution_count": 74,
     "metadata": {},
     "output_type": "execute_result"
    }
   ],
   "source": [
    "combo_df = df.copy(deep=True)\n",
    "combo_df.skills = combo_df.skills.astype(str)\n",
    "combo_df[combo_df.skills.str.contains(\"^\\['correctness', 'readability', 'maintainability']$\")]"
   ],
   "metadata": {
    "collapsed": false,
    "pycharm": {
     "name": "#%%\n"
    }
   }
  },
  {
   "cell_type": "markdown",
   "source": [
    "### Code Repair papers"
   ],
   "metadata": {
    "collapsed": false,
    "pycharm": {
     "name": "#%% md\n"
    }
   }
  },
  {
   "cell_type": "code",
   "execution_count": 75,
   "outputs": [
    {
     "data": {
      "text/plain": "                  key                                              title  \\\n1    rayyan-354359270  Semiautomatic generation and assessment of Jav...   \n2    rayyan-354359271  A tool for evaluating computer programs from s...   \n9    rayyan-354359279  Assisted learning of C programming through aut...   \n15   rayyan-354359290  Fast test suite-driven model-based fault local...   \n23   rayyan-354359299  Search, align, and repair: Data-driven feedbac...   \n27   rayyan-354359303  TipsC: Tips and corrections for programming MOOCs   \n28   rayyan-354359304  Exploring the design space of automatically sy...   \n51   rayyan-354359330  EvalSeer: An Intelligent Gamified System for P...   \n55   rayyan-354359334  Automatic Grading and Feedback Using Program R...   \n65   rayyan-354359346  Automated Clustering and Program Repair for In...   \n75   rayyan-354359357  Characterizing the Pedagogical Benefits of Ada...   \n78   rayyan-354359361  TraceDiff: Debugging unexpected code behavior ...   \n83   rayyan-354359367  Targeted Example Generation for Compilation Er...   \n89   rayyan-354359375  Context-aware and data-driven feedback generat...   \n106  rayyan-354359397  Towards Answering “Am I on the Right Track?” A...   \n108  rayyan-354359401  Automatic diagnosis and correction of logical ...   \n\n                                               authors  \\\n1              Insa D., Pérez S., Silva J., Tamarit S.   \n2        Vaneck Q., Colart T., Frénay B., Vanderose B.   \n9                      Arifi S.M., Abbou R.B., Zahi A.   \n15                  Birch G., Fischer B., Poppleton M.   \n23                            Wang K., Singh R., Su Z.   \n27           Sharma S., Agarwal P., Mor P., Karkare A.   \n28   Suzuki R., Soares G., Glassman E., Head A., D'...   \n51   R. Nabil and N. E. Mohamed and A. Mahdy and K....   \n55   Parihar S,Dadachanji Z,Singh PK,Das R,Karkare ...   \n65                       Gulwani S,Radiček I,Zuleger F   \n75   U. Z. Ahmed and R. Sindhgatta and N. Srivastav...   \n78   R. Suzuki and G. Soares and A. Head and E. Gla...   \n83   U. Z. Ahmed and R. Sindhgatta and N. Srivastav...   \n89                              Song D., Lee W., Oh H.   \n106  Feldman M.Q., Wang Y., Byrd W.E., Guimbretière...   \n108                      Lee J., Song D., So S., Oh H.   \n\n                                              abstract  year_published  \\\n1    Continuous assessment is essential in educatio...            2021   \n2    Computer science studies are more and more pop...            2021   \n9    Programming courses are among all the current ...            2020   \n15   Fault localisation, i.e. the identification of...            2017   \n23   This paper introduces the \"Search, Align, and ...            2018   \n27   With MOOC sizes increasing every day, improvin...            2018   \n28   For massive programming classrooms, recent adv...            2017   \n51   Continuous evaluation of computer programs and...            2021   \n55   We present GradeIT, a system that combines the...            2017   \n65   Providing feedback on programming assignments ...            2018   \n75   Can automated adaptive feedback for correcting...            2020   \n78   Recent advances in program synthesis offer mea...            2017   \n83   We present TEGCER, an automated feedback tool ...            2019   \n89   Recently, various techniques have been propose...            2021   \n106  Students learning to program often need help c...            2019   \n108  We present FixML, a system for automatically g...            2018   \n\n                                                  tags               category  \\\n1    [approach:semi_automatic, interaction:unknown,...      [dynamic, static]   \n2    [skill:readability, approach:fully_automated, ...               [static]   \n9    [type:evaluation, technique:unit_testing, feed...      [dynamic, static]   \n15   [technique:fault_localisation, data_available:...      [dynamic, static]   \n23   [approach:fully_automated, interaction:unknown...               [static]   \n27   [tool:tipsc, approach:fully_automated, data_av...               [static]   \n28   [data_available:False, interaction:unknown, la...               [static]   \n51   [approach:fully_automated, data_available:Fals...  [dynamic, static, ml]   \n55   [approach:fully_automated, data_available:Fals...      [dynamic, static]   \n65   [approach:fully_automated, data_available:Fals...               [static]   \n75   [approach:fully_automated, language:C, tool:Pr...               [static]   \n78   [type:evaluation, technique:trace_examination,...               [static]   \n83   [approach:fully_automated, interaction:unknown...           [static, ml]   \n89   [approach:fully_automated, interaction:unknown...               [static]   \n106  [approach:fully_automated, data_available:Fals...              [dynamic]   \n108  [approach:fully_automated, interaction:unknown...              [dynamic]   \n\n                             skills  \\\n1                     [correctness]   \n2    [readability, maintainability]   \n9                     [correctness]   \n15                    [correctness]   \n23                    [correctness]   \n27                    [correctness]   \n28                    [correctness]   \n51       [correctness, readability]   \n55                    [correctness]   \n65                    [correctness]   \n75                    [correctness]   \n78                    [correctness]   \n83                    [correctness]   \n89                    [correctness]   \n106                   [correctness]   \n108                   [correctness]   \n\n                                        skill_cat                      types  \\\n1       [correctness_dynamic, correctness_static]  [description, evaluation]   \n2    [maintainability_static, readability_static]              [description]   \n9       [correctness_dynamic, correctness_static]  [description, evaluation]   \n15      [correctness_dynamic, correctness_static]  [description, evaluation]   \n23                           [correctness_static]  [description, evaluation]   \n27                           [correctness_static]  [description, evaluation]   \n28                           [correctness_static]               [evaluation]   \n51      [correctness_dynamic, readability_static]              [description]   \n55      [correctness_dynamic, correctness_static]  [description, evaluation]   \n65                           [correctness_static]  [description, evaluation]   \n75                           [correctness_static]               [evaluation]   \n78                           [correctness_static]  [description, evaluation]   \n83           [correctness_ml, correctness_static]  [description, evaluation]   \n89                           [correctness_static]  [description, evaluation]   \n106                         [correctness_dynamic]  [description, evaluation]   \n108                         [correctness_dynamic]  [description, evaluation]   \n\n      lang_family                                               tech  \n1           [OOP]               [technique:code_repair_for_feedback]  \n2           [OOP]                         [technique:program_repair]  \n9           [OOP]                         [technique:program_repair]  \n15          [OOP]                         [technique:program_repair]  \n23          [OOP]  [feedback:program_repair, technique:code_repai...  \n27          [OOP]               [technique:code_repair_for_feedback]  \n28      [Unknown]  [feedback:program_repair, technique:program_re...  \n51          [OOP]                         [technique:program_repair]  \n55          [OOP]  [feedback:program_repair, technique:program_re...  \n65          [OOP]  [feedback:program_repair, technique:program_re...  \n75          [OOP]  [feedback:program_repair, technique:program_re...  \n78          [OOP]                         [technique:program_repair]  \n83          [OOP]  [feedback:program_repair, technique:code_repai...  \n89   [Functional]  [feedback:program_repair, technique:program_re...  \n106  [Functional]                          [feedback:program_repair]  \n108  [Functional]  [feedback:program_repair, technique:code_repai...  ",
      "text/html": "<div>\n<style scoped>\n    .dataframe tbody tr th:only-of-type {\n        vertical-align: middle;\n    }\n\n    .dataframe tbody tr th {\n        vertical-align: top;\n    }\n\n    .dataframe thead th {\n        text-align: right;\n    }\n</style>\n<table border=\"1\" class=\"dataframe\">\n  <thead>\n    <tr style=\"text-align: right;\">\n      <th></th>\n      <th>key</th>\n      <th>title</th>\n      <th>authors</th>\n      <th>abstract</th>\n      <th>year_published</th>\n      <th>tags</th>\n      <th>category</th>\n      <th>skills</th>\n      <th>skill_cat</th>\n      <th>types</th>\n      <th>lang_family</th>\n      <th>tech</th>\n    </tr>\n  </thead>\n  <tbody>\n    <tr>\n      <th>1</th>\n      <td>rayyan-354359270</td>\n      <td>Semiautomatic generation and assessment of Jav...</td>\n      <td>Insa D., Pérez S., Silva J., Tamarit S.</td>\n      <td>Continuous assessment is essential in educatio...</td>\n      <td>2021</td>\n      <td>[approach:semi_automatic, interaction:unknown,...</td>\n      <td>[dynamic, static]</td>\n      <td>[correctness]</td>\n      <td>[correctness_dynamic, correctness_static]</td>\n      <td>[description, evaluation]</td>\n      <td>[OOP]</td>\n      <td>[technique:code_repair_for_feedback]</td>\n    </tr>\n    <tr>\n      <th>2</th>\n      <td>rayyan-354359271</td>\n      <td>A tool for evaluating computer programs from s...</td>\n      <td>Vaneck Q., Colart T., Frénay B., Vanderose B.</td>\n      <td>Computer science studies are more and more pop...</td>\n      <td>2021</td>\n      <td>[skill:readability, approach:fully_automated, ...</td>\n      <td>[static]</td>\n      <td>[readability, maintainability]</td>\n      <td>[maintainability_static, readability_static]</td>\n      <td>[description]</td>\n      <td>[OOP]</td>\n      <td>[technique:program_repair]</td>\n    </tr>\n    <tr>\n      <th>9</th>\n      <td>rayyan-354359279</td>\n      <td>Assisted learning of C programming through aut...</td>\n      <td>Arifi S.M., Abbou R.B., Zahi A.</td>\n      <td>Programming courses are among all the current ...</td>\n      <td>2020</td>\n      <td>[type:evaluation, technique:unit_testing, feed...</td>\n      <td>[dynamic, static]</td>\n      <td>[correctness]</td>\n      <td>[correctness_dynamic, correctness_static]</td>\n      <td>[description, evaluation]</td>\n      <td>[OOP]</td>\n      <td>[technique:program_repair]</td>\n    </tr>\n    <tr>\n      <th>15</th>\n      <td>rayyan-354359290</td>\n      <td>Fast test suite-driven model-based fault local...</td>\n      <td>Birch G., Fischer B., Poppleton M.</td>\n      <td>Fault localisation, i.e. the identification of...</td>\n      <td>2017</td>\n      <td>[technique:fault_localisation, data_available:...</td>\n      <td>[dynamic, static]</td>\n      <td>[correctness]</td>\n      <td>[correctness_dynamic, correctness_static]</td>\n      <td>[description, evaluation]</td>\n      <td>[OOP]</td>\n      <td>[technique:program_repair]</td>\n    </tr>\n    <tr>\n      <th>23</th>\n      <td>rayyan-354359299</td>\n      <td>Search, align, and repair: Data-driven feedbac...</td>\n      <td>Wang K., Singh R., Su Z.</td>\n      <td>This paper introduces the \"Search, Align, and ...</td>\n      <td>2018</td>\n      <td>[approach:fully_automated, interaction:unknown...</td>\n      <td>[static]</td>\n      <td>[correctness]</td>\n      <td>[correctness_static]</td>\n      <td>[description, evaluation]</td>\n      <td>[OOP]</td>\n      <td>[feedback:program_repair, technique:code_repai...</td>\n    </tr>\n    <tr>\n      <th>27</th>\n      <td>rayyan-354359303</td>\n      <td>TipsC: Tips and corrections for programming MOOCs</td>\n      <td>Sharma S., Agarwal P., Mor P., Karkare A.</td>\n      <td>With MOOC sizes increasing every day, improvin...</td>\n      <td>2018</td>\n      <td>[tool:tipsc, approach:fully_automated, data_av...</td>\n      <td>[static]</td>\n      <td>[correctness]</td>\n      <td>[correctness_static]</td>\n      <td>[description, evaluation]</td>\n      <td>[OOP]</td>\n      <td>[technique:code_repair_for_feedback]</td>\n    </tr>\n    <tr>\n      <th>28</th>\n      <td>rayyan-354359304</td>\n      <td>Exploring the design space of automatically sy...</td>\n      <td>Suzuki R., Soares G., Glassman E., Head A., D'...</td>\n      <td>For massive programming classrooms, recent adv...</td>\n      <td>2017</td>\n      <td>[data_available:False, interaction:unknown, la...</td>\n      <td>[static]</td>\n      <td>[correctness]</td>\n      <td>[correctness_static]</td>\n      <td>[evaluation]</td>\n      <td>[Unknown]</td>\n      <td>[feedback:program_repair, technique:program_re...</td>\n    </tr>\n    <tr>\n      <th>51</th>\n      <td>rayyan-354359330</td>\n      <td>EvalSeer: An Intelligent Gamified System for P...</td>\n      <td>R. Nabil and N. E. Mohamed and A. Mahdy and K....</td>\n      <td>Continuous evaluation of computer programs and...</td>\n      <td>2021</td>\n      <td>[approach:fully_automated, data_available:Fals...</td>\n      <td>[dynamic, static, ml]</td>\n      <td>[correctness, readability]</td>\n      <td>[correctness_dynamic, readability_static]</td>\n      <td>[description]</td>\n      <td>[OOP]</td>\n      <td>[technique:program_repair]</td>\n    </tr>\n    <tr>\n      <th>55</th>\n      <td>rayyan-354359334</td>\n      <td>Automatic Grading and Feedback Using Program R...</td>\n      <td>Parihar S,Dadachanji Z,Singh PK,Das R,Karkare ...</td>\n      <td>We present GradeIT, a system that combines the...</td>\n      <td>2017</td>\n      <td>[approach:fully_automated, data_available:Fals...</td>\n      <td>[dynamic, static]</td>\n      <td>[correctness]</td>\n      <td>[correctness_dynamic, correctness_static]</td>\n      <td>[description, evaluation]</td>\n      <td>[OOP]</td>\n      <td>[feedback:program_repair, technique:program_re...</td>\n    </tr>\n    <tr>\n      <th>65</th>\n      <td>rayyan-354359346</td>\n      <td>Automated Clustering and Program Repair for In...</td>\n      <td>Gulwani S,Radiček I,Zuleger F</td>\n      <td>Providing feedback on programming assignments ...</td>\n      <td>2018</td>\n      <td>[approach:fully_automated, data_available:Fals...</td>\n      <td>[static]</td>\n      <td>[correctness]</td>\n      <td>[correctness_static]</td>\n      <td>[description, evaluation]</td>\n      <td>[OOP]</td>\n      <td>[feedback:program_repair, technique:program_re...</td>\n    </tr>\n    <tr>\n      <th>75</th>\n      <td>rayyan-354359357</td>\n      <td>Characterizing the Pedagogical Benefits of Ada...</td>\n      <td>U. Z. Ahmed and R. Sindhgatta and N. Srivastav...</td>\n      <td>Can automated adaptive feedback for correcting...</td>\n      <td>2020</td>\n      <td>[approach:fully_automated, language:C, tool:Pr...</td>\n      <td>[static]</td>\n      <td>[correctness]</td>\n      <td>[correctness_static]</td>\n      <td>[evaluation]</td>\n      <td>[OOP]</td>\n      <td>[feedback:program_repair, technique:program_re...</td>\n    </tr>\n    <tr>\n      <th>78</th>\n      <td>rayyan-354359361</td>\n      <td>TraceDiff: Debugging unexpected code behavior ...</td>\n      <td>R. Suzuki and G. Soares and A. Head and E. Gla...</td>\n      <td>Recent advances in program synthesis offer mea...</td>\n      <td>2017</td>\n      <td>[type:evaluation, technique:trace_examination,...</td>\n      <td>[static]</td>\n      <td>[correctness]</td>\n      <td>[correctness_static]</td>\n      <td>[description, evaluation]</td>\n      <td>[OOP]</td>\n      <td>[technique:program_repair]</td>\n    </tr>\n    <tr>\n      <th>83</th>\n      <td>rayyan-354359367</td>\n      <td>Targeted Example Generation for Compilation Er...</td>\n      <td>U. Z. Ahmed and R. Sindhgatta and N. Srivastav...</td>\n      <td>We present TEGCER, an automated feedback tool ...</td>\n      <td>2019</td>\n      <td>[approach:fully_automated, interaction:unknown...</td>\n      <td>[static, ml]</td>\n      <td>[correctness]</td>\n      <td>[correctness_ml, correctness_static]</td>\n      <td>[description, evaluation]</td>\n      <td>[OOP]</td>\n      <td>[feedback:program_repair, technique:code_repai...</td>\n    </tr>\n    <tr>\n      <th>89</th>\n      <td>rayyan-354359375</td>\n      <td>Context-aware and data-driven feedback generat...</td>\n      <td>Song D., Lee W., Oh H.</td>\n      <td>Recently, various techniques have been propose...</td>\n      <td>2021</td>\n      <td>[approach:fully_automated, interaction:unknown...</td>\n      <td>[static]</td>\n      <td>[correctness]</td>\n      <td>[correctness_static]</td>\n      <td>[description, evaluation]</td>\n      <td>[Functional]</td>\n      <td>[feedback:program_repair, technique:program_re...</td>\n    </tr>\n    <tr>\n      <th>106</th>\n      <td>rayyan-354359397</td>\n      <td>Towards Answering “Am I on the Right Track?” A...</td>\n      <td>Feldman M.Q., Wang Y., Byrd W.E., Guimbretière...</td>\n      <td>Students learning to program often need help c...</td>\n      <td>2019</td>\n      <td>[approach:fully_automated, data_available:Fals...</td>\n      <td>[dynamic]</td>\n      <td>[correctness]</td>\n      <td>[correctness_dynamic]</td>\n      <td>[description, evaluation]</td>\n      <td>[Functional]</td>\n      <td>[feedback:program_repair]</td>\n    </tr>\n    <tr>\n      <th>108</th>\n      <td>rayyan-354359401</td>\n      <td>Automatic diagnosis and correction of logical ...</td>\n      <td>Lee J., Song D., So S., Oh H.</td>\n      <td>We present FixML, a system for automatically g...</td>\n      <td>2018</td>\n      <td>[approach:fully_automated, interaction:unknown...</td>\n      <td>[dynamic]</td>\n      <td>[correctness]</td>\n      <td>[correctness_dynamic]</td>\n      <td>[description, evaluation]</td>\n      <td>[Functional]</td>\n      <td>[feedback:program_repair, technique:code_repai...</td>\n    </tr>\n  </tbody>\n</table>\n</div>"
     },
     "execution_count": 75,
     "metadata": {},
     "output_type": "execute_result"
    }
   ],
   "source": [
    "cr_df = df.copy()\n",
    "cr_df['tech'] = cr_df.tags.apply(lambda labels: [label for label in labels if 'code_repair' in label or 'program_repair' in label])\n",
    "cr_df.tech = cr_df.tech.map(lambda labels: None if len(labels) == 0 else labels)\n",
    "cr_df[~cr_df.tech.isna()]"
   ],
   "metadata": {
    "collapsed": false,
    "pycharm": {
     "name": "#%%\n"
    }
   }
  },
  {
   "cell_type": "markdown",
   "source": [
    "## Degree of Automation"
   ],
   "metadata": {
    "collapsed": false,
    "pycharm": {
     "name": "#%% md\n"
    }
   }
  },
  {
   "cell_type": "code",
   "execution_count": 82,
   "outputs": [
    {
     "data": {
      "text/plain": "approach:fully_automated    99\napproach:semi_automatic     17\napproach:unclear             5\nName: approach, dtype: int64"
     },
     "execution_count": 82,
     "metadata": {},
     "output_type": "execute_result"
    }
   ],
   "source": [
    "doa_df = df.copy()\n",
    "doa_df['approach'] = doa_df.tags.apply(lambda labels: [str(label) for label in labels if label.startswith('approach')])\n",
    "doa_df = doa_df.explode('approach')\n",
    "doa_df.approach.value_counts()"
   ],
   "metadata": {
    "collapsed": false,
    "pycharm": {
     "name": "#%%\n"
    }
   }
  },
  {
   "cell_type": "code",
   "execution_count": 83,
   "outputs": [
    {
     "data": {
      "text/plain": "approach:fully_automated    81.818182\napproach:semi_automatic     14.049587\napproach:unclear             4.132231\nName: approach, dtype: float64"
     },
     "execution_count": 83,
     "metadata": {},
     "output_type": "execute_result"
    }
   ],
   "source": [
    "(doa_df.approach.value_counts() /  doa_df.shape[0]) * 100"
   ],
   "metadata": {
    "collapsed": false,
    "pycharm": {
     "name": "#%%\n"
    }
   }
  },
  {
   "cell_type": "code",
   "execution_count": 106,
   "outputs": [
    {
     "data": {
      "text/plain": "[correctness]                                  53.719008\n[correctness, readability]                     13.223140\n[correctness, readability, maintainability]     4.132231\n[readability, maintainability]                  3.305785\n[correctness, maintainability]                  3.305785\n[readability]                                   2.479339\n[correctness, documentation]                    0.826446\n[maintainability]                               0.826446\nName: skills, dtype: float64"
     },
     "execution_count": 106,
     "metadata": {},
     "output_type": "execute_result"
    }
   ],
   "source": [
    "(doa_df[doa_df.approach.str.contains('fully')].skills.value_counts() / doa_df.shape[0]) * 100"
   ],
   "metadata": {
    "collapsed": false,
    "pycharm": {
     "name": "#%%\n"
    }
   }
  },
  {
   "cell_type": "markdown",
   "source": [
    "#### CI/CD"
   ],
   "metadata": {
    "collapsed": false,
    "pycharm": {
     "name": "#%% md\n"
    }
   }
  },
  {
   "cell_type": "code",
   "execution_count": 100,
   "outputs": [
    {
     "data": {
      "text/plain": "                  key                                              title  \\\n17   rayyan-354359293  Improving Programming Education Quality with A...   \n36   rayyan-354359313  Enhancing the Learning of Database Access Prog...   \n67   rayyan-354359348  Effectiveness of Real-Time Feedback and Instru...   \n79   rayyan-354359362  Measure Students’ Contribution in Web Programm...   \n80   rayyan-354359363  Investigating the Essential of Meaningful Auto...   \n96   rayyan-354359385  Towards understanding the effective design of ...   \n114  rayyan-354359408  ArTEMiS - An automatic assessment management s...   \n\n                                               authors  \\\n17                               Cai Y.-Z., Tsai M.-H.   \n36                                            B. Pérez   \n67                                              Lee HH   \n79         B. -A. Nguyen and K. -Y. Ho and H. -M. Chen   \n80   Q. Hao and J. P. Wilson and C. Ottaway and N. ...   \n96   Hao Q., Smith IV D.H., Ding L., Ko A., Ottaway...   \n114                               Krusche S., Seitz A.   \n\n                                              abstract  year_published  \\\n17   As the rapid growth of information technology,...            2019   \n36   Database access programming is a noteworthy co...            2021   \n67   In this paper, we present our findings on enha...            2021   \n79   Large scale software systems are usually devel...            2020   \n80   This study investigated the essential of meani...            2019   \n96   Background and Context: automated feedback for...            2021   \n114  The increasing number of students in computer ...            2018   \n\n                tags           category         skills  \\\n17   technique:ci_cd          [dynamic]  [correctness]   \n36   technique:ci_cd          [dynamic]  [correctness]   \n67   technique:ci_cd          [dynamic]  [correctness]   \n79   technique:ci_cd           [static]  [readability]   \n80   technique:ci_cd  [dynamic, static]  [correctness]   \n96   technique:ci_cd          [dynamic]  [correctness]   \n114  technique:ci_cd  [dynamic, static]  [correctness]   \n\n                                     skill_cat                      types  \\\n17                       [correctness_dynamic]  [description, evaluation]   \n36                       [correctness_dynamic]  [description, evaluation]   \n67                       [correctness_dynamic]  [description, evaluation]   \n79                        [readability_static]  [description, evaluation]   \n80   [correctness_dynamic, correctness_static]               [evaluation]   \n96                       [correctness_dynamic]               [evaluation]   \n114  [correctness_dynamic, correctness_static]  [description, evaluation]   \n\n    lang_family  \n17        [OOP]  \n36        [OOP]  \n67        [OOP]  \n79        [Web]  \n80        [OOP]  \n96        [OOP]  \n114       [OOP]  ",
      "text/html": "<div>\n<style scoped>\n    .dataframe tbody tr th:only-of-type {\n        vertical-align: middle;\n    }\n\n    .dataframe tbody tr th {\n        vertical-align: top;\n    }\n\n    .dataframe thead th {\n        text-align: right;\n    }\n</style>\n<table border=\"1\" class=\"dataframe\">\n  <thead>\n    <tr style=\"text-align: right;\">\n      <th></th>\n      <th>key</th>\n      <th>title</th>\n      <th>authors</th>\n      <th>abstract</th>\n      <th>year_published</th>\n      <th>tags</th>\n      <th>category</th>\n      <th>skills</th>\n      <th>skill_cat</th>\n      <th>types</th>\n      <th>lang_family</th>\n    </tr>\n  </thead>\n  <tbody>\n    <tr>\n      <th>17</th>\n      <td>rayyan-354359293</td>\n      <td>Improving Programming Education Quality with A...</td>\n      <td>Cai Y.-Z., Tsai M.-H.</td>\n      <td>As the rapid growth of information technology,...</td>\n      <td>2019</td>\n      <td>technique:ci_cd</td>\n      <td>[dynamic]</td>\n      <td>[correctness]</td>\n      <td>[correctness_dynamic]</td>\n      <td>[description, evaluation]</td>\n      <td>[OOP]</td>\n    </tr>\n    <tr>\n      <th>36</th>\n      <td>rayyan-354359313</td>\n      <td>Enhancing the Learning of Database Access Prog...</td>\n      <td>B. Pérez</td>\n      <td>Database access programming is a noteworthy co...</td>\n      <td>2021</td>\n      <td>technique:ci_cd</td>\n      <td>[dynamic]</td>\n      <td>[correctness]</td>\n      <td>[correctness_dynamic]</td>\n      <td>[description, evaluation]</td>\n      <td>[OOP]</td>\n    </tr>\n    <tr>\n      <th>67</th>\n      <td>rayyan-354359348</td>\n      <td>Effectiveness of Real-Time Feedback and Instru...</td>\n      <td>Lee HH</td>\n      <td>In this paper, we present our findings on enha...</td>\n      <td>2021</td>\n      <td>technique:ci_cd</td>\n      <td>[dynamic]</td>\n      <td>[correctness]</td>\n      <td>[correctness_dynamic]</td>\n      <td>[description, evaluation]</td>\n      <td>[OOP]</td>\n    </tr>\n    <tr>\n      <th>79</th>\n      <td>rayyan-354359362</td>\n      <td>Measure Students’ Contribution in Web Programm...</td>\n      <td>B. -A. Nguyen and K. -Y. Ho and H. -M. Chen</td>\n      <td>Large scale software systems are usually devel...</td>\n      <td>2020</td>\n      <td>technique:ci_cd</td>\n      <td>[static]</td>\n      <td>[readability]</td>\n      <td>[readability_static]</td>\n      <td>[description, evaluation]</td>\n      <td>[Web]</td>\n    </tr>\n    <tr>\n      <th>80</th>\n      <td>rayyan-354359363</td>\n      <td>Investigating the Essential of Meaningful Auto...</td>\n      <td>Q. Hao and J. P. Wilson and C. Ottaway and N. ...</td>\n      <td>This study investigated the essential of meani...</td>\n      <td>2019</td>\n      <td>technique:ci_cd</td>\n      <td>[dynamic, static]</td>\n      <td>[correctness]</td>\n      <td>[correctness_dynamic, correctness_static]</td>\n      <td>[evaluation]</td>\n      <td>[OOP]</td>\n    </tr>\n    <tr>\n      <th>96</th>\n      <td>rayyan-354359385</td>\n      <td>Towards understanding the effective design of ...</td>\n      <td>Hao Q., Smith IV D.H., Ding L., Ko A., Ottaway...</td>\n      <td>Background and Context: automated feedback for...</td>\n      <td>2021</td>\n      <td>technique:ci_cd</td>\n      <td>[dynamic]</td>\n      <td>[correctness]</td>\n      <td>[correctness_dynamic]</td>\n      <td>[evaluation]</td>\n      <td>[OOP]</td>\n    </tr>\n    <tr>\n      <th>114</th>\n      <td>rayyan-354359408</td>\n      <td>ArTEMiS - An automatic assessment management s...</td>\n      <td>Krusche S., Seitz A.</td>\n      <td>The increasing number of students in computer ...</td>\n      <td>2018</td>\n      <td>technique:ci_cd</td>\n      <td>[dynamic, static]</td>\n      <td>[correctness]</td>\n      <td>[correctness_dynamic, correctness_static]</td>\n      <td>[description, evaluation]</td>\n      <td>[OOP]</td>\n    </tr>\n  </tbody>\n</table>\n</div>"
     },
     "execution_count": 100,
     "metadata": {},
     "output_type": "execute_result"
    }
   ],
   "source": [
    "df.explode('tags')[df.explode('tags').tags.str.contains('ci_cd')]"
   ],
   "metadata": {
    "collapsed": false,
    "pycharm": {
     "name": "#%%\n"
    }
   }
  },
  {
   "cell_type": "markdown",
   "source": [
    "#### Semi"
   ],
   "metadata": {
    "collapsed": false,
    "pycharm": {
     "name": "#%% md\n"
    }
   }
  },
  {
   "cell_type": "code",
   "execution_count": 113,
   "outputs": [
    {
     "data": {
      "text/plain": "approach:semi_automatic             17\nskill:correctness                   17\ndata_available:False                15\ntype:description                    15\ntechnique:unit_testing              14\n                                    ..\ntechnique:property_based_testing     1\ntool:flubaroo                        1\nlanguage:Haskell                     1\ntool:quickcheck                      1\ntechnique:knowledge_base             1\nName: tags, Length: 86, dtype: int64"
     },
     "execution_count": 113,
     "metadata": {},
     "output_type": "execute_result"
    }
   ],
   "source": [
    "doa_df[doa_df.approach.str.contains('semi')].explode('tags').tags.value_counts()"
   ],
   "metadata": {
    "collapsed": false,
    "pycharm": {
     "name": "#%%\n"
    }
   }
  },
  {
   "cell_type": "markdown",
   "source": [
    "## Language Paradigms"
   ],
   "metadata": {
    "collapsed": false,
    "pycharm": {
     "name": "#%% md\n"
    }
   }
  },
  {
   "cell_type": "code",
   "execution_count": 79,
   "outputs": [
    {
     "data": {
      "text/plain": "[OOP]                83\n[Unknown]             9\n[Functional]          8\n[Agnostic]            5\n[Low-Level]           3\n[Graphics]            2\n[OOP, Graphics]       2\n[OOP, Functional]     2\n[OOP, Agnostic]       2\n[Web]                 2\n[Query]               1\n[OOP, Web]            1\n[Logic]               1\nName: lang_family, dtype: int64"
     },
     "execution_count": 79,
     "metadata": {},
     "output_type": "execute_result"
    }
   ],
   "source": [
    "lp_df = df.copy()\n",
    "lp_df.lang_family.value_counts()"
   ],
   "metadata": {
    "collapsed": false,
    "pycharm": {
     "name": "#%%\n"
    }
   }
  },
  {
   "cell_type": "code",
   "execution_count": 80,
   "outputs": [
    {
     "data": {
      "text/plain": "[OOP]                68.595041\n[Unknown]             7.438017\n[Functional]          6.611570\n[Agnostic]            4.132231\n[Low-Level]           2.479339\n[Graphics]            1.652893\n[OOP, Graphics]       1.652893\n[OOP, Functional]     1.652893\n[OOP, Agnostic]       1.652893\n[Web]                 1.652893\n[Query]               0.826446\n[OOP, Web]            0.826446\n[Logic]               0.826446\nName: lang_family, dtype: float64"
     },
     "execution_count": 80,
     "metadata": {},
     "output_type": "execute_result"
    }
   ],
   "source": [
    "(lp_df.lang_family.value_counts() / lp_df.shape[0]) * 100"
   ],
   "metadata": {
    "collapsed": false,
    "pycharm": {
     "name": "#%%\n"
    }
   }
  },
  {
   "cell_type": "code",
   "execution_count": 128,
   "outputs": [
    {
     "data": {
      "text/plain": "                key                                              title  \\\n8  rayyan-354359278  Combining dynamic and static analysis for auto...   \n\n                              authors  \\\n8  Wang J., Zhao Y., Tang Z., Xing Z.   \n\n                                            abstract  year_published  \\\n8  Learning and teaching Structured Query Languag...            2020   \n\n                                                tags           category  \\\n8  [feedback:none, approach:fully_automated, inte...  [dynamic, static]   \n\n          skills                                  skill_cat  \\\n8  [correctness]  [correctness_dynamic, correctness_static]   \n\n                       types lang_family  \n8  [description, evaluation]   ['Query']  ",
      "text/html": "<div>\n<style scoped>\n    .dataframe tbody tr th:only-of-type {\n        vertical-align: middle;\n    }\n\n    .dataframe tbody tr th {\n        vertical-align: top;\n    }\n\n    .dataframe thead th {\n        text-align: right;\n    }\n</style>\n<table border=\"1\" class=\"dataframe\">\n  <thead>\n    <tr style=\"text-align: right;\">\n      <th></th>\n      <th>key</th>\n      <th>title</th>\n      <th>authors</th>\n      <th>abstract</th>\n      <th>year_published</th>\n      <th>tags</th>\n      <th>category</th>\n      <th>skills</th>\n      <th>skill_cat</th>\n      <th>types</th>\n      <th>lang_family</th>\n    </tr>\n  </thead>\n  <tbody>\n    <tr>\n      <th>8</th>\n      <td>rayyan-354359278</td>\n      <td>Combining dynamic and static analysis for auto...</td>\n      <td>Wang J., Zhao Y., Tang Z., Xing Z.</td>\n      <td>Learning and teaching Structured Query Languag...</td>\n      <td>2020</td>\n      <td>[feedback:none, approach:fully_automated, inte...</td>\n      <td>[dynamic, static]</td>\n      <td>[correctness]</td>\n      <td>[correctness_dynamic, correctness_static]</td>\n      <td>[description, evaluation]</td>\n      <td>['Query']</td>\n    </tr>\n  </tbody>\n</table>\n</div>"
     },
     "execution_count": 128,
     "metadata": {},
     "output_type": "execute_result"
    }
   ],
   "source": [
    "lp_df.lang_family = lp_df.lang_family.astype(str)\n",
    "lp_df[lp_df.lang_family.str.contains('Query')]"
   ],
   "metadata": {
    "collapsed": false,
    "pycharm": {
     "name": "#%%\n"
    }
   }
  },
  {
   "cell_type": "markdown",
   "source": [
    "## Evaluation"
   ],
   "metadata": {
    "collapsed": false,
    "pycharm": {
     "name": "#%% md\n"
    }
   }
  },
  {
   "cell_type": "code",
   "execution_count": 151,
   "outputs": [
    {
     "data": {
      "text/plain": "evaluation:student_survey             23.456790\nevaluation:manual_grading             22.222222\nevaluation:analytics                  12.345679\nevaluation:auto_grading                9.259259\nevaluation:none                        6.790123\nevaluation:user_study                  3.703704\nevaluation:grading_accuracy            3.703704\nevaluation:teacher_survey              3.703704\nevaluation:compared_to_other_tools     3.086420\nevaluation:anecdotal                   3.086420\nevaluation:usage                       2.469136\nevaluation:engagement                  1.851852\nevaluation:grade_correlation           1.234568\nevaluation:feedback                    1.234568\nevaluation:correlation_grades          1.234568\nevaluation:ml_models                   0.617284\nName: tags, dtype: float64"
     },
     "execution_count": 151,
     "metadata": {},
     "output_type": "execute_result"
    }
   ],
   "source": [
    "eval_df = df.copy()\n",
    "eval_df.tags = eval_df.tags.apply(lambda labels: [str(label) for label in labels if label.startswith('evaluation')])\n",
    "eval_df = eval_df.explode('tags')\n",
    "(eval_df.tags.value_counts() / eval_df.shape[0]) * 100"
   ],
   "metadata": {
    "collapsed": false,
    "pycharm": {
     "name": "#%%\n"
    }
   }
  },
  {
   "cell_type": "code",
   "execution_count": 154,
   "outputs": [
    {
     "data": {
      "text/plain": "                  key                                              title  \\\n0    rayyan-354359269  An experience of automated assessment in a lar...   \n1    rayyan-354359270  Semiautomatic generation and assessment of Jav...   \n3    rayyan-354359272  Virtual Teaching Assistant for Grading Program...   \n5    rayyan-354359274  Evaluating Control-Flow Graph Similarity for G...   \n8    rayyan-354359278  Combining dynamic and static analysis for auto...   \n9    rayyan-354359279  Assisted learning of C programming through aut...   \n11   rayyan-354359282  Computing with CodeRunner at Coventry Universi...   \n18   rayyan-354359294          Grading Programs Based on Hybrid Analysis   \n21   rayyan-354359297                  Automatic assessment of Java code   \n23   rayyan-354359299  Search, align, and repair: Data-driven feedbac...   \n24   rayyan-354359300  Investigating the feasibility of automatic ass...   \n26   rayyan-354359302  Automatic Assessment via Intelligent Analysis ...   \n27   rayyan-354359303  TipsC: Tips and corrections for programming MOOCs   \n34   rayyan-354359310  Automatic assessment of programming assignment...   \n44   rayyan-354359321  Automating Testing of Visual Observed Concurrency   \n45   rayyan-354359322  Enhancing an automated system for assessment o...   \n46   rayyan-354359323  Smart Exam Evaluator for Object-Oriented Progr...   \n48   rayyan-354359326  Automated Assessment of Complex Programming Ta...   \n53   rayyan-354359332  PAAA: An Implementation of Programming Assignm...   \n54   rayyan-354359333  Turn up the Heat! Using Heat Maps to Visualize...   \n55   rayyan-354359334  Automatic Grading and Feedback Using Program R...   \n60   rayyan-354359340  Autograding Interactive Computer Graphics Appl...   \n61   rayyan-354359341  Source-Code Similarity Measurement: Syntax Tre...   \n64   rayyan-354359345  Effects of Human vs. Automatic Feedback on Stu...   \n75   rayyan-354359357  Characterizing the Pedagogical Benefits of Ada...   \n77   rayyan-354359360  Promoting Code Quality via Automated Feedback ...   \n80   rayyan-354359363  Investigating the Essential of Meaningful Auto...   \n81   rayyan-354359364  Evaluating Feedback Tools in Introductory Prog...   \n82   rayyan-354359366  End-to-End Automation of Feedback on Student A...   \n83   rayyan-354359367  Targeted Example Generation for Compilation Er...   \n95   rayyan-354359383  Automated Assessment of Learning Objectives in...   \n106  rayyan-354359397  Towards Answering “Am I on the Right Track?” A...   \n111  rayyan-354359405  Soploon: A virtual assistant to help teachers ...   \n112  rayyan-354359406  ViDA: A virtual debugging advisor for supporti...   \n113  rayyan-354359407  Providing meaningful feedback for autograding ...   \n120  rayyan-354359414  Automatic extraction of AST patterns for debug...   \n\n                                               authors  \\\n0    Zampirolli F.A., Borovina Josko J.M., Venero M...   \n1              Insa D., Pérez S., Silva J., Tamarit S.   \n3                               Chou C.-Y., Chen Y.-J.   \n5              Sendjaja K., Rukmono S.A., Perdana R.S.   \n8                   Wang J., Zhao Y., Tang Z., Xing Z.   \n9                      Arifi S.M., Abbou R.B., Zahi A.   \n11                                Croft D., England M.   \n18                                      Wang Z., Xu L.   \n21                                   Insa D., Silva J.   \n23                            Wang K., Singh R., Su Z.   \n24                          Liebenberg J., Pieterse V.   \n26   Poon C.K., Wong T.-L., Tang C.M., Li J.K.L., Y...   \n27           Sharma S., Agarwal P., Mor P., Karkare A.   \n34   Muuli E., Papli K., Tõnisson E., Lepp M., Palt...   \n44   P. Dewan and A. Wortas and Z. Liu and S. Georg...   \n45              Y. T. Yu and C. M. Tang and C. K. Poon   \n46   M. L. Wickramasinghe and H. P. Wijethunga and ...   \n48            R. Conejo and B. Barros and M. F. Bertoa   \n53                  Tianyi S,Yulin K,Yihong H,Yujuan Q   \n54                                Edmison B,Edwards SH   \n55   Parihar S,Dadachanji Z,Singh PK,Das R,Karkare ...   \n60                Maicus E,Peveler M,Aikens A,Cutler B   \n61   Verma A,Udhayanan P,Shankar RM,Kn N,Chakrabart...   \n64                                   Leite A,Blanco SA   \n75   U. Z. Ahmed and R. Sindhgatta and N. Srivastav...   \n77                               O. Karnalim and Simon   \n80   Q. Hao and J. P. Wilson and C. Ottaway and N. ...   \n81   R. Reis and G. Soares and M. Mongiovi and W. L...   \n82   Z. Liu and T. Liu and Q. Li and W. Luo and S. ...   \n83   U. Z. Ahmed and R. Sindhgatta and N. Srivastav...   \n95                       Rump A., Fehnker A., Mader A.   \n106  Feldman M.Q., Wang Y., Byrd W.E., Guimbretière...   \n111  Vallejos S., Berdun L.S., Armentano M.G., Sori...   \n112  Lee V.C.S., Yu Y.T., Tang C.M., Wong T.L., Poo...   \n113  Haldeman G., Tjang A., Babeş-Vroman M., Bartos...   \n120                     Lazar T., Možina M., Bratko I.   \n\n                                              abstract  year_published  \\\n0    The 2020 pandemic imposed new demands on teach...            2021   \n1    Continuous assessment is essential in educatio...            2021   \n3    This study proposes an automated programming a...            2021   \n5    Programming has become a fundamental skill in ...            2021   \n8    Learning and teaching Structured Query Languag...            2020   \n9    Programming courses are among all the current ...            2020   \n11   CodeRunner is a free open-source Moodle plugin...            2020   \n18   Grading programming assignments often take a l...            2019   \n21   Assessment is an integral part of education of...            2018   \n23   This paper introduces the \"Search, Align, and ...            2018   \n24   Aim/Purpose The aims of this study were to inv...            2018   \n26   Automatic assessment of computer programming e...            2018   \n27   With MOOC sizes increasing every day, improvin...            2018   \n34   Automatic assessment of programming tasks in M...            2017   \n44   Existing techniques for automating the testing...            2021   \n45   It is now common to use automated systems for ...            2017   \n46   Worldwide educators considered that, automate ...            2020   \n48   This paper presents an innovative method to ta...            2018   \n53   Now we are in the information age, and distanc...            2019   \n54   Automated grading systems provide feedback to ...            2020   \n55   We present GradeIT, a system that combines the...            2017   \n60   We present a system for the automated testing ...            2020   \n61   A majority of the current automated evaluation...            2021   \n64   The use of automatic grading tools has become ...            2020   \n75   Can automated adaptive feedback for correcting...            2020   \n77   This research-to-practice work-in-progress pap...            2021   \n80   This study investigated the essential of meani...            2019   \n81   This Research Full Paper presents a study on t...            2019   \n82   We developed a set of tools designed to provid...            2021   \n83   We present TEGCER, an automated feedback tool ...            2019   \n95   Individual feedback is a core ingredient of a ...            2021   \n106  Students learning to program often need help c...            2019   \n111  When checking students’ source codes, teachers...            2018   \n112  Many students need assistance in debugging to ...            2018   \n113  Autograding systems are increasingly being dep...            2018   \n120  When implementing a programming tutor it is of...            2017   \n\n                          tags           category  \\\n0    evaluation:manual_grading          [dynamic]   \n1    evaluation:manual_grading  [dynamic, static]   \n3    evaluation:manual_grading  [dynamic, static]   \n5    evaluation:manual_grading           [static]   \n8    evaluation:manual_grading  [dynamic, static]   \n9    evaluation:manual_grading  [dynamic, static]   \n11   evaluation:manual_grading  [dynamic, static]   \n18   evaluation:manual_grading  [dynamic, static]   \n21   evaluation:manual_grading           [static]   \n23   evaluation:manual_grading           [static]   \n24   evaluation:manual_grading          [dynamic]   \n26   evaluation:manual_grading  [dynamic, static]   \n27   evaluation:manual_grading           [static]   \n34   evaluation:manual_grading               [ml]   \n44   evaluation:manual_grading          [dynamic]   \n45   evaluation:manual_grading           [static]   \n46   evaluation:manual_grading           [static]   \n48   evaluation:manual_grading          [dynamic]   \n53   evaluation:manual_grading           [static]   \n54   evaluation:manual_grading  [dynamic, static]   \n55   evaluation:manual_grading  [dynamic, static]   \n60   evaluation:manual_grading          [dynamic]   \n61   evaluation:manual_grading       [static, ml]   \n64   evaluation:manual_grading  [dynamic, static]   \n75   evaluation:manual_grading           [static]   \n77   evaluation:manual_grading           [static]   \n80   evaluation:manual_grading  [dynamic, static]   \n81   evaluation:manual_grading          [dynamic]   \n82   evaluation:manual_grading  [dynamic, static]   \n83   evaluation:manual_grading       [static, ml]   \n95   evaluation:manual_grading           [static]   \n106  evaluation:manual_grading          [dynamic]   \n111  evaluation:manual_grading           [static]   \n112  evaluation:manual_grading          [dynamic]   \n113  evaluation:manual_grading  [dynamic, static]   \n120  evaluation:manual_grading           [static]   \n\n                                          skills  \\\n0                                  [correctness]   \n1                                  [correctness]   \n3                                  [correctness]   \n5                                  [correctness]   \n8                                  [correctness]   \n9                                  [correctness]   \n11                    [correctness, readability]   \n18                    [correctness, readability]   \n21                    [correctness, readability]   \n23                                 [correctness]   \n24                                 [correctness]   \n26                                 [correctness]   \n27                                 [correctness]   \n34                                 [correctness]   \n44                                 [correctness]   \n45                                 [correctness]   \n46                                 [correctness]   \n48                                 [correctness]   \n53                                 [correctness]   \n54                    [correctness, readability]   \n55                                 [correctness]   \n60                                 [correctness]   \n61                                 [correctness]   \n64                    [correctness, readability]   \n75                                 [correctness]   \n77                                 [readability]   \n80                                 [correctness]   \n81                                 [correctness]   \n82                                 [correctness]   \n83                                 [correctness]   \n95   [correctness, readability, maintainability]   \n106                                [correctness]   \n111               [correctness, maintainability]   \n112                                [correctness]   \n113                                [correctness]   \n120                                [correctness]   \n\n                                             skill_cat  \\\n0                                [correctness_dynamic]   \n1            [correctness_dynamic, correctness_static]   \n3            [correctness_dynamic, correctness_static]   \n5                                 [correctness_static]   \n8            [correctness_dynamic, correctness_static]   \n9            [correctness_dynamic, correctness_static]   \n11                               [correctness_dynamic]   \n18           [correctness_dynamic, readability_static]   \n21            [correctness_static, readability_static]   \n23                                [correctness_static]   \n24                               [correctness_dynamic]   \n26           [correctness_dynamic, correctness_static]   \n27                                [correctness_static]   \n34                                    [correctness_ml]   \n44                               [correctness_dynamic]   \n45                                [correctness_static]   \n46                                [correctness_static]   \n48                               [correctness_dynamic]   \n53                                [correctness_static]   \n54           [correctness_dynamic, readability_static]   \n55           [correctness_dynamic, correctness_static]   \n60                               [correctness_dynamic]   \n61                [correctness_ml, correctness_static]   \n64                               [correctness_dynamic]   \n75                                [correctness_static]   \n77                                [readability_static]   \n80           [correctness_dynamic, correctness_static]   \n81                               [correctness_dynamic]   \n82           [correctness_dynamic, correctness_static]   \n83                [correctness_ml, correctness_static]   \n95   [correctness_static, maintainability_static, r...   \n106                              [correctness_dynamic]   \n111       [correctness_static, maintainability_static]   \n112                              [correctness_dynamic]   \n113          [correctness_dynamic, correctness_static]   \n120                               [correctness_static]   \n\n                         types      lang_family  \n0    [description, evaluation]            [OOP]  \n1    [description, evaluation]            [OOP]  \n3    [description, evaluation]        [Unknown]  \n5    [description, evaluation]        [Unknown]  \n8    [description, evaluation]          [Query]  \n9    [description, evaluation]            [OOP]  \n11                [experience]            [OOP]  \n18   [description, evaluation]            [OOP]  \n21               [description]            [OOP]  \n23   [description, evaluation]            [OOP]  \n24                [experience]            [OOP]  \n26   [description, evaluation]            [OOP]  \n27   [description, evaluation]            [OOP]  \n34   [description, evaluation]            [OOP]  \n44   [description, evaluation]            [OOP]  \n45   [description, evaluation]            [OOP]  \n46   [description, evaluation]            [OOP]  \n48   [description, evaluation]  [OOP, Agnostic]  \n53   [description, evaluation]       [Agnostic]  \n54   [description, evaluation]            [OOP]  \n55   [description, evaluation]            [OOP]  \n60   [description, evaluation]  [OOP, Graphics]  \n61   [description, evaluation]        [Unknown]  \n64                [evaluation]            [OOP]  \n75                [evaluation]            [OOP]  \n77   [description, evaluation]            [OOP]  \n80                [evaluation]            [OOP]  \n81                [evaluation]            [OOP]  \n82   [description, evaluation]      [Low-Level]  \n83   [description, evaluation]            [OOP]  \n95   [description, evaluation]            [OOP]  \n106  [description, evaluation]     [Functional]  \n111  [description, evaluation]            [OOP]  \n112  [description, evaluation]       [Agnostic]  \n113  [description, evaluation]        [Unknown]  \n120  [description, evaluation]          [Logic]  ",
      "text/html": "<div>\n<style scoped>\n    .dataframe tbody tr th:only-of-type {\n        vertical-align: middle;\n    }\n\n    .dataframe tbody tr th {\n        vertical-align: top;\n    }\n\n    .dataframe thead th {\n        text-align: right;\n    }\n</style>\n<table border=\"1\" class=\"dataframe\">\n  <thead>\n    <tr style=\"text-align: right;\">\n      <th></th>\n      <th>key</th>\n      <th>title</th>\n      <th>authors</th>\n      <th>abstract</th>\n      <th>year_published</th>\n      <th>tags</th>\n      <th>category</th>\n      <th>skills</th>\n      <th>skill_cat</th>\n      <th>types</th>\n      <th>lang_family</th>\n    </tr>\n  </thead>\n  <tbody>\n    <tr>\n      <th>0</th>\n      <td>rayyan-354359269</td>\n      <td>An experience of automated assessment in a lar...</td>\n      <td>Zampirolli F.A., Borovina Josko J.M., Venero M...</td>\n      <td>The 2020 pandemic imposed new demands on teach...</td>\n      <td>2021</td>\n      <td>evaluation:manual_grading</td>\n      <td>[dynamic]</td>\n      <td>[correctness]</td>\n      <td>[correctness_dynamic]</td>\n      <td>[description, evaluation]</td>\n      <td>[OOP]</td>\n    </tr>\n    <tr>\n      <th>1</th>\n      <td>rayyan-354359270</td>\n      <td>Semiautomatic generation and assessment of Jav...</td>\n      <td>Insa D., Pérez S., Silva J., Tamarit S.</td>\n      <td>Continuous assessment is essential in educatio...</td>\n      <td>2021</td>\n      <td>evaluation:manual_grading</td>\n      <td>[dynamic, static]</td>\n      <td>[correctness]</td>\n      <td>[correctness_dynamic, correctness_static]</td>\n      <td>[description, evaluation]</td>\n      <td>[OOP]</td>\n    </tr>\n    <tr>\n      <th>3</th>\n      <td>rayyan-354359272</td>\n      <td>Virtual Teaching Assistant for Grading Program...</td>\n      <td>Chou C.-Y., Chen Y.-J.</td>\n      <td>This study proposes an automated programming a...</td>\n      <td>2021</td>\n      <td>evaluation:manual_grading</td>\n      <td>[dynamic, static]</td>\n      <td>[correctness]</td>\n      <td>[correctness_dynamic, correctness_static]</td>\n      <td>[description, evaluation]</td>\n      <td>[Unknown]</td>\n    </tr>\n    <tr>\n      <th>5</th>\n      <td>rayyan-354359274</td>\n      <td>Evaluating Control-Flow Graph Similarity for G...</td>\n      <td>Sendjaja K., Rukmono S.A., Perdana R.S.</td>\n      <td>Programming has become a fundamental skill in ...</td>\n      <td>2021</td>\n      <td>evaluation:manual_grading</td>\n      <td>[static]</td>\n      <td>[correctness]</td>\n      <td>[correctness_static]</td>\n      <td>[description, evaluation]</td>\n      <td>[Unknown]</td>\n    </tr>\n    <tr>\n      <th>8</th>\n      <td>rayyan-354359278</td>\n      <td>Combining dynamic and static analysis for auto...</td>\n      <td>Wang J., Zhao Y., Tang Z., Xing Z.</td>\n      <td>Learning and teaching Structured Query Languag...</td>\n      <td>2020</td>\n      <td>evaluation:manual_grading</td>\n      <td>[dynamic, static]</td>\n      <td>[correctness]</td>\n      <td>[correctness_dynamic, correctness_static]</td>\n      <td>[description, evaluation]</td>\n      <td>[Query]</td>\n    </tr>\n    <tr>\n      <th>9</th>\n      <td>rayyan-354359279</td>\n      <td>Assisted learning of C programming through aut...</td>\n      <td>Arifi S.M., Abbou R.B., Zahi A.</td>\n      <td>Programming courses are among all the current ...</td>\n      <td>2020</td>\n      <td>evaluation:manual_grading</td>\n      <td>[dynamic, static]</td>\n      <td>[correctness]</td>\n      <td>[correctness_dynamic, correctness_static]</td>\n      <td>[description, evaluation]</td>\n      <td>[OOP]</td>\n    </tr>\n    <tr>\n      <th>11</th>\n      <td>rayyan-354359282</td>\n      <td>Computing with CodeRunner at Coventry Universi...</td>\n      <td>Croft D., England M.</td>\n      <td>CodeRunner is a free open-source Moodle plugin...</td>\n      <td>2020</td>\n      <td>evaluation:manual_grading</td>\n      <td>[dynamic, static]</td>\n      <td>[correctness, readability]</td>\n      <td>[correctness_dynamic]</td>\n      <td>[experience]</td>\n      <td>[OOP]</td>\n    </tr>\n    <tr>\n      <th>18</th>\n      <td>rayyan-354359294</td>\n      <td>Grading Programs Based on Hybrid Analysis</td>\n      <td>Wang Z., Xu L.</td>\n      <td>Grading programming assignments often take a l...</td>\n      <td>2019</td>\n      <td>evaluation:manual_grading</td>\n      <td>[dynamic, static]</td>\n      <td>[correctness, readability]</td>\n      <td>[correctness_dynamic, readability_static]</td>\n      <td>[description, evaluation]</td>\n      <td>[OOP]</td>\n    </tr>\n    <tr>\n      <th>21</th>\n      <td>rayyan-354359297</td>\n      <td>Automatic assessment of Java code</td>\n      <td>Insa D., Silva J.</td>\n      <td>Assessment is an integral part of education of...</td>\n      <td>2018</td>\n      <td>evaluation:manual_grading</td>\n      <td>[static]</td>\n      <td>[correctness, readability]</td>\n      <td>[correctness_static, readability_static]</td>\n      <td>[description]</td>\n      <td>[OOP]</td>\n    </tr>\n    <tr>\n      <th>23</th>\n      <td>rayyan-354359299</td>\n      <td>Search, align, and repair: Data-driven feedbac...</td>\n      <td>Wang K., Singh R., Su Z.</td>\n      <td>This paper introduces the \"Search, Align, and ...</td>\n      <td>2018</td>\n      <td>evaluation:manual_grading</td>\n      <td>[static]</td>\n      <td>[correctness]</td>\n      <td>[correctness_static]</td>\n      <td>[description, evaluation]</td>\n      <td>[OOP]</td>\n    </tr>\n    <tr>\n      <th>24</th>\n      <td>rayyan-354359300</td>\n      <td>Investigating the feasibility of automatic ass...</td>\n      <td>Liebenberg J., Pieterse V.</td>\n      <td>Aim/Purpose The aims of this study were to inv...</td>\n      <td>2018</td>\n      <td>evaluation:manual_grading</td>\n      <td>[dynamic]</td>\n      <td>[correctness]</td>\n      <td>[correctness_dynamic]</td>\n      <td>[experience]</td>\n      <td>[OOP]</td>\n    </tr>\n    <tr>\n      <th>26</th>\n      <td>rayyan-354359302</td>\n      <td>Automatic Assessment via Intelligent Analysis ...</td>\n      <td>Poon C.K., Wong T.-L., Tang C.M., Li J.K.L., Y...</td>\n      <td>Automatic assessment of computer programming e...</td>\n      <td>2018</td>\n      <td>evaluation:manual_grading</td>\n      <td>[dynamic, static]</td>\n      <td>[correctness]</td>\n      <td>[correctness_dynamic, correctness_static]</td>\n      <td>[description, evaluation]</td>\n      <td>[OOP]</td>\n    </tr>\n    <tr>\n      <th>27</th>\n      <td>rayyan-354359303</td>\n      <td>TipsC: Tips and corrections for programming MOOCs</td>\n      <td>Sharma S., Agarwal P., Mor P., Karkare A.</td>\n      <td>With MOOC sizes increasing every day, improvin...</td>\n      <td>2018</td>\n      <td>evaluation:manual_grading</td>\n      <td>[static]</td>\n      <td>[correctness]</td>\n      <td>[correctness_static]</td>\n      <td>[description, evaluation]</td>\n      <td>[OOP]</td>\n    </tr>\n    <tr>\n      <th>34</th>\n      <td>rayyan-354359310</td>\n      <td>Automatic assessment of programming assignment...</td>\n      <td>Muuli E., Papli K., Tõnisson E., Lepp M., Palt...</td>\n      <td>Automatic assessment of programming tasks in M...</td>\n      <td>2017</td>\n      <td>evaluation:manual_grading</td>\n      <td>[ml]</td>\n      <td>[correctness]</td>\n      <td>[correctness_ml]</td>\n      <td>[description, evaluation]</td>\n      <td>[OOP]</td>\n    </tr>\n    <tr>\n      <th>44</th>\n      <td>rayyan-354359321</td>\n      <td>Automating Testing of Visual Observed Concurrency</td>\n      <td>P. Dewan and A. Wortas and Z. Liu and S. Georg...</td>\n      <td>Existing techniques for automating the testing...</td>\n      <td>2021</td>\n      <td>evaluation:manual_grading</td>\n      <td>[dynamic]</td>\n      <td>[correctness]</td>\n      <td>[correctness_dynamic]</td>\n      <td>[description, evaluation]</td>\n      <td>[OOP]</td>\n    </tr>\n    <tr>\n      <th>45</th>\n      <td>rayyan-354359322</td>\n      <td>Enhancing an automated system for assessment o...</td>\n      <td>Y. T. Yu and C. M. Tang and C. K. Poon</td>\n      <td>It is now common to use automated systems for ...</td>\n      <td>2017</td>\n      <td>evaluation:manual_grading</td>\n      <td>[static]</td>\n      <td>[correctness]</td>\n      <td>[correctness_static]</td>\n      <td>[description, evaluation]</td>\n      <td>[OOP]</td>\n    </tr>\n    <tr>\n      <th>46</th>\n      <td>rayyan-354359323</td>\n      <td>Smart Exam Evaluator for Object-Oriented Progr...</td>\n      <td>M. L. Wickramasinghe and H. P. Wijethunga and ...</td>\n      <td>Worldwide educators considered that, automate ...</td>\n      <td>2020</td>\n      <td>evaluation:manual_grading</td>\n      <td>[static]</td>\n      <td>[correctness]</td>\n      <td>[correctness_static]</td>\n      <td>[description, evaluation]</td>\n      <td>[OOP]</td>\n    </tr>\n    <tr>\n      <th>48</th>\n      <td>rayyan-354359326</td>\n      <td>Automated Assessment of Complex Programming Ta...</td>\n      <td>R. Conejo and B. Barros and M. F. Bertoa</td>\n      <td>This paper presents an innovative method to ta...</td>\n      <td>2018</td>\n      <td>evaluation:manual_grading</td>\n      <td>[dynamic]</td>\n      <td>[correctness]</td>\n      <td>[correctness_dynamic]</td>\n      <td>[description, evaluation]</td>\n      <td>[OOP, Agnostic]</td>\n    </tr>\n    <tr>\n      <th>53</th>\n      <td>rayyan-354359332</td>\n      <td>PAAA: An Implementation of Programming Assignm...</td>\n      <td>Tianyi S,Yulin K,Yihong H,Yujuan Q</td>\n      <td>Now we are in the information age, and distanc...</td>\n      <td>2019</td>\n      <td>evaluation:manual_grading</td>\n      <td>[static]</td>\n      <td>[correctness]</td>\n      <td>[correctness_static]</td>\n      <td>[description, evaluation]</td>\n      <td>[Agnostic]</td>\n    </tr>\n    <tr>\n      <th>54</th>\n      <td>rayyan-354359333</td>\n      <td>Turn up the Heat! Using Heat Maps to Visualize...</td>\n      <td>Edmison B,Edwards SH</td>\n      <td>Automated grading systems provide feedback to ...</td>\n      <td>2020</td>\n      <td>evaluation:manual_grading</td>\n      <td>[dynamic, static]</td>\n      <td>[correctness, readability]</td>\n      <td>[correctness_dynamic, readability_static]</td>\n      <td>[description, evaluation]</td>\n      <td>[OOP]</td>\n    </tr>\n    <tr>\n      <th>55</th>\n      <td>rayyan-354359334</td>\n      <td>Automatic Grading and Feedback Using Program R...</td>\n      <td>Parihar S,Dadachanji Z,Singh PK,Das R,Karkare ...</td>\n      <td>We present GradeIT, a system that combines the...</td>\n      <td>2017</td>\n      <td>evaluation:manual_grading</td>\n      <td>[dynamic, static]</td>\n      <td>[correctness]</td>\n      <td>[correctness_dynamic, correctness_static]</td>\n      <td>[description, evaluation]</td>\n      <td>[OOP]</td>\n    </tr>\n    <tr>\n      <th>60</th>\n      <td>rayyan-354359340</td>\n      <td>Autograding Interactive Computer Graphics Appl...</td>\n      <td>Maicus E,Peveler M,Aikens A,Cutler B</td>\n      <td>We present a system for the automated testing ...</td>\n      <td>2020</td>\n      <td>evaluation:manual_grading</td>\n      <td>[dynamic]</td>\n      <td>[correctness]</td>\n      <td>[correctness_dynamic]</td>\n      <td>[description, evaluation]</td>\n      <td>[OOP, Graphics]</td>\n    </tr>\n    <tr>\n      <th>61</th>\n      <td>rayyan-354359341</td>\n      <td>Source-Code Similarity Measurement: Syntax Tre...</td>\n      <td>Verma A,Udhayanan P,Shankar RM,Kn N,Chakrabart...</td>\n      <td>A majority of the current automated evaluation...</td>\n      <td>2021</td>\n      <td>evaluation:manual_grading</td>\n      <td>[static, ml]</td>\n      <td>[correctness]</td>\n      <td>[correctness_ml, correctness_static]</td>\n      <td>[description, evaluation]</td>\n      <td>[Unknown]</td>\n    </tr>\n    <tr>\n      <th>64</th>\n      <td>rayyan-354359345</td>\n      <td>Effects of Human vs. Automatic Feedback on Stu...</td>\n      <td>Leite A,Blanco SA</td>\n      <td>The use of automatic grading tools has become ...</td>\n      <td>2020</td>\n      <td>evaluation:manual_grading</td>\n      <td>[dynamic, static]</td>\n      <td>[correctness, readability]</td>\n      <td>[correctness_dynamic]</td>\n      <td>[evaluation]</td>\n      <td>[OOP]</td>\n    </tr>\n    <tr>\n      <th>75</th>\n      <td>rayyan-354359357</td>\n      <td>Characterizing the Pedagogical Benefits of Ada...</td>\n      <td>U. Z. Ahmed and R. Sindhgatta and N. Srivastav...</td>\n      <td>Can automated adaptive feedback for correcting...</td>\n      <td>2020</td>\n      <td>evaluation:manual_grading</td>\n      <td>[static]</td>\n      <td>[correctness]</td>\n      <td>[correctness_static]</td>\n      <td>[evaluation]</td>\n      <td>[OOP]</td>\n    </tr>\n    <tr>\n      <th>77</th>\n      <td>rayyan-354359360</td>\n      <td>Promoting Code Quality via Automated Feedback ...</td>\n      <td>O. Karnalim and Simon</td>\n      <td>This research-to-practice work-in-progress pap...</td>\n      <td>2021</td>\n      <td>evaluation:manual_grading</td>\n      <td>[static]</td>\n      <td>[readability]</td>\n      <td>[readability_static]</td>\n      <td>[description, evaluation]</td>\n      <td>[OOP]</td>\n    </tr>\n    <tr>\n      <th>80</th>\n      <td>rayyan-354359363</td>\n      <td>Investigating the Essential of Meaningful Auto...</td>\n      <td>Q. Hao and J. P. Wilson and C. Ottaway and N. ...</td>\n      <td>This study investigated the essential of meani...</td>\n      <td>2019</td>\n      <td>evaluation:manual_grading</td>\n      <td>[dynamic, static]</td>\n      <td>[correctness]</td>\n      <td>[correctness_dynamic, correctness_static]</td>\n      <td>[evaluation]</td>\n      <td>[OOP]</td>\n    </tr>\n    <tr>\n      <th>81</th>\n      <td>rayyan-354359364</td>\n      <td>Evaluating Feedback Tools in Introductory Prog...</td>\n      <td>R. Reis and G. Soares and M. Mongiovi and W. L...</td>\n      <td>This Research Full Paper presents a study on t...</td>\n      <td>2019</td>\n      <td>evaluation:manual_grading</td>\n      <td>[dynamic]</td>\n      <td>[correctness]</td>\n      <td>[correctness_dynamic]</td>\n      <td>[evaluation]</td>\n      <td>[OOP]</td>\n    </tr>\n    <tr>\n      <th>82</th>\n      <td>rayyan-354359366</td>\n      <td>End-to-End Automation of Feedback on Student A...</td>\n      <td>Z. Liu and T. Liu and Q. Li and W. Luo and S. ...</td>\n      <td>We developed a set of tools designed to provid...</td>\n      <td>2021</td>\n      <td>evaluation:manual_grading</td>\n      <td>[dynamic, static]</td>\n      <td>[correctness]</td>\n      <td>[correctness_dynamic, correctness_static]</td>\n      <td>[description, evaluation]</td>\n      <td>[Low-Level]</td>\n    </tr>\n    <tr>\n      <th>83</th>\n      <td>rayyan-354359367</td>\n      <td>Targeted Example Generation for Compilation Er...</td>\n      <td>U. Z. Ahmed and R. Sindhgatta and N. Srivastav...</td>\n      <td>We present TEGCER, an automated feedback tool ...</td>\n      <td>2019</td>\n      <td>evaluation:manual_grading</td>\n      <td>[static, ml]</td>\n      <td>[correctness]</td>\n      <td>[correctness_ml, correctness_static]</td>\n      <td>[description, evaluation]</td>\n      <td>[OOP]</td>\n    </tr>\n    <tr>\n      <th>95</th>\n      <td>rayyan-354359383</td>\n      <td>Automated Assessment of Learning Objectives in...</td>\n      <td>Rump A., Fehnker A., Mader A.</td>\n      <td>Individual feedback is a core ingredient of a ...</td>\n      <td>2021</td>\n      <td>evaluation:manual_grading</td>\n      <td>[static]</td>\n      <td>[correctness, readability, maintainability]</td>\n      <td>[correctness_static, maintainability_static, r...</td>\n      <td>[description, evaluation]</td>\n      <td>[OOP]</td>\n    </tr>\n    <tr>\n      <th>106</th>\n      <td>rayyan-354359397</td>\n      <td>Towards Answering “Am I on the Right Track?” A...</td>\n      <td>Feldman M.Q., Wang Y., Byrd W.E., Guimbretière...</td>\n      <td>Students learning to program often need help c...</td>\n      <td>2019</td>\n      <td>evaluation:manual_grading</td>\n      <td>[dynamic]</td>\n      <td>[correctness]</td>\n      <td>[correctness_dynamic]</td>\n      <td>[description, evaluation]</td>\n      <td>[Functional]</td>\n    </tr>\n    <tr>\n      <th>111</th>\n      <td>rayyan-354359405</td>\n      <td>Soploon: A virtual assistant to help teachers ...</td>\n      <td>Vallejos S., Berdun L.S., Armentano M.G., Sori...</td>\n      <td>When checking students’ source codes, teachers...</td>\n      <td>2018</td>\n      <td>evaluation:manual_grading</td>\n      <td>[static]</td>\n      <td>[correctness, maintainability]</td>\n      <td>[correctness_static, maintainability_static]</td>\n      <td>[description, evaluation]</td>\n      <td>[OOP]</td>\n    </tr>\n    <tr>\n      <th>112</th>\n      <td>rayyan-354359406</td>\n      <td>ViDA: A virtual debugging advisor for supporti...</td>\n      <td>Lee V.C.S., Yu Y.T., Tang C.M., Wong T.L., Poo...</td>\n      <td>Many students need assistance in debugging to ...</td>\n      <td>2018</td>\n      <td>evaluation:manual_grading</td>\n      <td>[dynamic]</td>\n      <td>[correctness]</td>\n      <td>[correctness_dynamic]</td>\n      <td>[description, evaluation]</td>\n      <td>[Agnostic]</td>\n    </tr>\n    <tr>\n      <th>113</th>\n      <td>rayyan-354359407</td>\n      <td>Providing meaningful feedback for autograding ...</td>\n      <td>Haldeman G., Tjang A., Babeş-Vroman M., Bartos...</td>\n      <td>Autograding systems are increasingly being dep...</td>\n      <td>2018</td>\n      <td>evaluation:manual_grading</td>\n      <td>[dynamic, static]</td>\n      <td>[correctness]</td>\n      <td>[correctness_dynamic, correctness_static]</td>\n      <td>[description, evaluation]</td>\n      <td>[Unknown]</td>\n    </tr>\n    <tr>\n      <th>120</th>\n      <td>rayyan-354359414</td>\n      <td>Automatic extraction of AST patterns for debug...</td>\n      <td>Lazar T., Možina M., Bratko I.</td>\n      <td>When implementing a programming tutor it is of...</td>\n      <td>2017</td>\n      <td>evaluation:manual_grading</td>\n      <td>[static]</td>\n      <td>[correctness]</td>\n      <td>[correctness_static]</td>\n      <td>[description, evaluation]</td>\n      <td>[Logic]</td>\n    </tr>\n  </tbody>\n</table>\n</div>"
     },
     "execution_count": 154,
     "metadata": {},
     "output_type": "execute_result"
    }
   ],
   "source": [
    "eval_df[eval_df.tags.str.contains('manual_grading')]"
   ],
   "metadata": {
    "collapsed": false,
    "pycharm": {
     "name": "#%%\n"
    }
   }
  }
 ],
 "metadata": {
  "kernelspec": {
   "display_name": "Python 3",
   "language": "python",
   "name": "python3"
  },
  "language_info": {
   "codemirror_mode": {
    "name": "ipython",
    "version": 2
   },
   "file_extension": ".py",
   "mimetype": "text/x-python",
   "name": "python",
   "nbconvert_exporter": "python",
   "pygments_lexer": "ipython2",
   "version": "2.7.6"
  }
 },
 "nbformat": 4,
 "nbformat_minor": 0
}