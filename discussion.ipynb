{
 "cells": [
  {
   "cell_type": "code",
   "execution_count": 2,
   "metadata": {
    "collapsed": true,
    "pycharm": {
     "name": "#%%\n"
    }
   },
   "outputs": [],
   "source": [
    "import pandas as pd"
   ]
  },
  {
   "cell_type": "code",
   "execution_count": 3,
   "outputs": [
    {
     "data": {
      "text/plain": "                key                                              title  \\\n0  rayyan-354359269  An experience of automated assessment in a lar...   \n1  rayyan-354359270  Semiautomatic generation and assessment of Jav...   \n2  rayyan-354359271  A tool for evaluating computer programs from s...   \n3  rayyan-354359272  Virtual Teaching Assistant for Grading Program...   \n4  rayyan-354359273  Analysis of an automatic grading system within...   \n\n                                             authors  \\\n0  Zampirolli F.A., Borovina Josko J.M., Venero M...   \n1            Insa D., Pérez S., Silva J., Tamarit S.   \n2      Vaneck Q., Colart T., Frénay B., Vanderose B.   \n3                             Chou C.-Y., Chen Y.-J.   \n4                      Hegarty-Kelly E., Mooney D.A.   \n\n                                            abstract  year_published  \\\n0  The 2020 pandemic imposed new demands on teach...            2021   \n1  Continuous assessment is essential in educatio...            2021   \n2  Computer science studies are more and more pop...            2021   \n3  This study proposes an automated programming a...            2021   \n4  Reliable and pedagogically sound automated fee...            2021   \n\n                                                tags           category  \\\n0  [approach:fully_automated, data_available:Fals...          [dynamic]   \n1  [approach:semi_automatic, interaction:unknown,...  [dynamic, static]   \n2  [skill:readability, approach:fully_automated, ...           [static]   \n3  [approach:semi_automatic, data_available:False...  [dynamic, static]   \n4  [approach:fully_automated, data_available:Fals...  [dynamic, static]   \n\n                           skills  \\\n0                   [correctness]   \n1                   [correctness]   \n2  [readability, maintainability]   \n3                   [correctness]   \n4                   [correctness]   \n\n                                      skill_cat                      types  \\\n0                         [correctness_dynamic]  [description, evaluation]   \n1     [correctness_dynamic, correctness_static]  [description, evaluation]   \n2  [maintainability_static, readability_static]              [description]   \n3     [correctness_dynamic, correctness_static]  [description, evaluation]   \n4     [correctness_dynamic, correctness_static]  [description, evaluation]   \n\n  lang_family  \n0       [OOP]  \n1       [OOP]  \n2       [OOP]  \n3   [Unknown]  \n4       [OOP]  ",
      "text/html": "<div>\n<style scoped>\n    .dataframe tbody tr th:only-of-type {\n        vertical-align: middle;\n    }\n\n    .dataframe tbody tr th {\n        vertical-align: top;\n    }\n\n    .dataframe thead th {\n        text-align: right;\n    }\n</style>\n<table border=\"1\" class=\"dataframe\">\n  <thead>\n    <tr style=\"text-align: right;\">\n      <th></th>\n      <th>key</th>\n      <th>title</th>\n      <th>authors</th>\n      <th>abstract</th>\n      <th>year_published</th>\n      <th>tags</th>\n      <th>category</th>\n      <th>skills</th>\n      <th>skill_cat</th>\n      <th>types</th>\n      <th>lang_family</th>\n    </tr>\n  </thead>\n  <tbody>\n    <tr>\n      <th>0</th>\n      <td>rayyan-354359269</td>\n      <td>An experience of automated assessment in a lar...</td>\n      <td>Zampirolli F.A., Borovina Josko J.M., Venero M...</td>\n      <td>The 2020 pandemic imposed new demands on teach...</td>\n      <td>2021</td>\n      <td>[approach:fully_automated, data_available:Fals...</td>\n      <td>[dynamic]</td>\n      <td>[correctness]</td>\n      <td>[correctness_dynamic]</td>\n      <td>[description, evaluation]</td>\n      <td>[OOP]</td>\n    </tr>\n    <tr>\n      <th>1</th>\n      <td>rayyan-354359270</td>\n      <td>Semiautomatic generation and assessment of Jav...</td>\n      <td>Insa D., Pérez S., Silva J., Tamarit S.</td>\n      <td>Continuous assessment is essential in educatio...</td>\n      <td>2021</td>\n      <td>[approach:semi_automatic, interaction:unknown,...</td>\n      <td>[dynamic, static]</td>\n      <td>[correctness]</td>\n      <td>[correctness_dynamic, correctness_static]</td>\n      <td>[description, evaluation]</td>\n      <td>[OOP]</td>\n    </tr>\n    <tr>\n      <th>2</th>\n      <td>rayyan-354359271</td>\n      <td>A tool for evaluating computer programs from s...</td>\n      <td>Vaneck Q., Colart T., Frénay B., Vanderose B.</td>\n      <td>Computer science studies are more and more pop...</td>\n      <td>2021</td>\n      <td>[skill:readability, approach:fully_automated, ...</td>\n      <td>[static]</td>\n      <td>[readability, maintainability]</td>\n      <td>[maintainability_static, readability_static]</td>\n      <td>[description]</td>\n      <td>[OOP]</td>\n    </tr>\n    <tr>\n      <th>3</th>\n      <td>rayyan-354359272</td>\n      <td>Virtual Teaching Assistant for Grading Program...</td>\n      <td>Chou C.-Y., Chen Y.-J.</td>\n      <td>This study proposes an automated programming a...</td>\n      <td>2021</td>\n      <td>[approach:semi_automatic, data_available:False...</td>\n      <td>[dynamic, static]</td>\n      <td>[correctness]</td>\n      <td>[correctness_dynamic, correctness_static]</td>\n      <td>[description, evaluation]</td>\n      <td>[Unknown]</td>\n    </tr>\n    <tr>\n      <th>4</th>\n      <td>rayyan-354359273</td>\n      <td>Analysis of an automatic grading system within...</td>\n      <td>Hegarty-Kelly E., Mooney D.A.</td>\n      <td>Reliable and pedagogically sound automated fee...</td>\n      <td>2021</td>\n      <td>[approach:fully_automated, data_available:Fals...</td>\n      <td>[dynamic, static]</td>\n      <td>[correctness]</td>\n      <td>[correctness_dynamic, correctness_static]</td>\n      <td>[description, evaluation]</td>\n      <td>[OOP]</td>\n    </tr>\n  </tbody>\n</table>\n</div>"
     },
     "execution_count": 3,
     "metadata": {},
     "output_type": "execute_result"
    }
   ],
   "source": [
    "df = pd.read_pickle('data/processed.pickle')\n",
    "df.head()"
   ],
   "metadata": {
    "collapsed": false,
    "pycharm": {
     "name": "#%%\n"
    }
   }
  },
  {
   "cell_type": "markdown",
   "source": [
    "# Discussion Stats\n",
    "## Grading\n",
    "### Correctness"
   ],
   "metadata": {
    "collapsed": false,
    "pycharm": {
     "name": "#%% md\n"
    }
   }
  },
  {
   "cell_type": "code",
   "execution_count": 4,
   "outputs": [
    {
     "data": {
      "text/plain": "                  key                                              title  \\\n0    rayyan-354359269  An experience of automated assessment in a lar...   \n1    rayyan-354359270  Semiautomatic generation and assessment of Jav...   \n3    rayyan-354359272  Virtual Teaching Assistant for Grading Program...   \n4    rayyan-354359273  Analysis of an automatic grading system within...   \n5    rayyan-354359274  Evaluating Control-Flow Graph Similarity for G...   \n..                ...                                                ...   \n114  rayyan-354359408  ArTEMiS - An automatic assessment management s...   \n115  rayyan-354359409  Linkage objects for generalized instruction in...   \n116  rayyan-354359410  Automated data-driven hints for computer progr...   \n117  rayyan-354359411  Learning and teaching numerical methods with a...   \n120  rayyan-354359414  Automatic extraction of AST patterns for debug...   \n\n                                     skill_cat  \\\n0                        [correctness_dynamic]   \n1    [correctness_dynamic, correctness_static]   \n3    [correctness_dynamic, correctness_static]   \n4    [correctness_dynamic, correctness_static]   \n5                         [correctness_static]   \n..                                         ...   \n114  [correctness_dynamic, correctness_static]   \n115       [correctness_ml, correctness_static]   \n116  [correctness_dynamic, correctness_static]   \n117  [correctness_dynamic, correctness_static]   \n120                       [correctness_static]   \n\n                                                  tech  \n0    [technique:unit_testing, technique:pre_defined...  \n1    [technique:model_solution_req, technique:patte...  \n3    [technique:output_matching, technique:pattern_...  \n4    [technique:pattern_matching, technique:unit_te...  \n5    [technique:model_solution_req, technique:patte...  \n..                                                 ...  \n114  [technique:ci_cd, technique:unit_testing, tech...  \n115  [technique:machine_learning, technique:pattern...  \n116  [technique:unit_testing, technique:static_anal...  \n117  [technique:matching_rules, technique:unit_test...  \n120                       [technique:pattern_matching]  \n\n[80 rows x 4 columns]",
      "text/html": "<div>\n<style scoped>\n    .dataframe tbody tr th:only-of-type {\n        vertical-align: middle;\n    }\n\n    .dataframe tbody tr th {\n        vertical-align: top;\n    }\n\n    .dataframe thead th {\n        text-align: right;\n    }\n</style>\n<table border=\"1\" class=\"dataframe\">\n  <thead>\n    <tr style=\"text-align: right;\">\n      <th></th>\n      <th>key</th>\n      <th>title</th>\n      <th>skill_cat</th>\n      <th>tech</th>\n    </tr>\n  </thead>\n  <tbody>\n    <tr>\n      <th>0</th>\n      <td>rayyan-354359269</td>\n      <td>An experience of automated assessment in a lar...</td>\n      <td>[correctness_dynamic]</td>\n      <td>[technique:unit_testing, technique:pre_defined...</td>\n    </tr>\n    <tr>\n      <th>1</th>\n      <td>rayyan-354359270</td>\n      <td>Semiautomatic generation and assessment of Jav...</td>\n      <td>[correctness_dynamic, correctness_static]</td>\n      <td>[technique:model_solution_req, technique:patte...</td>\n    </tr>\n    <tr>\n      <th>3</th>\n      <td>rayyan-354359272</td>\n      <td>Virtual Teaching Assistant for Grading Program...</td>\n      <td>[correctness_dynamic, correctness_static]</td>\n      <td>[technique:output_matching, technique:pattern_...</td>\n    </tr>\n    <tr>\n      <th>4</th>\n      <td>rayyan-354359273</td>\n      <td>Analysis of an automatic grading system within...</td>\n      <td>[correctness_dynamic, correctness_static]</td>\n      <td>[technique:pattern_matching, technique:unit_te...</td>\n    </tr>\n    <tr>\n      <th>5</th>\n      <td>rayyan-354359274</td>\n      <td>Evaluating Control-Flow Graph Similarity for G...</td>\n      <td>[correctness_static]</td>\n      <td>[technique:model_solution_req, technique:patte...</td>\n    </tr>\n    <tr>\n      <th>...</th>\n      <td>...</td>\n      <td>...</td>\n      <td>...</td>\n      <td>...</td>\n    </tr>\n    <tr>\n      <th>114</th>\n      <td>rayyan-354359408</td>\n      <td>ArTEMiS - An automatic assessment management s...</td>\n      <td>[correctness_dynamic, correctness_static]</td>\n      <td>[technique:ci_cd, technique:unit_testing, tech...</td>\n    </tr>\n    <tr>\n      <th>115</th>\n      <td>rayyan-354359409</td>\n      <td>Linkage objects for generalized instruction in...</td>\n      <td>[correctness_ml, correctness_static]</td>\n      <td>[technique:machine_learning, technique:pattern...</td>\n    </tr>\n    <tr>\n      <th>116</th>\n      <td>rayyan-354359410</td>\n      <td>Automated data-driven hints for computer progr...</td>\n      <td>[correctness_dynamic, correctness_static]</td>\n      <td>[technique:unit_testing, technique:static_anal...</td>\n    </tr>\n    <tr>\n      <th>117</th>\n      <td>rayyan-354359411</td>\n      <td>Learning and teaching numerical methods with a...</td>\n      <td>[correctness_dynamic, correctness_static]</td>\n      <td>[technique:matching_rules, technique:unit_test...</td>\n    </tr>\n    <tr>\n      <th>120</th>\n      <td>rayyan-354359414</td>\n      <td>Automatic extraction of AST patterns for debug...</td>\n      <td>[correctness_static]</td>\n      <td>[technique:pattern_matching]</td>\n    </tr>\n  </tbody>\n</table>\n<p>80 rows × 4 columns</p>\n</div>"
     },
     "execution_count": 4,
     "metadata": {},
     "output_type": "execute_result"
    }
   ],
   "source": [
    "correct_df = df.copy(deep=True)\n",
    "correct_df.skills = correct_df.skills.astype(str)\n",
    "correct_df = correct_df[correct_df.skills.str.contains(\"^\\['correctness'\\]$\")]\n",
    "correct_df['tech'] = correct_df.tags.apply(lambda labels: [label for label in labels if label.startswith('technique')])\n",
    "correct_df[['key', 'title', 'skill_cat', 'tech']]"
   ],
   "metadata": {
    "collapsed": false,
    "pycharm": {
     "name": "#%%\n"
    }
   }
  },
  {
   "cell_type": "code",
   "execution_count": 5,
   "outputs": [
    {
     "data": {
      "text/plain": "66.11570247933885"
     },
     "execution_count": 5,
     "metadata": {},
     "output_type": "execute_result"
    }
   ],
   "source": [
    "(correct_df.shape[0] / df.shape[0]) * 100"
   ],
   "metadata": {
    "collapsed": false,
    "pycharm": {
     "name": "#%%\n"
    }
   }
  },
  {
   "cell_type": "code",
   "execution_count": 6,
   "outputs": [
    {
     "data": {
      "text/plain": "[correctness_dynamic]                        36\n[correctness_dynamic, correctness_static]    21\n[correctness_static]                         17\n[correctness_ml, correctness_static]          3\n[correctness_ml]                              2\n[correctness_dynamic, correctness_ml]         1\nName: skill_cat, dtype: int64"
     },
     "execution_count": 6,
     "metadata": {},
     "output_type": "execute_result"
    }
   ],
   "source": [
    "correct_df.skill_cat.value_counts()"
   ],
   "metadata": {
    "collapsed": false,
    "pycharm": {
     "name": "#%%\n"
    }
   }
  },
  {
   "cell_type": "code",
   "execution_count": 7,
   "outputs": [
    {
     "data": {
      "text/plain": "[dynamic]            45.00\n[dynamic, static]    26.25\n[static]             21.25\n[static, ml]          3.75\n[ml]                  2.50\n[dynamic, ml]         1.25\nName: category, dtype: float64"
     },
     "execution_count": 7,
     "metadata": {},
     "output_type": "execute_result"
    }
   ],
   "source": [
    "(correct_df.category.value_counts() / correct_df.shape[0]) * 100"
   ],
   "metadata": {
    "collapsed": false,
    "pycharm": {
     "name": "#%%\n"
    }
   }
  },
  {
   "cell_type": "code",
   "execution_count": 8,
   "outputs": [
    {
     "data": {
      "text/plain": "technique:unit_testing                100.000000\ntechnique:ci_cd                        11.111111\ntechnique:model_solution_req           11.111111\ntechnique:trace_examination             5.555556\ntechnique:property_based_testing        5.555556\ntechnique:output_matching               5.555556\ntechnique:pre_defined_questions         2.777778\ntechnique:unit_test_expansion           2.777778\ntechnique:mutation_testing              2.777778\ntechnique:novel                         2.777778\ntechnique:test_case_generation          2.777778\ntechnique:gui_testing                   2.777778\ntechnique:program_synthesis             2.777778\ntechnique:code_repair_for_feedback      2.777778\nName: tech, dtype: float64"
     },
     "execution_count": 8,
     "metadata": {},
     "output_type": "execute_result"
    }
   ],
   "source": [
    "correct_df['only_dynamic'] = df.category.apply(lambda x: 'dynamic' in str(x) and 'static' not in str(x) and 'ml' not in str(x))\n",
    "(correct_df[correct_df.only_dynamic].explode('tech').tech.value_counts() / correct_df[correct_df.only_dynamic].shape[0]) * 100"
   ],
   "metadata": {
    "collapsed": false,
    "pycharm": {
     "name": "#%%\n"
    }
   }
  },
  {
   "cell_type": "code",
   "execution_count": 9,
   "outputs": [
    {
     "data": {
      "text/plain": "technique:pattern_matching            70.588235\ntechnique:model_solution_req          41.176471\ntechnique:model_solution_closeness    35.294118\ntechnique:program_repair              35.294118\ntechnique:code_repair_for_feedback    29.411765\ntechnique:clustering                  17.647059\ntechnique:matching_rules              17.647059\ntechnique:trace_examination           17.647059\ntechnique:output_matching             11.764706\ntechnique:graph_analysis              11.764706\ntechnique:control_flow_graph           5.882353\ntechnique:data_driven                  5.882353\ntechnique:token_pattern_matching       5.882353\ntechnique:knowledge_base               5.882353\ntechnique:dynamic_analysis             5.882353\nName: tech, dtype: float64"
     },
     "execution_count": 9,
     "metadata": {},
     "output_type": "execute_result"
    }
   ],
   "source": [
    "correct_df['only_static'] = df.category.apply(lambda x: 'dynamic' not in str(x) and 'static' in str(x) and 'ml' not in str(x))\n",
    "(correct_df[correct_df.only_static].explode('tech').tech.value_counts() / correct_df[correct_df.only_static].shape[0]) * 100"
   ],
   "metadata": {
    "collapsed": false,
    "pycharm": {
     "name": "#%%\n"
    }
   }
  },
  {
   "cell_type": "code",
   "execution_count": 10,
   "outputs": [
    {
     "data": {
      "text/plain": "technique:unit_testing                100.000000\ntechnique:matching_rules               33.333333\ntechnique:pattern_matching             28.571429\ntechnique:static_analysis              23.809524\ntechnique:model_solution_req           19.047619\ntechnique:style_check                  19.047619\ntechnique:program_repair               14.285714\ntechnique:model_solution_closeness      9.523810\ntechnique:dynamic_analysis              9.523810\ntechnique:output_matching               9.523810\ntechnique:ci_cd                         9.523810\ntechnique:fault_localisation            4.761905\ntechnique:program_verification          4.761905\ntechnique:code_repair_for_feedback      4.761905\ntechnique:language_stuctures            4.761905\ntechnique:test_case_generation          4.761905\ntechnique:knowledge_base                4.761905\nName: tech, dtype: float64"
     },
     "execution_count": 10,
     "metadata": {},
     "output_type": "execute_result"
    }
   ],
   "source": [
    "correct_df['dynamic_static'] = df.category.apply(lambda x: 'dynamic' in str(x) and 'static' in str(x) and 'ml' not in str(x))\n",
    "(correct_df[correct_df.dynamic_static].explode('tech').tech.value_counts() / correct_df[correct_df.dynamic_static].shape[0]) * 100"
   ],
   "metadata": {
    "collapsed": false,
    "pycharm": {
     "name": "#%%\n"
    }
   }
  },
  {
   "cell_type": "code",
   "execution_count": 11,
   "outputs": [
    {
     "data": {
      "text/plain": "                  key                                              title  \\\n13   rayyan-354359285  An Intelligent Online Judge System for Program...   \n19   rayyan-354359295  Convolutional neural network applied to code a...   \n34   rayyan-354359310  Automatic assessment of programming assignment...   \n61   rayyan-354359341  Source-Code Similarity Measurement: Syntax Tre...   \n83   rayyan-354359367  Targeted Example Generation for Compilation Er...   \n115  rayyan-354359409  Linkage objects for generalized instruction in...   \n\n          category  \n13   [dynamic, ml]  \n19            [ml]  \n34            [ml]  \n61    [static, ml]  \n83    [static, ml]  \n115   [static, ml]  ",
      "text/html": "<div>\n<style scoped>\n    .dataframe tbody tr th:only-of-type {\n        vertical-align: middle;\n    }\n\n    .dataframe tbody tr th {\n        vertical-align: top;\n    }\n\n    .dataframe thead th {\n        text-align: right;\n    }\n</style>\n<table border=\"1\" class=\"dataframe\">\n  <thead>\n    <tr style=\"text-align: right;\">\n      <th></th>\n      <th>key</th>\n      <th>title</th>\n      <th>category</th>\n    </tr>\n  </thead>\n  <tbody>\n    <tr>\n      <th>13</th>\n      <td>rayyan-354359285</td>\n      <td>An Intelligent Online Judge System for Program...</td>\n      <td>[dynamic, ml]</td>\n    </tr>\n    <tr>\n      <th>19</th>\n      <td>rayyan-354359295</td>\n      <td>Convolutional neural network applied to code a...</td>\n      <td>[ml]</td>\n    </tr>\n    <tr>\n      <th>34</th>\n      <td>rayyan-354359310</td>\n      <td>Automatic assessment of programming assignment...</td>\n      <td>[ml]</td>\n    </tr>\n    <tr>\n      <th>61</th>\n      <td>rayyan-354359341</td>\n      <td>Source-Code Similarity Measurement: Syntax Tre...</td>\n      <td>[static, ml]</td>\n    </tr>\n    <tr>\n      <th>83</th>\n      <td>rayyan-354359367</td>\n      <td>Targeted Example Generation for Compilation Er...</td>\n      <td>[static, ml]</td>\n    </tr>\n    <tr>\n      <th>115</th>\n      <td>rayyan-354359409</td>\n      <td>Linkage objects for generalized instruction in...</td>\n      <td>[static, ml]</td>\n    </tr>\n  </tbody>\n</table>\n</div>"
     },
     "execution_count": 11,
     "metadata": {},
     "output_type": "execute_result"
    }
   ],
   "source": [
    "correct_df['ml'] = df.category.apply(lambda x: 'ml' in str(x))\n",
    "ml_df = correct_df.loc[correct_df.ml]\n",
    "ml_df[['key', 'title', 'category']]"
   ],
   "metadata": {
    "collapsed": false,
    "pycharm": {
     "name": "#%%\n"
    }
   }
  },
  {
   "cell_type": "markdown",
   "source": [
    "### Maintainability"
   ],
   "metadata": {
    "collapsed": false,
    "pycharm": {
     "name": "#%% md\n"
    }
   }
  },
  {
   "cell_type": "code",
   "execution_count": 12,
   "outputs": [
    {
     "data": {
      "text/plain": "                 key                                              title  \\\n92  rayyan-354359378  A Comparison of Inquiry-Based Conceptual Feedb...   \n\n                                         authors  \\\n92  Cordova L., Carver J., Gershmel N., Walia G.   \n\n                                             abstract  year_published  \\\n92  The feedback provided by current testing educa...            2021   \n\n                                                 tags  category  \\\n92  [skill:test_suite_quality, approach:fully_auto...  [static]   \n\n                 skills                 skill_cat         types lang_family  \n92  ['maintainability']  [maintainability_static]  [evaluation]       [OOP]  ",
      "text/html": "<div>\n<style scoped>\n    .dataframe tbody tr th:only-of-type {\n        vertical-align: middle;\n    }\n\n    .dataframe tbody tr th {\n        vertical-align: top;\n    }\n\n    .dataframe thead th {\n        text-align: right;\n    }\n</style>\n<table border=\"1\" class=\"dataframe\">\n  <thead>\n    <tr style=\"text-align: right;\">\n      <th></th>\n      <th>key</th>\n      <th>title</th>\n      <th>authors</th>\n      <th>abstract</th>\n      <th>year_published</th>\n      <th>tags</th>\n      <th>category</th>\n      <th>skills</th>\n      <th>skill_cat</th>\n      <th>types</th>\n      <th>lang_family</th>\n    </tr>\n  </thead>\n  <tbody>\n    <tr>\n      <th>92</th>\n      <td>rayyan-354359378</td>\n      <td>A Comparison of Inquiry-Based Conceptual Feedb...</td>\n      <td>Cordova L., Carver J., Gershmel N., Walia G.</td>\n      <td>The feedback provided by current testing educa...</td>\n      <td>2021</td>\n      <td>[skill:test_suite_quality, approach:fully_auto...</td>\n      <td>[static]</td>\n      <td>['maintainability']</td>\n      <td>[maintainability_static]</td>\n      <td>[evaluation]</td>\n      <td>[OOP]</td>\n    </tr>\n  </tbody>\n</table>\n</div>"
     },
     "execution_count": 12,
     "metadata": {},
     "output_type": "execute_result"
    }
   ],
   "source": [
    "maint_df = df.copy(deep=True)\n",
    "maint_df.skills = maint_df.skills.astype(str)\n",
    "maint_df = maint_df[maint_df.skills.str.contains(\"^\\['maintainability'\\]$\")].copy()\n",
    "maint_df"
   ],
   "metadata": {
    "collapsed": false,
    "pycharm": {
     "name": "#%%\n"
    }
   }
  },
  {
   "cell_type": "code",
   "execution_count": 13,
   "outputs": [
    {
     "data": {
      "text/plain": "technique:model_solution_req    100.0\ntechnique:static_analysis       100.0\nName: tech, dtype: float64"
     },
     "execution_count": 13,
     "metadata": {},
     "output_type": "execute_result"
    }
   ],
   "source": [
    "maint_df['tech'] = maint_df.tags.apply(lambda labels: [label for label in labels if label.startswith('technique')])\n",
    "(maint_df.explode('tech').tech.value_counts() / maint_df.shape[0]) * 100"
   ],
   "metadata": {
    "collapsed": false,
    "pycharm": {
     "name": "#%%\n"
    }
   }
  },
  {
   "cell_type": "markdown",
   "source": [
    "### Readability"
   ],
   "metadata": {
    "collapsed": false,
    "pycharm": {
     "name": "#%% md\n"
    }
   }
  },
  {
   "cell_type": "code",
   "execution_count": 14,
   "outputs": [
    {
     "data": {
      "text/plain": "                  key                                              title  \\\n30   rayyan-354359306  The impact of automated code quality feedback ...   \n77   rayyan-354359360  Promoting Code Quality via Automated Feedback ...   \n79   rayyan-354359362  Measure Students’ Contribution in Web Programm...   \n107  rayyan-354359398      Static analyses in python programming courses   \n\n     category  \n30   [static]  \n77   [static]  \n79   [static]  \n107  [static]  ",
      "text/html": "<div>\n<style scoped>\n    .dataframe tbody tr th:only-of-type {\n        vertical-align: middle;\n    }\n\n    .dataframe tbody tr th {\n        vertical-align: top;\n    }\n\n    .dataframe thead th {\n        text-align: right;\n    }\n</style>\n<table border=\"1\" class=\"dataframe\">\n  <thead>\n    <tr style=\"text-align: right;\">\n      <th></th>\n      <th>key</th>\n      <th>title</th>\n      <th>category</th>\n    </tr>\n  </thead>\n  <tbody>\n    <tr>\n      <th>30</th>\n      <td>rayyan-354359306</td>\n      <td>The impact of automated code quality feedback ...</td>\n      <td>[static]</td>\n    </tr>\n    <tr>\n      <th>77</th>\n      <td>rayyan-354359360</td>\n      <td>Promoting Code Quality via Automated Feedback ...</td>\n      <td>[static]</td>\n    </tr>\n    <tr>\n      <th>79</th>\n      <td>rayyan-354359362</td>\n      <td>Measure Students’ Contribution in Web Programm...</td>\n      <td>[static]</td>\n    </tr>\n    <tr>\n      <th>107</th>\n      <td>rayyan-354359398</td>\n      <td>Static analyses in python programming courses</td>\n      <td>[static]</td>\n    </tr>\n  </tbody>\n</table>\n</div>"
     },
     "execution_count": 14,
     "metadata": {},
     "output_type": "execute_result"
    }
   ],
   "source": [
    "# Analysing hint based problem solving strategy among novice programmers through gamification technique - Might be removed\n",
    "read_df = df.copy(deep=True)\n",
    "read_df.skills = read_df.skills.astype(str)\n",
    "read_df = read_df[read_df.skills.str.contains(\"^\\['readability'\\]$\")]\n",
    "read_df[['key', 'title', 'category']]"
   ],
   "metadata": {
    "collapsed": false,
    "pycharm": {
     "name": "#%%\n"
    }
   }
  },
  {
   "cell_type": "code",
   "execution_count": 15,
   "outputs": [
    {
     "data": {
      "text/plain": "3.3057851239669422"
     },
     "execution_count": 15,
     "metadata": {},
     "output_type": "execute_result"
    }
   ],
   "source": [
    "(read_df.shape[0] / df.shape[0]) * 100"
   ],
   "metadata": {
    "collapsed": false,
    "pycharm": {
     "name": "#%%\n"
    }
   }
  },
  {
   "cell_type": "code",
   "execution_count": 16,
   "outputs": [
    {
     "data": {
      "text/plain": "[static]    4\nName: category, dtype: int64"
     },
     "execution_count": 16,
     "metadata": {},
     "output_type": "execute_result"
    }
   ],
   "source": [
    "read_df.category.value_counts()"
   ],
   "metadata": {
    "collapsed": false,
    "pycharm": {
     "name": "#%%\n"
    }
   }
  },
  {
   "cell_type": "markdown",
   "source": [
    "### Correctness, Documentation"
   ],
   "metadata": {
    "collapsed": false,
    "pycharm": {
     "name": "#%% md\n"
    }
   }
  },
  {
   "cell_type": "code",
   "execution_count": 17,
   "outputs": [
    {
     "data": {
      "text/plain": "                 key                                              title  \\\n29  rayyan-354359305  Developing applications to automatically grade...   \n\n      authors                                           abstract  \\\n29  Gerdes J.  There are many unique challenges associated wi...   \n\n    year_published                                               tags  \\\n29            2017  [approach:fully_automated, data_available:Fals...   \n\n    category                            skills  \\\n29  [static]  ['correctness', 'documentation']   \n\n                                     skill_cat                      types  \\\n29  [correctness_static, documentation_static]  [description, evaluation]   \n\n   lang_family  \n29       [OOP]  ",
      "text/html": "<div>\n<style scoped>\n    .dataframe tbody tr th:only-of-type {\n        vertical-align: middle;\n    }\n\n    .dataframe tbody tr th {\n        vertical-align: top;\n    }\n\n    .dataframe thead th {\n        text-align: right;\n    }\n</style>\n<table border=\"1\" class=\"dataframe\">\n  <thead>\n    <tr style=\"text-align: right;\">\n      <th></th>\n      <th>key</th>\n      <th>title</th>\n      <th>authors</th>\n      <th>abstract</th>\n      <th>year_published</th>\n      <th>tags</th>\n      <th>category</th>\n      <th>skills</th>\n      <th>skill_cat</th>\n      <th>types</th>\n      <th>lang_family</th>\n    </tr>\n  </thead>\n  <tbody>\n    <tr>\n      <th>29</th>\n      <td>rayyan-354359305</td>\n      <td>Developing applications to automatically grade...</td>\n      <td>Gerdes J.</td>\n      <td>There are many unique challenges associated wi...</td>\n      <td>2017</td>\n      <td>[approach:fully_automated, data_available:Fals...</td>\n      <td>[static]</td>\n      <td>['correctness', 'documentation']</td>\n      <td>[correctness_static, documentation_static]</td>\n      <td>[description, evaluation]</td>\n      <td>[OOP]</td>\n    </tr>\n  </tbody>\n</table>\n</div>"
     },
     "execution_count": 17,
     "metadata": {},
     "output_type": "execute_result"
    }
   ],
   "source": [
    "doc_df = df.copy(deep=True)\n",
    "doc_df.skills = doc_df.skills.astype(str)\n",
    "doc_df[doc_df.skills.str.contains(\"^\\['correctness', 'documentation'\\]$\")]"
   ],
   "metadata": {
    "collapsed": false,
    "pycharm": {
     "name": "#%%\n"
    }
   }
  },
  {
   "cell_type": "markdown",
   "source": [
    "### Combination Graders"
   ],
   "metadata": {
    "collapsed": false,
    "pycharm": {
     "name": "#%% md\n"
    }
   }
  },
  {
   "cell_type": "code",
   "execution_count": 18,
   "outputs": [
    {
     "data": {
      "text/plain": "[correctness]                                  66.115702\n[correctness, readability]                     15.702479\n[correctness, readability, maintainability]     5.785124\n[correctness, maintainability]                  4.132231\n[readability, maintainability]                  3.305785\n[readability]                                   3.305785\n[correctness, documentation]                    0.826446\n[maintainability]                               0.826446\nName: skills, dtype: float64"
     },
     "execution_count": 18,
     "metadata": {},
     "output_type": "execute_result"
    }
   ],
   "source": [
    "(df.skills.value_counts() / df.shape[0]) * 100"
   ],
   "metadata": {
    "collapsed": false,
    "pycharm": {
     "name": "#%%\n"
    }
   }
  },
  {
   "cell_type": "code",
   "execution_count": 19,
   "outputs": [
    {
     "data": {
      "text/plain": "[correctness_dynamic]                                                 33.057851\n[correctness_dynamic, correctness_static]                             17.355372\n[correctness_static]                                                  14.049587\n[correctness_dynamic, readability_static]                             12.396694\n[maintainability_static, readability_static]                           3.305785\n[readability_static]                                                   3.305785\n[correctness_dynamic, maintainability_static]                          2.479339\n[correctness_ml, correctness_static]                                   2.479339\n[correctness_static, maintainability_static]                           1.652893\n[correctness_static, readability_static]                               1.652893\n[correctness_ml]                                                       1.652893\n[correctness_static, documentation_static]                             0.826446\n[correctness_ml, readability_static]                                   0.826446\n[correctness_dynamic, correctness_ml]                                  0.826446\n[correctness_dynamic, maintainability_dynamic, readability_static]     0.826446\n[correctness_ml, readability_ml]                                       0.826446\n[correctness_dynamic, maintainability_dynamic]                         0.826446\n[maintainability_static]                                               0.826446\n[correctness_static, maintainability_static, readability_static]       0.826446\nName: skill_cat, dtype: float64"
     },
     "execution_count": 19,
     "metadata": {},
     "output_type": "execute_result"
    }
   ],
   "source": [
    "(df.skill_cat.value_counts() / df.shape[0]) * 100"
   ],
   "metadata": {
    "collapsed": false,
    "pycharm": {
     "name": "#%%\n"
    }
   }
  },
  {
   "cell_type": "code",
   "execution_count": 20,
   "outputs": [
    {
     "data": {
      "text/plain": "                  key                                              title  \\\n50   rayyan-354359328  Question Independent Automated Code Analysis a...   \n73   rayyan-354359354  Teaching the Art of Functional Programming Usi...   \n95   rayyan-354359383  Automated Assessment of Learning Objectives in...   \n98   rayyan-354359387  Student Refactoring Behaviour in a Programming...   \n101  rayyan-354359391  The Impact of Iterative Assessment System on P...   \n103  rayyan-354359394  RefacTutor: An Interactive Tutoring System for...   \n109  rayyan-354359403  Teaching how to program using automated assess...   \n\n                                               authors  \\\n50   K. K. Rai and B. Gupta and P. Shokeen and P. C...   \n73                                  Hameer A,Pientka B   \n95                       Rump A., Fehnker A., Mader A.   \n98                   Keuning H., Heeren B., Jeuring J.   \n101      Yan Y.-X., Wu J.-P., Nguyen B.-A., Chen H.-M.   \n103                Haendler T., Neumann G., Smirnov F.   \n109                Almeida J.B., MacEdo N., Proenca J.   \n\n                                              abstract  year_published  \\\n50   Our first-hand experience with the recruiting ...            2019   \n73   Online programming platforms have immense pote...            2019   \n95   Individual feedback is a core ingredient of a ...            2021   \n98   Producing high-quality code is essential for p...            2020   \n101  Automated programming assessment systems (APAS...            2020   \n103  While software refactoring is considered impor...            2019   \n109  Our department has long been an advocate of th...            2018   \n\n                                                  tags           category  \\\n50   [skill:maintainability, type:evaluation, evalu...       [static, ml]   \n73   [technique:unit_testing, data_available:False,...  [dynamic, static]   \n95   [approach:semi_automatic, skill:readability, i...           [static]   \n98   [type:evaluation, technique:unit_testing, lang...  [dynamic, static]   \n101  [skill:readability, approach:fully_automated, ...  [dynamic, static]   \n103  [skill:refactoring, approach:fully_automated, ...  [dynamic, static]   \n109  [skill:maintainability, technique:unit_testing...  [dynamic, static]   \n\n                                                skills  \\\n50   ['correctness', 'readability', 'maintainability']   \n73   ['correctness', 'readability', 'maintainability']   \n95   ['correctness', 'readability', 'maintainability']   \n98   ['correctness', 'readability', 'maintainability']   \n101  ['correctness', 'readability', 'maintainability']   \n103  ['correctness', 'readability', 'maintainability']   \n109  ['correctness', 'readability', 'maintainability']   \n\n                                             skill_cat  \\\n50                [correctness_ml, readability_static]   \n73   [correctness_dynamic, maintainability_dynamic,...   \n95   [correctness_static, maintainability_static, r...   \n98           [correctness_dynamic, readability_static]   \n101          [correctness_dynamic, readability_static]   \n103          [correctness_dynamic, readability_static]   \n109      [correctness_dynamic, maintainability_static]   \n\n                         types   lang_family  \n50   [description, evaluation]         [OOP]  \n73                [experience]  [Functional]  \n95   [description, evaluation]         [OOP]  \n98   [description, evaluation]         [OOP]  \n101               [evaluation]         [OOP]  \n103              [description]         [OOP]  \n109               [experience]  [Functional]  ",
      "text/html": "<div>\n<style scoped>\n    .dataframe tbody tr th:only-of-type {\n        vertical-align: middle;\n    }\n\n    .dataframe tbody tr th {\n        vertical-align: top;\n    }\n\n    .dataframe thead th {\n        text-align: right;\n    }\n</style>\n<table border=\"1\" class=\"dataframe\">\n  <thead>\n    <tr style=\"text-align: right;\">\n      <th></th>\n      <th>key</th>\n      <th>title</th>\n      <th>authors</th>\n      <th>abstract</th>\n      <th>year_published</th>\n      <th>tags</th>\n      <th>category</th>\n      <th>skills</th>\n      <th>skill_cat</th>\n      <th>types</th>\n      <th>lang_family</th>\n    </tr>\n  </thead>\n  <tbody>\n    <tr>\n      <th>50</th>\n      <td>rayyan-354359328</td>\n      <td>Question Independent Automated Code Analysis a...</td>\n      <td>K. K. Rai and B. Gupta and P. Shokeen and P. C...</td>\n      <td>Our first-hand experience with the recruiting ...</td>\n      <td>2019</td>\n      <td>[skill:maintainability, type:evaluation, evalu...</td>\n      <td>[static, ml]</td>\n      <td>['correctness', 'readability', 'maintainability']</td>\n      <td>[correctness_ml, readability_static]</td>\n      <td>[description, evaluation]</td>\n      <td>[OOP]</td>\n    </tr>\n    <tr>\n      <th>73</th>\n      <td>rayyan-354359354</td>\n      <td>Teaching the Art of Functional Programming Usi...</td>\n      <td>Hameer A,Pientka B</td>\n      <td>Online programming platforms have immense pote...</td>\n      <td>2019</td>\n      <td>[technique:unit_testing, data_available:False,...</td>\n      <td>[dynamic, static]</td>\n      <td>['correctness', 'readability', 'maintainability']</td>\n      <td>[correctness_dynamic, maintainability_dynamic,...</td>\n      <td>[experience]</td>\n      <td>[Functional]</td>\n    </tr>\n    <tr>\n      <th>95</th>\n      <td>rayyan-354359383</td>\n      <td>Automated Assessment of Learning Objectives in...</td>\n      <td>Rump A., Fehnker A., Mader A.</td>\n      <td>Individual feedback is a core ingredient of a ...</td>\n      <td>2021</td>\n      <td>[approach:semi_automatic, skill:readability, i...</td>\n      <td>[static]</td>\n      <td>['correctness', 'readability', 'maintainability']</td>\n      <td>[correctness_static, maintainability_static, r...</td>\n      <td>[description, evaluation]</td>\n      <td>[OOP]</td>\n    </tr>\n    <tr>\n      <th>98</th>\n      <td>rayyan-354359387</td>\n      <td>Student Refactoring Behaviour in a Programming...</td>\n      <td>Keuning H., Heeren B., Jeuring J.</td>\n      <td>Producing high-quality code is essential for p...</td>\n      <td>2020</td>\n      <td>[type:evaluation, technique:unit_testing, lang...</td>\n      <td>[dynamic, static]</td>\n      <td>['correctness', 'readability', 'maintainability']</td>\n      <td>[correctness_dynamic, readability_static]</td>\n      <td>[description, evaluation]</td>\n      <td>[OOP]</td>\n    </tr>\n    <tr>\n      <th>101</th>\n      <td>rayyan-354359391</td>\n      <td>The Impact of Iterative Assessment System on P...</td>\n      <td>Yan Y.-X., Wu J.-P., Nguyen B.-A., Chen H.-M.</td>\n      <td>Automated programming assessment systems (APAS...</td>\n      <td>2020</td>\n      <td>[skill:readability, approach:fully_automated, ...</td>\n      <td>[dynamic, static]</td>\n      <td>['correctness', 'readability', 'maintainability']</td>\n      <td>[correctness_dynamic, readability_static]</td>\n      <td>[evaluation]</td>\n      <td>[OOP]</td>\n    </tr>\n    <tr>\n      <th>103</th>\n      <td>rayyan-354359394</td>\n      <td>RefacTutor: An Interactive Tutoring System for...</td>\n      <td>Haendler T., Neumann G., Smirnov F.</td>\n      <td>While software refactoring is considered impor...</td>\n      <td>2019</td>\n      <td>[skill:refactoring, approach:fully_automated, ...</td>\n      <td>[dynamic, static]</td>\n      <td>['correctness', 'readability', 'maintainability']</td>\n      <td>[correctness_dynamic, readability_static]</td>\n      <td>[description]</td>\n      <td>[OOP]</td>\n    </tr>\n    <tr>\n      <th>109</th>\n      <td>rayyan-354359403</td>\n      <td>Teaching how to program using automated assess...</td>\n      <td>Almeida J.B., MacEdo N., Proenca J.</td>\n      <td>Our department has long been an advocate of th...</td>\n      <td>2018</td>\n      <td>[skill:maintainability, technique:unit_testing...</td>\n      <td>[dynamic, static]</td>\n      <td>['correctness', 'readability', 'maintainability']</td>\n      <td>[correctness_dynamic, maintainability_static]</td>\n      <td>[experience]</td>\n      <td>[Functional]</td>\n    </tr>\n  </tbody>\n</table>\n</div>"
     },
     "execution_count": 20,
     "metadata": {},
     "output_type": "execute_result"
    }
   ],
   "source": [
    "combo_df = df.copy(deep=True)\n",
    "combo_df.skills = combo_df.skills.astype(str)\n",
    "combo_df[combo_df.skills.str.contains(\"^\\['correctness', 'readability', 'maintainability']$\")]"
   ],
   "metadata": {
    "collapsed": false,
    "pycharm": {
     "name": "#%%\n"
    }
   }
  },
  {
   "cell_type": "markdown",
   "source": [
    "### Code Repair papers"
   ],
   "metadata": {
    "collapsed": false,
    "pycharm": {
     "name": "#%% md\n"
    }
   }
  },
  {
   "cell_type": "code",
   "execution_count": 21,
   "outputs": [
    {
     "data": {
      "text/plain": "                  key                                              title  \\\n1    rayyan-354359270  Semiautomatic generation and assessment of Jav...   \n2    rayyan-354359271  A tool for evaluating computer programs from s...   \n9    rayyan-354359279  Assisted learning of C programming through aut...   \n15   rayyan-354359290  Fast test suite-driven model-based fault local...   \n23   rayyan-354359299  Search, align, and repair: Data-driven feedbac...   \n27   rayyan-354359303  TipsC: Tips and corrections for programming MOOCs   \n28   rayyan-354359304  Exploring the design space of automatically sy...   \n51   rayyan-354359330  EvalSeer: An Intelligent Gamified System for P...   \n55   rayyan-354359334  Automatic Grading and Feedback Using Program R...   \n65   rayyan-354359346  Automated Clustering and Program Repair for In...   \n75   rayyan-354359357  Characterizing the Pedagogical Benefits of Ada...   \n78   rayyan-354359361  TraceDiff: Debugging unexpected code behavior ...   \n83   rayyan-354359367  Targeted Example Generation for Compilation Er...   \n89   rayyan-354359375  Context-aware and data-driven feedback generat...   \n106  rayyan-354359397  Towards Answering “Am I on the Right Track?” A...   \n108  rayyan-354359401  Automatic diagnosis and correction of logical ...   \n\n                                               authors  \\\n1              Insa D., Pérez S., Silva J., Tamarit S.   \n2        Vaneck Q., Colart T., Frénay B., Vanderose B.   \n9                      Arifi S.M., Abbou R.B., Zahi A.   \n15                  Birch G., Fischer B., Poppleton M.   \n23                            Wang K., Singh R., Su Z.   \n27           Sharma S., Agarwal P., Mor P., Karkare A.   \n28   Suzuki R., Soares G., Glassman E., Head A., D'...   \n51   R. Nabil and N. E. Mohamed and A. Mahdy and K....   \n55   Parihar S,Dadachanji Z,Singh PK,Das R,Karkare ...   \n65                       Gulwani S,Radiček I,Zuleger F   \n75   U. Z. Ahmed and R. Sindhgatta and N. Srivastav...   \n78   R. Suzuki and G. Soares and A. Head and E. Gla...   \n83   U. Z. Ahmed and R. Sindhgatta and N. Srivastav...   \n89                              Song D., Lee W., Oh H.   \n106  Feldman M.Q., Wang Y., Byrd W.E., Guimbretière...   \n108                      Lee J., Song D., So S., Oh H.   \n\n                                              abstract  year_published  \\\n1    Continuous assessment is essential in educatio...            2021   \n2    Computer science studies are more and more pop...            2021   \n9    Programming courses are among all the current ...            2020   \n15   Fault localisation, i.e. the identification of...            2017   \n23   This paper introduces the \"Search, Align, and ...            2018   \n27   With MOOC sizes increasing every day, improvin...            2018   \n28   For massive programming classrooms, recent adv...            2017   \n51   Continuous evaluation of computer programs and...            2021   \n55   We present GradeIT, a system that combines the...            2017   \n65   Providing feedback on programming assignments ...            2018   \n75   Can automated adaptive feedback for correcting...            2020   \n78   Recent advances in program synthesis offer mea...            2017   \n83   We present TEGCER, an automated feedback tool ...            2019   \n89   Recently, various techniques have been propose...            2021   \n106  Students learning to program often need help c...            2019   \n108  We present FixML, a system for automatically g...            2018   \n\n                                                  tags               category  \\\n1    [approach:semi_automatic, interaction:unknown,...      [dynamic, static]   \n2    [skill:readability, approach:fully_automated, ...               [static]   \n9    [type:evaluation, technique:unit_testing, feed...      [dynamic, static]   \n15   [technique:fault_localisation, data_available:...      [dynamic, static]   \n23   [approach:fully_automated, interaction:unknown...               [static]   \n27   [tool:tipsc, approach:fully_automated, data_av...               [static]   \n28   [data_available:False, interaction:unknown, la...               [static]   \n51   [approach:fully_automated, data_available:Fals...  [dynamic, static, ml]   \n55   [approach:fully_automated, data_available:Fals...      [dynamic, static]   \n65   [approach:fully_automated, data_available:Fals...               [static]   \n75   [approach:fully_automated, language:C, tool:Pr...               [static]   \n78   [type:evaluation, technique:trace_examination,...               [static]   \n83   [approach:fully_automated, interaction:unknown...           [static, ml]   \n89   [approach:fully_automated, interaction:unknown...               [static]   \n106  [approach:fully_automated, data_available:Fals...              [dynamic]   \n108  [approach:fully_automated, interaction:unknown...              [dynamic]   \n\n                             skills  \\\n1                     [correctness]   \n2    [readability, maintainability]   \n9                     [correctness]   \n15                    [correctness]   \n23                    [correctness]   \n27                    [correctness]   \n28                    [correctness]   \n51       [correctness, readability]   \n55                    [correctness]   \n65                    [correctness]   \n75                    [correctness]   \n78                    [correctness]   \n83                    [correctness]   \n89                    [correctness]   \n106                   [correctness]   \n108                   [correctness]   \n\n                                        skill_cat                      types  \\\n1       [correctness_dynamic, correctness_static]  [description, evaluation]   \n2    [maintainability_static, readability_static]              [description]   \n9       [correctness_dynamic, correctness_static]  [description, evaluation]   \n15      [correctness_dynamic, correctness_static]  [description, evaluation]   \n23                           [correctness_static]  [description, evaluation]   \n27                           [correctness_static]  [description, evaluation]   \n28                           [correctness_static]               [evaluation]   \n51      [correctness_dynamic, readability_static]              [description]   \n55      [correctness_dynamic, correctness_static]  [description, evaluation]   \n65                           [correctness_static]  [description, evaluation]   \n75                           [correctness_static]               [evaluation]   \n78                           [correctness_static]  [description, evaluation]   \n83           [correctness_ml, correctness_static]  [description, evaluation]   \n89                           [correctness_static]  [description, evaluation]   \n106                         [correctness_dynamic]  [description, evaluation]   \n108                         [correctness_dynamic]  [description, evaluation]   \n\n      lang_family                                               tech  \n1           [OOP]               [technique:code_repair_for_feedback]  \n2           [OOP]                         [technique:program_repair]  \n9           [OOP]                         [technique:program_repair]  \n15          [OOP]                         [technique:program_repair]  \n23          [OOP]  [feedback:program_repair, technique:code_repai...  \n27          [OOP]               [technique:code_repair_for_feedback]  \n28      [Unknown]  [feedback:program_repair, technique:program_re...  \n51          [OOP]                         [technique:program_repair]  \n55          [OOP]  [feedback:program_repair, technique:program_re...  \n65          [OOP]  [feedback:program_repair, technique:program_re...  \n75          [OOP]  [feedback:program_repair, technique:program_re...  \n78          [OOP]                         [technique:program_repair]  \n83          [OOP]  [feedback:program_repair, technique:code_repai...  \n89   [Functional]  [feedback:program_repair, technique:program_re...  \n106  [Functional]                          [feedback:program_repair]  \n108  [Functional]  [feedback:program_repair, technique:code_repai...  ",
      "text/html": "<div>\n<style scoped>\n    .dataframe tbody tr th:only-of-type {\n        vertical-align: middle;\n    }\n\n    .dataframe tbody tr th {\n        vertical-align: top;\n    }\n\n    .dataframe thead th {\n        text-align: right;\n    }\n</style>\n<table border=\"1\" class=\"dataframe\">\n  <thead>\n    <tr style=\"text-align: right;\">\n      <th></th>\n      <th>key</th>\n      <th>title</th>\n      <th>authors</th>\n      <th>abstract</th>\n      <th>year_published</th>\n      <th>tags</th>\n      <th>category</th>\n      <th>skills</th>\n      <th>skill_cat</th>\n      <th>types</th>\n      <th>lang_family</th>\n      <th>tech</th>\n    </tr>\n  </thead>\n  <tbody>\n    <tr>\n      <th>1</th>\n      <td>rayyan-354359270</td>\n      <td>Semiautomatic generation and assessment of Jav...</td>\n      <td>Insa D., Pérez S., Silva J., Tamarit S.</td>\n      <td>Continuous assessment is essential in educatio...</td>\n      <td>2021</td>\n      <td>[approach:semi_automatic, interaction:unknown,...</td>\n      <td>[dynamic, static]</td>\n      <td>[correctness]</td>\n      <td>[correctness_dynamic, correctness_static]</td>\n      <td>[description, evaluation]</td>\n      <td>[OOP]</td>\n      <td>[technique:code_repair_for_feedback]</td>\n    </tr>\n    <tr>\n      <th>2</th>\n      <td>rayyan-354359271</td>\n      <td>A tool for evaluating computer programs from s...</td>\n      <td>Vaneck Q., Colart T., Frénay B., Vanderose B.</td>\n      <td>Computer science studies are more and more pop...</td>\n      <td>2021</td>\n      <td>[skill:readability, approach:fully_automated, ...</td>\n      <td>[static]</td>\n      <td>[readability, maintainability]</td>\n      <td>[maintainability_static, readability_static]</td>\n      <td>[description]</td>\n      <td>[OOP]</td>\n      <td>[technique:program_repair]</td>\n    </tr>\n    <tr>\n      <th>9</th>\n      <td>rayyan-354359279</td>\n      <td>Assisted learning of C programming through aut...</td>\n      <td>Arifi S.M., Abbou R.B., Zahi A.</td>\n      <td>Programming courses are among all the current ...</td>\n      <td>2020</td>\n      <td>[type:evaluation, technique:unit_testing, feed...</td>\n      <td>[dynamic, static]</td>\n      <td>[correctness]</td>\n      <td>[correctness_dynamic, correctness_static]</td>\n      <td>[description, evaluation]</td>\n      <td>[OOP]</td>\n      <td>[technique:program_repair]</td>\n    </tr>\n    <tr>\n      <th>15</th>\n      <td>rayyan-354359290</td>\n      <td>Fast test suite-driven model-based fault local...</td>\n      <td>Birch G., Fischer B., Poppleton M.</td>\n      <td>Fault localisation, i.e. the identification of...</td>\n      <td>2017</td>\n      <td>[technique:fault_localisation, data_available:...</td>\n      <td>[dynamic, static]</td>\n      <td>[correctness]</td>\n      <td>[correctness_dynamic, correctness_static]</td>\n      <td>[description, evaluation]</td>\n      <td>[OOP]</td>\n      <td>[technique:program_repair]</td>\n    </tr>\n    <tr>\n      <th>23</th>\n      <td>rayyan-354359299</td>\n      <td>Search, align, and repair: Data-driven feedbac...</td>\n      <td>Wang K., Singh R., Su Z.</td>\n      <td>This paper introduces the \"Search, Align, and ...</td>\n      <td>2018</td>\n      <td>[approach:fully_automated, interaction:unknown...</td>\n      <td>[static]</td>\n      <td>[correctness]</td>\n      <td>[correctness_static]</td>\n      <td>[description, evaluation]</td>\n      <td>[OOP]</td>\n      <td>[feedback:program_repair, technique:code_repai...</td>\n    </tr>\n    <tr>\n      <th>27</th>\n      <td>rayyan-354359303</td>\n      <td>TipsC: Tips and corrections for programming MOOCs</td>\n      <td>Sharma S., Agarwal P., Mor P., Karkare A.</td>\n      <td>With MOOC sizes increasing every day, improvin...</td>\n      <td>2018</td>\n      <td>[tool:tipsc, approach:fully_automated, data_av...</td>\n      <td>[static]</td>\n      <td>[correctness]</td>\n      <td>[correctness_static]</td>\n      <td>[description, evaluation]</td>\n      <td>[OOP]</td>\n      <td>[technique:code_repair_for_feedback]</td>\n    </tr>\n    <tr>\n      <th>28</th>\n      <td>rayyan-354359304</td>\n      <td>Exploring the design space of automatically sy...</td>\n      <td>Suzuki R., Soares G., Glassman E., Head A., D'...</td>\n      <td>For massive programming classrooms, recent adv...</td>\n      <td>2017</td>\n      <td>[data_available:False, interaction:unknown, la...</td>\n      <td>[static]</td>\n      <td>[correctness]</td>\n      <td>[correctness_static]</td>\n      <td>[evaluation]</td>\n      <td>[Unknown]</td>\n      <td>[feedback:program_repair, technique:program_re...</td>\n    </tr>\n    <tr>\n      <th>51</th>\n      <td>rayyan-354359330</td>\n      <td>EvalSeer: An Intelligent Gamified System for P...</td>\n      <td>R. Nabil and N. E. Mohamed and A. Mahdy and K....</td>\n      <td>Continuous evaluation of computer programs and...</td>\n      <td>2021</td>\n      <td>[approach:fully_automated, data_available:Fals...</td>\n      <td>[dynamic, static, ml]</td>\n      <td>[correctness, readability]</td>\n      <td>[correctness_dynamic, readability_static]</td>\n      <td>[description]</td>\n      <td>[OOP]</td>\n      <td>[technique:program_repair]</td>\n    </tr>\n    <tr>\n      <th>55</th>\n      <td>rayyan-354359334</td>\n      <td>Automatic Grading and Feedback Using Program R...</td>\n      <td>Parihar S,Dadachanji Z,Singh PK,Das R,Karkare ...</td>\n      <td>We present GradeIT, a system that combines the...</td>\n      <td>2017</td>\n      <td>[approach:fully_automated, data_available:Fals...</td>\n      <td>[dynamic, static]</td>\n      <td>[correctness]</td>\n      <td>[correctness_dynamic, correctness_static]</td>\n      <td>[description, evaluation]</td>\n      <td>[OOP]</td>\n      <td>[feedback:program_repair, technique:program_re...</td>\n    </tr>\n    <tr>\n      <th>65</th>\n      <td>rayyan-354359346</td>\n      <td>Automated Clustering and Program Repair for In...</td>\n      <td>Gulwani S,Radiček I,Zuleger F</td>\n      <td>Providing feedback on programming assignments ...</td>\n      <td>2018</td>\n      <td>[approach:fully_automated, data_available:Fals...</td>\n      <td>[static]</td>\n      <td>[correctness]</td>\n      <td>[correctness_static]</td>\n      <td>[description, evaluation]</td>\n      <td>[OOP]</td>\n      <td>[feedback:program_repair, technique:program_re...</td>\n    </tr>\n    <tr>\n      <th>75</th>\n      <td>rayyan-354359357</td>\n      <td>Characterizing the Pedagogical Benefits of Ada...</td>\n      <td>U. Z. Ahmed and R. Sindhgatta and N. Srivastav...</td>\n      <td>Can automated adaptive feedback for correcting...</td>\n      <td>2020</td>\n      <td>[approach:fully_automated, language:C, tool:Pr...</td>\n      <td>[static]</td>\n      <td>[correctness]</td>\n      <td>[correctness_static]</td>\n      <td>[evaluation]</td>\n      <td>[OOP]</td>\n      <td>[feedback:program_repair, technique:program_re...</td>\n    </tr>\n    <tr>\n      <th>78</th>\n      <td>rayyan-354359361</td>\n      <td>TraceDiff: Debugging unexpected code behavior ...</td>\n      <td>R. Suzuki and G. Soares and A. Head and E. Gla...</td>\n      <td>Recent advances in program synthesis offer mea...</td>\n      <td>2017</td>\n      <td>[type:evaluation, technique:trace_examination,...</td>\n      <td>[static]</td>\n      <td>[correctness]</td>\n      <td>[correctness_static]</td>\n      <td>[description, evaluation]</td>\n      <td>[OOP]</td>\n      <td>[technique:program_repair]</td>\n    </tr>\n    <tr>\n      <th>83</th>\n      <td>rayyan-354359367</td>\n      <td>Targeted Example Generation for Compilation Er...</td>\n      <td>U. Z. Ahmed and R. Sindhgatta and N. Srivastav...</td>\n      <td>We present TEGCER, an automated feedback tool ...</td>\n      <td>2019</td>\n      <td>[approach:fully_automated, interaction:unknown...</td>\n      <td>[static, ml]</td>\n      <td>[correctness]</td>\n      <td>[correctness_ml, correctness_static]</td>\n      <td>[description, evaluation]</td>\n      <td>[OOP]</td>\n      <td>[feedback:program_repair, technique:code_repai...</td>\n    </tr>\n    <tr>\n      <th>89</th>\n      <td>rayyan-354359375</td>\n      <td>Context-aware and data-driven feedback generat...</td>\n      <td>Song D., Lee W., Oh H.</td>\n      <td>Recently, various techniques have been propose...</td>\n      <td>2021</td>\n      <td>[approach:fully_automated, interaction:unknown...</td>\n      <td>[static]</td>\n      <td>[correctness]</td>\n      <td>[correctness_static]</td>\n      <td>[description, evaluation]</td>\n      <td>[Functional]</td>\n      <td>[feedback:program_repair, technique:program_re...</td>\n    </tr>\n    <tr>\n      <th>106</th>\n      <td>rayyan-354359397</td>\n      <td>Towards Answering “Am I on the Right Track?” A...</td>\n      <td>Feldman M.Q., Wang Y., Byrd W.E., Guimbretière...</td>\n      <td>Students learning to program often need help c...</td>\n      <td>2019</td>\n      <td>[approach:fully_automated, data_available:Fals...</td>\n      <td>[dynamic]</td>\n      <td>[correctness]</td>\n      <td>[correctness_dynamic]</td>\n      <td>[description, evaluation]</td>\n      <td>[Functional]</td>\n      <td>[feedback:program_repair]</td>\n    </tr>\n    <tr>\n      <th>108</th>\n      <td>rayyan-354359401</td>\n      <td>Automatic diagnosis and correction of logical ...</td>\n      <td>Lee J., Song D., So S., Oh H.</td>\n      <td>We present FixML, a system for automatically g...</td>\n      <td>2018</td>\n      <td>[approach:fully_automated, interaction:unknown...</td>\n      <td>[dynamic]</td>\n      <td>[correctness]</td>\n      <td>[correctness_dynamic]</td>\n      <td>[description, evaluation]</td>\n      <td>[Functional]</td>\n      <td>[feedback:program_repair, technique:code_repai...</td>\n    </tr>\n  </tbody>\n</table>\n</div>"
     },
     "execution_count": 21,
     "metadata": {},
     "output_type": "execute_result"
    }
   ],
   "source": [
    "cr_df = df.copy()\n",
    "cr_df['tech'] = cr_df.tags.apply(lambda labels: [label for label in labels if 'code_repair' in label or 'program_repair' in label])\n",
    "cr_df.tech = cr_df.tech.map(lambda labels: None if len(labels) == 0 else labels)\n",
    "cr_df[~cr_df.tech.isna()]"
   ],
   "metadata": {
    "collapsed": false,
    "pycharm": {
     "name": "#%%\n"
    }
   }
  },
  {
   "cell_type": "markdown",
   "source": [
    "### Data for supplementary material"
   ],
   "metadata": {
    "collapsed": false,
    "pycharm": {
     "name": "#%% md\n"
    }
   }
  },
  {
   "cell_type": "code",
   "execution_count": 34,
   "outputs": [
    {
     "data": {
      "text/plain": "                  key            skill_cat\n0    rayyan-354359269  correctness_dynamic\n81   rayyan-354359364  correctness_dynamic\n40   rayyan-354359317  correctness_dynamic\n39   rayyan-354359316  correctness_dynamic\n38   rayyan-354359315  correctness_dynamic\n..                ...                  ...\n14   rayyan-354359287   readability_static\n103  rayyan-354359394   readability_static\n70   rayyan-354359351   readability_static\n71   rayyan-354359352   readability_static\n21   rayyan-354359297   readability_static\n\n[180 rows x 2 columns]",
      "text/html": "<div>\n<style scoped>\n    .dataframe tbody tr th:only-of-type {\n        vertical-align: middle;\n    }\n\n    .dataframe tbody tr th {\n        vertical-align: top;\n    }\n\n    .dataframe thead th {\n        text-align: right;\n    }\n</style>\n<table border=\"1\" class=\"dataframe\">\n  <thead>\n    <tr style=\"text-align: right;\">\n      <th></th>\n      <th>key</th>\n      <th>skill_cat</th>\n    </tr>\n  </thead>\n  <tbody>\n    <tr>\n      <th>0</th>\n      <td>rayyan-354359269</td>\n      <td>correctness_dynamic</td>\n    </tr>\n    <tr>\n      <th>81</th>\n      <td>rayyan-354359364</td>\n      <td>correctness_dynamic</td>\n    </tr>\n    <tr>\n      <th>40</th>\n      <td>rayyan-354359317</td>\n      <td>correctness_dynamic</td>\n    </tr>\n    <tr>\n      <th>39</th>\n      <td>rayyan-354359316</td>\n      <td>correctness_dynamic</td>\n    </tr>\n    <tr>\n      <th>38</th>\n      <td>rayyan-354359315</td>\n      <td>correctness_dynamic</td>\n    </tr>\n    <tr>\n      <th>...</th>\n      <td>...</td>\n      <td>...</td>\n    </tr>\n    <tr>\n      <th>14</th>\n      <td>rayyan-354359287</td>\n      <td>readability_static</td>\n    </tr>\n    <tr>\n      <th>103</th>\n      <td>rayyan-354359394</td>\n      <td>readability_static</td>\n    </tr>\n    <tr>\n      <th>70</th>\n      <td>rayyan-354359351</td>\n      <td>readability_static</td>\n    </tr>\n    <tr>\n      <th>71</th>\n      <td>rayyan-354359352</td>\n      <td>readability_static</td>\n    </tr>\n    <tr>\n      <th>21</th>\n      <td>rayyan-354359297</td>\n      <td>readability_static</td>\n    </tr>\n  </tbody>\n</table>\n<p>180 rows × 2 columns</p>\n</div>"
     },
     "execution_count": 34,
     "metadata": {},
     "output_type": "execute_result"
    }
   ],
   "source": [
    "df[['key', 'skill_cat']].explode('skill_cat').sort_values('skill_cat')"
   ],
   "metadata": {
    "collapsed": false,
    "pycharm": {
     "name": "#%%\n"
    }
   }
  },
  {
   "cell_type": "markdown",
   "source": [
    "## Techniques\n",
    "### Data for supplementary material"
   ],
   "metadata": {
    "collapsed": false,
    "pycharm": {
     "name": "#%% md\n"
    }
   }
  },
  {
   "cell_type": "code",
   "execution_count": 26,
   "outputs": [],
   "source": [
    "def add_cats(tech):\n",
    "    if tech in ['unit_testing', 'property_based_testing', 'ci', 'output_matching']:\n",
    "        return 'dynamic'\n",
    "    if tech in ['pattern_matching', 'static_analysis', 'code_metrics', 'cluster',\n",
    "                'style_check', 'program_repair', 'rule_based', 'dsl_rules', 'model_solution_req',\n",
    "                'model_solution_closeness', 'code_repair_for_feedback']:\n",
    "        return 'static'\n",
    "    else:\n",
    "        return 'other'"
   ],
   "metadata": {
    "collapsed": false,
    "pycharm": {
     "name": "#%%\n"
    }
   }
  },
  {
   "cell_type": "code",
   "execution_count": 30,
   "outputs": [
    {
     "data": {
      "text/plain": "                  key category             tags\n3    rayyan-354359272  dynamic  output_matching\n9    rayyan-354359279  dynamic  output_matching\n34   rayyan-354359310  dynamic  output_matching\n45   rayyan-354359322  dynamic  output_matching\n48   rayyan-354359326  dynamic  output_matching\n..                ...      ...              ...\n90   rayyan-354359376   static      style_check\n101  rayyan-354359391   static      style_check\n105  rayyan-354359396   static      style_check\n109  rayyan-354359403   static      style_check\n110  rayyan-354359404   static      style_check\n\n[306 rows x 3 columns]",
      "text/html": "<div>\n<style scoped>\n    .dataframe tbody tr th:only-of-type {\n        vertical-align: middle;\n    }\n\n    .dataframe tbody tr th {\n        vertical-align: top;\n    }\n\n    .dataframe thead th {\n        text-align: right;\n    }\n</style>\n<table border=\"1\" class=\"dataframe\">\n  <thead>\n    <tr style=\"text-align: right;\">\n      <th></th>\n      <th>key</th>\n      <th>category</th>\n      <th>tags</th>\n    </tr>\n  </thead>\n  <tbody>\n    <tr>\n      <th>3</th>\n      <td>rayyan-354359272</td>\n      <td>dynamic</td>\n      <td>output_matching</td>\n    </tr>\n    <tr>\n      <th>9</th>\n      <td>rayyan-354359279</td>\n      <td>dynamic</td>\n      <td>output_matching</td>\n    </tr>\n    <tr>\n      <th>34</th>\n      <td>rayyan-354359310</td>\n      <td>dynamic</td>\n      <td>output_matching</td>\n    </tr>\n    <tr>\n      <th>45</th>\n      <td>rayyan-354359322</td>\n      <td>dynamic</td>\n      <td>output_matching</td>\n    </tr>\n    <tr>\n      <th>48</th>\n      <td>rayyan-354359326</td>\n      <td>dynamic</td>\n      <td>output_matching</td>\n    </tr>\n    <tr>\n      <th>...</th>\n      <td>...</td>\n      <td>...</td>\n      <td>...</td>\n    </tr>\n    <tr>\n      <th>90</th>\n      <td>rayyan-354359376</td>\n      <td>static</td>\n      <td>style_check</td>\n    </tr>\n    <tr>\n      <th>101</th>\n      <td>rayyan-354359391</td>\n      <td>static</td>\n      <td>style_check</td>\n    </tr>\n    <tr>\n      <th>105</th>\n      <td>rayyan-354359396</td>\n      <td>static</td>\n      <td>style_check</td>\n    </tr>\n    <tr>\n      <th>109</th>\n      <td>rayyan-354359403</td>\n      <td>static</td>\n      <td>style_check</td>\n    </tr>\n    <tr>\n      <th>110</th>\n      <td>rayyan-354359404</td>\n      <td>static</td>\n      <td>style_check</td>\n    </tr>\n  </tbody>\n</table>\n<p>306 rows × 3 columns</p>\n</div>"
     },
     "execution_count": 30,
     "metadata": {},
     "output_type": "execute_result"
    }
   ],
   "source": [
    "tech_df = df.copy()\n",
    "tech_df.tags = tech_df.tags.apply(lambda labels: [str(label) for label in labels if label.startswith('technique')])\n",
    "tech_df = tech_df.explode('tags')\n",
    "tech_df.tags = tech_df.tags.str.replace('technique:', '')\n",
    "tech_df['category'] = tech_df.tags.apply(lambda tech: add_cats(tech))\n",
    "tech_df[[\"key\", 'category', \"tags\"]].sort_values(by=['category', 'tags'])"
   ],
   "metadata": {
    "collapsed": false,
    "pycharm": {
     "name": "#%%\n"
    }
   }
  },
  {
   "cell_type": "markdown",
   "source": [
    "## Degree of Automation"
   ],
   "metadata": {
    "collapsed": false,
    "pycharm": {
     "name": "#%% md\n"
    }
   }
  },
  {
   "cell_type": "code",
   "execution_count": null,
   "outputs": [],
   "source": [
    "doa_df = df.copy()\n",
    "doa_df['approach'] = doa_df.tags.apply(lambda labels: [str(label) for label in labels if label.startswith('approach')])\n",
    "doa_df = doa_df.explode('approach')\n",
    "doa_df.approach.value_counts()"
   ],
   "metadata": {
    "collapsed": false,
    "pycharm": {
     "name": "#%%\n"
    }
   }
  },
  {
   "cell_type": "code",
   "execution_count": null,
   "outputs": [],
   "source": [
    "(doa_df.approach.value_counts() /  doa_df.shape[0]) * 100"
   ],
   "metadata": {
    "collapsed": false,
    "pycharm": {
     "name": "#%%\n"
    }
   }
  },
  {
   "cell_type": "code",
   "execution_count": null,
   "outputs": [],
   "source": [
    "(doa_df[doa_df.approach.str.contains('fully')].skills.value_counts() / doa_df.shape[0]) * 100"
   ],
   "metadata": {
    "collapsed": false,
    "pycharm": {
     "name": "#%%\n"
    }
   }
  },
  {
   "cell_type": "markdown",
   "source": [
    "#### CI/CD"
   ],
   "metadata": {
    "collapsed": false,
    "pycharm": {
     "name": "#%% md\n"
    }
   }
  },
  {
   "cell_type": "code",
   "execution_count": null,
   "outputs": [],
   "source": [
    "df.explode('tags')[df.explode('tags').tags.str.contains('ci_cd')]"
   ],
   "metadata": {
    "collapsed": false,
    "pycharm": {
     "name": "#%%\n"
    }
   }
  },
  {
   "cell_type": "markdown",
   "source": [
    "#### Semi"
   ],
   "metadata": {
    "collapsed": false,
    "pycharm": {
     "name": "#%% md\n"
    }
   }
  },
  {
   "cell_type": "code",
   "execution_count": null,
   "outputs": [],
   "source": [
    "doa_df[doa_df.approach.str.contains('semi')].explode('tags').tags.value_counts()"
   ],
   "metadata": {
    "collapsed": false,
    "pycharm": {
     "name": "#%%\n"
    }
   }
  },
  {
   "cell_type": "markdown",
   "source": [
    "### Data for supplementary"
   ],
   "metadata": {
    "collapsed": false,
    "pycharm": {
     "name": "#%% md\n"
    }
   }
  },
  {
   "cell_type": "code",
   "execution_count": null,
   "outputs": [],
   "source": [
    "doa_df[[\"key\", \"approach\"]].sort_values(by='approach')"
   ],
   "metadata": {
    "collapsed": false,
    "pycharm": {
     "name": "#%%\n"
    }
   }
  },
  {
   "cell_type": "markdown",
   "source": [
    "## Language Paradigms"
   ],
   "metadata": {
    "collapsed": false,
    "pycharm": {
     "name": "#%% md\n"
    }
   }
  },
  {
   "cell_type": "code",
   "execution_count": null,
   "outputs": [],
   "source": [
    "lp_df = df.copy()\n",
    "lp_df.lang_family.value_counts()"
   ],
   "metadata": {
    "collapsed": false,
    "pycharm": {
     "name": "#%%\n"
    }
   }
  },
  {
   "cell_type": "code",
   "execution_count": null,
   "outputs": [],
   "source": [
    "(lp_df.lang_family.value_counts() / lp_df.shape[0]) * 100"
   ],
   "metadata": {
    "collapsed": false,
    "pycharm": {
     "name": "#%%\n"
    }
   }
  },
  {
   "cell_type": "code",
   "execution_count": null,
   "outputs": [],
   "source": [
    "lp_df_query = lp_df.copy()\n",
    "lp_df_query.lang_family = lp_df_query.lang_family.astype(str)\n",
    "lp_df_query[lp_df_query.lang_family.str.contains('Query')]"
   ],
   "metadata": {
    "collapsed": false,
    "pycharm": {
     "name": "#%%\n"
    }
   }
  },
  {
   "cell_type": "markdown",
   "source": [
    "### Data for supplementary"
   ],
   "metadata": {
    "collapsed": false,
    "pycharm": {
     "name": "#%% md\n"
    }
   }
  },
  {
   "cell_type": "code",
   "execution_count": null,
   "outputs": [],
   "source": [
    "lp_df.explode('lang_family')[[\"key\", \"lang_family\"]].sort_values(by='lang_family')"
   ],
   "metadata": {
    "collapsed": false,
    "pycharm": {
     "name": "#%%\n"
    }
   }
  },
  {
   "cell_type": "markdown",
   "source": [
    "## Evaluation"
   ],
   "metadata": {
    "collapsed": false,
    "pycharm": {
     "name": "#%% md\n"
    }
   }
  },
  {
   "cell_type": "code",
   "execution_count": null,
   "outputs": [],
   "source": [
    "eval_df = df.copy()\n",
    "eval_df.tags = eval_df.tags.apply(lambda labels: [str(label) for label in labels if label.startswith('evaluation')])\n",
    "eval_df = eval_df.explode('tags')\n",
    "(eval_df.tags.value_counts() / eval_df.shape[0]) * 100"
   ],
   "metadata": {
    "collapsed": false,
    "pycharm": {
     "name": "#%%\n"
    }
   }
  },
  {
   "cell_type": "code",
   "execution_count": null,
   "outputs": [],
   "source": [
    "eval_df[eval_df.tags.str.contains('manual_grading')]"
   ],
   "metadata": {
    "collapsed": false,
    "pycharm": {
     "name": "#%%\n"
    }
   }
  },
  {
   "cell_type": "markdown",
   "source": [
    "### Data for supplementary"
   ],
   "metadata": {
    "collapsed": false,
    "pycharm": {
     "name": "#%% md\n"
    }
   }
  },
  {
   "cell_type": "code",
   "execution_count": null,
   "outputs": [],
   "source": [
    "eval_df[[\"key\", \"tags\"]].sort_values(by='tags')"
   ],
   "metadata": {
    "collapsed": false,
    "pycharm": {
     "name": "#%%\n"
    }
   }
  },
  {
   "cell_type": "markdown",
   "source": [
    "## Data Availability\n",
    "### Data for supplementary"
   ],
   "metadata": {
    "collapsed": false,
    "pycharm": {
     "name": "#%% md\n"
    }
   }
  },
  {
   "cell_type": "code",
   "execution_count": null,
   "outputs": [],
   "source": [
    "data_df = df.copy()\n",
    "data_df.tags = data_df.tags.apply(lambda labels: [str(label) for label in labels if label.startswith('data_available')])\n",
    "data_df[[\"key\", \"tags\"]].sort_values(by='tags')"
   ],
   "metadata": {
    "collapsed": false,
    "pycharm": {
     "name": "#%%\n"
    }
   }
  }
 ],
 "metadata": {
  "kernelspec": {
   "display_name": "Python 3",
   "language": "python",
   "name": "python3"
  },
  "language_info": {
   "codemirror_mode": {
    "name": "ipython",
    "version": 2
   },
   "file_extension": ".py",
   "mimetype": "text/x-python",
   "name": "python",
   "nbconvert_exporter": "python",
   "pygments_lexer": "ipython2",
   "version": "2.7.6"
  }
 },
 "nbformat": 4,
 "nbformat_minor": 0
}