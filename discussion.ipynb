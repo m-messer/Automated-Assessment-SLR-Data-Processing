{
 "cells": [
  {
   "cell_type": "code",
   "execution_count": 1,
   "metadata": {
    "collapsed": true,
    "pycharm": {
     "name": "#%%\n"
    }
   },
   "outputs": [],
   "source": [
    "import pandas as pd\n",
    "import seaborn as sns\n",
    "import matplotlib.pyplot as plt\n",
    "\n",
    "sns.set_palette('husl')"
   ]
  },
  {
   "cell_type": "code",
   "execution_count": 2,
   "outputs": [
    {
     "name": "stderr",
     "output_type": "stream",
     "text": [
      "/var/folders/1y/6byzw1px62g2f5w7p_rhb6kh0000gn/T/ipykernel_6596/2546678644.py:2: FutureWarning: The default value of regex will change from True to False in a future version.\n",
      "  df.tags = df.tags.str.strip(\"[]\").str.replace(r\"\\s*|'\", '').str.split(',')\n"
     ]
    },
    {
     "data": {
      "text/plain": "                key                                              title  \\\n0  rayyan-354359269  An experience of automated assessment in a lar...   \n1  rayyan-354359270  Semiautomatic generation and assessment of Jav...   \n2  rayyan-354359271  A tool for evaluating computer programs from s...   \n3  rayyan-354359272  Virtual Teaching Assistant for Grading Program...   \n4  rayyan-354359273  Analysis of an automatic grading system within...   \n\n                                             authors  \\\n0  Zampirolli F.A., Borovina Josko J.M., Venero M...   \n1            Insa D., Pérez S., Silva J., Tamarit S.   \n2      Vaneck Q., Colart T., Frénay B., Vanderose B.   \n3                             Chou C.-Y., Chen Y.-J.   \n4                      Hegarty-Kelly E., Mooney D.A.   \n\n                                            abstract  year_published  \\\n0  The 2020 pandemic imposed new demands on teach...            2021   \n1  Continuous assessment is essential in educatio...            2021   \n2  Computer science studies are more and more pop...            2021   \n3  This study proposes an automated programming a...            2021   \n4  Reliable and pedagogically sound automated fee...            2021   \n\n                                                tags               category  \\\n0  [approach:fully_automated, data:none, techniqu...            ['dynamic']   \n1  [language:java, evaluation:compared_to_human, ...  ['dynamic', 'static']   \n2  [skill:code_quality, approach:fully_automated,...             ['static']   \n3  [technique:output_matching, evaluation:auto_gr...  ['dynamic', 'static']   \n4  [skill:code_quality, approach:fully_automated,...  ['dynamic', 'static']   \n\n                               skills                          types  \\\n0                     ['correctness']  ['description', 'evaluation']   \n1  ['correctness', 'maintainability']  ['description', 'evaluation']   \n2  ['readability', 'maintainability']                ['description']   \n3                     ['correctness']  ['description', 'evaluation']   \n4      ['correctness', 'readability']  ['description', 'evaluation']   \n\n   lang_family  \n0      ['OOP']  \n1      ['OOP']  \n2      ['OOP']  \n3  ['Unknown']  \n4      ['OOP']  ",
      "text/html": "<div>\n<style scoped>\n    .dataframe tbody tr th:only-of-type {\n        vertical-align: middle;\n    }\n\n    .dataframe tbody tr th {\n        vertical-align: top;\n    }\n\n    .dataframe thead th {\n        text-align: right;\n    }\n</style>\n<table border=\"1\" class=\"dataframe\">\n  <thead>\n    <tr style=\"text-align: right;\">\n      <th></th>\n      <th>key</th>\n      <th>title</th>\n      <th>authors</th>\n      <th>abstract</th>\n      <th>year_published</th>\n      <th>tags</th>\n      <th>category</th>\n      <th>skills</th>\n      <th>types</th>\n      <th>lang_family</th>\n    </tr>\n  </thead>\n  <tbody>\n    <tr>\n      <th>0</th>\n      <td>rayyan-354359269</td>\n      <td>An experience of automated assessment in a lar...</td>\n      <td>Zampirolli F.A., Borovina Josko J.M., Venero M...</td>\n      <td>The 2020 pandemic imposed new demands on teach...</td>\n      <td>2021</td>\n      <td>[approach:fully_automated, data:none, techniqu...</td>\n      <td>['dynamic']</td>\n      <td>['correctness']</td>\n      <td>['description', 'evaluation']</td>\n      <td>['OOP']</td>\n    </tr>\n    <tr>\n      <th>1</th>\n      <td>rayyan-354359270</td>\n      <td>Semiautomatic generation and assessment of Jav...</td>\n      <td>Insa D., Pérez S., Silva J., Tamarit S.</td>\n      <td>Continuous assessment is essential in educatio...</td>\n      <td>2021</td>\n      <td>[language:java, evaluation:compared_to_human, ...</td>\n      <td>['dynamic', 'static']</td>\n      <td>['correctness', 'maintainability']</td>\n      <td>['description', 'evaluation']</td>\n      <td>['OOP']</td>\n    </tr>\n    <tr>\n      <th>2</th>\n      <td>rayyan-354359271</td>\n      <td>A tool for evaluating computer programs from s...</td>\n      <td>Vaneck Q., Colart T., Frénay B., Vanderose B.</td>\n      <td>Computer science studies are more and more pop...</td>\n      <td>2021</td>\n      <td>[skill:code_quality, approach:fully_automated,...</td>\n      <td>['static']</td>\n      <td>['readability', 'maintainability']</td>\n      <td>['description']</td>\n      <td>['OOP']</td>\n    </tr>\n    <tr>\n      <th>3</th>\n      <td>rayyan-354359272</td>\n      <td>Virtual Teaching Assistant for Grading Program...</td>\n      <td>Chou C.-Y., Chen Y.-J.</td>\n      <td>This study proposes an automated programming a...</td>\n      <td>2021</td>\n      <td>[technique:output_matching, evaluation:auto_gr...</td>\n      <td>['dynamic', 'static']</td>\n      <td>['correctness']</td>\n      <td>['description', 'evaluation']</td>\n      <td>['Unknown']</td>\n    </tr>\n    <tr>\n      <th>4</th>\n      <td>rayyan-354359273</td>\n      <td>Analysis of an automatic grading system within...</td>\n      <td>Hegarty-Kelly E., Mooney D.A.</td>\n      <td>Reliable and pedagogically sound automated fee...</td>\n      <td>2021</td>\n      <td>[skill:code_quality, approach:fully_automated,...</td>\n      <td>['dynamic', 'static']</td>\n      <td>['correctness', 'readability']</td>\n      <td>['description', 'evaluation']</td>\n      <td>['OOP']</td>\n    </tr>\n  </tbody>\n</table>\n</div>"
     },
     "execution_count": 2,
     "metadata": {},
     "output_type": "execute_result"
    }
   ],
   "source": [
    "df = pd.read_csv('data/processed.csv', index_col=0, dtype={'key': str, 'title': str, 'authors': str, 'abstract': str, 'year_published': int, 'tags': object})\n",
    "df.tags = df.tags.str.strip(\"[]\").str.replace(r\"\\s*|'\", '').str.split(',')\n",
    "df.head()"
   ],
   "metadata": {
    "collapsed": false,
    "pycharm": {
     "name": "#%%\n"
    }
   }
  }
 ],
 "metadata": {
  "kernelspec": {
   "display_name": "Python 3",
   "language": "python",
   "name": "python3"
  },
  "language_info": {
   "codemirror_mode": {
    "name": "ipython",
    "version": 2
   },
   "file_extension": ".py",
   "mimetype": "text/x-python",
   "name": "python",
   "nbconvert_exporter": "python",
   "pygments_lexer": "ipython2",
   "version": "2.7.6"
  }
 },
 "nbformat": 4,
 "nbformat_minor": 0
}