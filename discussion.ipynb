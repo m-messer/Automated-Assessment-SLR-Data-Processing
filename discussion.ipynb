{
 "cells": [
  {
   "cell_type": "code",
   "execution_count": 87,
   "metadata": {
    "collapsed": true,
    "pycharm": {
     "name": "#%%\n"
    }
   },
   "outputs": [],
   "source": [
    "import pandas as pd\n",
    "import seaborn as sns\n",
    "import matplotlib.pyplot as plt\n",
    "\n",
    "sns.set_palette('husl')"
   ]
  },
  {
   "cell_type": "code",
   "execution_count": 88,
   "outputs": [
    {
     "data": {
      "text/plain": "                key                                              title  \\\n0  rayyan-354359269  An experience of automated assessment in a lar...   \n1  rayyan-354359270  Semiautomatic generation and assessment of Jav...   \n2  rayyan-354359271  A tool for evaluating computer programs from s...   \n3  rayyan-354359272  Virtual Teaching Assistant for Grading Program...   \n4  rayyan-354359273  Analysis of an automatic grading system within...   \n\n                                             authors  \\\n0  Zampirolli F.A., Borovina Josko J.M., Venero M...   \n1            Insa D., Pérez S., Silva J., Tamarit S.   \n2      Vaneck Q., Colart T., Frénay B., Vanderose B.   \n3                             Chou C.-Y., Chen Y.-J.   \n4                      Hegarty-Kelly E., Mooney D.A.   \n\n                                            abstract  year_published  \\\n0  The 2020 pandemic imposed new demands on teach...            2021   \n1  Continuous assessment is essential in educatio...            2021   \n2  Computer science studies are more and more pop...            2021   \n3  This study proposes an automated programming a...            2021   \n4  Reliable and pedagogically sound automated fee...            2021   \n\n                                                tags           category  \\\n0  [data_available:False, technique:pre_defined_q...          [dynamic]   \n1  [skill:correctness, tool:javassess, interactio...  [dynamic, static]   \n2  [data_available:False, tool:pylint, language:p...           [static]   \n3  [data_available:False, skill:correctness, inte...  [dynamic, static]   \n4  [data_available:False, skill:correctness, inte...  [dynamic, static]   \n\n                           skills  \\\n0                   [correctness]   \n1                   [correctness]   \n2  [readability, maintainability]   \n3                   [correctness]   \n4                   [correctness]   \n\n                                      skill_cat                      types  \\\n0                         [correctness_dynamic]  [description, evaluation]   \n1     [correctness_dynamic, correctness_static]  [description, evaluation]   \n2  [readability_static, maintainability_static]              [description]   \n3     [correctness_dynamic, correctness_static]  [description, evaluation]   \n4     [correctness_dynamic, correctness_static]  [description, evaluation]   \n\n  lang_family  \n0       [OOP]  \n1       [OOP]  \n2       [OOP]  \n3   [Unknown]  \n4       [OOP]  ",
      "text/html": "<div>\n<style scoped>\n    .dataframe tbody tr th:only-of-type {\n        vertical-align: middle;\n    }\n\n    .dataframe tbody tr th {\n        vertical-align: top;\n    }\n\n    .dataframe thead th {\n        text-align: right;\n    }\n</style>\n<table border=\"1\" class=\"dataframe\">\n  <thead>\n    <tr style=\"text-align: right;\">\n      <th></th>\n      <th>key</th>\n      <th>title</th>\n      <th>authors</th>\n      <th>abstract</th>\n      <th>year_published</th>\n      <th>tags</th>\n      <th>category</th>\n      <th>skills</th>\n      <th>skill_cat</th>\n      <th>types</th>\n      <th>lang_family</th>\n    </tr>\n  </thead>\n  <tbody>\n    <tr>\n      <th>0</th>\n      <td>rayyan-354359269</td>\n      <td>An experience of automated assessment in a lar...</td>\n      <td>Zampirolli F.A., Borovina Josko J.M., Venero M...</td>\n      <td>The 2020 pandemic imposed new demands on teach...</td>\n      <td>2021</td>\n      <td>[data_available:False, technique:pre_defined_q...</td>\n      <td>[dynamic]</td>\n      <td>[correctness]</td>\n      <td>[correctness_dynamic]</td>\n      <td>[description, evaluation]</td>\n      <td>[OOP]</td>\n    </tr>\n    <tr>\n      <th>1</th>\n      <td>rayyan-354359270</td>\n      <td>Semiautomatic generation and assessment of Jav...</td>\n      <td>Insa D., Pérez S., Silva J., Tamarit S.</td>\n      <td>Continuous assessment is essential in educatio...</td>\n      <td>2021</td>\n      <td>[skill:correctness, tool:javassess, interactio...</td>\n      <td>[dynamic, static]</td>\n      <td>[correctness]</td>\n      <td>[correctness_dynamic, correctness_static]</td>\n      <td>[description, evaluation]</td>\n      <td>[OOP]</td>\n    </tr>\n    <tr>\n      <th>2</th>\n      <td>rayyan-354359271</td>\n      <td>A tool for evaluating computer programs from s...</td>\n      <td>Vaneck Q., Colart T., Frénay B., Vanderose B.</td>\n      <td>Computer science studies are more and more pop...</td>\n      <td>2021</td>\n      <td>[data_available:False, tool:pylint, language:p...</td>\n      <td>[static]</td>\n      <td>[readability, maintainability]</td>\n      <td>[readability_static, maintainability_static]</td>\n      <td>[description]</td>\n      <td>[OOP]</td>\n    </tr>\n    <tr>\n      <th>3</th>\n      <td>rayyan-354359272</td>\n      <td>Virtual Teaching Assistant for Grading Program...</td>\n      <td>Chou C.-Y., Chen Y.-J.</td>\n      <td>This study proposes an automated programming a...</td>\n      <td>2021</td>\n      <td>[data_available:False, skill:correctness, inte...</td>\n      <td>[dynamic, static]</td>\n      <td>[correctness]</td>\n      <td>[correctness_dynamic, correctness_static]</td>\n      <td>[description, evaluation]</td>\n      <td>[Unknown]</td>\n    </tr>\n    <tr>\n      <th>4</th>\n      <td>rayyan-354359273</td>\n      <td>Analysis of an automatic grading system within...</td>\n      <td>Hegarty-Kelly E., Mooney D.A.</td>\n      <td>Reliable and pedagogically sound automated fee...</td>\n      <td>2021</td>\n      <td>[data_available:False, skill:correctness, inte...</td>\n      <td>[dynamic, static]</td>\n      <td>[correctness]</td>\n      <td>[correctness_dynamic, correctness_static]</td>\n      <td>[description, evaluation]</td>\n      <td>[OOP]</td>\n    </tr>\n  </tbody>\n</table>\n</div>"
     },
     "execution_count": 88,
     "metadata": {},
     "output_type": "execute_result"
    }
   ],
   "source": [
    "df = pd.read_pickle('data/processed.pickle')\n",
    "df.head()"
   ],
   "metadata": {
    "collapsed": false,
    "pycharm": {
     "name": "#%%\n"
    }
   }
  },
  {
   "cell_type": "markdown",
   "source": [
    "# Discussion Stats\n",
    "## Grading\n",
    "### Correctness"
   ],
   "metadata": {
    "collapsed": false,
    "pycharm": {
     "name": "#%% md\n"
    }
   }
  },
  {
   "cell_type": "code",
   "execution_count": 89,
   "outputs": [
    {
     "data": {
      "text/plain": "                  key                                              title  \\\n0    rayyan-354359269  An experience of automated assessment in a lar...   \n1    rayyan-354359270  Semiautomatic generation and assessment of Jav...   \n3    rayyan-354359272  Virtual Teaching Assistant for Grading Program...   \n4    rayyan-354359273  Analysis of an automatic grading system within...   \n5    rayyan-354359274  Evaluating Control-Flow Graph Similarity for G...   \n..                ...                                                ...   \n114  rayyan-354359408  ArTEMiS - An automatic assessment management s...   \n115  rayyan-354359409  Linkage objects for generalized instruction in...   \n116  rayyan-354359410  Automated data-driven hints for computer progr...   \n117  rayyan-354359411  Learning and teaching numerical methods with a...   \n120  rayyan-354359414  Automatic extraction of AST patterns for debug...   \n\n              category                                               tech  \n0            [dynamic]  [technique:pre_defined_questions, technique:un...  \n1    [dynamic, static]  [technique:code_repair_for_feedback, technique...  \n3    [dynamic, static]  [technique:output_matching, technique:unit_tes...  \n4    [dynamic, static]  [technique:unit_testing, technique:pattern_mat...  \n5             [static]  [technique:model_solution_req, technique:patte...  \n..                 ...                                                ...  \n114  [dynamic, static]  [technique:unit_testing, technique:static_anal...  \n115       [static, ml]  [technique:machine_learning, technique:pattern...  \n116  [dynamic, static]  [technique:unit_testing, technique:static_anal...  \n117  [dynamic, static]  [technique:unit_testing, technique:matching_ru...  \n120           [static]                       [technique:pattern_matching]  \n\n[80 rows x 4 columns]",
      "text/html": "<div>\n<style scoped>\n    .dataframe tbody tr th:only-of-type {\n        vertical-align: middle;\n    }\n\n    .dataframe tbody tr th {\n        vertical-align: top;\n    }\n\n    .dataframe thead th {\n        text-align: right;\n    }\n</style>\n<table border=\"1\" class=\"dataframe\">\n  <thead>\n    <tr style=\"text-align: right;\">\n      <th></th>\n      <th>key</th>\n      <th>title</th>\n      <th>category</th>\n      <th>tech</th>\n    </tr>\n  </thead>\n  <tbody>\n    <tr>\n      <th>0</th>\n      <td>rayyan-354359269</td>\n      <td>An experience of automated assessment in a lar...</td>\n      <td>[dynamic]</td>\n      <td>[technique:pre_defined_questions, technique:un...</td>\n    </tr>\n    <tr>\n      <th>1</th>\n      <td>rayyan-354359270</td>\n      <td>Semiautomatic generation and assessment of Jav...</td>\n      <td>[dynamic, static]</td>\n      <td>[technique:code_repair_for_feedback, technique...</td>\n    </tr>\n    <tr>\n      <th>3</th>\n      <td>rayyan-354359272</td>\n      <td>Virtual Teaching Assistant for Grading Program...</td>\n      <td>[dynamic, static]</td>\n      <td>[technique:output_matching, technique:unit_tes...</td>\n    </tr>\n    <tr>\n      <th>4</th>\n      <td>rayyan-354359273</td>\n      <td>Analysis of an automatic grading system within...</td>\n      <td>[dynamic, static]</td>\n      <td>[technique:unit_testing, technique:pattern_mat...</td>\n    </tr>\n    <tr>\n      <th>5</th>\n      <td>rayyan-354359274</td>\n      <td>Evaluating Control-Flow Graph Similarity for G...</td>\n      <td>[static]</td>\n      <td>[technique:model_solution_req, technique:patte...</td>\n    </tr>\n    <tr>\n      <th>...</th>\n      <td>...</td>\n      <td>...</td>\n      <td>...</td>\n      <td>...</td>\n    </tr>\n    <tr>\n      <th>114</th>\n      <td>rayyan-354359408</td>\n      <td>ArTEMiS - An automatic assessment management s...</td>\n      <td>[dynamic, static]</td>\n      <td>[technique:unit_testing, technique:static_anal...</td>\n    </tr>\n    <tr>\n      <th>115</th>\n      <td>rayyan-354359409</td>\n      <td>Linkage objects for generalized instruction in...</td>\n      <td>[static, ml]</td>\n      <td>[technique:machine_learning, technique:pattern...</td>\n    </tr>\n    <tr>\n      <th>116</th>\n      <td>rayyan-354359410</td>\n      <td>Automated data-driven hints for computer progr...</td>\n      <td>[dynamic, static]</td>\n      <td>[technique:unit_testing, technique:static_anal...</td>\n    </tr>\n    <tr>\n      <th>117</th>\n      <td>rayyan-354359411</td>\n      <td>Learning and teaching numerical methods with a...</td>\n      <td>[dynamic, static]</td>\n      <td>[technique:unit_testing, technique:matching_ru...</td>\n    </tr>\n    <tr>\n      <th>120</th>\n      <td>rayyan-354359414</td>\n      <td>Automatic extraction of AST patterns for debug...</td>\n      <td>[static]</td>\n      <td>[technique:pattern_matching]</td>\n    </tr>\n  </tbody>\n</table>\n<p>80 rows × 4 columns</p>\n</div>"
     },
     "execution_count": 89,
     "metadata": {},
     "output_type": "execute_result"
    }
   ],
   "source": [
    "correct_df = df.copy(deep=True)\n",
    "correct_df.skills = correct_df.skills.astype(str)\n",
    "correct_df = correct_df[correct_df.skills.str.contains(\"^\\['correctness'\\]$\")]\n",
    "correct_df['tech'] = correct_df.tags.apply(lambda labels: [label for label in labels if label.startswith('technique')])\n",
    "correct_df[['key', 'title', 'category', 'tech']]"
   ],
   "metadata": {
    "collapsed": false,
    "pycharm": {
     "name": "#%%\n"
    }
   }
  },
  {
   "cell_type": "code",
   "execution_count": 90,
   "outputs": [
    {
     "data": {
      "text/plain": "66.11570247933885"
     },
     "execution_count": 90,
     "metadata": {},
     "output_type": "execute_result"
    }
   ],
   "source": [
    "(correct_df.shape[0] / df.shape[0]) * 100"
   ],
   "metadata": {
    "collapsed": false,
    "pycharm": {
     "name": "#%%\n"
    }
   }
  },
  {
   "cell_type": "code",
   "execution_count": 91,
   "outputs": [
    {
     "data": {
      "text/plain": "[dynamic]            36\n[dynamic, static]    21\n[static]             17\n[static, ml]          3\n[ml]                  2\n[dynamic, ml]         1\nName: category, dtype: int64"
     },
     "execution_count": 91,
     "metadata": {},
     "output_type": "execute_result"
    }
   ],
   "source": [
    "correct_df.category.value_counts()"
   ],
   "metadata": {
    "collapsed": false,
    "pycharm": {
     "name": "#%%\n"
    }
   }
  },
  {
   "cell_type": "code",
   "execution_count": 92,
   "outputs": [
    {
     "data": {
      "text/plain": "[dynamic]            45.00\n[dynamic, static]    26.25\n[static]             21.25\n[static, ml]          3.75\n[ml]                  2.50\n[dynamic, ml]         1.25\nName: category, dtype: float64"
     },
     "execution_count": 92,
     "metadata": {},
     "output_type": "execute_result"
    }
   ],
   "source": [
    "(correct_df.category.value_counts() / correct_df.shape[0]) * 100"
   ],
   "metadata": {
    "collapsed": false,
    "pycharm": {
     "name": "#%%\n"
    }
   }
  },
  {
   "cell_type": "code",
   "execution_count": 93,
   "outputs": [
    {
     "data": {
      "text/plain": "technique:unit_testing                100.000000\ntechnique:ci_cd                        11.111111\ntechnique:model_solution_req           11.111111\ntechnique:trace_examination             5.555556\ntechnique:property_based_testing        5.555556\ntechnique:output_matching               5.555556\ntechnique:pre_defined_questions         2.777778\ntechnique:unit_test_expansion           2.777778\ntechnique:mutation_testing              2.777778\ntechnique:test_case_generation          2.777778\ntechnique:novel                         2.777778\ntechnique:gui_testing                   2.777778\ntechnique:program_synthesis             2.777778\ntechnique:code_repair_for_feedback      2.777778\nName: tech, dtype: float64"
     },
     "execution_count": 93,
     "metadata": {},
     "output_type": "execute_result"
    }
   ],
   "source": [
    "correct_df['only_dynamic'] = df.category.apply(lambda x: 'dynamic' in str(x) and 'static' not in str(x) and 'ml' not in str(x))\n",
    "(correct_df[correct_df.only_dynamic].explode('tech').tech.value_counts() / correct_df[correct_df.only_dynamic].shape[0]) * 100"
   ],
   "metadata": {
    "collapsed": false,
    "pycharm": {
     "name": "#%%\n"
    }
   }
  },
  {
   "cell_type": "code",
   "execution_count": 94,
   "outputs": [
    {
     "data": {
      "text/plain": "technique:pattern_matching            70.588235\ntechnique:model_solution_req          41.176471\ntechnique:model_solution_closeness    35.294118\ntechnique:program_repair              35.294118\ntechnique:code_repair_for_feedback    29.411765\ntechnique:clustering                  17.647059\ntechnique:matching_rules              17.647059\ntechnique:trace_examination           17.647059\ntechnique:output_matching             11.764706\ntechnique:graph_analysis              11.764706\ntechnique:control_flow_graph           5.882353\ntechnique:data_driven                  5.882353\ntechnique:token_pattern_matching       5.882353\ntechnique:knowledge_base               5.882353\ntechnique:dynamic_analysis             5.882353\nName: tech, dtype: float64"
     },
     "execution_count": 94,
     "metadata": {},
     "output_type": "execute_result"
    }
   ],
   "source": [
    "correct_df['only_static'] = df.category.apply(lambda x: 'dynamic' not in str(x) and 'static' in str(x) and 'ml' not in str(x))\n",
    "(correct_df[correct_df.only_static].explode('tech').tech.value_counts() / correct_df[correct_df.only_static].shape[0]) * 100"
   ],
   "metadata": {
    "collapsed": false,
    "pycharm": {
     "name": "#%%\n"
    }
   }
  },
  {
   "cell_type": "code",
   "execution_count": 95,
   "outputs": [
    {
     "data": {
      "text/plain": "technique:unit_testing                100.000000\ntechnique:matching_rules               33.333333\ntechnique:pattern_matching             28.571429\ntechnique:static_analysis              23.809524\ntechnique:style_check                  19.047619\ntechnique:model_solution_req           19.047619\ntechnique:program_repair               14.285714\ntechnique:output_matching               9.523810\ntechnique:dynamic_analysis              9.523810\ntechnique:model_solution_closeness      9.523810\ntechnique:ci_cd                         9.523810\ntechnique:test_case_generation          4.761905\ntechnique:code_repair_for_feedback      4.761905\ntechnique:language_stuctures            4.761905\ntechnique:program_verification          4.761905\ntechnique:fault_localisation            4.761905\ntechnique:knowledge_base                4.761905\nName: tech, dtype: float64"
     },
     "execution_count": 95,
     "metadata": {},
     "output_type": "execute_result"
    }
   ],
   "source": [
    "correct_df['dynamic_static'] = df.category.apply(lambda x: 'dynamic' in str(x) and 'static' in str(x) and 'ml' not in str(x))\n",
    "(correct_df[correct_df.dynamic_static].explode('tech').tech.value_counts() / correct_df[correct_df.dynamic_static].shape[0]) * 100"
   ],
   "metadata": {
    "collapsed": false,
    "pycharm": {
     "name": "#%%\n"
    }
   }
  },
  {
   "cell_type": "code",
   "execution_count": 109,
   "outputs": [
    {
     "data": {
      "text/plain": "                  key                                              title  \\\n13   rayyan-354359285  An Intelligent Online Judge System for Program...   \n19   rayyan-354359295  Convolutional neural network applied to code a...   \n34   rayyan-354359310  Automatic assessment of programming assignment...   \n61   rayyan-354359341  Source-Code Similarity Measurement: Syntax Tre...   \n83   rayyan-354359367  Targeted Example Generation for Compilation Er...   \n115  rayyan-354359409  Linkage objects for generalized instruction in...   \n\n          category  \n13   [dynamic, ml]  \n19            [ml]  \n34            [ml]  \n61    [static, ml]  \n83    [static, ml]  \n115   [static, ml]  ",
      "text/html": "<div>\n<style scoped>\n    .dataframe tbody tr th:only-of-type {\n        vertical-align: middle;\n    }\n\n    .dataframe tbody tr th {\n        vertical-align: top;\n    }\n\n    .dataframe thead th {\n        text-align: right;\n    }\n</style>\n<table border=\"1\" class=\"dataframe\">\n  <thead>\n    <tr style=\"text-align: right;\">\n      <th></th>\n      <th>key</th>\n      <th>title</th>\n      <th>category</th>\n    </tr>\n  </thead>\n  <tbody>\n    <tr>\n      <th>13</th>\n      <td>rayyan-354359285</td>\n      <td>An Intelligent Online Judge System for Program...</td>\n      <td>[dynamic, ml]</td>\n    </tr>\n    <tr>\n      <th>19</th>\n      <td>rayyan-354359295</td>\n      <td>Convolutional neural network applied to code a...</td>\n      <td>[ml]</td>\n    </tr>\n    <tr>\n      <th>34</th>\n      <td>rayyan-354359310</td>\n      <td>Automatic assessment of programming assignment...</td>\n      <td>[ml]</td>\n    </tr>\n    <tr>\n      <th>61</th>\n      <td>rayyan-354359341</td>\n      <td>Source-Code Similarity Measurement: Syntax Tre...</td>\n      <td>[static, ml]</td>\n    </tr>\n    <tr>\n      <th>83</th>\n      <td>rayyan-354359367</td>\n      <td>Targeted Example Generation for Compilation Er...</td>\n      <td>[static, ml]</td>\n    </tr>\n    <tr>\n      <th>115</th>\n      <td>rayyan-354359409</td>\n      <td>Linkage objects for generalized instruction in...</td>\n      <td>[static, ml]</td>\n    </tr>\n  </tbody>\n</table>\n</div>"
     },
     "execution_count": 109,
     "metadata": {},
     "output_type": "execute_result"
    }
   ],
   "source": [
    "correct_df['ml'] = df.category.apply(lambda x: 'ml' in str(x))\n",
    "ml_df = correct_df.loc[correct_df.ml]\n",
    "ml_df[['key', 'title', 'category']]"
   ],
   "metadata": {
    "collapsed": false,
    "pycharm": {
     "name": "#%%\n"
    }
   }
  },
  {
   "cell_type": "markdown",
   "source": [
    "### Maintainability"
   ],
   "metadata": {
    "collapsed": false,
    "pycharm": {
     "name": "#%% md\n"
    }
   }
  },
  {
   "cell_type": "code",
   "execution_count": 97,
   "outputs": [
    {
     "data": {
      "text/plain": "                 key                                              title  \\\n92  rayyan-354359378  A Comparison of Inquiry-Based Conceptual Feedb...   \n\n                                         authors  \\\n92  Cordova L., Carver J., Gershmel N., Walia G.   \n\n                                             abstract  year_published  \\\n92  The feedback provided by current testing educa...            2021   \n\n                                                 tags  category  \\\n92  [interaction:multiple, evaluation:student_surv...  [static]   \n\n                 skills                 skill_cat         types lang_family  \n92  ['maintainability']  [maintainability_static]  [evaluation]       [OOP]  ",
      "text/html": "<div>\n<style scoped>\n    .dataframe tbody tr th:only-of-type {\n        vertical-align: middle;\n    }\n\n    .dataframe tbody tr th {\n        vertical-align: top;\n    }\n\n    .dataframe thead th {\n        text-align: right;\n    }\n</style>\n<table border=\"1\" class=\"dataframe\">\n  <thead>\n    <tr style=\"text-align: right;\">\n      <th></th>\n      <th>key</th>\n      <th>title</th>\n      <th>authors</th>\n      <th>abstract</th>\n      <th>year_published</th>\n      <th>tags</th>\n      <th>category</th>\n      <th>skills</th>\n      <th>skill_cat</th>\n      <th>types</th>\n      <th>lang_family</th>\n    </tr>\n  </thead>\n  <tbody>\n    <tr>\n      <th>92</th>\n      <td>rayyan-354359378</td>\n      <td>A Comparison of Inquiry-Based Conceptual Feedb...</td>\n      <td>Cordova L., Carver J., Gershmel N., Walia G.</td>\n      <td>The feedback provided by current testing educa...</td>\n      <td>2021</td>\n      <td>[interaction:multiple, evaluation:student_surv...</td>\n      <td>[static]</td>\n      <td>['maintainability']</td>\n      <td>[maintainability_static]</td>\n      <td>[evaluation]</td>\n      <td>[OOP]</td>\n    </tr>\n  </tbody>\n</table>\n</div>"
     },
     "execution_count": 97,
     "metadata": {},
     "output_type": "execute_result"
    }
   ],
   "source": [
    "maint_df = df.copy(deep=True)\n",
    "maint_df.skills = maint_df.skills.astype(str)\n",
    "maint_df = maint_df[maint_df.skills.str.contains(\"^\\['maintainability'\\]$\")].copy()\n",
    "maint_df"
   ],
   "metadata": {
    "collapsed": false,
    "pycharm": {
     "name": "#%%\n"
    }
   }
  },
  {
   "cell_type": "code",
   "execution_count": 98,
   "outputs": [
    {
     "data": {
      "text/plain": "technique:static_analysis       100.0\ntechnique:model_solution_req    100.0\nName: tech, dtype: float64"
     },
     "execution_count": 98,
     "metadata": {},
     "output_type": "execute_result"
    }
   ],
   "source": [
    "maint_df['tech'] = maint_df.tags.apply(lambda labels: [label for label in labels if label.startswith('technique')])\n",
    "(maint_df.explode('tech').tech.value_counts() / maint_df.shape[0]) * 100"
   ],
   "metadata": {
    "collapsed": false,
    "pycharm": {
     "name": "#%%\n"
    }
   }
  },
  {
   "cell_type": "markdown",
   "source": [
    "### Readability"
   ],
   "metadata": {
    "collapsed": false,
    "pycharm": {
     "name": "#%% md\n"
    }
   }
  },
  {
   "cell_type": "code",
   "execution_count": 99,
   "outputs": [
    {
     "data": {
      "text/plain": "                  key                                              title  \\\n30   rayyan-354359306  The impact of automated code quality feedback ...   \n77   rayyan-354359360  Promoting Code Quality via Automated Feedback ...   \n79   rayyan-354359362  Measure Students’ Contribution in Web Programm...   \n107  rayyan-354359398      Static analyses in python programming courses   \n\n     category  \n30   [static]  \n77   [static]  \n79   [static]  \n107  [static]  ",
      "text/html": "<div>\n<style scoped>\n    .dataframe tbody tr th:only-of-type {\n        vertical-align: middle;\n    }\n\n    .dataframe tbody tr th {\n        vertical-align: top;\n    }\n\n    .dataframe thead th {\n        text-align: right;\n    }\n</style>\n<table border=\"1\" class=\"dataframe\">\n  <thead>\n    <tr style=\"text-align: right;\">\n      <th></th>\n      <th>key</th>\n      <th>title</th>\n      <th>category</th>\n    </tr>\n  </thead>\n  <tbody>\n    <tr>\n      <th>30</th>\n      <td>rayyan-354359306</td>\n      <td>The impact of automated code quality feedback ...</td>\n      <td>[static]</td>\n    </tr>\n    <tr>\n      <th>77</th>\n      <td>rayyan-354359360</td>\n      <td>Promoting Code Quality via Automated Feedback ...</td>\n      <td>[static]</td>\n    </tr>\n    <tr>\n      <th>79</th>\n      <td>rayyan-354359362</td>\n      <td>Measure Students’ Contribution in Web Programm...</td>\n      <td>[static]</td>\n    </tr>\n    <tr>\n      <th>107</th>\n      <td>rayyan-354359398</td>\n      <td>Static analyses in python programming courses</td>\n      <td>[static]</td>\n    </tr>\n  </tbody>\n</table>\n</div>"
     },
     "execution_count": 99,
     "metadata": {},
     "output_type": "execute_result"
    }
   ],
   "source": [
    "# Analysing hint based problem solving strategy among novice programmers through gamification technique - Might be removed\n",
    "read_df = df.copy(deep=True)\n",
    "read_df.skills = read_df.skills.astype(str)\n",
    "read_df = read_df[read_df.skills.str.contains(\"^\\['readability'\\]$\")]\n",
    "read_df[['key', 'title', 'category']]"
   ],
   "metadata": {
    "collapsed": false,
    "pycharm": {
     "name": "#%%\n"
    }
   }
  },
  {
   "cell_type": "code",
   "execution_count": 100,
   "outputs": [
    {
     "data": {
      "text/plain": "3.3057851239669422"
     },
     "execution_count": 100,
     "metadata": {},
     "output_type": "execute_result"
    }
   ],
   "source": [
    "(read_df.shape[0] / df.shape[0]) * 100"
   ],
   "metadata": {
    "collapsed": false,
    "pycharm": {
     "name": "#%%\n"
    }
   }
  },
  {
   "cell_type": "code",
   "execution_count": 101,
   "outputs": [
    {
     "data": {
      "text/plain": "[static]    4\nName: category, dtype: int64"
     },
     "execution_count": 101,
     "metadata": {},
     "output_type": "execute_result"
    }
   ],
   "source": [
    "read_df.category.value_counts()"
   ],
   "metadata": {
    "collapsed": false,
    "pycharm": {
     "name": "#%%\n"
    }
   }
  },
  {
   "cell_type": "markdown",
   "source": [
    "### Correctness, Documentation"
   ],
   "metadata": {
    "collapsed": false,
    "pycharm": {
     "name": "#%% md\n"
    }
   }
  },
  {
   "cell_type": "code",
   "execution_count": 102,
   "outputs": [
    {
     "data": {
      "text/plain": "                 key                                              title  \\\n29  rayyan-354359305  Developing applications to automatically grade...   \n\n      authors                                           abstract  \\\n29  Gerdes J.  There are many unique challenges associated wi...   \n\n    year_published                                               tags  \\\n29            2017  [data_available:False, skill:correctness, tech...   \n\n    category                            skills  \\\n29  [static]  ['correctness', 'documentation']   \n\n                                     skill_cat                      types  \\\n29  [correctness_static, documentation_static]  [description, evaluation]   \n\n   lang_family  \n29       [OOP]  ",
      "text/html": "<div>\n<style scoped>\n    .dataframe tbody tr th:only-of-type {\n        vertical-align: middle;\n    }\n\n    .dataframe tbody tr th {\n        vertical-align: top;\n    }\n\n    .dataframe thead th {\n        text-align: right;\n    }\n</style>\n<table border=\"1\" class=\"dataframe\">\n  <thead>\n    <tr style=\"text-align: right;\">\n      <th></th>\n      <th>key</th>\n      <th>title</th>\n      <th>authors</th>\n      <th>abstract</th>\n      <th>year_published</th>\n      <th>tags</th>\n      <th>category</th>\n      <th>skills</th>\n      <th>skill_cat</th>\n      <th>types</th>\n      <th>lang_family</th>\n    </tr>\n  </thead>\n  <tbody>\n    <tr>\n      <th>29</th>\n      <td>rayyan-354359305</td>\n      <td>Developing applications to automatically grade...</td>\n      <td>Gerdes J.</td>\n      <td>There are many unique challenges associated wi...</td>\n      <td>2017</td>\n      <td>[data_available:False, skill:correctness, tech...</td>\n      <td>[static]</td>\n      <td>['correctness', 'documentation']</td>\n      <td>[correctness_static, documentation_static]</td>\n      <td>[description, evaluation]</td>\n      <td>[OOP]</td>\n    </tr>\n  </tbody>\n</table>\n</div>"
     },
     "execution_count": 102,
     "metadata": {},
     "output_type": "execute_result"
    }
   ],
   "source": [
    "doc_df = df.copy(deep=True)\n",
    "doc_df.skills = doc_df.skills.astype(str)\n",
    "doc_df[doc_df.skills.str.contains(\"^\\['correctness', 'documentation'\\]$\")]"
   ],
   "metadata": {
    "collapsed": false,
    "pycharm": {
     "name": "#%%\n"
    }
   }
  },
  {
   "cell_type": "markdown",
   "source": [
    "## Degree of Automation"
   ],
   "metadata": {
    "collapsed": false,
    "pycharm": {
     "name": "#%% md\n"
    }
   }
  },
  {
   "cell_type": "code",
   "execution_count": 103,
   "outputs": [
    {
     "data": {
      "text/plain": "approach:fully_automated    99\napproach:semi_automatic     17\napproach:unclear             5\nName: tags, dtype: int64"
     },
     "execution_count": 103,
     "metadata": {},
     "output_type": "execute_result"
    }
   ],
   "source": [
    "doa_df = df.copy()\n",
    "doa_df.tags = doa_df.tags.apply(lambda labels: [str(label) for label in labels if label.startswith('approach')])\n",
    "doa_df = doa_df.explode('tags')\n",
    "doa_df.tags.value_counts()"
   ],
   "metadata": {
    "collapsed": false,
    "pycharm": {
     "name": "#%%\n"
    }
   }
  },
  {
   "cell_type": "code",
   "execution_count": 104,
   "outputs": [
    {
     "data": {
      "text/plain": "approach:fully_automated    81.818182\napproach:semi_automatic     14.049587\napproach:unclear             4.132231\nName: tags, dtype: float64"
     },
     "execution_count": 104,
     "metadata": {},
     "output_type": "execute_result"
    }
   ],
   "source": [
    "(doa_df.tags.value_counts() /  doa_df.shape[0]) * 100"
   ],
   "metadata": {
    "collapsed": false,
    "pycharm": {
     "name": "#%%\n"
    }
   }
  },
  {
   "cell_type": "code",
   "execution_count": 105,
   "outputs": [
    {
     "data": {
      "text/plain": "                  key                                              title  \\\n1    rayyan-354359270  Semiautomatic generation and assessment of Jav...   \n3    rayyan-354359272  Virtual Teaching Assistant for Grading Program...   \n10   rayyan-354359280  Syntactic and Semantic Analysis for Extended F...   \n14   rayyan-354359287                      Teaching programming at scale   \n16   rayyan-354359291  A parser-based tool to assist instructors in g...   \n19   rayyan-354359295  Convolutional neural network applied to code a...   \n36   rayyan-354359313  Enhancing the Learning of Database Access Prog...   \n37   rayyan-354359314  MAESTRO: a semi-autoMAted Evaluation SysTem fo...   \n41   rayyan-354359318      Gradeer: An Open-Source Modular Hybrid Grader   \n44   rayyan-354359321  Automating Testing of Visual Observed Concurrency   \n57   rayyan-354359337  Evaluation of a Tool for Java Structural Speci...   \n62   rayyan-354359342  Autograding Distributed Algorithms in Networke...   \n67   rayyan-354359348  Effectiveness of Real-Time Feedback and Instru...   \n95   rayyan-354359383  Automated Assessment of Learning Objectives in...   \n111  rayyan-354359405  Soploon: A virtual assistant to help teachers ...   \n112  rayyan-354359406  ViDA: A virtual debugging advisor for supporti...   \n113  rayyan-354359407  Providing meaningful feedback for autograding ...   \n\n                                               authors  \\\n1              Insa D., Pérez S., Silva J., Tamarit S.   \n3                               Chou C.-Y., Chen Y.-J.   \n10   Andujar C., Vijulie C.R., Vinacua A., Santos B...   \n14   Kaplan A., Keim J., Schneider Y.R., Walter M.,...   \n16                Andujar C., Vijulie C.R., Vinacua A.   \n19   De Souza F.R., De Assis Zampirolli F., Kobayas...   \n36                                            B. Pérez   \n37                       A. Bertagnon and M. Gavanelli   \n41   B. Clegg and M. -C. Villa-Uriol and P. McMinn ...   \n44   P. Dewan and A. Wortas and Z. Liu and S. Georg...   \n57                                      Dil A,Osunde J   \n62             Maicus E,Peveler M,Patterson S,Cutler B   \n67                                              Lee HH   \n95                       Rump A., Fehnker A., Mader A.   \n111  Vallejos S., Berdun L.S., Armentano M.G., Sori...   \n112  Lee V.C.S., Yu Y.T., Tang C.M., Wong T.L., Poo...   \n113  Haldeman G., Tjang A., Babeş-Vroman M., Bartos...   \n\n                                              abstract  year_published  \\\n1    Continuous assessment is essential in educatio...            2021   \n3    This study proposes an automated programming a...            2021   \n10   Modern computer graphics courses require stude...            2020   \n14   Teaching programming is a difficult task and t...            2020   \n16   Although online e-learning environments are in...            2019   \n19   Thousands of students have their assignments e...            2019   \n36   Database access programming is a noteworthy co...            2021   \n37   Many works in the literature highlight the imp...            2020   \n41   Automated assessment has been shown to greatly...            2021   \n44   Existing techniques for automating the testing...            2021   \n57   Although a number of tools for evaluating Java...            2018   \n62   We present a container-based system to automat...            2019   \n67   In this paper, we present our findings on enha...            2021   \n95   Individual feedback is a core ingredient of a ...            2021   \n111  When checking students’ source codes, teachers...            2018   \n112  Many students need assistance in debugging to ...            2018   \n113  Autograding systems are increasingly being dep...            2018   \n\n                        tags           category  \\\n1    approach:semi_automatic  [dynamic, static]   \n3    approach:semi_automatic  [dynamic, static]   \n10   approach:semi_automatic  [dynamic, static]   \n14   approach:semi_automatic  [dynamic, static]   \n16   approach:semi_automatic  [dynamic, static]   \n19   approach:semi_automatic               [ml]   \n36   approach:semi_automatic          [dynamic]   \n37   approach:semi_automatic          [dynamic]   \n41   approach:semi_automatic  [dynamic, static]   \n44   approach:semi_automatic          [dynamic]   \n57   approach:semi_automatic  [dynamic, static]   \n62   approach:semi_automatic          [dynamic]   \n67   approach:semi_automatic          [dynamic]   \n95   approach:semi_automatic           [static]   \n111  approach:semi_automatic           [static]   \n112  approach:semi_automatic          [dynamic]   \n113  approach:semi_automatic  [dynamic, static]   \n\n                                          skills  \\\n1                                  [correctness]   \n3                                  [correctness]   \n10                                 [correctness]   \n14                    [correctness, readability]   \n16                                 [correctness]   \n19                                 [correctness]   \n36                                 [correctness]   \n37                                 [correctness]   \n41                    [correctness, readability]   \n44                                 [correctness]   \n57                    [correctness, readability]   \n62                                 [correctness]   \n67                                 [correctness]   \n95   [correctness, readability, maintainability]   \n111               [correctness, maintainability]   \n112                                [correctness]   \n113                                [correctness]   \n\n                                             skill_cat  \\\n1            [correctness_dynamic, correctness_static]   \n3            [correctness_dynamic, correctness_static]   \n10           [correctness_dynamic, correctness_static]   \n14           [readability_static, correctness_dynamic]   \n16           [correctness_dynamic, correctness_static]   \n19                                    [correctness_ml]   \n36                               [correctness_dynamic]   \n37                               [correctness_dynamic]   \n41                               [correctness_dynamic]   \n44                               [correctness_dynamic]   \n57           [readability_static, correctness_dynamic]   \n62                               [correctness_dynamic]   \n67                               [correctness_dynamic]   \n95   [correctness_static, readability_static, maint...   \n111       [correctness_static, maintainability_static]   \n112                              [correctness_dynamic]   \n113          [correctness_dynamic, correctness_static]   \n\n                         types        lang_family  \n1    [description, evaluation]              [OOP]  \n3    [description, evaluation]          [Unknown]  \n10               [description]         [Graphics]  \n14                [experience]              [OOP]  \n16   [description, evaluation]    [OOP, Graphics]  \n19   [description, evaluation]              [OOP]  \n36   [description, evaluation]              [OOP]  \n37   [description, evaluation]  [OOP, Functional]  \n41   [description, evaluation]              [OOP]  \n44   [description, evaluation]              [OOP]  \n57                [evaluation]              [OOP]  \n62               [description]          [Unknown]  \n67   [description, evaluation]              [OOP]  \n95   [description, evaluation]              [OOP]  \n111  [description, evaluation]              [OOP]  \n112  [description, evaluation]         [Agnostic]  \n113  [description, evaluation]          [Unknown]  ",
      "text/html": "<div>\n<style scoped>\n    .dataframe tbody tr th:only-of-type {\n        vertical-align: middle;\n    }\n\n    .dataframe tbody tr th {\n        vertical-align: top;\n    }\n\n    .dataframe thead th {\n        text-align: right;\n    }\n</style>\n<table border=\"1\" class=\"dataframe\">\n  <thead>\n    <tr style=\"text-align: right;\">\n      <th></th>\n      <th>key</th>\n      <th>title</th>\n      <th>authors</th>\n      <th>abstract</th>\n      <th>year_published</th>\n      <th>tags</th>\n      <th>category</th>\n      <th>skills</th>\n      <th>skill_cat</th>\n      <th>types</th>\n      <th>lang_family</th>\n    </tr>\n  </thead>\n  <tbody>\n    <tr>\n      <th>1</th>\n      <td>rayyan-354359270</td>\n      <td>Semiautomatic generation and assessment of Jav...</td>\n      <td>Insa D., Pérez S., Silva J., Tamarit S.</td>\n      <td>Continuous assessment is essential in educatio...</td>\n      <td>2021</td>\n      <td>approach:semi_automatic</td>\n      <td>[dynamic, static]</td>\n      <td>[correctness]</td>\n      <td>[correctness_dynamic, correctness_static]</td>\n      <td>[description, evaluation]</td>\n      <td>[OOP]</td>\n    </tr>\n    <tr>\n      <th>3</th>\n      <td>rayyan-354359272</td>\n      <td>Virtual Teaching Assistant for Grading Program...</td>\n      <td>Chou C.-Y., Chen Y.-J.</td>\n      <td>This study proposes an automated programming a...</td>\n      <td>2021</td>\n      <td>approach:semi_automatic</td>\n      <td>[dynamic, static]</td>\n      <td>[correctness]</td>\n      <td>[correctness_dynamic, correctness_static]</td>\n      <td>[description, evaluation]</td>\n      <td>[Unknown]</td>\n    </tr>\n    <tr>\n      <th>10</th>\n      <td>rayyan-354359280</td>\n      <td>Syntactic and Semantic Analysis for Extended F...</td>\n      <td>Andujar C., Vijulie C.R., Vinacua A., Santos B...</td>\n      <td>Modern computer graphics courses require stude...</td>\n      <td>2020</td>\n      <td>approach:semi_automatic</td>\n      <td>[dynamic, static]</td>\n      <td>[correctness]</td>\n      <td>[correctness_dynamic, correctness_static]</td>\n      <td>[description]</td>\n      <td>[Graphics]</td>\n    </tr>\n    <tr>\n      <th>14</th>\n      <td>rayyan-354359287</td>\n      <td>Teaching programming at scale</td>\n      <td>Kaplan A., Keim J., Schneider Y.R., Walter M.,...</td>\n      <td>Teaching programming is a difficult task and t...</td>\n      <td>2020</td>\n      <td>approach:semi_automatic</td>\n      <td>[dynamic, static]</td>\n      <td>[correctness, readability]</td>\n      <td>[readability_static, correctness_dynamic]</td>\n      <td>[experience]</td>\n      <td>[OOP]</td>\n    </tr>\n    <tr>\n      <th>16</th>\n      <td>rayyan-354359291</td>\n      <td>A parser-based tool to assist instructors in g...</td>\n      <td>Andujar C., Vijulie C.R., Vinacua A.</td>\n      <td>Although online e-learning environments are in...</td>\n      <td>2019</td>\n      <td>approach:semi_automatic</td>\n      <td>[dynamic, static]</td>\n      <td>[correctness]</td>\n      <td>[correctness_dynamic, correctness_static]</td>\n      <td>[description, evaluation]</td>\n      <td>[OOP, Graphics]</td>\n    </tr>\n    <tr>\n      <th>19</th>\n      <td>rayyan-354359295</td>\n      <td>Convolutional neural network applied to code a...</td>\n      <td>De Souza F.R., De Assis Zampirolli F., Kobayas...</td>\n      <td>Thousands of students have their assignments e...</td>\n      <td>2019</td>\n      <td>approach:semi_automatic</td>\n      <td>[ml]</td>\n      <td>[correctness]</td>\n      <td>[correctness_ml]</td>\n      <td>[description, evaluation]</td>\n      <td>[OOP]</td>\n    </tr>\n    <tr>\n      <th>36</th>\n      <td>rayyan-354359313</td>\n      <td>Enhancing the Learning of Database Access Prog...</td>\n      <td>B. Pérez</td>\n      <td>Database access programming is a noteworthy co...</td>\n      <td>2021</td>\n      <td>approach:semi_automatic</td>\n      <td>[dynamic]</td>\n      <td>[correctness]</td>\n      <td>[correctness_dynamic]</td>\n      <td>[description, evaluation]</td>\n      <td>[OOP]</td>\n    </tr>\n    <tr>\n      <th>37</th>\n      <td>rayyan-354359314</td>\n      <td>MAESTRO: a semi-autoMAted Evaluation SysTem fo...</td>\n      <td>A. Bertagnon and M. Gavanelli</td>\n      <td>Many works in the literature highlight the imp...</td>\n      <td>2020</td>\n      <td>approach:semi_automatic</td>\n      <td>[dynamic]</td>\n      <td>[correctness]</td>\n      <td>[correctness_dynamic]</td>\n      <td>[description, evaluation]</td>\n      <td>[OOP, Functional]</td>\n    </tr>\n    <tr>\n      <th>41</th>\n      <td>rayyan-354359318</td>\n      <td>Gradeer: An Open-Source Modular Hybrid Grader</td>\n      <td>B. Clegg and M. -C. Villa-Uriol and P. McMinn ...</td>\n      <td>Automated assessment has been shown to greatly...</td>\n      <td>2021</td>\n      <td>approach:semi_automatic</td>\n      <td>[dynamic, static]</td>\n      <td>[correctness, readability]</td>\n      <td>[correctness_dynamic]</td>\n      <td>[description, evaluation]</td>\n      <td>[OOP]</td>\n    </tr>\n    <tr>\n      <th>44</th>\n      <td>rayyan-354359321</td>\n      <td>Automating Testing of Visual Observed Concurrency</td>\n      <td>P. Dewan and A. Wortas and Z. Liu and S. Georg...</td>\n      <td>Existing techniques for automating the testing...</td>\n      <td>2021</td>\n      <td>approach:semi_automatic</td>\n      <td>[dynamic]</td>\n      <td>[correctness]</td>\n      <td>[correctness_dynamic]</td>\n      <td>[description, evaluation]</td>\n      <td>[OOP]</td>\n    </tr>\n    <tr>\n      <th>57</th>\n      <td>rayyan-354359337</td>\n      <td>Evaluation of a Tool for Java Structural Speci...</td>\n      <td>Dil A,Osunde J</td>\n      <td>Although a number of tools for evaluating Java...</td>\n      <td>2018</td>\n      <td>approach:semi_automatic</td>\n      <td>[dynamic, static]</td>\n      <td>[correctness, readability]</td>\n      <td>[readability_static, correctness_dynamic]</td>\n      <td>[evaluation]</td>\n      <td>[OOP]</td>\n    </tr>\n    <tr>\n      <th>62</th>\n      <td>rayyan-354359342</td>\n      <td>Autograding Distributed Algorithms in Networke...</td>\n      <td>Maicus E,Peveler M,Patterson S,Cutler B</td>\n      <td>We present a container-based system to automat...</td>\n      <td>2019</td>\n      <td>approach:semi_automatic</td>\n      <td>[dynamic]</td>\n      <td>[correctness]</td>\n      <td>[correctness_dynamic]</td>\n      <td>[description]</td>\n      <td>[Unknown]</td>\n    </tr>\n    <tr>\n      <th>67</th>\n      <td>rayyan-354359348</td>\n      <td>Effectiveness of Real-Time Feedback and Instru...</td>\n      <td>Lee HH</td>\n      <td>In this paper, we present our findings on enha...</td>\n      <td>2021</td>\n      <td>approach:semi_automatic</td>\n      <td>[dynamic]</td>\n      <td>[correctness]</td>\n      <td>[correctness_dynamic]</td>\n      <td>[description, evaluation]</td>\n      <td>[OOP]</td>\n    </tr>\n    <tr>\n      <th>95</th>\n      <td>rayyan-354359383</td>\n      <td>Automated Assessment of Learning Objectives in...</td>\n      <td>Rump A., Fehnker A., Mader A.</td>\n      <td>Individual feedback is a core ingredient of a ...</td>\n      <td>2021</td>\n      <td>approach:semi_automatic</td>\n      <td>[static]</td>\n      <td>[correctness, readability, maintainability]</td>\n      <td>[correctness_static, readability_static, maint...</td>\n      <td>[description, evaluation]</td>\n      <td>[OOP]</td>\n    </tr>\n    <tr>\n      <th>111</th>\n      <td>rayyan-354359405</td>\n      <td>Soploon: A virtual assistant to help teachers ...</td>\n      <td>Vallejos S., Berdun L.S., Armentano M.G., Sori...</td>\n      <td>When checking students’ source codes, teachers...</td>\n      <td>2018</td>\n      <td>approach:semi_automatic</td>\n      <td>[static]</td>\n      <td>[correctness, maintainability]</td>\n      <td>[correctness_static, maintainability_static]</td>\n      <td>[description, evaluation]</td>\n      <td>[OOP]</td>\n    </tr>\n    <tr>\n      <th>112</th>\n      <td>rayyan-354359406</td>\n      <td>ViDA: A virtual debugging advisor for supporti...</td>\n      <td>Lee V.C.S., Yu Y.T., Tang C.M., Wong T.L., Poo...</td>\n      <td>Many students need assistance in debugging to ...</td>\n      <td>2018</td>\n      <td>approach:semi_automatic</td>\n      <td>[dynamic]</td>\n      <td>[correctness]</td>\n      <td>[correctness_dynamic]</td>\n      <td>[description, evaluation]</td>\n      <td>[Agnostic]</td>\n    </tr>\n    <tr>\n      <th>113</th>\n      <td>rayyan-354359407</td>\n      <td>Providing meaningful feedback for autograding ...</td>\n      <td>Haldeman G., Tjang A., Babeş-Vroman M., Bartos...</td>\n      <td>Autograding systems are increasingly being dep...</td>\n      <td>2018</td>\n      <td>approach:semi_automatic</td>\n      <td>[dynamic, static]</td>\n      <td>[correctness]</td>\n      <td>[correctness_dynamic, correctness_static]</td>\n      <td>[description, evaluation]</td>\n      <td>[Unknown]</td>\n    </tr>\n  </tbody>\n</table>\n</div>"
     },
     "execution_count": 105,
     "metadata": {},
     "output_type": "execute_result"
    }
   ],
   "source": [
    "doa_df[doa_df.tags.str.contains('semi')]"
   ],
   "metadata": {
    "collapsed": false,
    "pycharm": {
     "name": "#%%\n"
    }
   }
  },
  {
   "cell_type": "markdown",
   "source": [
    "## Language Paradigms"
   ],
   "metadata": {
    "collapsed": false,
    "pycharm": {
     "name": "#%% md\n"
    }
   }
  },
  {
   "cell_type": "code",
   "execution_count": 106,
   "outputs": [
    {
     "data": {
      "text/plain": "[OOP]                83\n[Unknown]             9\n[Functional]          8\n[Agnostic]            5\n[Low-Level]           3\n[Graphics]            2\n[OOP, Graphics]       2\n[OOP, Functional]     2\n[OOP, Agnostic]       2\n[Web]                 2\n[Query]               1\n[OOP, Web]            1\n[Logic]               1\nName: lang_family, dtype: int64"
     },
     "execution_count": 106,
     "metadata": {},
     "output_type": "execute_result"
    }
   ],
   "source": [
    "lp_df = df.copy()\n",
    "lp_df.lang_family.value_counts()"
   ],
   "metadata": {
    "collapsed": false,
    "pycharm": {
     "name": "#%%\n"
    }
   }
  },
  {
   "cell_type": "code",
   "execution_count": 107,
   "outputs": [
    {
     "data": {
      "text/plain": "[OOP]                68.595041\n[Unknown]             7.438017\n[Functional]          6.611570\n[Agnostic]            4.132231\n[Low-Level]           2.479339\n[Graphics]            1.652893\n[OOP, Graphics]       1.652893\n[OOP, Functional]     1.652893\n[OOP, Agnostic]       1.652893\n[Web]                 1.652893\n[Query]               0.826446\n[OOP, Web]            0.826446\n[Logic]               0.826446\nName: lang_family, dtype: float64"
     },
     "execution_count": 107,
     "metadata": {},
     "output_type": "execute_result"
    }
   ],
   "source": [
    "(lp_df.lang_family.value_counts() / lp_df.shape[0]) * 100"
   ],
   "metadata": {
    "collapsed": false,
    "pycharm": {
     "name": "#%%\n"
    }
   }
  },
  {
   "cell_type": "markdown",
   "source": [
    "## Evaluation"
   ],
   "metadata": {
    "collapsed": false,
    "pycharm": {
     "name": "#%% md\n"
    }
   }
  },
  {
   "cell_type": "code",
   "execution_count": 108,
   "outputs": [
    {
     "data": {
      "text/plain": "evaluation:student_survey             38\nevaluation:manual_grading             36\nevaluation:analytics                  20\nevaluation:auto_grading               15\nevaluation:none                       11\nevaluation:user_study                  6\nevaluation:grading_accuracy            6\nevaluation:teacher_survey              6\nevaluation:compared_to_other_tools     5\nevaluation:anecdotal                   5\nevaluation:usage                       4\nevaluation:engagement                  3\nevaluation:grade_correlation           2\nevaluation:feedback                    2\nevaluation:correlation_grades          2\nevaluation:ml_models                   1\nName: tags, dtype: int64"
     },
     "execution_count": 108,
     "metadata": {},
     "output_type": "execute_result"
    }
   ],
   "source": [
    "eval_df = df.copy()\n",
    "eval_df.tags = eval_df.tags.apply(lambda labels: [str(label) for label in labels if label.startswith('evaluation')])\n",
    "eval_df = eval_df.explode('tags')\n",
    "eval_df.tags.value_counts()"
   ],
   "metadata": {
    "collapsed": false,
    "pycharm": {
     "name": "#%%\n"
    }
   }
  }
 ],
 "metadata": {
  "kernelspec": {
   "display_name": "Python 3",
   "language": "python",
   "name": "python3"
  },
  "language_info": {
   "codemirror_mode": {
    "name": "ipython",
    "version": 2
   },
   "file_extension": ".py",
   "mimetype": "text/x-python",
   "name": "python",
   "nbconvert_exporter": "python",
   "pygments_lexer": "ipython2",
   "version": "2.7.6"
  }
 },
 "nbformat": 4,
 "nbformat_minor": 0
}