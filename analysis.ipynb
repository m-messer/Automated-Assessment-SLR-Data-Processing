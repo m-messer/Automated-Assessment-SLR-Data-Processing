{
 "cells": [
  {
   "cell_type": "code",
   "execution_count": 131,
   "metadata": {
    "collapsed": true,
    "pycharm": {
     "name": "#%%\n"
    }
   },
   "outputs": [],
   "source": [
    "import pandas as pd\n",
    "import seaborn as sns\n",
    "import matplotlib.pyplot as plt\n",
    "\n",
    "sns.set_palette('husl')"
   ]
  },
  {
   "cell_type": "code",
   "execution_count": 132,
   "outputs": [
    {
     "name": "stderr",
     "output_type": "stream",
     "text": [
      "/var/folders/1y/6byzw1px62g2f5w7p_rhb6kh0000gn/T/ipykernel_5369/1523540997.py:2: FutureWarning: The default value of regex will change from True to False in a future version.\n",
      "  df.tags = df.tags.str.strip(\"[]\").str.replace(r\"\\s*|'\", '').str.split(',')\n"
     ]
    },
    {
     "data": {
      "text/plain": "                key                                              title  \\\n0  rayyan-354359269  An experience of automated assessment in a lar...   \n1  rayyan-354359270  Semiautomatic generation and assessment of Jav...   \n2  rayyan-354359271  A tool for evaluating computer programs from s...   \n3  rayyan-354359272  Virtual Teaching Assistant for Grading Program...   \n4  rayyan-354359273  Analysis of an automatic grading system within...   \n\n                                             authors  \\\n0  Zampirolli F.A., Borovina Josko J.M., Venero M...   \n1            Insa D., Pérez S., Silva J., Tamarit S.   \n2      Vaneck Q., Colart T., Frénay B., Vanderose B.   \n3                             Chou C.-Y., Chen Y.-J.   \n4                      Hegarty-Kelly E., Mooney D.A.   \n\n                                            abstract  year_published  \\\n0  The 2020 pandemic imposed new demands on teach...            2021   \n1  Continuous assessment is essential in educatio...            2021   \n2  Computer science studies are more and more pop...            2021   \n3  This study proposes an automated programming a...            2021   \n4  Reliable and pedagogically sound automated fee...            2021   \n\n                                                tags  \n0  [data:none, language:python, type:evaluation, ...  \n1  [feedback:rule_failure, technique:test_cases, ...  \n2  [data:none, feedback:gamified, evaluation:none...  \n3  [evaluation:auto_grading, type:evaluation, ski...  \n4  [technique:unit_testing, technique:test_cases,...  ",
      "text/html": "<div>\n<style scoped>\n    .dataframe tbody tr th:only-of-type {\n        vertical-align: middle;\n    }\n\n    .dataframe tbody tr th {\n        vertical-align: top;\n    }\n\n    .dataframe thead th {\n        text-align: right;\n    }\n</style>\n<table border=\"1\" class=\"dataframe\">\n  <thead>\n    <tr style=\"text-align: right;\">\n      <th></th>\n      <th>key</th>\n      <th>title</th>\n      <th>authors</th>\n      <th>abstract</th>\n      <th>year_published</th>\n      <th>tags</th>\n    </tr>\n  </thead>\n  <tbody>\n    <tr>\n      <th>0</th>\n      <td>rayyan-354359269</td>\n      <td>An experience of automated assessment in a lar...</td>\n      <td>Zampirolli F.A., Borovina Josko J.M., Venero M...</td>\n      <td>The 2020 pandemic imposed new demands on teach...</td>\n      <td>2021</td>\n      <td>[data:none, language:python, type:evaluation, ...</td>\n    </tr>\n    <tr>\n      <th>1</th>\n      <td>rayyan-354359270</td>\n      <td>Semiautomatic generation and assessment of Jav...</td>\n      <td>Insa D., Pérez S., Silva J., Tamarit S.</td>\n      <td>Continuous assessment is essential in educatio...</td>\n      <td>2021</td>\n      <td>[feedback:rule_failure, technique:test_cases, ...</td>\n    </tr>\n    <tr>\n      <th>2</th>\n      <td>rayyan-354359271</td>\n      <td>A tool for evaluating computer programs from s...</td>\n      <td>Vaneck Q., Colart T., Frénay B., Vanderose B.</td>\n      <td>Computer science studies are more and more pop...</td>\n      <td>2021</td>\n      <td>[data:none, feedback:gamified, evaluation:none...</td>\n    </tr>\n    <tr>\n      <th>3</th>\n      <td>rayyan-354359272</td>\n      <td>Virtual Teaching Assistant for Grading Program...</td>\n      <td>Chou C.-Y., Chen Y.-J.</td>\n      <td>This study proposes an automated programming a...</td>\n      <td>2021</td>\n      <td>[evaluation:auto_grading, type:evaluation, ski...</td>\n    </tr>\n    <tr>\n      <th>4</th>\n      <td>rayyan-354359273</td>\n      <td>Analysis of an automatic grading system within...</td>\n      <td>Hegarty-Kelly E., Mooney D.A.</td>\n      <td>Reliable and pedagogically sound automated fee...</td>\n      <td>2021</td>\n      <td>[technique:unit_testing, technique:test_cases,...</td>\n    </tr>\n  </tbody>\n</table>\n</div>"
     },
     "execution_count": 132,
     "metadata": {},
     "output_type": "execute_result"
    }
   ],
   "source": [
    "df = pd.read_csv('data/processed.csv', index_col=0, dtype={'key': str, 'title': str, 'authors': str, 'abstract': str, 'year_published': int, 'tags': object})\n",
    "df.tags = df.tags.str.strip(\"[]\").str.replace(r\"\\s*|'\", '').str.split(',')\n",
    "df.head()"
   ],
   "metadata": {
    "collapsed": false,
    "pycharm": {
     "name": "#%%\n"
    }
   }
  },
  {
   "cell_type": "markdown",
   "source": [
    "# Meta-Data\n",
    "### Years Published"
   ],
   "metadata": {
    "collapsed": false,
    "pycharm": {
     "name": "#%% md\n"
    }
   }
  },
  {
   "cell_type": "code",
   "execution_count": 133,
   "outputs": [
    {
     "data": {
      "text/plain": "   year_published  no_published\n0            2021            28\n1            2020            28\n2            2019            25\n3            2018            21\n4            2017            19",
      "text/html": "<div>\n<style scoped>\n    .dataframe tbody tr th:only-of-type {\n        vertical-align: middle;\n    }\n\n    .dataframe tbody tr th {\n        vertical-align: top;\n    }\n\n    .dataframe thead th {\n        text-align: right;\n    }\n</style>\n<table border=\"1\" class=\"dataframe\">\n  <thead>\n    <tr style=\"text-align: right;\">\n      <th></th>\n      <th>year_published</th>\n      <th>no_published</th>\n    </tr>\n  </thead>\n  <tbody>\n    <tr>\n      <th>0</th>\n      <td>2021</td>\n      <td>28</td>\n    </tr>\n    <tr>\n      <th>1</th>\n      <td>2020</td>\n      <td>28</td>\n    </tr>\n    <tr>\n      <th>2</th>\n      <td>2019</td>\n      <td>25</td>\n    </tr>\n    <tr>\n      <th>3</th>\n      <td>2018</td>\n      <td>21</td>\n    </tr>\n    <tr>\n      <th>4</th>\n      <td>2017</td>\n      <td>19</td>\n    </tr>\n  </tbody>\n</table>\n</div>"
     },
     "execution_count": 133,
     "metadata": {},
     "output_type": "execute_result"
    }
   ],
   "source": [
    "count_years = df.year_published.value_counts().reset_index().rename(columns={'index': 'year_published', 'year_published': 'no_published'})\n",
    "count_years.head()"
   ],
   "metadata": {
    "collapsed": false,
    "pycharm": {
     "name": "#%%\n"
    }
   }
  },
  {
   "cell_type": "code",
   "execution_count": 134,
   "outputs": [
    {
     "data": {
      "text/plain": "123"
     },
     "execution_count": 134,
     "metadata": {},
     "output_type": "execute_result"
    }
   ],
   "source": [
    "count_years.no_published.sum()"
   ],
   "metadata": {
    "collapsed": false,
    "pycharm": {
     "name": "#%%\n"
    }
   }
  },
  {
   "cell_type": "code",
   "execution_count": 135,
   "outputs": [
    {
     "data": {
      "text/plain": "<Figure size 500x500 with 1 Axes>",
      "image/png": "[encoded data removed]"
     },
     "metadata": {},
     "output_type": "display_data"
    }
   ],
   "source": [
    "sns.catplot(count_years, kind='bar', x='year_published', y='no_published')\n",
    "plt.savefig('plots/years_published.png')"
   ],
   "metadata": {
    "collapsed": false,
    "pycharm": {
     "name": "#%%\n"
    }
   }
  },
  {
   "cell_type": "markdown",
   "source": [
    "## Paper Types"
   ],
   "metadata": {
    "collapsed": false,
    "pycharm": {
     "name": "#%% md\n"
    }
   }
  },
  {
   "cell_type": "code",
   "execution_count": 136,
   "outputs": [
    {
     "data": {
      "text/plain": "          paper_type  no_type\n0         evaluation       99\n1        description       93\n2  experience_report       13\n3         demo_paper        1",
      "text/html": "<div>\n<style scoped>\n    .dataframe tbody tr th:only-of-type {\n        vertical-align: middle;\n    }\n\n    .dataframe tbody tr th {\n        vertical-align: top;\n    }\n\n    .dataframe thead th {\n        text-align: right;\n    }\n</style>\n<table border=\"1\" class=\"dataframe\">\n  <thead>\n    <tr style=\"text-align: right;\">\n      <th></th>\n      <th>paper_type</th>\n      <th>no_type</th>\n    </tr>\n  </thead>\n  <tbody>\n    <tr>\n      <th>0</th>\n      <td>evaluation</td>\n      <td>99</td>\n    </tr>\n    <tr>\n      <th>1</th>\n      <td>description</td>\n      <td>93</td>\n    </tr>\n    <tr>\n      <th>2</th>\n      <td>experience_report</td>\n      <td>13</td>\n    </tr>\n    <tr>\n      <th>3</th>\n      <td>demo_paper</td>\n      <td>1</td>\n    </tr>\n  </tbody>\n</table>\n</div>"
     },
     "execution_count": 136,
     "metadata": {},
     "output_type": "execute_result"
    }
   ],
   "source": [
    "paper_types = pd.Series([tag[5:] for tags in df.tags for tag in tags if tag.startswith('type')]).value_counts().reset_index()\n",
    "paper_types.columns = [\"paper_type\", 'no_type']\n",
    "paper_types.head()"
   ],
   "metadata": {
    "collapsed": false,
    "pycharm": {
     "name": "#%%\n"
    }
   }
  },
  {
   "cell_type": "code",
   "execution_count": 137,
   "outputs": [
    {
     "data": {
      "text/plain": "<Figure size 500x500 with 1 Axes>",
      "image/png": "[encoded data removed]"
     },
     "metadata": {},
     "output_type": "display_data"
    }
   ],
   "source": [
    "sns.catplot(paper_types, kind='bar', x='paper_type', y='no_type')\n",
    "plt.xticks(rotation=40)\n",
    "plt.savefig('plots/paper_types.png')"
   ],
   "metadata": {
    "collapsed": false,
    "pycharm": {
     "name": "#%%\n"
    }
   }
  },
  {
   "cell_type": "markdown",
   "source": [
    "## Degree of Automation"
   ],
   "metadata": {
    "collapsed": false,
    "pycharm": {
     "name": "#%% md\n"
    }
   }
  },
  {
   "cell_type": "code",
   "execution_count": 138,
   "outputs": [
    {
     "data": {
      "text/plain": "  degree_of_automation  number\n0      fully_automated     100\n1       semi_automatic      17\n2              unclear       6",
      "text/html": "<div>\n<style scoped>\n    .dataframe tbody tr th:only-of-type {\n        vertical-align: middle;\n    }\n\n    .dataframe tbody tr th {\n        vertical-align: top;\n    }\n\n    .dataframe thead th {\n        text-align: right;\n    }\n</style>\n<table border=\"1\" class=\"dataframe\">\n  <thead>\n    <tr style=\"text-align: right;\">\n      <th></th>\n      <th>degree_of_automation</th>\n      <th>number</th>\n    </tr>\n  </thead>\n  <tbody>\n    <tr>\n      <th>0</th>\n      <td>fully_automated</td>\n      <td>100</td>\n    </tr>\n    <tr>\n      <th>1</th>\n      <td>semi_automatic</td>\n      <td>17</td>\n    </tr>\n    <tr>\n      <th>2</th>\n      <td>unclear</td>\n      <td>6</td>\n    </tr>\n  </tbody>\n</table>\n</div>"
     },
     "execution_count": 138,
     "metadata": {},
     "output_type": "execute_result"
    }
   ],
   "source": [
    "auto = pd.Series([tag[9:] for tags in df.tags for tag in tags if tag.startswith('approach')]).value_counts().reset_index()\n",
    "auto.columns = [\"degree_of_automation\", 'number']\n",
    "auto.head()"
   ],
   "metadata": {
    "collapsed": false,
    "pycharm": {
     "name": "#%%\n"
    }
   }
  },
  {
   "cell_type": "code",
   "execution_count": 139,
   "outputs": [
    {
     "data": {
      "text/plain": "123"
     },
     "execution_count": 139,
     "metadata": {},
     "output_type": "execute_result"
    }
   ],
   "source": [
    "auto.number.sum()"
   ],
   "metadata": {
    "collapsed": false,
    "pycharm": {
     "name": "#%%\n"
    }
   }
  },
  {
   "cell_type": "code",
   "execution_count": 140,
   "outputs": [
    {
     "data": {
      "text/plain": "                                                 title  \\\n0    An experience of automated assessment in a lar...   \n1    Semiautomatic generation and assessment of Jav...   \n2    A tool for evaluating computer programs from s...   \n3    Virtual Teaching Assistant for Grading Program...   \n4    Analysis of an automatic grading system within...   \n..                                                 ...   \n118  Learning and teaching numerical methods with a...   \n119  Ask-Elle: an Adaptable Programming Tutor for H...   \n120       An AI system for coaching novice programmers   \n121  Automatic extraction of AST patterns for debug...   \n122  Self- and automated assessment in programming ...   \n\n                           tags  \n0    [approach:fully_automated]  \n1     [approach:semi_automatic]  \n2    [approach:fully_automated]  \n3     [approach:semi_automatic]  \n4    [approach:fully_automated]  \n..                          ...  \n118  [approach:fully_automated]  \n119  [approach:fully_automated]  \n120  [approach:fully_automated]  \n121  [approach:fully_automated]  \n122          [approach:unclear]  \n\n[123 rows x 2 columns]",
      "text/html": "<div>\n<style scoped>\n    .dataframe tbody tr th:only-of-type {\n        vertical-align: middle;\n    }\n\n    .dataframe tbody tr th {\n        vertical-align: top;\n    }\n\n    .dataframe thead th {\n        text-align: right;\n    }\n</style>\n<table border=\"1\" class=\"dataframe\">\n  <thead>\n    <tr style=\"text-align: right;\">\n      <th></th>\n      <th>title</th>\n      <th>tags</th>\n    </tr>\n  </thead>\n  <tbody>\n    <tr>\n      <th>0</th>\n      <td>An experience of automated assessment in a lar...</td>\n      <td>[approach:fully_automated]</td>\n    </tr>\n    <tr>\n      <th>1</th>\n      <td>Semiautomatic generation and assessment of Jav...</td>\n      <td>[approach:semi_automatic]</td>\n    </tr>\n    <tr>\n      <th>2</th>\n      <td>A tool for evaluating computer programs from s...</td>\n      <td>[approach:fully_automated]</td>\n    </tr>\n    <tr>\n      <th>3</th>\n      <td>Virtual Teaching Assistant for Grading Program...</td>\n      <td>[approach:semi_automatic]</td>\n    </tr>\n    <tr>\n      <th>4</th>\n      <td>Analysis of an automatic grading system within...</td>\n      <td>[approach:fully_automated]</td>\n    </tr>\n    <tr>\n      <th>...</th>\n      <td>...</td>\n      <td>...</td>\n    </tr>\n    <tr>\n      <th>118</th>\n      <td>Learning and teaching numerical methods with a...</td>\n      <td>[approach:fully_automated]</td>\n    </tr>\n    <tr>\n      <th>119</th>\n      <td>Ask-Elle: an Adaptable Programming Tutor for H...</td>\n      <td>[approach:fully_automated]</td>\n    </tr>\n    <tr>\n      <th>120</th>\n      <td>An AI system for coaching novice programmers</td>\n      <td>[approach:fully_automated]</td>\n    </tr>\n    <tr>\n      <th>121</th>\n      <td>Automatic extraction of AST patterns for debug...</td>\n      <td>[approach:fully_automated]</td>\n    </tr>\n    <tr>\n      <th>122</th>\n      <td>Self- and automated assessment in programming ...</td>\n      <td>[approach:unclear]</td>\n    </tr>\n  </tbody>\n</table>\n<p>123 rows × 2 columns</p>\n</div>"
     },
     "execution_count": 140,
     "metadata": {},
     "output_type": "execute_result"
    }
   ],
   "source": [
    "pd.concat([df.title, df.tags.apply(lambda labels: [label for label in labels if 'approach' in label])], axis=1)"
   ],
   "metadata": {
    "collapsed": false,
    "pycharm": {
     "name": "#%%\n"
    }
   }
  },
  {
   "cell_type": "markdown",
   "source": [
    "## Interaction type"
   ],
   "metadata": {
    "collapsed": false,
    "pycharm": {
     "name": "#%% md\n"
    }
   }
  }
 ],
 "metadata": {
  "kernelspec": {
   "display_name": "Python 3",
   "language": "python",
   "name": "python3"
  },
  "language_info": {
   "codemirror_mode": {
    "name": "ipython",
    "version": 2
   },
   "file_extension": ".py",
   "mimetype": "text/x-python",
   "name": "python",
   "nbconvert_exporter": "python",
   "pygments_lexer": "ipython2",
   "version": "2.7.6"
  }
 },
 "nbformat": 4,
 "nbformat_minor": 0
}