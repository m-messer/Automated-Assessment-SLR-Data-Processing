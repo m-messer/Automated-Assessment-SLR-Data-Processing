{
 "cells": [
  {
   "cell_type": "code",
   "execution_count": null,
   "metadata": {},
   "outputs": [],
   "source": [
    "import pandas as pd\n",
    "import seaborn as sns\n",
    "import matplotlib.pyplot as plt\n",
    "import networkx as nx\n",
    "import plotly.graph_objects as go"
   ]
  },
  {
   "cell_type": "code",
   "execution_count": null,
   "metadata": {},
   "outputs": [],
   "source": [
    "df = pd.read_pickle('data/processed.pickle')\n",
    "df.head()"
   ]
  },
  {
   "cell_type": "markdown",
   "metadata": {
    "collapsed": false
   },
   "source": [
    "# Meta-Data\n",
    "### Years Published"
   ]
  },
  {
   "cell_type": "code",
   "execution_count": null,
   "metadata": {},
   "outputs": [],
   "source": [
    "count_years = df.year_published.value_counts().reset_index()\n",
    "count_years.head()"
   ]
  },
  {
   "cell_type": "code",
   "execution_count": null,
   "metadata": {},
   "outputs": [],
   "source": [
    "count_years['count'].sum()"
   ]
  },
  {
   "cell_type": "code",
   "execution_count": null,
   "metadata": {},
   "outputs": [],
   "source": [
    "years_plt = sns.catplot(count_years, kind='bar', x='year_published', y='count', color='darkgrey')\n",
    "years_plt.set(xlabel='Year Published', ylabel='Number Published')\n",
    "plt.savefig('plots/years_published.pdf')"
   ]
  },
  {
   "cell_type": "markdown",
   "metadata": {
    "collapsed": false
   },
   "source": [
    "# List formatter"
   ]
  },
  {
   "cell_type": "code",
   "execution_count": null,
   "metadata": {},
   "outputs": [],
   "source": [
    "def list_formatter(items):\n",
    "    if len(items) == 1:\n",
    "        return (\"Only \" + items[0]).title()\n",
    "    else:\n",
    "        return (', '.join(items[0:len(items) - 1]) + \" and \" + items[len(items) - 1]).title()"
   ]
  },
  {
   "cell_type": "markdown",
   "metadata": {
    "collapsed": false
   },
   "source": [
    "## Paper Types"
   ]
  },
  {
   "cell_type": "code",
   "execution_count": null,
   "metadata": {},
   "outputs": [],
   "source": [
    "paper_types = pd.Series([paper_type for paper_type in df.types]).value_counts().reset_index()\n",
    "paper_types.columns = [\"paper_type\", 'no_type']\n",
    "paper_types['proportion'] = (paper_types.no_type / paper_types.no_type.sum()) * 100\n",
    "paper_types.paper_type = paper_types.paper_type.apply(lambda pt: list_formatter(pt))\n",
    "paper_types"
   ]
  },
  {
   "cell_type": "code",
   "execution_count": null,
   "metadata": {},
   "outputs": [],
   "source": [
    "paper_types.no_type.sum()"
   ]
  },
  {
   "cell_type": "code",
   "execution_count": null,
   "metadata": {},
   "outputs": [],
   "source": [
    "ax_type = sns.barplot(paper_types, y='paper_type', x='proportion', color='darkgrey')\n",
    "ax_type.set(xlabel = 'Proportion (%)', ylabel='Paper Type')\n",
    "plt.xlim([0, 101])\n",
    "plt.savefig('plots/paper_types.pdf', bbox_inches='tight')"
   ]
  },
  {
   "cell_type": "markdown",
   "metadata": {
    "collapsed": false
   },
   "source": [
    "## Degree of Automation"
   ]
  },
  {
   "cell_type": "code",
   "execution_count": null,
   "metadata": {},
   "outputs": [],
   "source": [
    "auto = pd.Series([tag.replace('approach:', '') for tags in df.tags for tag in tags if tag.startswith('approach')]).value_counts().reset_index()\n",
    "auto.columns = [\"degree_of_automation\", 'number']\n",
    "auto['proportion'] = (auto.number / auto.number.sum()) * 100\n",
    "auto.head()"
   ]
  },
  {
   "cell_type": "code",
   "execution_count": null,
   "metadata": {},
   "outputs": [],
   "source": [
    "auto.number.sum()"
   ]
  },
  {
   "cell_type": "code",
   "execution_count": null,
   "metadata": {},
   "outputs": [],
   "source": [
    "pd.concat([df.title, df.tags.apply(lambda labels: [label for label in labels if 'approach' in label])], axis=1)"
   ]
  },
  {
   "cell_type": "code",
   "execution_count": null,
   "metadata": {},
   "outputs": [],
   "source": [
    "auto.degree_of_automation = auto.degree_of_automation.str.replace('_', ' ').str.title()\n",
    "auto"
   ]
  },
  {
   "cell_type": "code",
   "execution_count": null,
   "metadata": {},
   "outputs": [],
   "source": [
    "ax_doa = sns.barplot(auto, y='degree_of_automation', x='proportion', color='darkgrey')\n",
    "ax_doa.set(xlabel = 'Proportion (%)', ylabel='Degree of Automation')\n",
    "plt.xlim([0, 101])\n",
    "plt.savefig('plots/auto_degree.pdf', bbox_inches='tight')"
   ]
  },
  {
   "cell_type": "markdown",
   "metadata": {
    "collapsed": false
   },
   "source": [
    "## Interaction type"
   ]
  },
  {
   "cell_type": "code",
   "execution_count": null,
   "metadata": {},
   "outputs": [],
   "source": [
    "inter = pd.Series([tag.replace('interaction:', '') for tags in df.tags for tag in tags if tag.startswith('interaction')]).value_counts().reset_index()\n",
    "inter.columns = [\"interaction\", 'number']\n",
    "inter['proportion'] = (inter.number / inter.number.sum()) * 100\n",
    "inter.head()"
   ]
  },
  {
   "cell_type": "code",
   "execution_count": null,
   "metadata": {},
   "outputs": [],
   "source": [
    "inter.number.sum()"
   ]
  },
  {
   "cell_type": "code",
   "execution_count": null,
   "metadata": {},
   "outputs": [],
   "source": [
    "pd.concat([df.title, df.tags.apply(lambda labels: [label for label in labels if 'interaction' in label])], axis=1)"
   ]
  },
  {
   "cell_type": "code",
   "execution_count": null,
   "metadata": {},
   "outputs": [],
   "source": [
    "inter.interaction = inter.interaction.str.title()\n",
    "inter"
   ]
  },
  {
   "cell_type": "code",
   "execution_count": null,
   "metadata": {},
   "outputs": [],
   "source": [
    "ax_int = sns.barplot(inter, y='interaction', x='proportion', color='darkgrey')\n",
    "ax_int.set(xlabel = 'Proportion (%)', ylabel='Interaction Type')\n",
    "plt.xlim([0, 101])\n",
    "plt.savefig('plots/interaction.pdf', bbox_inches='tight')"
   ]
  },
  {
   "cell_type": "markdown",
   "metadata": {
    "collapsed": false
   },
   "source": [
    "# Skills"
   ]
  },
  {
   "cell_type": "code",
   "execution_count": null,
   "metadata": {},
   "outputs": [],
   "source": [
    "skills = pd.Series([skill for skill in df.skills]).value_counts().reset_index()\n",
    "skills.columns = [\"skills\", 'number']\n",
    "\n",
    "skills['proportion'] = (skills.number / skills.number.sum()) * 100\n",
    "skills.skills = skills.skills.apply(lambda pt: list_formatter(pt))\n",
    "skills"
   ]
  },
  {
   "cell_type": "code",
   "execution_count": null,
   "metadata": {},
   "outputs": [],
   "source": [
    "skills.number.sum()"
   ]
  },
  {
   "cell_type": "code",
   "execution_count": null,
   "metadata": {},
   "outputs": [],
   "source": [
    "ax_skill = sns.barplot(skills, y='skills', x='proportion', color='darkgrey')\n",
    "ax_skill.set(xlabel = 'Proportion (%)', ylabel='Skills Graded')\n",
    "plt.xlim([0, 101])\n",
    "plt.savefig('plots/skills.pdf', bbox_inches='tight')"
   ]
  },
  {
   "cell_type": "markdown",
   "metadata": {
    "collapsed": false
   },
   "source": [
    "# Skill-Category Complete Mapping\n",
    "## 1D Plots"
   ]
  },
  {
   "cell_type": "code",
   "execution_count": null,
   "metadata": {},
   "outputs": [],
   "source": [
    "def skill_cat_formatter(sk):\n",
    "    sk = [s.split('_') for s in sk]\n",
    "\n",
    "    if len(sk) == 1:\n",
    "        return \" using \".join(sk[0]).title()\n",
    "    elif len(sk) == 2:\n",
    "        if sk[0][0] == sk[1][0]:\n",
    "            return (sk[0][0] + ' using ' + sk[0][1] + ' and ' + sk[1][1]).title()\n",
    "        if sk[0][1] == sk[1][1]:\n",
    "            return (sk[0][0] + ' and ' + sk[1][0] + ' using ' + sk[0][1]).title()\n",
    "        else:\n",
    "            return (\" and \".join([' using '.join(s) for s in sk])).title()\n",
    "    else:\n",
    "        return sk"
   ]
  },
  {
   "cell_type": "code",
   "execution_count": null,
   "metadata": {},
   "outputs": [],
   "source": [
    "skill_cat_count = df.skill_cat.value_counts().reset_index().copy()\n",
    "skill_cat_count.columns = [\"skill_cat\", 'number']\n",
    "skill_cat_count['proportion'] = (skill_cat_count.number / skill_cat_count.number.sum()) * 100\n",
    "skill_cat_count.skill_cat = skill_cat_count.skill_cat.apply(lambda sk: skill_cat_formatter(sk))\n",
    "skill_cat_count.skill_cat = skill_cat_count.skill_cat.str.replace('Ml', 'ML')\n",
    "skill_cat_count"
   ]
  },
  {
   "cell_type": "code",
   "execution_count": null,
   "metadata": {},
   "outputs": [],
   "source": [
    "skill_cat_count.number.sum()"
   ]
  },
  {
   "cell_type": "code",
   "execution_count": null,
   "metadata": {},
   "outputs": [],
   "source": [
    "ax_skill_cat = sns.barplot(skill_cat_count[skill_cat_count.number > 2], y='skill_cat', x='proportion', color='darkgrey')\n",
    "ax_skill_cat.set(xlabel = 'proportion (%)')\n",
    "plt.xlim([0, 101])\n",
    "plt.savefig('plots/skill_cat.pdf', bbox_inches='tight')"
   ]
  },
  {
   "cell_type": "code",
   "execution_count": null,
   "metadata": {},
   "outputs": [],
   "source": [
    "skill_cat_exp = df.explode('skill_cat').skill_cat.value_counts().reset_index()\n",
    "skill_cat_exp.columns = [\"skill_cat\", 'number']\n",
    "skill_cat_exp['proportion'] = (skill_cat_exp.number / skill_cat_exp.number.sum()) * 100\n",
    "skill_cat_exp.skill_cat = skill_cat_exp.skill_cat.str.replace('_', ' ').str.title()\n",
    "skill_cat_exp.head()"
   ]
  },
  {
   "cell_type": "code",
   "execution_count": null,
   "metadata": {},
   "outputs": [],
   "source": [
    "skill_cat_exp.number.sum()"
   ]
  },
  {
   "cell_type": "code",
   "execution_count": null,
   "metadata": {},
   "outputs": [],
   "source": [
    "ax_skill_cat_exp = sns.barplot(skill_cat_exp, y='skill_cat', x='proportion', color='darkgrey')\n",
    "ax_skill_cat_exp.set(xlabel = 'Proportion (%)', ylabel='Skills Graded by Approach')\n",
    "plt.xlim([0, 101])\n",
    "plt.savefig('plots/skill_cat_exp.pdf', bbox_inches='tight')"
   ]
  },
  {
   "cell_type": "markdown",
   "metadata": {
    "collapsed": false
   },
   "source": [
    "## Skill Category 2D plots"
   ]
  },
  {
   "cell_type": "code",
   "execution_count": null,
   "metadata": {},
   "outputs": [],
   "source": [
    "skill_cat_2d = df[['title', 'skill_cat']].explode('skill_cat').copy()\n",
    "skill_cat_2d.head()"
   ]
  },
  {
   "cell_type": "code",
   "execution_count": null,
   "metadata": {},
   "outputs": [],
   "source": [
    "split_df = skill_cat_2d.skill_cat.str.split('_', expand=True)\n",
    "skill_cat_2d_split = pd.concat([skill_cat_2d, split_df],axis=1).drop(columns='skill_cat')\n",
    "skill_cat_2d_split.columns = ['title', 'skill', 'category']\n",
    "skill_cat_2d_split.head()"
   ]
  },
  {
   "cell_type": "code",
   "execution_count": null,
   "metadata": {},
   "outputs": [],
   "source": [
    "skill_cat_2d_grp = skill_cat_2d_split.groupby(['skill', 'category']).count().reset_index()\n",
    "skill_cat_2d_grp.columns = ['skill', 'category', 'number']\n",
    "skill_cat_2d_grp = skill_cat_2d_grp.sort_values('number', ascending=False)\n",
    "skill_cat_2d_grp.head()\n",
    "skill_cat_2d_grp.to_csv('data/skill_cat.csv')"
   ]
  },
  {
   "cell_type": "code",
   "execution_count": null,
   "metadata": {},
   "outputs": [],
   "source": [
    "sns.scatterplot(skill_cat_2d_grp, y='skill', x='category', size='number', sizes=(10, 500), legend=False)\n",
    "plt.savefig('plots/skill_cat_2d_bubble.pdf', bbox_inches='tight')"
   ]
  },
  {
   "cell_type": "markdown",
   "metadata": {
    "collapsed": false
   },
   "source": [
    "### Bipartie"
   ]
  },
  {
   "cell_type": "code",
   "execution_count": null,
   "metadata": {},
   "outputs": [],
   "source": [
    "skill_cat_bp = skill_cat_2d_grp.copy()\n",
    "\n",
    "skill_cat_bp.skill = skill_cat_bp.skill.map(lambda x: x[:4])\n",
    "skill_cat_bp.category = skill_cat_bp.category.map(lambda x: x[:4])\n",
    "\n",
    "skill_cat_bp['proportion'] = (skill_cat_bp.number / skill_cat_bp.number.sum()) * 50\n",
    "\n",
    "skill_cat_bp"
   ]
  },
  {
   "cell_type": "code",
   "execution_count": null,
   "metadata": {},
   "outputs": [],
   "source": [
    "# Adapted from documentation\n",
    "color_map_skill = {'corr':'b', 'read':'g', 'main':'r', 'docu':'c'}\n",
    "\n",
    "\n",
    "B = nx.Graph()\n",
    "B.add_nodes_from(['corr', 'read', 'main', 'docu'], bipartite=0)\n",
    "B.add_nodes_from(['dyna', 'stat', 'ml'], bipartite=1)\n",
    "\n",
    "bp_raw = list(skill_cat_bp.itertuples(index=False,name=None))\n",
    "\n",
    "for e in bp_raw:\n",
    "    B.add_edge(e[0], e[1], count=e[2], width=e[3], color=color_map_skill[e[0]])\n",
    "\n",
    "\n",
    "# Separate by group\n",
    "l, r = nx.bipartite.sets(B)\n",
    "pos = {}\n",
    "\n",
    "# Update position for node from each group\n",
    "pos.update((node, (1, index)) for index, node in enumerate(l))\n",
    "pos.update((node, (2, index)) for index, node in enumerate(r))\n",
    "\n",
    "nodes = B.nodes()\n",
    "node_colors = [color_map_skill[n] if n in color_map_skill else 'm' for n in nodes]\n",
    "\n",
    "edges = B.edges()\n",
    "edge_colors = [B[u][v]['color'] for u, v in edges]\n",
    "weights = [B[u][v]['width'] for u, v in edges]\n",
    "\n",
    "nx.draw(B, pos, edge_color=edge_colors, width=weights, node_size=1500, node_color=node_colors)\n",
    "\n",
    "# node labels\n",
    "nx.draw_networkx_labels(B, pos, font_size=14, font_family=\"sans-serif\")\n",
    "\n",
    "# edge weight labels\n",
    "edge_labels = nx.get_edge_attributes(B, \"count\")\n",
    "\n",
    "nx.draw_networkx_edge_labels(B, pos, edge_labels, label_pos=0.8)\n",
    "plt.savefig('plots/skill_cat_bipartie.png')"
   ]
  },
  {
   "cell_type": "markdown",
   "metadata": {
    "collapsed": false
   },
   "source": [
    "### Sankey Diagram"
   ]
  },
  {
   "cell_type": "code",
   "execution_count": null,
   "metadata": {},
   "outputs": [],
   "source": [
    "skill_cat_sankey = skill_cat_2d_grp.copy()\n",
    "\n",
    "skill_cat_sankey.sort_values(by=['skill', 'category']).reset_index().drop(columns=['index'])"
   ]
  },
  {
   "cell_type": "code",
   "execution_count": null,
   "metadata": {},
   "outputs": [],
   "source": [
    "CORRECTNESS_COLOR = '#E6798A'\n",
    "MAINTAINABILITY_COLOR = '#59A1E6'\n",
    "READABILITY_COLOR = '#6AAF46'\n",
    "DOCUMENTATION_COLOR = '#B59945'\n",
    "\n",
    "fig = go.Figure(data=[go.Sankey(\n",
    "    node = dict(\n",
    "        pad = 15,\n",
    "        thickness = 20,\n",
    "        line = dict(color=\"black\", width = 0.5),\n",
    "        label = skill_cat_sankey.skill.unique().tolist() + skill_cat_sankey.category.unique().tolist(),\n",
    "        color = [CORRECTNESS_COLOR, READABILITY_COLOR, MAINTAINABILITY_COLOR, DOCUMENTATION_COLOR, 'grey', 'grey', 'grey']\n",
    "    ),\n",
    "    link = dict(\n",
    "        source = [0, 0, 0, 1, 2, 2, 3, 3],\n",
    "        target = [4, 5, 6, 6, 4, 6, 5, 6],\n",
    "        value = skill_cat_sankey.number.tolist(),\n",
    "        color = [CORRECTNESS_COLOR, CORRECTNESS_COLOR, CORRECTNESS_COLOR, READABILITY_COLOR, MAINTAINABILITY_COLOR, MAINTAINABILITY_COLOR, DOCUMENTATION_COLOR, DOCUMENTATION_COLOR]\n",
    "    )\n",
    ")])\n",
    "\n",
    "fig.update_layout(\n",
    "    hovermode = 'x',\n",
    "    font=dict(size = 10, color = 'black'),\n",
    "    plot_bgcolor='white',\n",
    "    paper_bgcolor='white'\n",
    ")\n",
    "\n",
    "fig.show()\n",
    "fig.write_image(\"plots/skill_cat_sankey.pdf\")"
   ]
  },
  {
   "cell_type": "markdown",
   "metadata": {
    "collapsed": false
   },
   "source": [
    "## Skill Category Over Time\n",
    "### Skill Category Combined"
   ]
  },
  {
   "cell_type": "code",
   "execution_count": null,
   "metadata": {},
   "outputs": [],
   "source": [
    "skill_cat_time = df[['skill_cat', 'year_published']].copy()\n",
    "skill_cat_time = skill_cat_time.explode('skill_cat')\n",
    "skill_cat_time.head()"
   ]
  },
  {
   "cell_type": "code",
   "execution_count": null,
   "metadata": {},
   "outputs": [],
   "source": [
    "skill_cat_time_grp = skill_cat_time.copy()\n",
    "skill_cat_time_grp.skill_cat = skill_cat_time_grp.skill_cat.str.replace('_', ' ').str.title()\n",
    "skill_cat_time_grp.year_published = skill_cat_time_grp.year_published.astype(str)\n",
    "skill_cat_time_grp['cumulative_sum'] = 0\n",
    "skill_cat_time_grp = skill_cat_time_grp.groupby(['skill_cat', 'year_published']).count().groupby(level=0).cumsum().reset_index()\n",
    "\n",
    "skill_cat_time_grp.head()"
   ]
  },
  {
   "cell_type": "code",
   "execution_count": null,
   "metadata": {},
   "outputs": [],
   "source": [
    "sns.lineplot(skill_cat_time_grp, x='year_published', y='cumulative_sum', hue='skill_cat')\n",
    "plt.legend(loc='upper left')\n",
    "plt.savefig('plots/skill_cat_time.pdf')"
   ]
  },
  {
   "cell_type": "markdown",
   "metadata": {
    "collapsed": false
   },
   "source": [
    "### Skill Category Split"
   ]
  },
  {
   "cell_type": "code",
   "execution_count": null,
   "metadata": {},
   "outputs": [],
   "source": [
    "skill_cat_time_s = df[['skill_cat', 'year_published']].copy()\n",
    "skill_cat_time_s = skill_cat_time_s.explode('skill_cat')\n",
    "split = skill_cat_time_s.skill_cat.str.split('_', expand=True)\n",
    "skill_cat_time_s = pd.concat([skill_cat_time_s, split], axis=1)\n",
    "skill_cat_time_s = skill_cat_time_s.drop(columns='skill_cat')\n",
    "skill_cat_time_s.columns = ['year_published', 'skill', 'category']\n",
    "skill_cat_time_s.head()"
   ]
  },
  {
   "cell_type": "code",
   "execution_count": null,
   "metadata": {},
   "outputs": [],
   "source": [
    "skill_cat_time_s['total'] = 0\n",
    "skill_cat_s_g = skill_cat_time_s.groupby(['year_published', 'skill', 'category']).count().reset_index().sort_values(['skill', 'category'])\n",
    "skill_cat_s_g.category = skill_cat_s_g.category.replace('ml', 'machine learning')\n",
    "skill_cat_s_g"
   ]
  },
  {
   "cell_type": "code",
   "execution_count": null,
   "metadata": {},
   "outputs": [],
   "source": [
    "color_map_year = {2017:'b', 2018:'g', 2019:'r', 2020:'c', 2021:'m'}\n",
    "hatch_map_year = {2017:'//', 2018:'+', 2019:'\\\\', 2020:'-', 2021:'o'}\n",
    "MARKER_SCALE = 100\n",
    "\n",
    "def plot_years(sub_ax, skill, cat):\n",
    "\n",
    "    temp_df = skill_cat_s_g[skill_cat_s_g.skill == skill]\n",
    "    temp_df = temp_df[temp_df.category == cat]\n",
    "\n",
    "    for index, row in temp_df.iterrows():\n",
    "        x = [row.year_published for i in range(row.total)]\n",
    "        y = [1 for i in range(row.total)]\n",
    "\n",
    "        sub_ax.scatter(x, y, c='darkgrey', hatch=(3 * hatch_map_year[row.year_published]), label=row.year_published, s=(row.total * MARKER_SCALE))\n",
    "        sub_ax.set(xlim=[2016, 2022])\n",
    "\n"
   ]
  },
  {
   "cell_type": "code",
   "execution_count": null,
   "metadata": {},
   "outputs": [],
   "source": [
    "\n",
    "import numpy as np\n",
    "import matplotlib.patches as mpatches\n",
    "\n",
    "fig = plt.figure()\n",
    "grid = fig.add_gridspec(4, 3, wspace=0, hspace=0)\n",
    "\n",
    "axs = grid.subplots()\n",
    "\n",
    "skills = ['correctness', 'maintainability', 'readability', 'documentation']\n",
    "category = ['dynamic', 'static', 'machine learning']\n",
    "\n",
    "for (s, c), ax in np.ndenumerate(axs):\n",
    "    plot_years(ax, skills[s], category[c])\n",
    "    ax.set(xticks=[], yticks=[], xlabel=category[c].title())\n",
    "\n",
    "    if c == 0:\n",
    "        ax.set(ylabel=skills[s].title())\n",
    "\n",
    "    if c == 0 and s == 3:\n",
    "        patches = [mpatches.Patch(label=year, hatch=(3 * hatch)) for year, hatch in hatch_map_year.items()]\n",
    "        ax.legend(handles=patches, loc='lower left')\n",
    "\n",
    "fig.supxlabel('Approach Implemented')\n",
    "fig.supylabel('Skill Graded')\n",
    "plt.savefig('plots/skill_cat_time_sep.pdf')"
   ]
  },
  {
   "cell_type": "markdown",
   "metadata": {
    "collapsed": false
   },
   "source": [
    "# Grading/Feedback Techniques"
   ]
  },
  {
   "cell_type": "code",
   "execution_count": null,
   "metadata": {},
   "outputs": [],
   "source": [
    "tech_df = pd.Series([tag.replace('technique:', '') for tags in df.tags for tag in tags if tag.startswith('technique')]).value_counts().reset_index()\n",
    "tech_df.columns = [\"technique\", 'number']\n",
    "tech_df['proportion'] = (tech_df.number / tech_df.number.sum()) * 100\n",
    "tech_df"
   ]
  },
  {
   "cell_type": "code",
   "execution_count": null,
   "metadata": {},
   "outputs": [],
   "source": [
    "def add_cats(tech):\n",
    "    if tech in ['unit_testing', 'property_based_testing', 'ci', 'output_matching']:\n",
    "        return 'dynamic'\n",
    "    if tech in ['pattern_matching', 'static_analysis', 'code_metrics', 'cluster',\n",
    "                'style_check', 'program_repair', 'rule_based', 'dsl_rules', 'model_solution_req',\n",
    "                'model_solution_closeness', 'code_repair_for_feedback']:\n",
    "        return 'static'\n",
    "    if tech in ['machine_learning', 'misc']:\n",
    "        return 'other'"
   ]
  },
  {
   "cell_type": "code",
   "execution_count": null,
   "metadata": {},
   "outputs": [],
   "source": [
    "tech_df['category'] = tech_df.technique.apply(lambda tech: add_cats(tech))\n",
    "tech_df"
   ]
  },
  {
   "cell_type": "code",
   "execution_count": null,
   "metadata": {},
   "outputs": [],
   "source": [
    "tech_df.category.isna().sum()"
   ]
  },
  {
   "cell_type": "code",
   "execution_count": null,
   "metadata": {},
   "outputs": [],
   "source": [
    "tech_df[tech_df.category.isna()]"
   ]
  },
  {
   "cell_type": "code",
   "execution_count": null,
   "metadata": {},
   "outputs": [],
   "source": [
    "tech_df = tech_df.sort_values(by=['category', 'proportion'], ascending=[False, True])\n",
    "tech_df.technique = tech_df.technique.str.replace('_', ' ').str.title()\n",
    "tech_df.head()"
   ]
  },
  {
   "cell_type": "code",
   "execution_count": null,
   "metadata": {},
   "outputs": [],
   "source": [
    "ax_tech_cat = sns.FacetGrid(tech_df[tech_df.number > 5], hue='category', aspect=3)\n",
    "ax_tech_cat.map_dataframe(plt.barh, y='technique', width='proportion')\n",
    "\n",
    "ax_tech_cat.set(xlim=[0, 101], xlabel='Proportion (%)', ylabel='Technique Used To Grade')\n",
    "\n",
    "hatches = ['//', 'x', '\\\\']\n",
    "\n",
    "for hatch_pattern, these_bars in zip(hatches, ax_tech_cat.ax.containers):\n",
    "    for this_bar in these_bars:\n",
    "        this_bar.set_hatch(3 * hatch_pattern)\n",
    "\n",
    "\n",
    "ax_tech_cat.add_legend()\n",
    "plt.savefig('plots/technique_cat.pdf')"
   ]
  },
  {
   "cell_type": "markdown",
   "metadata": {
    "collapsed": false
   },
   "source": [
    "# Language"
   ]
  },
  {
   "cell_type": "code",
   "execution_count": null,
   "metadata": {},
   "outputs": [],
   "source": [
    "families = pd.Series([family for family in df.lang_family]).value_counts().reset_index()\n",
    "families.columns = [\"language_family\", 'number']\n",
    "families['proportion'] = (families.number / families.number.sum()) * 100\n",
    "families.language_family = families.language_family.apply(lambda fl: list_formatter(fl))\n",
    "families.language_family = families.language_family.str.replace('Oop', 'OOP')\n",
    "families"
   ]
  },
  {
   "cell_type": "code",
   "execution_count": null,
   "metadata": {},
   "outputs": [],
   "source": [
    "families.number.sum()"
   ]
  },
  {
   "cell_type": "code",
   "execution_count": null,
   "metadata": {},
   "outputs": [],
   "source": [
    "ax_lang = sns.barplot(families, y='language_family', x='proportion', color='darkgrey')\n",
    "ax_lang.set(xlabel = 'proportion (%)', ylabel = 'Language Paradigm')\n",
    "plt.xlim([0, 101])\n",
    "plt.savefig('plots/lang_family.pdf', bbox_inches='tight')"
   ]
  },
  {
   "cell_type": "markdown",
   "metadata": {
    "collapsed": false
   },
   "source": [
    "## Evaluation"
   ]
  },
  {
   "cell_type": "code",
   "execution_count": null,
   "metadata": {},
   "outputs": [],
   "source": [
    "evaluation  = pd.Series([tag.replace('evaluation:', '') for tags in df.tags for tag in tags if tag.startswith('evaluation')]).value_counts().reset_index()\n",
    "evaluation.columns = [\"evaluation\", 'number']\n",
    "evaluation['proportion'] = (evaluation.number / evaluation.number.sum()) * 100\n",
    "evaluation.evaluation = evaluation.evaluation.str.replace('_', ' ').str.title()\n",
    "evaluation"
   ]
  },
  {
   "cell_type": "code",
   "execution_count": null,
   "metadata": {},
   "outputs": [],
   "source": [
    "## TRUNCATED UNDER 5 RESULTS\n",
    "ax_eval = sns.barplot(evaluation[evaluation['number'] > 4], y='evaluation', x='proportion', color='darkgrey')\n",
    "ax_eval.set(xlabel = 'Proportion (%)', ylabel='Evaluation Technique')\n",
    "plt.xlim([0, 101])\n",
    "plt.savefig('plots/evaluation.pdf', bbox_inches='tight')"
   ]
  },
  {
   "cell_type": "markdown",
   "metadata": {
    "collapsed": false
   },
   "source": [
    "## Data Availiablity"
   ]
  },
  {
   "cell_type": "code",
   "execution_count": null,
   "metadata": {},
   "outputs": [],
   "source": [
    "data_availability  = pd.Series([tag.replace('data_available:', '') for tags in df.tags for tag in tags if tag.startswith('data_available')]).value_counts().reset_index()\n",
    "data_availability.columns = [\"data_available\", 'number']\n",
    "data_availability['proportion'] = (data_availability.number / data_availability.number.sum()) * 100\n",
    "data_availability"
   ]
  },
  {
   "cell_type": "code",
   "execution_count": null,
   "metadata": {},
   "outputs": [],
   "source": [
    "data_availability.number.sum()"
   ]
  },
  {
   "cell_type": "code",
   "execution_count": null,
   "metadata": {},
   "outputs": [],
   "source": [
    "ax_da = sns.barplot(data_availability, y='data_available', x='proportion', color='darkgrey')\n",
    "plt.xlim([0, 101])\n",
    "ax_da.set(xlabel = 'proportion (%)')\n",
    "plt.savefig('plots/data_availability.pdf', bbox_inches='tight')"
   ]
  }
 ],
 "metadata": {
  "kernelspec": {
   "display_name": "Python 3",
   "language": "python",
   "name": "python3"
  },
  "language_info": {
   "codemirror_mode": {
    "name": "ipython",
    "version": 2
   },
   "file_extension": ".py",
   "mimetype": "text/x-python",
   "name": "python",
   "nbconvert_exporter": "python",
   "pygments_lexer": "ipython2",
   "version": "2.7.6"
  }
 },
 "nbformat": 4,
 "nbformat_minor": 0
}
